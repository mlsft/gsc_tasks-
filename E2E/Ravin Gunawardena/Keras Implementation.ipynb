{
 "cells": [
  {
   "cell_type": "markdown",
   "metadata": {},
   "source": [
    "# Task 1\n",
    "(A short summary of task 3 is available at the end of the notebook)"
   ]
  },
  {
   "cell_type": "code",
   "execution_count": 2,
   "metadata": {},
   "outputs": [
    {
     "name": "stderr",
     "output_type": "stream",
     "text": [
      "Using TensorFlow backend.\n"
     ]
    }
   ],
   "source": [
    "import keras\n",
    "import h5py\n",
    "import numpy as np\n",
    "import random\n",
    "from keras.models import load_model\n",
    "from keras.models import Sequential\n",
    "from keras.layers import Dense\n",
    "from keras.layers import Dropout\n",
    "from keras.layers import Dense, Conv2D, Flatten, MaxPooling2D\n",
    "from keras.layers import BatchNormalization\n",
    "from keras.constraints import maxnorm\n",
    "from keras.optimizers import Adam\n",
    "from sklearn.preprocessing import LabelEncoder\n",
    "from sklearn.model_selection import train_test_split\n",
    "from keras.callbacks import ModelCheckpoint, CSVLogger\n",
    "from sklearn.decomposition import PCA\n",
    "from matplotlib import pyplot as plt"
   ]
  },
  {
   "cell_type": "code",
   "execution_count": 3,
   "metadata": {},
   "outputs": [],
   "source": [
    "f =  h5py.File(\"electrons.hdf5\", 'r')\n",
    "keys = list(f)\n",
    "elect_x = f[keys[0]][:]\n",
    "elect_y = f[keys[1]][:]\n",
    "\n",
    "f =  h5py.File(\"photons.hdf5\", 'r')\n",
    "keys = list(f)\n",
    "\n",
    "phot_x = f[keys[0]][:]\n",
    "phot_y = f[keys[1]][:]"
   ]
  },
  {
   "cell_type": "code",
   "execution_count": 4,
   "metadata": {},
   "outputs": [
    {
     "data": {
      "text/plain": [
       "((249000, 32, 32, 2), (249000, 32, 32, 2))"
      ]
     },
     "execution_count": 4,
     "metadata": {},
     "output_type": "execute_result"
    }
   ],
   "source": [
    "phot_x.shape, elect_x.shape"
   ]
  },
  {
   "cell_type": "markdown",
   "metadata": {},
   "source": [
    "Reduced the dimentionality of the data to 2, to visualize the dataset and see whether any patters are present in the dataset."
   ]
  },
  {
   "cell_type": "code",
   "execution_count": 48,
   "metadata": {},
   "outputs": [],
   "source": [
    "pca = PCA(n_components=2)\n",
    "\n",
    "elect_pca = elec_x.reshape(249000,-1,2)\n",
    "phot_pca = phot_x.reshape(249000,-1,2)\n",
    "\n",
    "print(elect_pca[:,:,0].shape)\n",
    "\n",
    "elect_pca = pca.fit_transform(elect_pca[:,:,0])\n",
    "phot_pca = pca.fit_transform(phot_pca[:,:,0])"
   ]
  },
  {
   "cell_type": "code",
   "execution_count": 54,
   "metadata": {},
   "outputs": [
    {
     "data": {
      "text/plain": [
       "<matplotlib.collections.PathCollection at 0x7f114dbc0190>"
      ]
     },
     "execution_count": 54,
     "metadata": {},
     "output_type": "execute_result"
    },
    {
     "data": {
      "image/png": "[encoded data removed]",
      "text/plain": [
       "<Figure size 432x288 with 1 Axes>"
      ]
     },
     "metadata": {
      "needs_background": "light"
     },
     "output_type": "display_data"
    }
   ],
   "source": [
    "plt.scatter(elect_pca[:,0],elect_pca[:,1],color='r')\n",
    "plt.scatter(phot_pca[:,0],phot_pca[:,1],color='b')"
   ]
  },
  {
   "cell_type": "code",
   "execution_count": 56,
   "metadata": {},
   "outputs": [
    {
     "data": {
      "text/plain": [
       "<matplotlib.collections.PathCollection at 0x7f114d963a90>"
      ]
     },
     "execution_count": 56,
     "metadata": {},
     "output_type": "execute_result"
    },
    {
     "data": {
      "image/png": "[encoded data removed]",
      "text/plain": [
       "<Figure size 432x288 with 1 Axes>"
      ]
     },
     "metadata": {
      "needs_background": "light"
     },
     "output_type": "display_data"
    }
   ],
   "source": [
    "elect_pca = elec_x.reshape(249000,-1,2)\n",
    "phot_pca = phot_x.reshape(249000,-1,2)\n",
    "\n",
    "elect_pca = pca.fit_transform(elect_pca[:,:,1])\n",
    "phot_pca = pca.fit_transform(phot_pca[:,:,1])\n",
    "\n",
    "plt.scatter(elect_pca[:,0],elect_pca[:,1],color='r')\n",
    "plt.scatter(phot_pca[:,0],phot_pca[:,1],color='b')"
   ]
  },
  {
   "cell_type": "code",
   "execution_count": 5,
   "metadata": {},
   "outputs": [],
   "source": [
    "random.shuffle(elect_x)\n",
    "random.shuffle(phot_x)\n",
    "\n",
    "set_size = 249000\n",
    "\n",
    "splice_e = elect_x[:set_size]\n",
    "splice_p = phot_x[:set_size]\n",
    "\n",
    "features = np.vstack((splice_p,splice_e))\n",
    "labels = np.concatenate((phot_y[:set_size],elect_y[:set_size]))"
   ]
  },
  {
   "cell_type": "code",
   "execution_count": 6,
   "metadata": {},
   "outputs": [],
   "source": [
    "encoder = LabelEncoder()\n",
    "encoder.fit(labels)\n",
    "labels = encoder.transform(labels)"
   ]
  },
  {
   "cell_type": "code",
   "execution_count": 7,
   "metadata": {},
   "outputs": [
    {
     "data": {
      "text/plain": [
       "((498000, 32, 32, 2), (498000,))"
      ]
     },
     "execution_count": 7,
     "metadata": {},
     "output_type": "execute_result"
    }
   ],
   "source": [
    "features.shape, labels.shape"
   ]
  },
  {
   "cell_type": "code",
   "execution_count": 8,
   "metadata": {},
   "outputs": [],
   "source": [
    "x_train, x_test, y_train, y_test = train_test_split(features, labels, test_size=0.2,random_state=10)"
   ]
  },
  {
   "cell_type": "code",
   "execution_count": 9,
   "metadata": {},
   "outputs": [
    {
     "data": {
      "text/plain": [
       "(398400, 398400)"
      ]
     },
     "execution_count": 9,
     "metadata": {},
     "output_type": "execute_result"
    }
   ],
   "source": [
    "len(x_train), len(y_train)"
   ]
  },
  {
   "cell_type": "code",
   "execution_count": 10,
   "metadata": {},
   "outputs": [],
   "source": [
    "x_train = x_train.reshape(x_train.shape[0],-1)\n",
    "x_test = x_test.reshape(x_test.shape[0],-1)"
   ]
  },
  {
   "cell_type": "code",
   "execution_count": 11,
   "metadata": {},
   "outputs": [],
   "source": [
    "input_size = x_train.shape[-1]"
   ]
  },
  {
   "cell_type": "code",
   "execution_count": 19,
   "metadata": {},
   "outputs": [],
   "source": [
    "log_file = 'log_file'\n",
    "class LogSave(keras.callbacks.Callback):\n",
    "    def on_epoch_end(self, epoch, logs={}):\n",
    "        with open(log_file, 'w') as f:\n",
    "            f.write(str(epoch))\n",
    "\n",
    "log_save = LogSave()\n",
    "\n",
    "csv_logger = CSVLogger('training.log', append=True)"
   ]
  },
  {
   "cell_type": "markdown",
   "metadata": {},
   "source": [
    "- Ran the below cells several times to fine tune the model. The results shown here are from the final run, which does not reflect the model with the best accuracy. \n",
    "- I have loaded the best model at the end and evaluated it again."
   ]
  },
  {
   "cell_type": "code",
   "execution_count": 17,
   "metadata": {},
   "outputs": [
    {
     "name": "stdout",
     "output_type": "stream",
     "text": [
      "Model: \"sequential_1\"\n",
      "_________________________________________________________________\n",
      "Layer (type)                 Output Shape              Param #   \n",
      "=================================================================\n",
      "dense_1 (Dense)              (None, 2048)              4196352   \n",
      "_________________________________________________________________\n",
      "dropout_1 (Dropout)          (None, 2048)              0         \n",
      "_________________________________________________________________\n",
      "dense_2 (Dense)              (None, 1024)              2098176   \n",
      "_________________________________________________________________\n",
      "dropout_2 (Dropout)          (None, 1024)              0         \n",
      "_________________________________________________________________\n",
      "dense_3 (Dense)              (None, 256)               262400    \n",
      "_________________________________________________________________\n",
      "dropout_3 (Dropout)          (None, 256)               0         \n",
      "_________________________________________________________________\n",
      "dense_4 (Dense)              (None, 64)                16448     \n",
      "_________________________________________________________________\n",
      "dense_5 (Dense)              (None, 16)                1040      \n",
      "_________________________________________________________________\n",
      "dense_6 (Dense)              (None, 1)                 17        \n",
      "=================================================================\n",
      "Total params: 6,574,433\n",
      "Trainable params: 6,574,433\n",
      "Non-trainable params: 0\n",
      "_________________________________________________________________\n"
     ]
    }
   ],
   "source": [
    "model = Sequential()\n",
    "model.add(Dense(input_size, activation='relu'))\n",
    "model.add(Dropout(0.25))\n",
    "model.add(Dense(input_size//2, activation='relu'))\n",
    "model.add(Dropout(0.25))\n",
    "model.add(Dense(input_size//8, activation='relu'))\n",
    "model.add(Dropout(0.25))\n",
    "model.add(Dense(input_size//32, activation='relu'))\n",
    "# model.add(Dropout(0.25))\n",
    "model.add(Dense(input_size//128, activation='relu'))\n",
    "model.add(Dense(1, activation='relu'))\n",
    "\n",
    "adam = Adam(learning_rate=0.0003, beta_1=0.9, beta_2=0.999, amsgrad=False)\n",
    "model.compile(loss='binary_crossentropy', optimizer=adam, metrics=['accuracy'])\n",
    "model.build((None,input_size))\n",
    "model.summary()"
   ]
  },
  {
   "cell_type": "markdown",
   "metadata": {},
   "source": [
    "Stopped the model halfway since it did not show any improvement."
   ]
  },
  {
   "cell_type": "code",
   "execution_count": 20,
   "metadata": {},
   "outputs": [
    {
     "name": "stdout",
     "output_type": "stream",
     "text": [
      "Train on 398400 samples, validate on 99600 samples\n",
      "Epoch 1/60\n",
      "398400/398400 [==============================] - 170s 425us/step - loss: 0.7358 - accuracy: 0.5516 - val_loss: 0.6661 - val_accuracy: 0.5941\n",
      "\n",
      "Epoch 00001: val_accuracy improved from -inf to 0.59407, saving model to best-model-0.59.hdf5\n",
      "Epoch 2/60\n",
      "398400/398400 [==============================] - 172s 432us/step - loss: 0.6645 - accuracy: 0.6029 - val_loss: 0.6559 - val_accuracy: 0.6156\n",
      "\n",
      "Epoch 00002: val_accuracy improved from 0.59407 to 0.61560, saving model to best-model-0.62.hdf5\n",
      "Epoch 3/60\n",
      "398400/398400 [==============================] - 163s 410us/step - loss: 0.6416 - accuracy: 0.6315 - val_loss: 0.6297 - val_accuracy: 0.6429\n",
      "\n",
      "Epoch 00003: val_accuracy improved from 0.61560 to 0.64294, saving model to best-model-0.64.hdf5\n",
      "Epoch 4/60\n",
      "398400/398400 [==============================] - 167s 419us/step - loss: 0.6145 - accuracy: 0.6604 - val_loss: 0.6129 - val_accuracy: 0.6705\n",
      "\n",
      "Epoch 00004: val_accuracy improved from 0.64294 to 0.67048, saving model to best-model-0.67.hdf5\n",
      "Epoch 5/60\n",
      "398400/398400 [==============================] - 164s 411us/step - loss: 0.5836 - accuracy: 0.6894 - val_loss: 0.6031 - val_accuracy: 0.6775\n",
      "\n",
      "Epoch 00005: val_accuracy improved from 0.67048 to 0.67753, saving model to best-model-0.68.hdf5\n",
      "Epoch 6/60\n",
      "398400/398400 [==============================] - 168s 421us/step - loss: 0.5732 - accuracy: 0.6971 - val_loss: 0.5890 - val_accuracy: 0.6952\n",
      "\n",
      "Epoch 00006: val_accuracy improved from 0.67753 to 0.69519, saving model to best-model-0.70.hdf5\n",
      "Epoch 7/60\n",
      "398400/398400 [==============================] - 171s 428us/step - loss: 0.5652 - accuracy: 0.7014 - val_loss: 0.6161 - val_accuracy: 0.6605\n",
      "\n",
      "Epoch 00007: val_accuracy did not improve from 0.69519\n",
      "Epoch 8/60\n",
      "398400/398400 [==============================] - 167s 419us/step - loss: 0.5598 - accuracy: 0.7099 - val_loss: 0.5762 - val_accuracy: 0.7103\n",
      "\n",
      "Epoch 00008: val_accuracy improved from 0.69519 to 0.71031, saving model to best-model-0.71.hdf5\n",
      "Epoch 9/60\n",
      "398400/398400 [==============================] - 166s 416us/step - loss: 0.5370 - accuracy: 0.7257 - val_loss: 0.5730 - val_accuracy: 0.7114\n",
      "\n",
      "Epoch 00009: val_accuracy improved from 0.71031 to 0.71143, saving model to best-model-0.71.hdf5\n",
      "Epoch 10/60\n",
      "398400/398400 [==============================] - 162s 408us/step - loss: 0.5129 - accuracy: 0.7428 - val_loss: 0.5772 - val_accuracy: 0.7224\n",
      "\n",
      "Epoch 00010: val_accuracy improved from 0.71143 to 0.72244, saving model to best-model-0.72.hdf5\n",
      "Epoch 11/60\n",
      "398400/398400 [==============================] - 170s 426us/step - loss: 0.5130 - accuracy: 0.7439 - val_loss: 0.5767 - val_accuracy: 0.7237\n",
      "\n",
      "Epoch 00011: val_accuracy improved from 0.72244 to 0.72368, saving model to best-model-0.72.hdf5\n",
      "Epoch 12/60\n",
      "398400/398400 [==============================] - 170s 428us/step - loss: 0.4884 - accuracy: 0.7589 - val_loss: 0.5822 - val_accuracy: 0.7404\n",
      "\n",
      "Epoch 00012: val_accuracy improved from 0.72368 to 0.74035, saving model to best-model-0.74.hdf5\n",
      "Epoch 13/60\n",
      "398400/398400 [==============================] - 169s 425us/step - loss: 0.4929 - accuracy: 0.7534 - val_loss: 0.5696 - val_accuracy: 0.7403\n",
      "\n",
      "Epoch 00013: val_accuracy did not improve from 0.74035\n",
      "Epoch 14/60\n",
      "398400/398400 [==============================] - 171s 429us/step - loss: 0.4862 - accuracy: 0.7576 - val_loss: 0.5775 - val_accuracy: 0.7460\n",
      "\n",
      "Epoch 00014: val_accuracy improved from 0.74035 to 0.74598, saving model to best-model-0.75.hdf5\n",
      "Epoch 15/60\n",
      "398400/398400 [==============================] - 171s 428us/step - loss: 0.4999 - accuracy: 0.7455 - val_loss: 0.5807 - val_accuracy: 0.7131\n",
      "\n",
      "Epoch 00015: val_accuracy did not improve from 0.74598\n",
      "Epoch 16/60\n",
      "398400/398400 [==============================] - 166s 417us/step - loss: 0.4775 - accuracy: 0.7646 - val_loss: 0.5725 - val_accuracy: 0.7458\n",
      "\n",
      "Epoch 00016: val_accuracy did not improve from 0.74598\n",
      "Epoch 17/60\n",
      "398400/398400 [==============================] - 170s 427us/step - loss: 0.4878 - accuracy: 0.7546 - val_loss: 0.5832 - val_accuracy: 0.7438\n",
      "\n",
      "Epoch 00017: val_accuracy did not improve from 0.74598\n",
      "Epoch 18/60\n",
      "398400/398400 [==============================] - 163s 408us/step - loss: 0.4787 - accuracy: 0.7604 - val_loss: 0.5777 - val_accuracy: 0.7226\n",
      "\n",
      "Epoch 00018: val_accuracy did not improve from 0.74598\n",
      "Epoch 19/60\n",
      "398400/398400 [==============================] - 169s 425us/step - loss: 0.4646 - accuracy: 0.7678 - val_loss: 0.5974 - val_accuracy: 0.7448\n",
      "\n",
      "Epoch 00019: val_accuracy did not improve from 0.74598\n",
      "Epoch 20/60\n",
      "398400/398400 [==============================] - 169s 424us/step - loss: 0.4415 - accuracy: 0.7786 - val_loss: 0.6118 - val_accuracy: 0.7509\n",
      "\n",
      "Epoch 00020: val_accuracy improved from 0.74598 to 0.75090, saving model to best-model-0.75.hdf5\n",
      "Epoch 21/60\n",
      "398400/398400 [==============================] - 164s 411us/step - loss: 0.4557 - accuracy: 0.7704 - val_loss: 0.6038 - val_accuracy: 0.7301\n",
      "\n",
      "Epoch 00021: val_accuracy did not improve from 0.75090\n",
      "Epoch 22/60\n",
      "398400/398400 [==============================] - 167s 420us/step - loss: 0.4391 - accuracy: 0.7777 - val_loss: 0.5785 - val_accuracy: 0.7155\n",
      "\n",
      "Epoch 00022: val_accuracy did not improve from 0.75090\n",
      "Epoch 23/60\n",
      "398400/398400 [==============================] - 167s 419us/step - loss: 0.4348 - accuracy: 0.7802 - val_loss: 0.5692 - val_accuracy: 0.7556\n",
      "\n",
      "Epoch 00023: val_accuracy improved from 0.75090 to 0.75563, saving model to best-model-0.76.hdf5\n",
      "Epoch 24/60\n",
      "398400/398400 [==============================] - 170s 427us/step - loss: 0.4222 - accuracy: 0.7853 - val_loss: 0.5858 - val_accuracy: 0.7584\n",
      "\n",
      "Epoch 00024: val_accuracy improved from 0.75563 to 0.75836, saving model to best-model-0.76.hdf5\n",
      "Epoch 25/60\n",
      "398400/398400 [==============================] - 166s 416us/step - loss: 0.4108 - accuracy: 0.7862 - val_loss: 0.5920 - val_accuracy: 0.7351\n",
      "\n",
      "Epoch 00025: val_accuracy did not improve from 0.75836\n",
      "Epoch 26/60\n",
      "398400/398400 [==============================] - 167s 418us/step - loss: 0.4026 - accuracy: 0.7933 - val_loss: 0.5892 - val_accuracy: 0.7639\n",
      "\n",
      "Epoch 00026: val_accuracy improved from 0.75836 to 0.76387, saving model to best-model-0.76.hdf5\n",
      "Epoch 27/60\n",
      "398400/398400 [==============================] - 165s 415us/step - loss: 0.3902 - accuracy: 0.7960 - val_loss: 0.5670 - val_accuracy: 0.7682\n",
      "\n",
      "Epoch 00027: val_accuracy improved from 0.76387 to 0.76817, saving model to best-model-0.77.hdf5\n",
      "Epoch 28/60\n",
      "398400/398400 [==============================] - 168s 423us/step - loss: 0.3872 - accuracy: 0.7960 - val_loss: 0.5797 - val_accuracy: 0.7607\n",
      "\n",
      "Epoch 00028: val_accuracy did not improve from 0.76817\n",
      "Epoch 29/60\n",
      "398400/398400 [==============================] - 165s 414us/step - loss: 0.3963 - accuracy: 0.7962 - val_loss: 0.5695 - val_accuracy: 0.7565\n",
      "\n",
      "Epoch 00029: val_accuracy did not improve from 0.76817\n",
      "Epoch 30/60\n",
      "398400/398400 [==============================] - 165s 415us/step - loss: 0.3854 - accuracy: 0.7999 - val_loss: 0.6088 - val_accuracy: 0.7682\n",
      "\n",
      "Epoch 00030: val_accuracy did not improve from 0.76817\n",
      "Epoch 31/60\n",
      "398400/398400 [==============================] - 164s 412us/step - loss: 0.3691 - accuracy: 0.8025 - val_loss: 0.6053 - val_accuracy: 0.7687\n",
      "\n",
      "Epoch 00031: val_accuracy improved from 0.76817 to 0.76870, saving model to best-model-0.77.hdf5\n",
      "Epoch 32/60\n",
      "398400/398400 [==============================] - 167s 419us/step - loss: 0.3703 - accuracy: 0.8010 - val_loss: 0.5789 - val_accuracy: 0.7488\n",
      "\n",
      "Epoch 00032: val_accuracy did not improve from 0.76870\n",
      "Epoch 33/60\n",
      "398400/398400 [==============================] - 167s 419us/step - loss: 0.3693 - accuracy: 0.8022 - val_loss: 0.6043 - val_accuracy: 0.7720\n",
      "\n",
      "Epoch 00033: val_accuracy improved from 0.76870 to 0.77198, saving model to best-model-0.77.hdf5\n",
      "Epoch 34/60\n",
      "398400/398400 [==============================] - 168s 420us/step - loss: 0.3449 - accuracy: 0.8073 - val_loss: 0.6345 - val_accuracy: 0.7639\n",
      "\n",
      "Epoch 00034: val_accuracy did not improve from 0.77198\n",
      "Epoch 35/60\n",
      "398400/398400 [==============================] - 170s 426us/step - loss: 0.3330 - accuracy: 0.8129 - val_loss: 0.6186 - val_accuracy: 0.7768\n",
      "\n",
      "Epoch 00035: val_accuracy improved from 0.77198 to 0.77680, saving model to best-model-0.78.hdf5\n",
      "Epoch 36/60\n",
      "398400/398400 [==============================] - 171s 428us/step - loss: 0.3431 - accuracy: 0.8139 - val_loss: 0.6087 - val_accuracy: 0.7751\n",
      "\n",
      "Epoch 00036: val_accuracy did not improve from 0.77680\n",
      "Epoch 37/60\n",
      "398400/398400 [==============================] - 169s 425us/step - loss: 0.3330 - accuracy: 0.8140 - val_loss: 0.6247 - val_accuracy: 0.7696\n",
      "\n",
      "Epoch 00037: val_accuracy did not improve from 0.77680\n",
      "Epoch 38/60\n",
      "398400/398400 [==============================] - 162s 408us/step - loss: 0.3460 - accuracy: 0.8121 - val_loss: 0.6682 - val_accuracy: 0.7290\n",
      "\n",
      "Epoch 00038: val_accuracy did not improve from 0.77680\n",
      "Epoch 39/60\n",
      "398400/398400 [==============================] - 167s 418us/step - loss: 0.3338 - accuracy: 0.8159 - val_loss: 0.6458 - val_accuracy: 0.7672\n",
      "\n",
      "Epoch 00039: val_accuracy did not improve from 0.77680\n",
      "Epoch 40/60\n",
      "398400/398400 [==============================] - 166s 416us/step - loss: 0.3367 - accuracy: 0.8223 - val_loss: 0.6000 - val_accuracy: 0.7385\n",
      "\n",
      "Epoch 00040: val_accuracy did not improve from 0.77680\n",
      "Epoch 41/60\n",
      "398400/398400 [==============================] - 167s 419us/step - loss: 0.3457 - accuracy: 0.8188 - val_loss: 0.5641 - val_accuracy: 0.7948\n",
      "\n",
      "Epoch 00041: val_accuracy improved from 0.77680 to 0.79482, saving model to best-model-0.79.hdf5\n",
      "Epoch 42/60\n",
      "398400/398400 [==============================] - 170s 426us/step - loss: 0.3310 - accuracy: 0.8214 - val_loss: 0.6037 - val_accuracy: 0.7421\n",
      "\n",
      "Epoch 00042: val_accuracy did not improve from 0.79482\n",
      "Epoch 43/60\n",
      "398400/398400 [==============================] - 165s 414us/step - loss: 0.3303 - accuracy: 0.8189 - val_loss: 0.6293 - val_accuracy: 0.7822\n",
      "\n",
      "Epoch 00043: val_accuracy did not improve from 0.79482\n",
      "Epoch 44/60\n",
      "398400/398400 [==============================] - 165s 414us/step - loss: 0.3146 - accuracy: 0.8273 - val_loss: 0.6691 - val_accuracy: 0.7736\n",
      "\n",
      "Epoch 00044: val_accuracy did not improve from 0.79482\n",
      "Epoch 45/60\n",
      "330752/398400 [=======================>......] - ETA: 25s - loss: 0.3408 - accuracy: 0.8191"
     ]
    },
    {
     "ename": "KeyboardInterrupt",
     "evalue": "",
     "output_type": "error",
     "traceback": [
      "\u001b[0;31m---------------------------------------------------------------------------\u001b[0m",
      "\u001b[0;31mKeyboardInterrupt\u001b[0m                         Traceback (most recent call last)",
      "\u001b[0;32m<ipython-input-20-3ee6bce5696f>\u001b[0m in \u001b[0;36m<module>\u001b[0;34m\u001b[0m\n\u001b[1;32m      1\u001b[0m \u001b[0mfilepath\u001b[0m\u001b[0;34m=\u001b[0m\u001b[0;34m\"best-model-{val_accuracy:.2f}.hdf5\"\u001b[0m\u001b[0;34m\u001b[0m\u001b[0;34m\u001b[0m\u001b[0m\n\u001b[1;32m      2\u001b[0m \u001b[0mcheckpoint\u001b[0m \u001b[0;34m=\u001b[0m \u001b[0mModelCheckpoint\u001b[0m\u001b[0;34m(\u001b[0m\u001b[0mfilepath\u001b[0m\u001b[0;34m,\u001b[0m \u001b[0mmonitor\u001b[0m\u001b[0;34m=\u001b[0m\u001b[0;34m'val_accuracy'\u001b[0m\u001b[0;34m,\u001b[0m \u001b[0mverbose\u001b[0m\u001b[0;34m=\u001b[0m\u001b[0;36m1\u001b[0m\u001b[0;34m,\u001b[0m \u001b[0msave_best_only\u001b[0m\u001b[0;34m=\u001b[0m\u001b[0;32mTrue\u001b[0m\u001b[0;34m,\u001b[0m \u001b[0mmode\u001b[0m\u001b[0;34m=\u001b[0m\u001b[0;34m'max'\u001b[0m\u001b[0;34m)\u001b[0m\u001b[0;34m\u001b[0m\u001b[0;34m\u001b[0m\u001b[0m\n\u001b[0;32m----> 3\u001b[0;31m \u001b[0mhistory\u001b[0m \u001b[0;34m=\u001b[0m \u001b[0mmodel\u001b[0m\u001b[0;34m.\u001b[0m\u001b[0mfit\u001b[0m\u001b[0;34m(\u001b[0m\u001b[0mx_train\u001b[0m\u001b[0;34m,\u001b[0m \u001b[0my_train\u001b[0m\u001b[0;34m,\u001b[0m \u001b[0mepochs\u001b[0m\u001b[0;34m=\u001b[0m\u001b[0;36m60\u001b[0m\u001b[0;34m,\u001b[0m\u001b[0mvalidation_data\u001b[0m\u001b[0;34m=\u001b[0m\u001b[0;34m(\u001b[0m\u001b[0mx_test\u001b[0m\u001b[0;34m,\u001b[0m\u001b[0my_test\u001b[0m\u001b[0;34m)\u001b[0m\u001b[0;34m,\u001b[0m \u001b[0mbatch_size\u001b[0m\u001b[0;34m=\u001b[0m\u001b[0;36m1024\u001b[0m\u001b[0;34m,\u001b[0m\u001b[0mcallbacks\u001b[0m\u001b[0;34m=\u001b[0m\u001b[0;34m[\u001b[0m\u001b[0mcheckpoint\u001b[0m\u001b[0;34m,\u001b[0m \u001b[0mlog_save\u001b[0m\u001b[0;34m,\u001b[0m \u001b[0mcsv_logger\u001b[0m\u001b[0;34m]\u001b[0m\u001b[0;34m)\u001b[0m\u001b[0;34m\u001b[0m\u001b[0;34m\u001b[0m\u001b[0m\n\u001b[0m",
      "\u001b[0;32m/opt/conda/lib/python3.7/site-packages/keras/engine/training.py\u001b[0m in \u001b[0;36mfit\u001b[0;34m(self, x, y, batch_size, epochs, verbose, callbacks, validation_split, validation_data, shuffle, class_weight, sample_weight, initial_epoch, steps_per_epoch, validation_steps, validation_freq, max_queue_size, workers, use_multiprocessing, **kwargs)\u001b[0m\n\u001b[1;32m   1237\u001b[0m                                         \u001b[0msteps_per_epoch\u001b[0m\u001b[0;34m=\u001b[0m\u001b[0msteps_per_epoch\u001b[0m\u001b[0;34m,\u001b[0m\u001b[0;34m\u001b[0m\u001b[0;34m\u001b[0m\u001b[0m\n\u001b[1;32m   1238\u001b[0m                                         \u001b[0mvalidation_steps\u001b[0m\u001b[0;34m=\u001b[0m\u001b[0mvalidation_steps\u001b[0m\u001b[0;34m,\u001b[0m\u001b[0;34m\u001b[0m\u001b[0;34m\u001b[0m\u001b[0m\n\u001b[0;32m-> 1239\u001b[0;31m                                         validation_freq=validation_freq)\n\u001b[0m\u001b[1;32m   1240\u001b[0m \u001b[0;34m\u001b[0m\u001b[0m\n\u001b[1;32m   1241\u001b[0m     def evaluate(self,\n",
      "\u001b[0;32m/opt/conda/lib/python3.7/site-packages/keras/engine/training_arrays.py\u001b[0m in \u001b[0;36mfit_loop\u001b[0;34m(model, fit_function, fit_inputs, out_labels, batch_size, epochs, verbose, callbacks, val_function, val_inputs, shuffle, initial_epoch, steps_per_epoch, validation_steps, validation_freq)\u001b[0m\n\u001b[1;32m    194\u001b[0m                     \u001b[0mins_batch\u001b[0m\u001b[0;34m[\u001b[0m\u001b[0mi\u001b[0m\u001b[0;34m]\u001b[0m \u001b[0;34m=\u001b[0m \u001b[0mins_batch\u001b[0m\u001b[0;34m[\u001b[0m\u001b[0mi\u001b[0m\u001b[0;34m]\u001b[0m\u001b[0;34m.\u001b[0m\u001b[0mtoarray\u001b[0m\u001b[0;34m(\u001b[0m\u001b[0;34m)\u001b[0m\u001b[0;34m\u001b[0m\u001b[0;34m\u001b[0m\u001b[0m\n\u001b[1;32m    195\u001b[0m \u001b[0;34m\u001b[0m\u001b[0m\n\u001b[0;32m--> 196\u001b[0;31m                 \u001b[0mouts\u001b[0m \u001b[0;34m=\u001b[0m \u001b[0mfit_function\u001b[0m\u001b[0;34m(\u001b[0m\u001b[0mins_batch\u001b[0m\u001b[0;34m)\u001b[0m\u001b[0;34m\u001b[0m\u001b[0;34m\u001b[0m\u001b[0m\n\u001b[0m\u001b[1;32m    197\u001b[0m                 \u001b[0mouts\u001b[0m \u001b[0;34m=\u001b[0m \u001b[0mto_list\u001b[0m\u001b[0;34m(\u001b[0m\u001b[0mouts\u001b[0m\u001b[0;34m)\u001b[0m\u001b[0;34m\u001b[0m\u001b[0;34m\u001b[0m\u001b[0m\n\u001b[1;32m    198\u001b[0m                 \u001b[0;32mfor\u001b[0m \u001b[0ml\u001b[0m\u001b[0;34m,\u001b[0m \u001b[0mo\u001b[0m \u001b[0;32min\u001b[0m \u001b[0mzip\u001b[0m\u001b[0;34m(\u001b[0m\u001b[0mout_labels\u001b[0m\u001b[0;34m,\u001b[0m \u001b[0mouts\u001b[0m\u001b[0;34m)\u001b[0m\u001b[0;34m:\u001b[0m\u001b[0;34m\u001b[0m\u001b[0;34m\u001b[0m\u001b[0m\n",
      "\u001b[0;32m/opt/conda/lib/python3.7/site-packages/tensorflow_core/python/keras/backend.py\u001b[0m in \u001b[0;36m__call__\u001b[0;34m(self, inputs)\u001b[0m\n\u001b[1;32m   3474\u001b[0m \u001b[0;34m\u001b[0m\u001b[0m\n\u001b[1;32m   3475\u001b[0m     fetched = self._callable_fn(*array_vals,\n\u001b[0;32m-> 3476\u001b[0;31m                                 run_metadata=self.run_metadata)\n\u001b[0m\u001b[1;32m   3477\u001b[0m     \u001b[0mself\u001b[0m\u001b[0;34m.\u001b[0m\u001b[0m_call_fetch_callbacks\u001b[0m\u001b[0;34m(\u001b[0m\u001b[0mfetched\u001b[0m\u001b[0;34m[\u001b[0m\u001b[0;34m-\u001b[0m\u001b[0mlen\u001b[0m\u001b[0;34m(\u001b[0m\u001b[0mself\u001b[0m\u001b[0;34m.\u001b[0m\u001b[0m_fetches\u001b[0m\u001b[0;34m)\u001b[0m\u001b[0;34m:\u001b[0m\u001b[0;34m]\u001b[0m\u001b[0;34m)\u001b[0m\u001b[0;34m\u001b[0m\u001b[0;34m\u001b[0m\u001b[0m\n\u001b[1;32m   3478\u001b[0m     output_structure = nest.pack_sequence_as(\n",
      "\u001b[0;32m/opt/conda/lib/python3.7/site-packages/tensorflow_core/python/client/session.py\u001b[0m in \u001b[0;36m__call__\u001b[0;34m(self, *args, **kwargs)\u001b[0m\n\u001b[1;32m   1470\u001b[0m         ret = tf_session.TF_SessionRunCallable(self._session._session,\n\u001b[1;32m   1471\u001b[0m                                                \u001b[0mself\u001b[0m\u001b[0;34m.\u001b[0m\u001b[0m_handle\u001b[0m\u001b[0;34m,\u001b[0m \u001b[0margs\u001b[0m\u001b[0;34m,\u001b[0m\u001b[0;34m\u001b[0m\u001b[0;34m\u001b[0m\u001b[0m\n\u001b[0;32m-> 1472\u001b[0;31m                                                run_metadata_ptr)\n\u001b[0m\u001b[1;32m   1473\u001b[0m         \u001b[0;32mif\u001b[0m \u001b[0mrun_metadata\u001b[0m\u001b[0;34m:\u001b[0m\u001b[0;34m\u001b[0m\u001b[0;34m\u001b[0m\u001b[0m\n\u001b[1;32m   1474\u001b[0m           \u001b[0mproto_data\u001b[0m \u001b[0;34m=\u001b[0m \u001b[0mtf_session\u001b[0m\u001b[0;34m.\u001b[0m\u001b[0mTF_GetBuffer\u001b[0m\u001b[0;34m(\u001b[0m\u001b[0mrun_metadata_ptr\u001b[0m\u001b[0;34m)\u001b[0m\u001b[0;34m\u001b[0m\u001b[0;34m\u001b[0m\u001b[0m\n",
      "\u001b[0;31mKeyboardInterrupt\u001b[0m: "
     ]
    }
   ],
   "source": [
    "filepath=\"best-model-{val_accuracy:.2f}.hdf5\"\n",
    "checkpoint = ModelCheckpoint(filepath, monitor='val_accuracy', verbose=1, save_best_only=True, mode='max')\n",
    "history = model.fit(x_train, y_train, epochs=60,validation_data=(x_test,y_test), batch_size=1024,callbacks=[checkpoint, log_save, csv_logger])"
   ]
  },
  {
   "cell_type": "code",
   "execution_count": 22,
   "metadata": {},
   "outputs": [
    {
     "data": {
      "text/plain": [
       "[<matplotlib.lines.Line2D at 0x7f8bc8468450>]"
      ]
     },
     "execution_count": 22,
     "metadata": {},
     "output_type": "execute_result"
    },
    {
     "data": {
      "image/png": "[encoded data removed]",
      "text/plain": [
       "<Figure size 432x288 with 1 Axes>"
      ]
     },
     "metadata": {
      "needs_background": "light"
     },
     "output_type": "display_data"
    }
   ],
   "source": [
    "plt.plot(history.history['val_accuracy'])"
   ]
  },
  {
   "cell_type": "code",
   "execution_count": 12,
   "metadata": {},
   "outputs": [
    {
     "name": "stdout",
     "output_type": "stream",
     "text": [
      "WARNING:tensorflow:From /opt/conda/lib/python3.7/site-packages/tensorflow_core/python/ops/resource_variable_ops.py:1630: calling BaseResourceVariable.__init__ (from tensorflow.python.ops.resource_variable_ops) with constraint is deprecated and will be removed in a future version.\n",
      "Instructions for updating:\n",
      "If using Keras pass *_constraint arguments to layers.\n",
      "WARNING:tensorflow:From /opt/conda/lib/python3.7/site-packages/tensorflow_core/python/ops/math_grad.py:1424: where (from tensorflow.python.ops.array_ops) is deprecated and will be removed in a future version.\n",
      "Instructions for updating:\n",
      "Use tf.where in 2.0, which has the same broadcast rule as np.where\n",
      "WARNING:tensorflow:From /opt/conda/lib/python3.7/site-packages/keras/backend/tensorflow_backend.py:422: The name tf.global_variables is deprecated. Please use tf.compat.v1.global_variables instead.\n",
      "\n"
     ]
    }
   ],
   "source": [
    "model = load_model(\"best-model-0.84.hdf5\")"
   ]
  },
  {
   "cell_type": "code",
   "execution_count": 13,
   "metadata": {},
   "outputs": [
    {
     "name": "stdout",
     "output_type": "stream",
     "text": [
      "99600/99600 [==============================] - 46s 466us/step\n"
     ]
    },
    {
     "data": {
      "text/plain": [
       "[0.5204415727930375, 0.8432731032371521]"
      ]
     },
     "execution_count": 13,
     "metadata": {},
     "output_type": "execute_result"
    }
   ],
   "source": [
    "model.evaluate(x_test.reshape(x_test.shape[0],-1), y_test)"
   ]
  },
  {
   "cell_type": "code",
   "execution_count": 14,
   "metadata": {},
   "outputs": [
    {
     "name": "stdout",
     "output_type": "stream",
     "text": [
      "Model: \"sequential_6\"\n",
      "_________________________________________________________________\n",
      "Layer (type)                 Output Shape              Param #   \n",
      "=================================================================\n",
      "dense_31 (Dense)             (None, 2048)              4196352   \n",
      "_________________________________________________________________\n",
      "dropout_16 (Dropout)         (None, 2048)              0         \n",
      "_________________________________________________________________\n",
      "dense_32 (Dense)             (None, 1024)              2098176   \n",
      "_________________________________________________________________\n",
      "dropout_17 (Dropout)         (None, 1024)              0         \n",
      "_________________________________________________________________\n",
      "dense_33 (Dense)             (None, 256)               262400    \n",
      "_________________________________________________________________\n",
      "dropout_18 (Dropout)         (None, 256)               0         \n",
      "_________________________________________________________________\n",
      "dense_34 (Dense)             (None, 64)                16448     \n",
      "_________________________________________________________________\n",
      "dense_35 (Dense)             (None, 16)                1040      \n",
      "_________________________________________________________________\n",
      "dense_36 (Dense)             (None, 1)                 17        \n",
      "=================================================================\n",
      "Total params: 6,574,433\n",
      "Trainable params: 6,574,433\n",
      "Non-trainable params: 0\n",
      "_________________________________________________________________\n"
     ]
    }
   ],
   "source": [
    "model.summary()"
   ]
  },
  {
   "cell_type": "code",
   "execution_count": 16,
   "metadata": {},
   "outputs": [],
   "source": [
    "model.save(\"best/acc_0.8432.h5\")"
   ]
  },
  {
   "cell_type": "markdown",
   "metadata": {},
   "source": [
    "# Task 3"
   ]
  },
  {
   "cell_type": "code",
   "execution_count": 23,
   "metadata": {},
   "outputs": [],
   "source": [
    "import tensorflow as tf\n",
    "from tensorflow.python.framework.graph_util import convert_variables_to_constants"
   ]
  },
  {
   "cell_type": "code",
   "execution_count": 24,
   "metadata": {},
   "outputs": [],
   "source": [
    "from keras import backend as K"
   ]
  },
  {
   "cell_type": "code",
   "execution_count": 25,
   "metadata": {},
   "outputs": [],
   "source": [
    "sess = K.get_session()"
   ]
  },
  {
   "cell_type": "markdown",
   "metadata": {},
   "source": [
    "Exported the tensorflow graph to be loaded to the CMSSW enviroment."
   ]
  },
  {
   "cell_type": "code",
   "execution_count": 26,
   "metadata": {},
   "outputs": [],
   "source": [
    "def freeze_session(session, keep_var_name=None, output_names=None, clear_device=True):\n",
    "    graph = session.graph\n",
    "    with graph.as_default():\n",
    "        freeze_var_names = list(set(v.op.name for v in tf.global_variables()).difference(keep_var_name or []))\n",
    "        output_names = output_names or []\n",
    "        output_names += [v.op.name for v in tf.global_variables()]\n",
    "        input_graph_def = graph.as_graph_def()\n",
    "        if clear_device:\n",
    "            for node in input_graph_def.node:\n",
    "                node.device = \"\"\n",
    "        \n",
    "        frozen_graph = convert_variables_to_constants(session, input_graph_def, output_names, freeze_var_names)\n",
    "        \n",
    "        return frozen_graph\n",
    "        "
   ]
  },
  {
   "cell_type": "code",
   "execution_count": 27,
   "metadata": {},
   "outputs": [
    {
     "name": "stdout",
     "output_type": "stream",
     "text": [
      "WARNING:tensorflow:From <ipython-input-26-751bb95ad8cc>:12: convert_variables_to_constants (from tensorflow.python.framework.graph_util_impl) is deprecated and will be removed in a future version.\n",
      "Instructions for updating:\n",
      "Use `tf.compat.v1.graph_util.convert_variables_to_constants`\n",
      "WARNING:tensorflow:From /opt/conda/lib/python3.7/site-packages/tensorflow_core/python/framework/graph_util_impl.py:277: extract_sub_graph (from tensorflow.python.framework.graph_util_impl) is deprecated and will be removed in a future version.\n",
      "Instructions for updating:\n",
      "Use `tf.compat.v1.graph_util.extract_sub_graph`\n",
      "INFO:tensorflow:Froze 110 variables.\n",
      "INFO:tensorflow:Converted 110 variables to const ops.\n"
     ]
    }
   ],
   "source": [
    "frozen_graph = freeze_session(K.get_session(), output_names=[out.op.name for out in model.outputs])"
   ]
  },
  {
   "cell_type": "code",
   "execution_count": 29,
   "metadata": {},
   "outputs": [
    {
     "data": {
      "text/plain": [
       "'/home/jupyter/graph.pb'"
      ]
     },
     "execution_count": 29,
     "metadata": {},
     "output_type": "execute_result"
    }
   ],
   "source": [
    "tf.train.write_graph(frozen_graph, \"/home/jupyter\", \"graph.pb\", as_text=False)"
   ]
  },
  {
   "cell_type": "markdown",
   "metadata": {},
   "source": [
    "Then I imported the computational graph to the cmssw enviroment using graphLoading_cfg.py file. <br>\n",
    "I used the code available here https://gitlab.cern.ch/mrieger/CMSSW-DNN as an example."
   ]
  },
  {
   "cell_type": "code",
   "execution_count": 3,
   "metadata": {},
   "outputs": [
    {
     "data": {
      "image/png": "[encoded data removed]",
      "text/plain": [
       "<IPython.core.display.Image object>"
      ]
     },
     "execution_count": 3,
     "metadata": {},
     "output_type": "execute_result"
    }
   ],
   "source": [
    "from IPython.display import Image\n",
    "Image('cmssw.png')"
   ]
  },
  {
   "cell_type": "markdown",
   "metadata": {},
   "source": [
    "Since I couldn't find a method to input non .root files as an input I was not able to run the evalation on the CMSSW and check whether the graph was loaded succesfully."
   ]
  }
 ],
 "metadata": {
  "kernelspec": {
   "display_name": "Python 3",
   "language": "python",
   "name": "python3"
  },
  "language_info": {
   "codemirror_mode": {
    "name": "ipython",
    "version": 3
   },
   "file_extension": ".py",
   "mimetype": "text/x-python",
   "name": "python",
   "nbconvert_exporter": "python",
   "pygments_lexer": "ipython3",
   "version": "3.6.8"
  }
 },
 "nbformat": 4,
 "nbformat_minor": 4
}

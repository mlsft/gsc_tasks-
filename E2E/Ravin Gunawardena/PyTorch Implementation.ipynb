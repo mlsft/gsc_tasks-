{
 "cells": [
  {
   "cell_type": "code",
   "execution_count": 83,
   "metadata": {},
   "outputs": [],
   "source": [
    "import sys\n",
    "import h5py\n",
    "import torch\n",
    "import random\n",
    "import progressbar\n",
    "import numpy as np\n",
    "from tqdm import tqdm\n",
    "from torch import nn, optim\n",
    "from torch.utils import data\n",
    "import torch.nn.functional as F\n",
    "from matplotlib import pyplot as plt\n",
    "from sklearn.preprocessing import LabelEncoder\n",
    "from sklearn.model_selection import train_test_split"
   ]
  },
  {
   "cell_type": "code",
   "execution_count": 2,
   "metadata": {},
   "outputs": [],
   "source": [
    "f =  h5py.File(\"electrons.hdf5\", 'r')\n",
    "keys = list(f)\n",
    "elect_x = f[keys[0]][:]\n",
    "elect_y = f[keys[1]][:]\n",
    "\n",
    "f =  h5py.File(\"photons.hdf5\", 'r')\n",
    "keys = list(f)\n",
    "\n",
    "phot_x = f[keys[0]][:]\n",
    "phot_y = f[keys[1]][:]"
   ]
  },
  {
   "cell_type": "code",
   "execution_count": 3,
   "metadata": {},
   "outputs": [
    {
     "data": {
      "text/plain": [
       "((249000, 32, 32, 2), (249000, 32, 32, 2))"
      ]
     },
     "execution_count": 3,
     "metadata": {},
     "output_type": "execute_result"
    }
   ],
   "source": [
    "phot_x.shape, elect_x.shape"
   ]
  },
  {
   "cell_type": "code",
   "execution_count": 6,
   "metadata": {},
   "outputs": [],
   "source": [
    "random.shuffle(elect_x)\n",
    "random.shuffle(phot_x)\n",
    "\n",
    "set_size = 249000\n",
    "\n",
    "splice_e = elect_x[:set_size]\n",
    "splice_p = phot_x[:set_size]\n",
    "\n",
    "features = np.vstack((splice_p,splice_e))\n",
    "labels = np.concatenate((phot_y[:set_size],elect_y[:set_size]))"
   ]
  },
  {
   "cell_type": "code",
   "execution_count": 10,
   "metadata": {},
   "outputs": [],
   "source": [
    "encoder = LabelEncoder()\n",
    "encoder.fit(labels)\n",
    "labels = encoder.transform(labels)"
   ]
  },
  {
   "cell_type": "code",
   "execution_count": 11,
   "metadata": {},
   "outputs": [
    {
     "data": {
      "text/plain": [
       "((498000, 32, 32, 2), (498000,))"
      ]
     },
     "execution_count": 11,
     "metadata": {},
     "output_type": "execute_result"
    }
   ],
   "source": [
    "features.shape, labels.shape"
   ]
  },
  {
   "cell_type": "code",
   "execution_count": 36,
   "metadata": {},
   "outputs": [],
   "source": [
    "x_train, x_test, y_train, y_test = train_test_split(features, labels, test_size=0.2,random_state=10)"
   ]
  },
  {
   "cell_type": "code",
   "execution_count": 37,
   "metadata": {},
   "outputs": [
    {
     "data": {
      "text/plain": [
       "(398400, 398400)"
      ]
     },
     "execution_count": 37,
     "metadata": {},
     "output_type": "execute_result"
    }
   ],
   "source": [
    "len(x_train), len(y_train)"
   ]
  },
  {
   "cell_type": "code",
   "execution_count": 38,
   "metadata": {},
   "outputs": [],
   "source": [
    "x_train = x_train.reshape(x_train.shape[0],-1)\n",
    "x_test = x_test.reshape(x_test.shape[0],-1)"
   ]
  },
  {
   "cell_type": "code",
   "execution_count": 39,
   "metadata": {},
   "outputs": [],
   "source": [
    "input_size = x_train.shape[-1]"
   ]
  },
  {
   "cell_type": "code",
   "execution_count": 40,
   "metadata": {},
   "outputs": [],
   "source": [
    "x_train = torch.from_numpy(np.array(x_train)).float()\n",
    "y_train = torch.from_numpy(np.array(y_train)).long()\n",
    "\n",
    "x_test = torch.from_numpy(x_test).float()\n",
    "y_test = torch.from_numpy(y_test).long()"
   ]
  },
  {
   "cell_type": "code",
   "execution_count": 41,
   "metadata": {},
   "outputs": [],
   "source": [
    "train_dataset = data.TensorDataset(x_train,y_train)\n",
    "train_loader = data.DataLoader(train_dataset, batch_size=1024)\n",
    "\n",
    "test_dataset = data.TensorDataset(x_test,y_test)\n",
    "test_loader = data.DataLoader(test_dataset)"
   ]
  },
  {
   "cell_type": "code",
   "execution_count": 69,
   "metadata": {},
   "outputs": [],
   "source": [
    "test_loader = data.DataLoader(test_dataset, batch_size=1024)"
   ]
  },
  {
   "cell_type": "code",
   "execution_count": 31,
   "metadata": {},
   "outputs": [],
   "source": [
    "class Classifier(nn.Module):\n",
    "    def __init__(self):\n",
    "        super().__init__()\n",
    "        self.fc1 = nn.Linear(input_size, input_size//2)\n",
    "        self.drop1 = nn.Dropout(0.25)\n",
    "        self.fc2 = nn.Linear(input_size//2, input_size//8)\n",
    "        self.fc3 = nn.Linear(input_size//8, input_size//32)\n",
    "        self.fc4 = nn.Linear(input_size//32, input_size//128)\n",
    "        self.fc5 = nn.Linear(input_size//128, 2)\n",
    "        \n",
    "    def forward(self, x):\n",
    "        x = F.relu(self.fc1(x))\n",
    "        x = self.drop1(x)\n",
    "        x = F.relu(self.fc2(x))\n",
    "        x = self.drop1(x)\n",
    "        x = F.relu(self.fc3(x))\n",
    "        x = self.drop1(x)\n",
    "        x = F.relu(self.fc4(x))\n",
    "        x = F.log_softmax(self.fc5(x), dim=1)\n",
    "        \n",
    "        return x"
   ]
  },
  {
   "cell_type": "code",
   "execution_count": 90,
   "metadata": {},
   "outputs": [],
   "source": [
    "num_batches = 398400//1024\n",
    "def train_model(model):\n",
    "\n",
    "    training_loss = []\n",
    "    testing_loss = []\n",
    "    accu = []\n",
    "    criterion = nn.NLLLoss()\n",
    "    optimizer = optim.Adam(model.parameters(), lr=0.0003)\n",
    "\n",
    "    epochs = 21\n",
    "    running_loss = 0\n",
    "    best_acc = 0\n",
    "    for e in range(1,epochs):\n",
    "        print(\"Epoch no.\", e)\n",
    "        model.train()\n",
    "        with tqdm(total = num_batches+1, file=sys.stdout) as pbar:\n",
    "            for batch_idx, (features, labels) in enumerate(train_loader):\n",
    "                log_ps = model.forward(features)\n",
    "                loss = criterion(log_ps, labels)\n",
    "\n",
    "                optimizer.zero_grad()\n",
    "                loss.backward()\n",
    "                optimizer.step()\n",
    "\n",
    "                running_loss += loss.item()\n",
    "                pbar.update(1)\n",
    "                \n",
    "        training_loss.append(running_loss/len(trainloader))\n",
    "        test_loss = 0\n",
    "        accuracy = 0\n",
    "        model.eval()\n",
    "        \n",
    "        for inputs, labels in test_loader:\n",
    "            logps = model.forward(inputs)\n",
    "            ps = torch.exp(logps)\n",
    "            batch_loss = criterion(logps, labels)\n",
    "            test_loss += batch_loss.item()\n",
    "            top_p, top_class = ps.topk(1, dim=1)\n",
    "            equals = top_class == labels.view(*top_class.shape)\n",
    "            accuracy += torch.mean(equals.type(torch.FloatTensor)).item()\n",
    "\n",
    "        test_accuracy = accuracy/len(test_loader)\n",
    "        \n",
    "        print(f\"Training loss: {running_loss/len(trainloader):.3f} \\t Testing loss: {test_loss/len(test_loader):.3f} \\t Test accuracy: {test_accuracy:.3f}\")\n",
    "        testing_loss.append(test_loss/len(test_loader))\n",
    "        accu.append(test_accuracy)\n",
    "        running_loss = 0\n",
    "        \n",
    "        if test_accuracy > best_acc:\n",
    "            best_acc = test_accuracy\n",
    "            if best_acc > 70:\n",
    "                print(\"Accuracy increased to:\", best_acc)\n",
    "            torch.save(model, f'model_{test_accuracy}_accuracy.pt')\n",
    "        model.train()\n",
    "\n",
    "    plt.plot(training_loss)\n",
    "    plt.plot(training_loss)\n",
    "    plt.close()\n",
    "        \n",
    "    return model, [training_loss, testing_loss], accu"
   ]
  },
  {
   "cell_type": "markdown",
   "metadata": {},
   "source": [
    "- Since I did the Keras implementation first, I used the architecture of the best model I found from Keras.\n",
    "- I kept running the below cells till the testing accuracy stops increasing. \n",
    "- The best test accuracy I got was **87.9%**"
   ]
  },
  {
   "cell_type": "code",
   "execution_count": 85,
   "metadata": {
    "scrolled": true
   },
   "outputs": [
    {
     "name": "stdout",
     "output_type": "stream",
     "text": [
      "Epoch no. 1\n",
      "100%|████████████████████████████████████████████████████████████████████████████████| 390/390 [00:53<00:00,  7.35it/s]\n",
      "Training loss: 0.663 \t Testing loss: 0.640 \t Test accuracy: 0.635\n",
      "Epoch no. 2\n",
      "  0%|                                                                                          | 0/390 [00:00<?, ?it/s]"
     ]
    },
    {
     "name": "stderr",
     "output_type": "stream",
     "text": [
      "c:\\users\\ravin\\appdata\\local\\programs\\python\\python36\\lib\\site-packages\\torch\\serialization.py:292: UserWarning: Couldn't retrieve source code for container of type Classifier. It won't be checked for correctness upon loading.\n",
      "  \"type \" + obj.__name__ + \". It won't be checked \"\n",
      "c:\\users\\ravin\\appdata\\local\\programs\\python\\python36\\lib\\site-packages\\torch\\serialization.py:292: UserWarning: Couldn't retrieve source code for container of type Linear. It won't be checked for correctness upon loading.\n",
      "  \"type \" + obj.__name__ + \". It won't be checked \"\n",
      "c:\\users\\ravin\\appdata\\local\\programs\\python\\python36\\lib\\site-packages\\torch\\serialization.py:292: UserWarning: Couldn't retrieve source code for container of type Dropout. It won't be checked for correctness upon loading.\n",
      "  \"type \" + obj.__name__ + \". It won't be checked \"\n"
     ]
    },
    {
     "name": "stdout",
     "output_type": "stream",
     "text": [
      "100%|████████████████████████████████████████████████████████████████████████████████| 390/390 [00:52<00:00,  7.49it/s]\n",
      "Training loss: 0.629 \t Testing loss: 0.619 \t Test accuracy: 0.658\n",
      "Epoch no. 3\n",
      "100%|████████████████████████████████████████████████████████████████████████████████| 390/390 [00:52<00:00,  7.49it/s]\n",
      "Training loss: 0.595 \t Testing loss: 0.590 \t Test accuracy: 0.690\n",
      "Epoch no. 4\n",
      "100%|████████████████████████████████████████████████████████████████████████████████| 390/390 [00:52<00:00,  7.47it/s]\n",
      "Training loss: 0.553 \t Testing loss: 0.563 \t Test accuracy: 0.715\n",
      "Epoch no. 5\n",
      "100%|████████████████████████████████████████████████████████████████████████████████| 390/390 [00:52<00:00,  7.47it/s]\n",
      "Training loss: 0.511 \t Testing loss: 0.538 \t Test accuracy: 0.738\n",
      "Epoch no. 6\n",
      "100%|████████████████████████████████████████████████████████████████████████████████| 390/390 [00:51<00:00,  7.58it/s]\n",
      "Training loss: 0.473 \t Testing loss: 0.519 \t Test accuracy: 0.755\n",
      "Epoch no. 7\n",
      "100%|████████████████████████████████████████████████████████████████████████████████| 390/390 [00:51<00:00,  7.55it/s]\n",
      "Training loss: 0.440 \t Testing loss: 0.504 \t Test accuracy: 0.769\n",
      "Epoch no. 8\n",
      "100%|████████████████████████████████████████████████████████████████████████████████| 390/390 [00:51<00:00,  7.51it/s]\n",
      "Training loss: 0.413 \t Testing loss: 0.490 \t Test accuracy: 0.781\n",
      "Epoch no. 9\n",
      "100%|████████████████████████████████████████████████████████████████████████████████| 390/390 [00:52<00:00,  7.48it/s]\n",
      "Training loss: 0.389 \t Testing loss: 0.474 \t Test accuracy: 0.794\n",
      "Epoch no. 10\n",
      "100%|████████████████████████████████████████████████████████████████████████████████| 390/390 [00:52<00:00,  7.49it/s]\n",
      "Training loss: 0.368 \t Testing loss: 0.468 \t Test accuracy: 0.800\n",
      "Epoch no. 11\n",
      "100%|████████████████████████████████████████████████████████████████████████████████| 390/390 [00:51<00:00,  7.52it/s]\n",
      "Training loss: 0.350 \t Testing loss: 0.465 \t Test accuracy: 0.808\n",
      "Epoch no. 12\n",
      "100%|████████████████████████████████████████████████████████████████████████████████| 390/390 [00:51<00:00,  7.55it/s]\n",
      "Training loss: 0.333 \t Testing loss: 0.457 \t Test accuracy: 0.815\n",
      "Epoch no. 13\n",
      "100%|████████████████████████████████████████████████████████████████████████████████| 390/390 [00:51<00:00,  7.54it/s]\n",
      "Training loss: 0.317 \t Testing loss: 0.455 \t Test accuracy: 0.819\n",
      "Epoch no. 14\n",
      "100%|████████████████████████████████████████████████████████████████████████████████| 390/390 [00:51<00:00,  7.55it/s]\n",
      "Training loss: 0.305 \t Testing loss: 0.449 \t Test accuracy: 0.824\n",
      "Epoch no. 15\n",
      "100%|████████████████████████████████████████████████████████████████████████████████| 390/390 [00:51<00:00,  7.54it/s]\n",
      "Training loss: 0.292 \t Testing loss: 0.449 \t Test accuracy: 0.829\n",
      "Epoch no. 16\n",
      "100%|████████████████████████████████████████████████████████████████████████████████| 390/390 [00:51<00:00,  7.58it/s]\n",
      "Training loss: 0.281 \t Testing loss: 0.444 \t Test accuracy: 0.833\n",
      "Epoch no. 17\n",
      "100%|████████████████████████████████████████████████████████████████████████████████| 390/390 [00:51<00:00,  7.58it/s]\n",
      "Training loss: 0.270 \t Testing loss: 0.446 \t Test accuracy: 0.836\n",
      "Epoch no. 18\n",
      "100%|████████████████████████████████████████████████████████████████████████████████| 390/390 [00:51<00:00,  7.56it/s]\n",
      "Training loss: 0.262 \t Testing loss: 0.437 \t Test accuracy: 0.839\n",
      "Epoch no. 19\n",
      "100%|████████████████████████████████████████████████████████████████████████████████| 390/390 [00:51<00:00,  7.56it/s]\n",
      "Training loss: 0.252 \t Testing loss: 0.447 \t Test accuracy: 0.841\n",
      "Epoch no. 20\n",
      "100%|████████████████████████████████████████████████████████████████████████████████| 390/390 [00:51<00:00,  7.55it/s]\n",
      "Training loss: 0.245 \t Testing loss: 0.441 \t Test accuracy: 0.844\n"
     ]
    }
   ],
   "source": [
    "model = Classifier()\n",
    "model, history, accuracy = train_model(model)"
   ]
  },
  {
   "cell_type": "code",
   "execution_count": 86,
   "metadata": {
    "scrolled": true
   },
   "outputs": [
    {
     "name": "stdout",
     "output_type": "stream",
     "text": [
      "Epoch no. 1\n",
      "100%|████████████████████████████████████████████████████████████████████████████████| 390/390 [00:51<00:00,  7.54it/s]\n",
      "Training loss: 0.237 \t Testing loss: 0.445 \t Test accuracy: 0.847\n",
      "Epoch no. 2\n",
      "100%|████████████████████████████████████████████████████████████████████████████████| 390/390 [00:51<00:00,  7.54it/s]\n",
      "Training loss: 0.227 \t Testing loss: 0.443 \t Test accuracy: 0.849\n",
      "Epoch no. 3\n",
      "100%|████████████████████████████████████████████████████████████████████████████████| 390/390 [00:51<00:00,  7.58it/s]\n",
      "Training loss: 0.220 \t Testing loss: 0.451 \t Test accuracy: 0.851\n",
      "Epoch no. 4\n",
      "100%|████████████████████████████████████████████████████████████████████████████████| 390/390 [00:51<00:00,  7.59it/s]\n",
      "Training loss: 0.215 \t Testing loss: 0.449 \t Test accuracy: 0.854\n",
      "Epoch no. 5\n",
      "100%|████████████████████████████████████████████████████████████████████████████████| 390/390 [00:51<00:00,  7.61it/s]\n",
      "Training loss: 0.210 \t Testing loss: 0.455 \t Test accuracy: 0.852\n",
      "Epoch no. 6\n",
      "100%|████████████████████████████████████████████████████████████████████████████████| 390/390 [00:51<00:00,  7.61it/s]\n",
      "Training loss: 0.204 \t Testing loss: 0.451 \t Test accuracy: 0.854\n",
      "Epoch no. 7\n",
      "100%|████████████████████████████████████████████████████████████████████████████████| 390/390 [00:51<00:00,  7.60it/s]\n",
      "Training loss: 0.200 \t Testing loss: 0.454 \t Test accuracy: 0.856\n",
      "Epoch no. 8\n",
      "100%|████████████████████████████████████████████████████████████████████████████████| 390/390 [00:52<00:00,  7.48it/s]\n",
      "Training loss: 0.194 \t Testing loss: 0.455 \t Test accuracy: 0.859\n",
      "Epoch no. 9\n",
      "100%|████████████████████████████████████████████████████████████████████████████████| 390/390 [00:51<00:00,  7.65it/s]\n",
      "Training loss: 0.190 \t Testing loss: 0.456 \t Test accuracy: 0.859\n",
      "Epoch no. 10\n",
      "100%|████████████████████████████████████████████████████████████████████████████████| 390/390 [00:51<00:00,  7.63it/s]\n",
      "Training loss: 0.185 \t Testing loss: 0.452 \t Test accuracy: 0.860\n",
      "Epoch no. 11\n",
      "100%|████████████████████████████████████████████████████████████████████████████████| 390/390 [00:51<00:00,  7.61it/s]\n",
      "Training loss: 0.181 \t Testing loss: 0.456 \t Test accuracy: 0.861\n",
      "Epoch no. 12\n",
      "100%|████████████████████████████████████████████████████████████████████████████████| 390/390 [00:50<00:00,  7.66it/s]\n",
      "Training loss: 0.177 \t Testing loss: 0.462 \t Test accuracy: 0.864\n",
      "Epoch no. 13\n",
      "100%|████████████████████████████████████████████████████████████████████████████████| 390/390 [00:51<00:00,  7.62it/s]\n",
      "Training loss: 0.173 \t Testing loss: 0.456 \t Test accuracy: 0.865\n",
      "Epoch no. 14\n",
      "100%|████████████████████████████████████████████████████████████████████████████████| 390/390 [00:50<00:00,  7.66it/s]\n",
      "Training loss: 0.169 \t Testing loss: 0.461 \t Test accuracy: 0.864\n",
      "Epoch no. 15\n",
      "100%|████████████████████████████████████████████████████████████████████████████████| 390/390 [00:50<00:00,  7.66it/s]\n",
      "Training loss: 0.166 \t Testing loss: 0.462 \t Test accuracy: 0.864\n",
      "Epoch no. 16\n",
      "100%|████████████████████████████████████████████████████████████████████████████████| 390/390 [00:51<00:00,  7.62it/s]\n",
      "Training loss: 0.164 \t Testing loss: 0.459 \t Test accuracy: 0.867\n",
      "Epoch no. 17\n",
      "100%|████████████████████████████████████████████████████████████████████████████████| 390/390 [00:51<00:00,  7.64it/s]\n",
      "Training loss: 0.160 \t Testing loss: 0.475 \t Test accuracy: 0.866\n",
      "Epoch no. 18\n",
      "100%|████████████████████████████████████████████████████████████████████████████████| 390/390 [00:51<00:00,  7.63it/s]\n",
      "Training loss: 0.156 \t Testing loss: 0.471 \t Test accuracy: 0.869\n",
      "Epoch no. 19\n",
      "100%|████████████████████████████████████████████████████████████████████████████████| 390/390 [00:51<00:00,  7.64it/s]\n",
      "Training loss: 0.153 \t Testing loss: 0.470 \t Test accuracy: 0.868\n",
      "Epoch no. 20\n",
      "100%|████████████████████████████████████████████████████████████████████████████████| 390/390 [00:51<00:00,  7.63it/s]\n",
      "Training loss: 0.150 \t Testing loss: 0.474 \t Test accuracy: 0.868\n"
     ]
    }
   ],
   "source": [
    "model, history, accuracy = train_model(model)"
   ]
  },
  {
   "cell_type": "code",
   "execution_count": 87,
   "metadata": {
    "scrolled": true
   },
   "outputs": [
    {
     "name": "stdout",
     "output_type": "stream",
     "text": [
      "Epoch no. 1\n",
      "100%|████████████████████████████████████████████████████████████████████████████████| 390/390 [00:52<00:00,  7.43it/s]\n",
      "Training loss: 0.149 \t Testing loss: 0.479 \t Test accuracy: 0.869\n",
      "Epoch no. 2\n",
      "100%|████████████████████████████████████████████████████████████████████████████████| 390/390 [00:50<00:00,  7.65it/s]\n",
      "Training loss: 0.146 \t Testing loss: 0.470 \t Test accuracy: 0.869\n",
      "Epoch no. 3\n",
      "100%|████████████████████████████████████████████████████████████████████████████████| 390/390 [00:51<00:00,  7.55it/s]\n",
      "Training loss: 0.143 \t Testing loss: 0.479 \t Test accuracy: 0.871\n",
      "Epoch no. 4\n",
      "100%|████████████████████████████████████████████████████████████████████████████████| 390/390 [00:50<00:00,  7.65it/s]\n",
      "Training loss: 0.142 \t Testing loss: 0.480 \t Test accuracy: 0.868\n",
      "Epoch no. 5\n",
      "100%|████████████████████████████████████████████████████████████████████████████████| 390/390 [00:51<00:00,  7.56it/s]\n",
      "Training loss: 0.138 \t Testing loss: 0.483 \t Test accuracy: 0.870\n",
      "Epoch no. 6\n",
      "100%|████████████████████████████████████████████████████████████████████████████████| 390/390 [00:52<00:00,  7.50it/s]\n",
      "Training loss: 0.135 \t Testing loss: 0.489 \t Test accuracy: 0.871\n",
      "Epoch no. 7\n",
      "100%|████████████████████████████████████████████████████████████████████████████████| 390/390 [00:52<00:00,  7.38it/s]\n",
      "Training loss: 0.134 \t Testing loss: 0.490 \t Test accuracy: 0.870\n",
      "Epoch no. 8\n",
      "100%|████████████████████████████████████████████████████████████████████████████████| 390/390 [00:51<00:00,  7.63it/s]\n",
      "Training loss: 0.132 \t Testing loss: 0.488 \t Test accuracy: 0.871\n",
      "Epoch no. 9\n",
      "100%|████████████████████████████████████████████████████████████████████████████████| 390/390 [00:50<00:00,  7.70it/s]\n",
      "Training loss: 0.130 \t Testing loss: 0.491 \t Test accuracy: 0.871\n",
      "Epoch no. 10\n",
      "100%|████████████████████████████████████████████████████████████████████████████████| 390/390 [00:50<00:00,  7.71it/s]\n",
      "Training loss: 0.130 \t Testing loss: 0.488 \t Test accuracy: 0.870\n",
      "Epoch no. 11\n",
      "100%|████████████████████████████████████████████████████████████████████████████████| 390/390 [00:50<00:00,  7.65it/s]\n",
      "Training loss: 0.128 \t Testing loss: 0.488 \t Test accuracy: 0.871\n",
      "Epoch no. 12\n",
      "100%|████████████████████████████████████████████████████████████████████████████████| 390/390 [00:51<00:00,  7.57it/s]\n",
      "Training loss: 0.126 \t Testing loss: 0.489 \t Test accuracy: 0.872\n",
      "Epoch no. 13\n",
      "100%|████████████████████████████████████████████████████████████████████████████████| 390/390 [00:51<00:00,  7.60it/s]\n",
      "Training loss: 0.124 \t Testing loss: 0.502 \t Test accuracy: 0.872\n",
      "Epoch no. 14\n",
      "100%|████████████████████████████████████████████████████████████████████████████████| 390/390 [00:51<00:00,  7.60it/s]\n",
      "Training loss: 0.123 \t Testing loss: 0.497 \t Test accuracy: 0.872\n",
      "Epoch no. 15\n",
      "100%|████████████████████████████████████████████████████████████████████████████████| 390/390 [00:52<00:00,  7.48it/s]\n",
      "Training loss: 0.121 \t Testing loss: 0.503 \t Test accuracy: 0.872\n",
      "Epoch no. 16\n",
      "100%|████████████████████████████████████████████████████████████████████████████████| 390/390 [00:51<00:00,  7.56it/s]\n",
      "Training loss: 0.119 \t Testing loss: 0.504 \t Test accuracy: 0.874\n",
      "Epoch no. 17\n",
      "100%|████████████████████████████████████████████████████████████████████████████████| 390/390 [00:51<00:00,  7.57it/s]\n",
      "Training loss: 0.118 \t Testing loss: 0.499 \t Test accuracy: 0.872\n",
      "Epoch no. 18\n",
      "100%|████████████████████████████████████████████████████████████████████████████████| 390/390 [00:51<00:00,  7.56it/s]\n",
      "Training loss: 0.116 \t Testing loss: 0.504 \t Test accuracy: 0.873\n",
      "Epoch no. 19\n",
      "100%|████████████████████████████████████████████████████████████████████████████████| 390/390 [00:50<00:00,  7.65it/s]\n",
      "Training loss: 0.115 \t Testing loss: 0.506 \t Test accuracy: 0.874\n",
      "Epoch no. 20\n",
      "100%|████████████████████████████████████████████████████████████████████████████████| 390/390 [00:50<00:00,  7.71it/s]\n",
      "Training loss: 0.114 \t Testing loss: 0.510 \t Test accuracy: 0.874\n"
     ]
    }
   ],
   "source": [
    "model, history, accuracy = train_model(model)"
   ]
  },
  {
   "cell_type": "code",
   "execution_count": 88,
   "metadata": {
    "scrolled": false
   },
   "outputs": [
    {
     "name": "stdout",
     "output_type": "stream",
     "text": [
      "Epoch no. 1\n",
      "100%|████████████████████████████████████████████████████████████████████████████████| 390/390 [00:52<00:00,  7.49it/s]\n",
      "Training loss: 0.114 \t Testing loss: 0.514 \t Test accuracy: 0.874\n",
      "Epoch no. 2\n",
      "100%|████████████████████████████████████████████████████████████████████████████████| 390/390 [00:51<00:00,  7.60it/s]\n",
      "Training loss: 0.112 \t Testing loss: 0.508 \t Test accuracy: 0.875\n",
      "Epoch no. 3\n",
      "100%|████████████████████████████████████████████████████████████████████████████████| 390/390 [00:51<00:00,  7.56it/s]\n",
      "Training loss: 0.110 \t Testing loss: 0.518 \t Test accuracy: 0.875\n",
      "Epoch no. 4\n",
      "100%|████████████████████████████████████████████████████████████████████████████████| 390/390 [00:51<00:00,  7.63it/s]\n",
      "Training loss: 0.109 \t Testing loss: 0.516 \t Test accuracy: 0.875\n",
      "Epoch no. 5\n",
      "100%|████████████████████████████████████████████████████████████████████████████████| 390/390 [00:51<00:00,  7.63it/s]\n",
      "Training loss: 0.107 \t Testing loss: 0.527 \t Test accuracy: 0.875\n",
      "Epoch no. 6\n",
      "100%|████████████████████████████████████████████████████████████████████████████████| 390/390 [00:51<00:00,  7.62it/s]\n",
      "Training loss: 0.107 \t Testing loss: 0.517 \t Test accuracy: 0.877\n",
      "Epoch no. 7\n",
      "100%|████████████████████████████████████████████████████████████████████████████████| 390/390 [00:51<00:00,  7.54it/s]\n",
      "Training loss: 0.106 \t Testing loss: 0.527 \t Test accuracy: 0.876\n",
      "Epoch no. 8\n",
      "100%|████████████████████████████████████████████████████████████████████████████████| 390/390 [00:52<00:00,  7.47it/s]\n",
      "Training loss: 0.105 \t Testing loss: 0.526 \t Test accuracy: 0.875\n",
      "Epoch no. 9\n",
      "100%|████████████████████████████████████████████████████████████████████████████████| 390/390 [00:50<00:00,  7.67it/s]\n",
      "Training loss: 0.103 \t Testing loss: 0.529 \t Test accuracy: 0.876\n",
      "Epoch no. 10\n",
      "100%|████████████████████████████████████████████████████████████████████████████████| 390/390 [00:50<00:00,  7.65it/s]\n",
      "Training loss: 0.102 \t Testing loss: 0.533 \t Test accuracy: 0.877\n",
      "Epoch no. 11\n",
      "100%|████████████████████████████████████████████████████████████████████████████████| 390/390 [00:50<00:00,  7.72it/s]\n",
      "Training loss: 0.102 \t Testing loss: 0.532 \t Test accuracy: 0.874\n",
      "Epoch no. 12\n",
      "100%|████████████████████████████████████████████████████████████████████████████████| 390/390 [00:50<00:00,  7.67it/s]\n",
      "Training loss: 0.101 \t Testing loss: 0.527 \t Test accuracy: 0.875\n",
      "Epoch no. 13\n",
      "100%|████████████████████████████████████████████████████████████████████████████████| 390/390 [00:50<00:00,  7.66it/s]\n",
      "Training loss: 0.101 \t Testing loss: 0.524 \t Test accuracy: 0.876\n",
      "Epoch no. 14\n",
      "100%|████████████████████████████████████████████████████████████████████████████████| 390/390 [00:51<00:00,  7.54it/s]\n",
      "Training loss: 0.099 \t Testing loss: 0.538 \t Test accuracy: 0.877\n",
      "Epoch no. 15\n",
      "100%|████████████████████████████████████████████████████████████████████████████████| 390/390 [00:51<00:00,  7.59it/s]\n",
      "Training loss: 0.100 \t Testing loss: 0.533 \t Test accuracy: 0.875\n",
      "Epoch no. 16\n",
      "100%|████████████████████████████████████████████████████████████████████████████████| 390/390 [00:50<00:00,  7.67it/s]\n",
      "Training loss: 0.098 \t Testing loss: 0.533 \t Test accuracy: 0.877\n",
      "Epoch no. 17\n",
      "100%|████████████████████████████████████████████████████████████████████████████████| 390/390 [00:50<00:00,  7.69it/s]\n",
      "Training loss: 0.096 \t Testing loss: 0.538 \t Test accuracy: 0.876\n",
      "Epoch no. 18\n",
      "100%|████████████████████████████████████████████████████████████████████████████████| 390/390 [00:51<00:00,  7.60it/s]\n",
      "Training loss: 0.095 \t Testing loss: 0.539 \t Test accuracy: 0.878\n",
      "Epoch no. 19\n",
      "100%|████████████████████████████████████████████████████████████████████████████████| 390/390 [00:51<00:00,  7.53it/s]\n",
      "Training loss: 0.095 \t Testing loss: 0.539 \t Test accuracy: 0.877\n",
      "Epoch no. 20\n",
      "100%|████████████████████████████████████████████████████████████████████████████████| 390/390 [00:51<00:00,  7.55it/s]\n",
      "Training loss: 0.094 \t Testing loss: 0.544 \t Test accuracy: 0.878\n"
     ]
    }
   ],
   "source": [
    "model, history, accuracy = train_model(model)"
   ]
  },
  {
   "cell_type": "code",
   "execution_count": 91,
   "metadata": {},
   "outputs": [
    {
     "name": "stdout",
     "output_type": "stream",
     "text": [
      "Epoch no. 1\n",
      "100%|████████████████████████████████████████████████████████████████████████████████| 390/390 [00:52<00:00,  7.42it/s]\n",
      "Training loss: 0.094 \t Testing loss: 0.537 \t Test accuracy: 0.877\n",
      "Epoch no. 2\n",
      "100%|████████████████████████████████████████████████████████████████████████████████| 390/390 [00:51<00:00,  7.59it/s]\n",
      "Training loss: 0.092 \t Testing loss: 0.528 \t Test accuracy: 0.877\n",
      "Epoch no. 3\n",
      "100%|████████████████████████████████████████████████████████████████████████████████| 390/390 [00:51<00:00,  7.56it/s]\n",
      "Training loss: 0.092 \t Testing loss: 0.542 \t Test accuracy: 0.876\n",
      "Epoch no. 4\n",
      "100%|████████████████████████████████████████████████████████████████████████████████| 390/390 [00:51<00:00,  7.62it/s]\n",
      "Training loss: 0.090 \t Testing loss: 0.554 \t Test accuracy: 0.877\n",
      "Epoch no. 5\n",
      "100%|████████████████████████████████████████████████████████████████████████████████| 390/390 [00:51<00:00,  7.59it/s]\n",
      "Training loss: 0.089 \t Testing loss: 0.558 \t Test accuracy: 0.876\n",
      "Epoch no. 6\n",
      "100%|████████████████████████████████████████████████████████████████████████████████| 390/390 [00:51<00:00,  7.54it/s]\n",
      "Training loss: 0.088 \t Testing loss: 0.555 \t Test accuracy: 0.877\n",
      "Epoch no. 7\n",
      "100%|████████████████████████████████████████████████████████████████████████████████| 390/390 [00:52<00:00,  7.44it/s]\n",
      "Training loss: 0.087 \t Testing loss: 0.562 \t Test accuracy: 0.879\n",
      "Epoch no. 8\n",
      "100%|████████████████████████████████████████████████████████████████████████████████| 390/390 [00:51<00:00,  7.65it/s]\n",
      "Training loss: 0.087 \t Testing loss: 0.571 \t Test accuracy: 0.877\n",
      "Epoch no. 9\n",
      "100%|████████████████████████████████████████████████████████████████████████████████| 390/390 [00:52<00:00,  7.48it/s]\n",
      "Training loss: 0.087 \t Testing loss: 0.562 \t Test accuracy: 0.878\n",
      "Epoch no. 10\n",
      "100%|████████████████████████████████████████████████████████████████████████████████| 390/390 [00:51<00:00,  7.52it/s]\n",
      "Training loss: 0.086 \t Testing loss: 0.579 \t Test accuracy: 0.877\n",
      "Epoch no. 11\n",
      "100%|████████████████████████████████████████████████████████████████████████████████| 390/390 [00:51<00:00,  7.60it/s]\n",
      "Training loss: 0.085 \t Testing loss: 0.573 \t Test accuracy: 0.877\n",
      "Epoch no. 12\n",
      "100%|████████████████████████████████████████████████████████████████████████████████| 390/390 [00:52<00:00,  7.44it/s]\n",
      "Training loss: 0.084 \t Testing loss: 0.561 \t Test accuracy: 0.878\n",
      "Epoch no. 13\n",
      "100%|████████████████████████████████████████████████████████████████████████████████| 390/390 [00:50<00:00,  7.65it/s]\n",
      "Training loss: 0.084 \t Testing loss: 0.572 \t Test accuracy: 0.878\n",
      "Epoch no. 14\n",
      "100%|████████████████████████████████████████████████████████████████████████████████| 390/390 [00:51<00:00,  7.58it/s]\n",
      "Training loss: 0.084 \t Testing loss: 0.585 \t Test accuracy: 0.877\n",
      "Epoch no. 15\n",
      "100%|████████████████████████████████████████████████████████████████████████████████| 390/390 [00:51<00:00,  7.60it/s]\n",
      "Training loss: 0.084 \t Testing loss: 0.557 \t Test accuracy: 0.878\n",
      "Epoch no. 16\n",
      "100%|████████████████████████████████████████████████████████████████████████████████| 390/390 [00:51<00:00,  7.59it/s]\n",
      "Training loss: 0.083 \t Testing loss: 0.560 \t Test accuracy: 0.877\n",
      "Epoch no. 17\n",
      "100%|████████████████████████████████████████████████████████████████████████████████| 390/390 [00:51<00:00,  7.55it/s]\n",
      "Training loss: 0.082 \t Testing loss: 0.574 \t Test accuracy: 0.878\n",
      "Epoch no. 18\n",
      "100%|████████████████████████████████████████████████████████████████████████████████| 390/390 [00:51<00:00,  7.57it/s]\n",
      "Training loss: 0.083 \t Testing loss: 0.575 \t Test accuracy: 0.878\n",
      "Epoch no. 19\n",
      "100%|████████████████████████████████████████████████████████████████████████████████| 390/390 [00:51<00:00,  7.51it/s]\n",
      "Training loss: 0.081 \t Testing loss: 0.564 \t Test accuracy: 0.877\n",
      "Epoch no. 20\n",
      "100%|████████████████████████████████████████████████████████████████████████████████| 390/390 [00:50<00:00,  7.69it/s]\n",
      "Training loss: 0.079 \t Testing loss: 0.580 \t Test accuracy: 0.877\n"
     ]
    }
   ],
   "source": [
    "model, history, accuracy = train_model(model)"
   ]
  }
 ],
 "metadata": {
  "kernelspec": {
   "display_name": "Python 3",
   "language": "python",
   "name": "python3"
  },
  "language_info": {
   "codemirror_mode": {
    "name": "ipython",
    "version": 3
   },
   "file_extension": ".py",
   "mimetype": "text/x-python",
   "name": "python",
   "nbconvert_exporter": "python",
   "pygments_lexer": "ipython3",
   "version": "3.6.8"
  }
 },
 "nbformat": 4,
 "nbformat_minor": 2
}

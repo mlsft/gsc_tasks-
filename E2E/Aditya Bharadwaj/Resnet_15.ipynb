{
  "nbformat": 4,
  "nbformat_minor": 0,
  "metadata": {
    "colab": {
      "name": "Resnet-15.ipynb",
      "provenance": [],
      "collapsed_sections": [],
      "toc_visible": true,
      "machine_shape": "hm"
    },
    "kernelspec": {
      "name": "python3",
      "display_name": "Python 3"
    },
    "accelerator": "TPU"
  },
  "cells": [
    {
      "cell_type": "markdown",
      "metadata": {
        "id": "glmeBlC-Zy7J",
        "colab_type": "text"
      },
      "source": [
        "# Importing all the useful stuff. I'll be adding new cells below as I remember to import things"
      ]
    },
    {
      "cell_type": "code",
      "metadata": {
        "id": "ijGp9oNz2Tci",
        "colab_type": "code",
        "colab": {
          "base_uri": "https://localhost:8080/",
          "height": 98
        },
        "outputId": "f59b832a-4dce-47d2-ff01-2300b5c2d524"
      },
      "source": [
        "import numpy as np                 \n",
        "import matplotlib.pyplot as plt\n",
        "from keras.layers import Input, Conv2D, Activation, GlobalMaxPooling2D, Dense, MaxPooling2D, Flatten\n",
        "from keras.layers.merge import add\n",
        "from keras.activations import relu, softmax\n",
        "from keras.models import Model\n",
        "from keras import regularizers\n",
        "import keras"
      ],
      "execution_count": 4,
      "outputs": [
        {
          "output_type": "stream",
          "text": [
            "Using TensorFlow backend.\n"
          ],
          "name": "stderr"
        },
        {
          "output_type": "display_data",
          "data": {
            "text/html": [
              "<p style=\"color: red;\">\n",
              "The default version of TensorFlow in Colab will soon switch to TensorFlow 2.x.<br>\n",
              "We recommend you <a href=\"https://www.tensorflow.org/guide/migrate\" target=\"_blank\">upgrade</a> now \n",
              "or ensure your notebook will continue to use TensorFlow 1.x via the <code>%tensorflow_version 1.x</code> magic:\n",
              "<a href=\"https://colab.research.google.com/notebooks/tensorflow_version.ipynb\" target=\"_blank\">more info</a>.</p>\n"
            ],
            "text/plain": [
              "<IPython.core.display.HTML object>"
            ]
          },
          "metadata": {
            "tags": []
          }
        }
      ]
    },
    {
      "cell_type": "code",
      "metadata": {
        "id": "ujYupL0N4mT-",
        "colab_type": "code",
        "colab": {}
      },
      "source": [
        "from sklearn.model_selection import train_test_split\n",
        "import h5py"
      ],
      "execution_count": 0,
      "outputs": []
    },
    {
      "cell_type": "code",
      "metadata": {
        "id": "l-iNIY_BJuaI",
        "colab_type": "code",
        "colab": {}
      },
      "source": [
        "import pickle\n",
        "from sklearn.metrics import roc_curve\n",
        "from sklearn.metrics import roc_auc_score"
      ],
      "execution_count": 0,
      "outputs": []
    },
    {
      "cell_type": "code",
      "metadata": {
        "id": "7roGCixQncqv",
        "colab_type": "code",
        "colab": {}
      },
      "source": [
        "import math"
      ],
      "execution_count": 0,
      "outputs": []
    },
    {
      "cell_type": "markdown",
      "metadata": {
        "id": "XkM878LeaIpx",
        "colab_type": "text"
      },
      "source": [
        "# Importing libraries to setup google drive."
      ]
    },
    {
      "cell_type": "code",
      "metadata": {
        "id": "lsmZc_AW3hNA",
        "colab_type": "code",
        "colab": {
          "base_uri": "https://localhost:8080/",
          "height": 176
        },
        "outputId": "518d1418-2bf5-432b-d9eb-5c3686abb933"
      },
      "source": [
        "!pip install -U -q PyDrive\n",
        "from pydrive.auth import GoogleAuth\n",
        "from pydrive.drive import GoogleDrive\n",
        "from google.colab import auth\n",
        "from oauth2client.client import GoogleCredentials# Authenticate and create the PyDrive client.\n",
        "auth.authenticate_user()\n",
        "gauth = GoogleAuth()\n",
        "gauth.credentials = GoogleCredentials.get_application_default()\n",
        "drive = GoogleDrive(gauth)"
      ],
      "execution_count": 8,
      "outputs": [
        {
          "output_type": "stream",
          "text": [
            "WARNING:tensorflow:\n",
            "The TensorFlow contrib module will not be included in TensorFlow 2.0.\n",
            "For more information, please see:\n",
            "  * https://github.com/tensorflow/community/blob/master/rfcs/20180907-contrib-sunset.md\n",
            "  * https://github.com/tensorflow/addons\n",
            "  * https://github.com/tensorflow/io (for I/O related ops)\n",
            "If you depend on functionality not listed there, please file an issue.\n",
            "\n"
          ],
          "name": "stdout"
        }
      ]
    },
    {
      "cell_type": "markdown",
      "metadata": {
        "id": "zAQEGuHSaOG8",
        "colab_type": "text"
      },
      "source": [
        "# Function for loading data from the hdf5 file stored on google drive"
      ]
    },
    {
      "cell_type": "code",
      "metadata": {
        "id": "8ouW2MrKxpoH",
        "colab_type": "code",
        "colab": {}
      },
      "source": [
        "def load_data():\n",
        "  link1 = 'https://drive.google.com/open?id=12PQqDemBZ_XgQSbpFl2F6hXDkqQGTnmf'\n",
        "  fluff, id = link1.split('=')\n",
        "  print(id)\n",
        "  download1 = drive.CreateFile({'id':id})\n",
        "  download1.GetContentFile('photon.hdf5')\n",
        "  f = h5py.File('photon.hdf5', 'r')\n",
        "  p_X = f['X']\n",
        "  p_y = f['y']\n",
        "  link2 = 'https://drive.google.com/open?id=1lW1jdrRGAMWcOrma7fqYXJfErk6ah_qS'\n",
        "  fluff, id = link2.split('=')\n",
        "  download2 = drive.CreateFile({'id':id})\n",
        "  download2.GetContentFile('electron.hdf5')\n",
        "  e = h5py.File('electron.hdf5', 'r')\n",
        "  e_X = e['X']\n",
        "  e_y = e['y']\n",
        "  return p_X, p_y, e_X, e_y"
      ],
      "execution_count": 0,
      "outputs": []
    },
    {
      "cell_type": "markdown",
      "metadata": {
        "id": "2T7x0LWraWrI",
        "colab_type": "text"
      },
      "source": [
        "# Concatenating the photon and electron data, and shuffling the data. Also splitting the data into train, test validation. Ration is 80:10:10"
      ]
    },
    {
      "cell_type": "code",
      "metadata": {
        "id": "LVNJVi1h3mVI",
        "colab_type": "code",
        "colab": {}
      },
      "source": [
        "def prepare_data(p_X, p_y, e_X, e_y):\n",
        "  p_X = np.array(p_X)\n",
        "  p_y = np.array(p_y)\n",
        "  e_X = np.array(e_X)\n",
        "  e_y = np.array(e_y)\n",
        "  X_train = np.concatenate((p_X, e_X), axis = 0)\n",
        "  y_train = np.concatenate((p_y, e_y), axis = 0)\n",
        "  indices = np.arange(X_train.shape[0])\n",
        "  np.random.shuffle(indices)\n",
        "  X_train = X_train[indices]\n",
        "  y_train = y_train[indices]\n",
        "  X_train, X_test, y_train, y_test = train_test_split(X_train, y_train, test_size=0.2, random_state=42)\n",
        "  X_test, X_val, y_test, y_val = train_test_split(X_test, y_test, test_size=0.5, random_state=42)\n",
        "  return X_train, y_train, X_test, y_test, X_val, y_val"
      ],
      "execution_count": 0,
      "outputs": []
    },
    {
      "cell_type": "markdown",
      "metadata": {
        "id": "uXXylyAoapqK",
        "colab_type": "text"
      },
      "source": [
        "# Residual block, an important unit of the resnet architecture. I've implemented it similar to the paper, to the best of my understanding"
      ]
    },
    {
      "cell_type": "code",
      "metadata": {
        "id": "dU-LQsF_332y",
        "colab_type": "code",
        "colab": {}
      },
      "source": [
        "def res_block (n_output, s, upscale = False):\n",
        "  def f(x):\n",
        "    \n",
        "    h = Conv2D(kernel_size=3, filters=n_output, strides=s,padding='same', kernel_regularizer=regularizers.l2(0.01))(x)\n",
        "    h = Activation('relu')(h)\n",
        "    \n",
        "    h = Conv2D(kernel_size=3, filters=n_output, strides=1, padding='same', kernel_regularizer=regularizers.l2(0.01))(h)\n",
        "    \n",
        "    if upscale:\n",
        "        f = Conv2D(kernel_size=1, filters=n_output, strides=s, padding='same')(x)\n",
        "    else:\n",
        "        f = x\n",
        "    \n",
        "    return Activation('relu')(add([f,h]))\n",
        "  return f"
      ],
      "execution_count": 0,
      "outputs": []
    },
    {
      "cell_type": "markdown",
      "metadata": {
        "id": "aVS7sWxdbD2J",
        "colab_type": "text"
      },
      "source": [
        "# Resnet"
      ]
    },
    {
      "cell_type": "code",
      "metadata": {
        "id": "EGciLjPt36kc",
        "colab_type": "code",
        "colab": {}
      },
      "source": [
        "input_tensor = Input((32, 32, 2))\n",
        "x = Conv2D(kernel_size=7, filters=16, strides=2, padding='same')(input_tensor)\n",
        "x = Activation('relu')(x)\n",
        "x = MaxPooling2D(pool_size=(2,2))(x)\n",
        "x = res_block(16, 1)(x)\n",
        "x = res_block(16, 1)(x)\n",
        "x = res_block(16, 1)(x)\n",
        "x = res_block(32, 2, upscale=True)(x)\n",
        "x = res_block(32, 1)(x)\n",
        "x = res_block(32, 1)(x)\n",
        "x = res_block(32, 1)(x)\n",
        "x = GlobalMaxPooling2D()(x)\n",
        "x = Dense(128, activation='relu')(x)\n",
        "x = Dense(1, activation='sigmoid')(x)"
      ],
      "execution_count": 0,
      "outputs": []
    },
    {
      "cell_type": "code",
      "metadata": {
        "id": "hUYS9uML3_K0",
        "colab_type": "code",
        "colab": {}
      },
      "source": [
        "model = Model(inputs=input_tensor, outputs=x)"
      ],
      "execution_count": 0,
      "outputs": []
    },
    {
      "cell_type": "code",
      "metadata": {
        "id": "25hreyTE4A4x",
        "colab_type": "code",
        "outputId": "6a7370bf-f373-4a01-cc8a-7d7b07b71a62",
        "colab": {
          "base_uri": "https://localhost:8080/",
          "height": 1000
        }
      },
      "source": [
        "model.summary()"
      ],
      "execution_count": 0,
      "outputs": [
        {
          "output_type": "stream",
          "text": [
            "Model: \"model_5\"\n",
            "__________________________________________________________________________________________________\n",
            "Layer (type)                    Output Shape         Param #     Connected to                     \n",
            "==================================================================================================\n",
            "input_23 (InputLayer)           (None, 32, 32, 2)    0                                            \n",
            "__________________________________________________________________________________________________\n",
            "conv2d_239 (Conv2D)             (None, 16, 16, 16)   1584        input_23[0][0]                   \n",
            "__________________________________________________________________________________________________\n",
            "activation_221 (Activation)     (None, 16, 16, 16)   0           conv2d_239[0][0]                 \n",
            "__________________________________________________________________________________________________\n",
            "max_pooling2d_21 (MaxPooling2D) (None, 8, 8, 16)     0           activation_221[0][0]             \n",
            "__________________________________________________________________________________________________\n",
            "conv2d_240 (Conv2D)             (None, 8, 8, 16)     2320        max_pooling2d_21[0][0]           \n",
            "__________________________________________________________________________________________________\n",
            "activation_222 (Activation)     (None, 8, 8, 16)     0           conv2d_240[0][0]                 \n",
            "__________________________________________________________________________________________________\n",
            "conv2d_241 (Conv2D)             (None, 8, 8, 16)     2320        activation_222[0][0]             \n",
            "__________________________________________________________________________________________________\n",
            "add_100 (Add)                   (None, 8, 8, 16)     0           max_pooling2d_21[0][0]           \n",
            "                                                                 conv2d_241[0][0]                 \n",
            "__________________________________________________________________________________________________\n",
            "activation_223 (Activation)     (None, 8, 8, 16)     0           add_100[0][0]                    \n",
            "__________________________________________________________________________________________________\n",
            "conv2d_242 (Conv2D)             (None, 8, 8, 16)     2320        activation_223[0][0]             \n",
            "__________________________________________________________________________________________________\n",
            "activation_224 (Activation)     (None, 8, 8, 16)     0           conv2d_242[0][0]                 \n",
            "__________________________________________________________________________________________________\n",
            "conv2d_243 (Conv2D)             (None, 8, 8, 16)     2320        activation_224[0][0]             \n",
            "__________________________________________________________________________________________________\n",
            "add_101 (Add)                   (None, 8, 8, 16)     0           activation_223[0][0]             \n",
            "                                                                 conv2d_243[0][0]                 \n",
            "__________________________________________________________________________________________________\n",
            "activation_225 (Activation)     (None, 8, 8, 16)     0           add_101[0][0]                    \n",
            "__________________________________________________________________________________________________\n",
            "conv2d_244 (Conv2D)             (None, 8, 8, 16)     2320        activation_225[0][0]             \n",
            "__________________________________________________________________________________________________\n",
            "activation_226 (Activation)     (None, 8, 8, 16)     0           conv2d_244[0][0]                 \n",
            "__________________________________________________________________________________________________\n",
            "conv2d_245 (Conv2D)             (None, 8, 8, 16)     2320        activation_226[0][0]             \n",
            "__________________________________________________________________________________________________\n",
            "add_102 (Add)                   (None, 8, 8, 16)     0           activation_225[0][0]             \n",
            "                                                                 conv2d_245[0][0]                 \n",
            "__________________________________________________________________________________________________\n",
            "activation_227 (Activation)     (None, 8, 8, 16)     0           add_102[0][0]                    \n",
            "__________________________________________________________________________________________________\n",
            "conv2d_246 (Conv2D)             (None, 4, 4, 32)     4640        activation_227[0][0]             \n",
            "__________________________________________________________________________________________________\n",
            "activation_228 (Activation)     (None, 4, 4, 32)     0           conv2d_246[0][0]                 \n",
            "__________________________________________________________________________________________________\n",
            "conv2d_248 (Conv2D)             (None, 4, 4, 32)     544         activation_227[0][0]             \n",
            "__________________________________________________________________________________________________\n",
            "conv2d_247 (Conv2D)             (None, 4, 4, 32)     9248        activation_228[0][0]             \n",
            "__________________________________________________________________________________________________\n",
            "add_103 (Add)                   (None, 4, 4, 32)     0           conv2d_248[0][0]                 \n",
            "                                                                 conv2d_247[0][0]                 \n",
            "__________________________________________________________________________________________________\n",
            "activation_229 (Activation)     (None, 4, 4, 32)     0           add_103[0][0]                    \n",
            "__________________________________________________________________________________________________\n",
            "conv2d_249 (Conv2D)             (None, 4, 4, 32)     9248        activation_229[0][0]             \n",
            "__________________________________________________________________________________________________\n",
            "activation_230 (Activation)     (None, 4, 4, 32)     0           conv2d_249[0][0]                 \n",
            "__________________________________________________________________________________________________\n",
            "conv2d_250 (Conv2D)             (None, 4, 4, 32)     9248        activation_230[0][0]             \n",
            "__________________________________________________________________________________________________\n",
            "add_104 (Add)                   (None, 4, 4, 32)     0           activation_229[0][0]             \n",
            "                                                                 conv2d_250[0][0]                 \n",
            "__________________________________________________________________________________________________\n",
            "activation_231 (Activation)     (None, 4, 4, 32)     0           add_104[0][0]                    \n",
            "__________________________________________________________________________________________________\n",
            "conv2d_251 (Conv2D)             (None, 4, 4, 32)     9248        activation_231[0][0]             \n",
            "__________________________________________________________________________________________________\n",
            "activation_232 (Activation)     (None, 4, 4, 32)     0           conv2d_251[0][0]                 \n",
            "__________________________________________________________________________________________________\n",
            "conv2d_252 (Conv2D)             (None, 4, 4, 32)     9248        activation_232[0][0]             \n",
            "__________________________________________________________________________________________________\n",
            "add_105 (Add)                   (None, 4, 4, 32)     0           activation_231[0][0]             \n",
            "                                                                 conv2d_252[0][0]                 \n",
            "__________________________________________________________________________________________________\n",
            "activation_233 (Activation)     (None, 4, 4, 32)     0           add_105[0][0]                    \n",
            "__________________________________________________________________________________________________\n",
            "conv2d_253 (Conv2D)             (None, 4, 4, 32)     9248        activation_233[0][0]             \n",
            "__________________________________________________________________________________________________\n",
            "activation_234 (Activation)     (None, 4, 4, 32)     0           conv2d_253[0][0]                 \n",
            "__________________________________________________________________________________________________\n",
            "conv2d_254 (Conv2D)             (None, 4, 4, 32)     9248        activation_234[0][0]             \n",
            "__________________________________________________________________________________________________\n",
            "add_106 (Add)                   (None, 4, 4, 32)     0           activation_233[0][0]             \n",
            "                                                                 conv2d_254[0][0]                 \n",
            "__________________________________________________________________________________________________\n",
            "activation_235 (Activation)     (None, 4, 4, 32)     0           add_106[0][0]                    \n",
            "__________________________________________________________________________________________________\n",
            "global_max_pooling2d_12 (Global (None, 32)           0           activation_235[0][0]             \n",
            "__________________________________________________________________________________________________\n",
            "dense_12 (Dense)                (None, 128)          4224        global_max_pooling2d_12[0][0]    \n",
            "__________________________________________________________________________________________________\n",
            "dense_13 (Dense)                (None, 1)            129         dense_12[0][0]                   \n",
            "==================================================================================================\n",
            "Total params: 89,777\n",
            "Trainable params: 89,777\n",
            "Non-trainable params: 0\n",
            "__________________________________________________________________________________________________\n"
          ],
          "name": "stdout"
        }
      ]
    },
    {
      "cell_type": "markdown",
      "metadata": {
        "id": "10qT2TLXbdqO",
        "colab_type": "text"
      },
      "source": [
        "# Optimizer is defined and model is compiled"
      ]
    },
    {
      "cell_type": "code",
      "metadata": {
        "id": "iANjZbP4OPz9",
        "colab_type": "code",
        "colab": {}
      },
      "source": [
        "opt = keras.optimizers.Adam(lr=5*10**(-4),decay=1e-6)"
      ],
      "execution_count": 0,
      "outputs": []
    },
    {
      "cell_type": "code",
      "metadata": {
        "id": "8SHExYaQ4DDH",
        "colab_type": "code",
        "colab": {}
      },
      "source": [
        "model.compile(loss='binary_crossentropy', optimizer=opt, metrics=['accuracy'])"
      ],
      "execution_count": 0,
      "outputs": []
    },
    {
      "cell_type": "code",
      "metadata": {
        "id": "8qXWYj_44Etl",
        "colab_type": "code",
        "outputId": "0a3bbfd2-885e-4361-a138-10c3b4dc60c6",
        "colab": {
          "base_uri": "https://localhost:8080/",
          "height": 34
        }
      },
      "source": [
        "p_X, p_y, e_X, e_y = load_data()\n",
        "X_train, y_train, X_test, y_test, X_val, y_val = prepare_data(p_X, p_y, e_X, e_y)"
      ],
      "execution_count": 0,
      "outputs": [
        {
          "output_type": "stream",
          "text": [
            "12PQqDemBZ_XgQSbpFl2F6hXDkqQGTnmf\n"
          ],
          "name": "stdout"
        }
      ]
    },
    {
      "cell_type": "code",
      "metadata": {
        "id": "I6dVx9os4GTd",
        "colab_type": "code",
        "outputId": "d0a224d5-5615-480c-8328-35903b52028d",
        "colab": {
          "base_uri": "https://localhost:8080/",
          "height": 1000
        }
      },
      "source": [
        "history = model.fit(X_train, y_train, batch_size=32, epochs=30, validation_data=(X_val, y_val), shuffle=True)"
      ],
      "execution_count": 0,
      "outputs": [
        {
          "output_type": "stream",
          "text": [
            "Train on 398400 samples, validate on 49800 samples\n",
            "Epoch 1/30\n",
            "398400/398400 [==============================] - 147s 370us/step - loss: 0.6584 - acc: 0.6340 - val_loss: 0.6100 - val_acc: 0.6743\n",
            "Epoch 2/30\n",
            "398400/398400 [==============================] - 142s 357us/step - loss: 0.6020 - acc: 0.6826 - val_loss: 0.5999 - val_acc: 0.6858\n",
            "Epoch 3/30\n",
            "398400/398400 [==============================] - 143s 359us/step - loss: 0.5918 - acc: 0.6916 - val_loss: 0.5890 - val_acc: 0.6969\n",
            "Epoch 4/30\n",
            "398400/398400 [==============================] - 141s 355us/step - loss: 0.5856 - acc: 0.6964 - val_loss: 0.5845 - val_acc: 0.6983\n",
            "Epoch 5/30\n",
            "398400/398400 [==============================] - 139s 348us/step - loss: 0.5813 - acc: 0.7005 - val_loss: 0.5865 - val_acc: 0.7003\n",
            "Epoch 6/30\n",
            "398400/398400 [==============================] - 137s 343us/step - loss: 0.5776 - acc: 0.7039 - val_loss: 0.5815 - val_acc: 0.7020\n",
            "Epoch 7/30\n",
            "398400/398400 [==============================] - 137s 344us/step - loss: 0.5752 - acc: 0.7062 - val_loss: 0.5745 - val_acc: 0.7084\n",
            "Epoch 8/30\n",
            "398400/398400 [==============================] - 137s 344us/step - loss: 0.5733 - acc: 0.7082 - val_loss: 0.5736 - val_acc: 0.7111\n",
            "Epoch 9/30\n",
            "398400/398400 [==============================] - 137s 343us/step - loss: 0.5716 - acc: 0.7101 - val_loss: 0.5739 - val_acc: 0.7106\n",
            "Epoch 10/30\n",
            "398400/398400 [==============================] - 137s 343us/step - loss: 0.5699 - acc: 0.7109 - val_loss: 0.5692 - val_acc: 0.7144\n",
            "Epoch 11/30\n",
            "398400/398400 [==============================] - 136s 342us/step - loss: 0.5684 - acc: 0.7124 - val_loss: 0.5689 - val_acc: 0.7136\n",
            "Epoch 12/30\n",
            "398400/398400 [==============================] - 136s 342us/step - loss: 0.5673 - acc: 0.7136 - val_loss: 0.5688 - val_acc: 0.7150\n",
            "Epoch 13/30\n",
            "398400/398400 [==============================] - 134s 337us/step - loss: 0.5661 - acc: 0.7146 - val_loss: 0.5668 - val_acc: 0.7142\n",
            "Epoch 14/30\n",
            "398400/398400 [==============================] - 137s 343us/step - loss: 0.5649 - acc: 0.7156 - val_loss: 0.5683 - val_acc: 0.7146\n",
            "Epoch 15/30\n",
            "398400/398400 [==============================] - 138s 346us/step - loss: 0.5640 - acc: 0.7166 - val_loss: 0.5660 - val_acc: 0.7154\n",
            "Epoch 16/30\n",
            "398400/398400 [==============================] - 137s 345us/step - loss: 0.5633 - acc: 0.7167 - val_loss: 0.5689 - val_acc: 0.7133\n",
            "Epoch 17/30\n",
            "398400/398400 [==============================] - 135s 340us/step - loss: 0.5625 - acc: 0.7169 - val_loss: 0.5657 - val_acc: 0.7156\n",
            "Epoch 18/30\n",
            "398400/398400 [==============================] - 135s 338us/step - loss: 0.5616 - acc: 0.7180 - val_loss: 0.5673 - val_acc: 0.7135\n",
            "Epoch 19/30\n",
            "398400/398400 [==============================] - 132s 331us/step - loss: 0.5610 - acc: 0.7184 - val_loss: 0.5626 - val_acc: 0.7184\n",
            "Epoch 20/30\n",
            "398400/398400 [==============================] - 130s 327us/step - loss: 0.5605 - acc: 0.7185 - val_loss: 0.5601 - val_acc: 0.7197\n",
            "Epoch 21/30\n",
            "398400/398400 [==============================] - 130s 326us/step - loss: 0.5598 - acc: 0.7189 - val_loss: 0.5627 - val_acc: 0.7185\n",
            "Epoch 22/30\n",
            "398400/398400 [==============================] - 132s 331us/step - loss: 0.5594 - acc: 0.7189 - val_loss: 0.5619 - val_acc: 0.7192\n",
            "Epoch 23/30\n",
            "398400/398400 [==============================] - 135s 339us/step - loss: 0.5587 - acc: 0.7198 - val_loss: 0.5598 - val_acc: 0.7210\n",
            "Epoch 24/30\n",
            "398400/398400 [==============================] - 139s 350us/step - loss: 0.5584 - acc: 0.7199 - val_loss: 0.5605 - val_acc: 0.7182\n",
            "Epoch 25/30\n",
            "398400/398400 [==============================] - 139s 349us/step - loss: 0.5580 - acc: 0.7201 - val_loss: 0.5585 - val_acc: 0.7217\n",
            "Epoch 26/30\n",
            "398400/398400 [==============================] - 141s 355us/step - loss: 0.5576 - acc: 0.7207 - val_loss: 0.5597 - val_acc: 0.7203\n",
            "Epoch 27/30\n",
            "398400/398400 [==============================] - 133s 335us/step - loss: 0.5567 - acc: 0.7213 - val_loss: 0.5595 - val_acc: 0.7200\n",
            "Epoch 28/30\n",
            "398400/398400 [==============================] - 135s 340us/step - loss: 0.5567 - acc: 0.7208 - val_loss: 0.5577 - val_acc: 0.7230\n",
            "Epoch 29/30\n",
            "398400/398400 [==============================] - 136s 341us/step - loss: 0.5563 - acc: 0.7218 - val_loss: 0.5568 - val_acc: 0.7218\n",
            "Epoch 30/30\n",
            "398400/398400 [==============================] - 136s 341us/step - loss: 0.5559 - acc: 0.7219 - val_loss: 0.5591 - val_acc: 0.7206\n"
          ],
          "name": "stdout"
        }
      ]
    },
    {
      "cell_type": "markdown",
      "metadata": {
        "id": "gMD9DBvX847M",
        "colab_type": "text"
      },
      "source": [
        "Loss Curve"
      ]
    },
    {
      "cell_type": "code",
      "metadata": {
        "id": "RvMLlbKM4IBk",
        "colab_type": "code",
        "outputId": "db825547-afa3-44d4-a49c-cb350e216925",
        "colab": {
          "base_uri": "https://localhost:8080/",
          "height": 295
        }
      },
      "source": [
        "plt.plot(history.history['loss'])\n",
        "plt.plot(history.history['val_loss'])\n",
        "plt.title('Model loss')\n",
        "plt.ylabel('Loss')\n",
        "plt.xlabel('Epoch')\n",
        "plt.legend(['Train', 'validation', 'train', 'val'], loc='upper left')\n",
        "plt.show()"
      ],
      "execution_count": 0,
      "outputs": [
        {
          "output_type": "display_data",
          "data": {
            "image/png": "[encoded data removed]",
            "text/plain": [
              "<Figure size 432x288 with 1 Axes>"
            ]
          },
          "metadata": {
            "tags": []
          }
        }
      ]
    },
    {
      "cell_type": "code",
      "metadata": {
        "id": "EJBa-MGTtRFy",
        "colab_type": "code",
        "outputId": "dce914e6-5023-46d1-c9bd-229b3a275b82",
        "colab": {
          "base_uri": "https://localhost:8080/",
          "height": 52
        }
      },
      "source": [
        "model.evaluate(x=X_test, y=y_test)"
      ],
      "execution_count": 0,
      "outputs": [
        {
          "output_type": "stream",
          "text": [
            "49800/49800 [==============================] - 5s 100us/step\n"
          ],
          "name": "stdout"
        },
        {
          "output_type": "execute_result",
          "data": {
            "text/plain": [
              "[0.5626343705472219, 0.7169477911646587]"
            ]
          },
          "metadata": {
            "tags": []
          },
          "execution_count": 116
        }
      ]
    },
    {
      "cell_type": "code",
      "metadata": {
        "id": "i6nHVcXiKw_x",
        "colab_type": "code",
        "colab": {}
      },
      "source": [
        "def eval(X_test, y_test):\n",
        "  return model.evaluate(x=X_test, y=y_test)"
      ],
      "execution_count": 0,
      "outputs": []
    },
    {
      "cell_type": "code",
      "metadata": {
        "id": "3Al1JexYL1EU",
        "colab_type": "code",
        "colab": {}
      },
      "source": [
        "def predict(X_test):\n",
        "  return model.predict(x=X_test)"
      ],
      "execution_count": 0,
      "outputs": []
    },
    {
      "cell_type": "code",
      "metadata": {
        "id": "dCkMqQYwNE89",
        "colab_type": "code",
        "colab": {}
      },
      "source": [
        "with open('./model.pkl','wb') as model_pkl:\n",
        "  pickle.dump(model, model_pkl)"
      ],
      "execution_count": 0,
      "outputs": []
    },
    {
      "cell_type": "markdown",
      "metadata": {
        "id": "3qMTDUCN_sXe",
        "colab_type": "text"
      },
      "source": [
        "# 1 channel."
      ]
    },
    {
      "cell_type": "code",
      "metadata": {
        "id": "UbRvL4veAU8Z",
        "colab_type": "code",
        "colab": {
          "base_uri": "https://localhost:8080/",
          "height": 34
        },
        "outputId": "0263ffa6-771b-4786-cea0-41399882350a"
      },
      "source": [
        "p_X, p_y, e_X, e_y = load_data()\n",
        "X_train1, y_train1, X_test1, y_test1, X_val1, y_val1 = prepare_data(p_X, p_y, e_X, e_y)\n",
        "X_train1, X_test1, X_val1 = X_train1[...,0], X_test1[...,0], X_val1[...,0]"
      ],
      "execution_count": 26,
      "outputs": [
        {
          "output_type": "stream",
          "text": [
            "12PQqDemBZ_XgQSbpFl2F6hXDkqQGTnmf\n"
          ],
          "name": "stdout"
        }
      ]
    },
    {
      "cell_type": "code",
      "metadata": {
        "id": "45RhvGH9rwbr",
        "colab_type": "code",
        "colab": {
          "base_uri": "https://localhost:8080/",
          "height": 176
        },
        "outputId": "3bb5da3e-ac12-4b24-e192-49edf3297e4d"
      },
      "source": [
        "input_tensor2 = Input((32, 32, 1))\n",
        "x = Conv2D(kernel_size=7, filters=16, strides=2, padding='same')(input_tensor2)\n",
        "x = Activation('relu')(x)\n",
        "x = MaxPooling2D(pool_size=(2,2))(x)\n",
        "x = res_block(16, 1)(x)\n",
        "x = res_block(16, 1)(x)\n",
        "x = res_block(16, 1)(x)\n",
        "x = res_block(32, 2, upscale=True)(x)\n",
        "x = res_block(32, 1)(x)\n",
        "x = res_block(32, 1)(x)\n",
        "x = res_block(32, 1)(x)\n",
        "x = GlobalMaxPooling2D()(x)\n",
        "x = Dense(128, activation='relu')(x)\n",
        "x = Dense(1, activation='sigmoid')(x)"
      ],
      "execution_count": 13,
      "outputs": [
        {
          "output_type": "stream",
          "text": [
            "WARNING:tensorflow:From /usr/local/lib/python3.6/dist-packages/keras/backend/tensorflow_backend.py:66: The name tf.get_default_graph is deprecated. Please use tf.compat.v1.get_default_graph instead.\n",
            "\n",
            "WARNING:tensorflow:From /usr/local/lib/python3.6/dist-packages/keras/backend/tensorflow_backend.py:541: The name tf.placeholder is deprecated. Please use tf.compat.v1.placeholder instead.\n",
            "\n",
            "WARNING:tensorflow:From /usr/local/lib/python3.6/dist-packages/keras/backend/tensorflow_backend.py:4432: The name tf.random_uniform is deprecated. Please use tf.random.uniform instead.\n",
            "\n",
            "WARNING:tensorflow:From /usr/local/lib/python3.6/dist-packages/keras/backend/tensorflow_backend.py:4267: The name tf.nn.max_pool is deprecated. Please use tf.nn.max_pool2d instead.\n",
            "\n"
          ],
          "name": "stdout"
        }
      ]
    },
    {
      "cell_type": "code",
      "metadata": {
        "id": "CHYoSChxU2vD",
        "colab_type": "code",
        "colab": {}
      },
      "source": [
        "model2 = Model(inputs=input_tensor2, outputs=x)"
      ],
      "execution_count": 0,
      "outputs": []
    },
    {
      "cell_type": "code",
      "metadata": {
        "id": "mNytwaX3XXnS",
        "colab_type": "code",
        "colab": {}
      },
      "source": [
        "opt2 = keras.optimizers.Adam(lr=(5*(10**-4)))"
      ],
      "execution_count": 0,
      "outputs": []
    },
    {
      "cell_type": "code",
      "metadata": {
        "id": "SeeEJlvuVtfL",
        "colab_type": "code",
        "colab": {}
      },
      "source": [
        "def step_decay(epoch):\n",
        "   initial_lrate = 5*(10**-4)\n",
        "   drop = 0.5\n",
        "   epochs_drop = 10.0\n",
        "   lrate = initial_lrate * math.pow(drop,  \n",
        "           math.floor((1+epoch)/epochs_drop))\n",
        "   return lrate\n",
        "\n",
        "class LossHistory(keras.callbacks.Callback):\n",
        "    def on_train_begin(self, logs={}):\n",
        "       self.losses = []\n",
        "       self.lr = []\n",
        " \n",
        "    def on_epoch_end(self, batch, logs={}):\n",
        "       self.losses.append(logs.get(\"loss\"))\n",
        "       self.lr.append(step_decay(len(self.losses)))\n",
        "\n",
        "loss_history = LossHistory()\n",
        "lrate = keras.callbacks.LearningRateScheduler(step_decay)\n",
        "callbacks_list = [loss_history, lrate]"
      ],
      "execution_count": 0,
      "outputs": []
    },
    {
      "cell_type": "code",
      "metadata": {
        "colab_type": "code",
        "id": "7nwGAj3PVJUd",
        "colab": {}
      },
      "source": [
        "model2.compile(loss='binary_crossentropy', optimizer=opt2, metrics=['accuracy'])"
      ],
      "execution_count": 0,
      "outputs": []
    },
    {
      "cell_type": "code",
      "metadata": {
        "id": "gXkvDjZ0YX6E",
        "colab_type": "code",
        "colab": {}
      },
      "source": [
        "X_train1 = X_train1.reshape(-1, 32, 32, 1)\n",
        "X_test1 = X_test1.reshape(-1, 32, 32, 1)\n",
        "X_val1 = X_val1.reshape(-1, 32, 32, 1)"
      ],
      "execution_count": 0,
      "outputs": []
    },
    {
      "cell_type": "code",
      "metadata": {
        "id": "W2CwN4IgXm1h",
        "colab_type": "code",
        "colab": {}
      },
      "source": [
        "history2 = model2.fit(X_train1, y_train1, batch_size=32, epochs=30, callbacks=callbacks_list, validation_data=(X_val1, y_val1), shuffle=True)"
      ],
      "execution_count": 0,
      "outputs": []
    },
    {
      "cell_type": "markdown",
      "metadata": {
        "id": "8UcVZ2Hn8FBU",
        "colab_type": "text"
      },
      "source": [
        "# Loss Curve"
      ]
    },
    {
      "cell_type": "code",
      "metadata": {
        "id": "9Hrv0020Zco_",
        "colab_type": "code",
        "colab": {
          "base_uri": "https://localhost:8080/",
          "height": 279
        },
        "outputId": "d711a090-4e6c-483e-b9cb-ffa8acf9086b"
      },
      "source": [
        "plt.plot(history2.history['loss'])\n",
        "plt.plot(history2.history['val_loss'])\n",
        "plt.xlabel('epoch')\n",
        "plt.ylabel('loss')\n",
        "plt.legend(['train', 'validation'])\n",
        "plt.show()"
      ],
      "execution_count": 33,
      "outputs": [
        {
          "output_type": "display_data",
          "data": {
            "image/png": "[encoded data removed]",
            "text/plain": [
              "<Figure size 432x288 with 1 Axes>"
            ]
          },
          "metadata": {
            "tags": []
          }
        }
      ]
    },
    {
      "cell_type": "markdown",
      "metadata": {
        "id": "loURsUax9b-X",
        "colab_type": "text"
      },
      "source": [
        "Test Accuracy"
      ]
    },
    {
      "cell_type": "code",
      "metadata": {
        "id": "Y0vTsfdq9OFN",
        "colab_type": "code",
        "colab": {
          "base_uri": "https://localhost:8080/",
          "height": 52
        },
        "outputId": "be46eb4d-3273-4121-995c-ee07530c6905"
      },
      "source": [
        "test_acc = model2.evaluate(X_test1, y_test1)\n",
        "print(test_acc)"
      ],
      "execution_count": 40,
      "outputs": [
        {
          "output_type": "stream",
          "text": [
            "49800/49800 [==============================] - 9s 187us/step\n",
            "[0.558176478765097, 0.7219678714859438]\n"
          ],
          "name": "stdout"
        }
      ]
    },
    {
      "cell_type": "code",
      "metadata": {
        "id": "z0lIiLNp7CHO",
        "colab_type": "code",
        "colab": {}
      },
      "source": [
        "y_pred = model2.predict(X_test1)"
      ],
      "execution_count": 0,
      "outputs": []
    },
    {
      "cell_type": "markdown",
      "metadata": {
        "id": "ZAET9PZ98NBy",
        "colab_type": "text"
      },
      "source": [
        "# AUC for **ROC**"
      ]
    },
    {
      "cell_type": "code",
      "metadata": {
        "id": "tkoHx4Ro7UfW",
        "colab_type": "code",
        "colab": {
          "base_uri": "https://localhost:8080/",
          "height": 34
        },
        "outputId": "47fdc67b-e491-4e43-d116-e516e6daf7d2"
      },
      "source": [
        "roc_auc = roc_auc_score(y_test1, y_pred)\n",
        "print(roc_auc)"
      ],
      "execution_count": 37,
      "outputs": [
        {
          "output_type": "stream",
          "text": [
            "0.7847767603011646\n"
          ],
          "name": "stdout"
        }
      ]
    },
    {
      "cell_type": "markdown",
      "metadata": {
        "id": "9ahaAOCC8X0N",
        "colab_type": "text"
      },
      "source": [
        "# ROC Curve"
      ]
    },
    {
      "cell_type": "code",
      "metadata": {
        "id": "sxqB6UUa7bvG",
        "colab_type": "code",
        "colab": {
          "base_uri": "https://localhost:8080/",
          "height": 279
        },
        "outputId": "3e5abe4b-d80b-4abf-aa44-6cd68f135779"
      },
      "source": [
        "fpr, tpr, _ = roc_curve(y_test1, y_pred)\n",
        "plt.plot(fpr, tpr, label='Resnet')\n",
        "plt.xlabel('false +ve')\n",
        "plt.ylabel('True +ve')\n",
        "plt.show()"
      ],
      "execution_count": 38,
      "outputs": [
        {
          "output_type": "display_data",
          "data": {
            "image/png": "[encoded data removed]",
            "text/plain": [
              "<Figure size 432x288 with 1 Axes>"
            ]
          },
          "metadata": {
            "tags": []
          }
        }
      ]
    },
    {
      "cell_type": "code",
      "metadata": {
        "colab_type": "code",
        "id": "SENxH9Xy8kL1",
        "colab": {}
      },
      "source": [
        "with open('./model_2.pkl','wb') as model_pkl:\n",
        "  pickle.dump(model2, model_pkl)"
      ],
      "execution_count": 0,
      "outputs": []
    },
    {
      "cell_type": "code",
      "metadata": {
        "id": "WV1JhVcv7-kZ",
        "colab_type": "code",
        "colab": {}
      },
      "source": [
        ""
      ],
      "execution_count": 0,
      "outputs": []
    }
  ]
}
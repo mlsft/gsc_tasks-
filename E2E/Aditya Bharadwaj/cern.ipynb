{
  "nbformat": 4,
  "nbformat_minor": 0,
  "metadata": {
    "colab": {
      "name": "cern.ipynb",
      "provenance": [],
      "collapsed_sections": [],
      "toc_visible": true,
      "machine_shape": "hm"
    },
    "kernelspec": {
      "name": "python3",
      "display_name": "Python 3"
    },
    "accelerator": "GPU"
  },
  "cells": [
    {
      "cell_type": "code",
      "metadata": {
        "id": "VyVAcQXICyUL",
        "colab_type": "code",
        "colab": {}
      },
      "source": [
        "import pandas as pd\n",
        "import matplotlib.pyplot as plt\n",
        "import numpy as np\n",
        "from PIL import Image"
      ],
      "execution_count": 0,
      "outputs": []
    },
    {
      "cell_type": "code",
      "metadata": {
        "id": "Me2lIONddtFq",
        "colab_type": "code",
        "colab": {}
      },
      "source": [
        "from sklearn.model_selection import train_test_split"
      ],
      "execution_count": 0,
      "outputs": []
    },
    {
      "cell_type": "code",
      "metadata": {
        "id": "UbAwKYwZlrqj",
        "colab_type": "code",
        "outputId": "73f68da9-ac06-48a6-f688-6aa5436fc037",
        "colab": {
          "base_uri": "https://localhost:8080/",
          "height": 98
        }
      },
      "source": [
        "from keras.models import Sequential\n",
        "from keras.layers import Dense, Dropout, Activation, Flatten\n",
        "from keras.layers import Conv2D, MaxPooling2D"
      ],
      "execution_count": 0,
      "outputs": [
        {
          "output_type": "stream",
          "text": [
            "Using TensorFlow backend.\n"
          ],
          "name": "stderr"
        },
        {
          "output_type": "display_data",
          "data": {
            "text/html": [
              "<p style=\"color: red;\">\n",
              "The default version of TensorFlow in Colab will soon switch to TensorFlow 2.x.<br>\n",
              "We recommend you <a href=\"https://www.tensorflow.org/guide/migrate\" target=\"_blank\">upgrade</a> now \n",
              "or ensure your notebook will continue to use TensorFlow 1.x via the <code>%tensorflow_version 1.x</code> magic:\n",
              "<a href=\"https://colab.research.google.com/notebooks/tensorflow_version.ipynb\" target=\"_blank\">more info</a>.</p>\n"
            ],
            "text/plain": [
              "<IPython.core.display.HTML object>"
            ]
          },
          "metadata": {
            "tags": []
          }
        }
      ]
    },
    {
      "cell_type": "code",
      "metadata": {
        "id": "FvZXs_y04GLs",
        "colab_type": "code",
        "colab": {}
      },
      "source": [
        "import keras\n",
        "import pickle\n",
        "from sklearn.metrics import roc_auc_score\n",
        "from sklearn.metrics import roc_curve"
      ],
      "execution_count": 0,
      "outputs": []
    },
    {
      "cell_type": "code",
      "metadata": {
        "id": "_EmDVqhFDW9w",
        "colab_type": "code",
        "colab": {}
      },
      "source": [
        "!pip install -U -q PyDrive\n",
        "from pydrive.auth import GoogleAuth\n",
        "from pydrive.drive import GoogleDrive\n",
        "from google.colab import auth\n",
        "from oauth2client.client import GoogleCredentials# Authenticate and create the PyDrive client.\n",
        "auth.authenticate_user()\n",
        "gauth = GoogleAuth()\n",
        "gauth.credentials = GoogleCredentials.get_application_default()\n",
        "drive = GoogleDrive(gauth)"
      ],
      "execution_count": 0,
      "outputs": []
    },
    {
      "cell_type": "code",
      "metadata": {
        "id": "yKLJKs7sUF50",
        "colab_type": "code",
        "outputId": "ccea93b6-c81a-4e3c-a04e-e4fd6c735282",
        "colab": {
          "base_uri": "https://localhost:8080/",
          "height": 34
        }
      },
      "source": [
        "link1 = 'https://drive.google.com/open?id=12PQqDemBZ_XgQSbpFl2F6hXDkqQGTnmf'\n",
        "fluff, id = link1.split('=')\n",
        "print(id)"
      ],
      "execution_count": 0,
      "outputs": [
        {
          "output_type": "stream",
          "text": [
            "12PQqDemBZ_XgQSbpFl2F6hXDkqQGTnmf\n"
          ],
          "name": "stdout"
        }
      ]
    },
    {
      "cell_type": "code",
      "metadata": {
        "id": "GpGPMEljVb-K",
        "colab_type": "code",
        "colab": {}
      },
      "source": [
        "download1 = drive.CreateFile({'id':id})\n",
        "download1.GetContentFile('photon.hdf5')\n"
      ],
      "execution_count": 0,
      "outputs": []
    },
    {
      "cell_type": "code",
      "metadata": {
        "id": "3-6n8dEgWCza",
        "colab_type": "code",
        "colab": {}
      },
      "source": [
        "import h5py\n",
        "f = h5py.File('photon.hdf5', 'r')"
      ],
      "execution_count": 0,
      "outputs": []
    },
    {
      "cell_type": "code",
      "metadata": {
        "id": "7mq_1KxaWLhy",
        "colab_type": "code",
        "colab": {}
      },
      "source": [
        "p_X = f['X']\n",
        "p_y = f['y']"
      ],
      "execution_count": 0,
      "outputs": []
    },
    {
      "cell_type": "code",
      "metadata": {
        "id": "NpQ9gWbcWMsZ",
        "colab_type": "code",
        "colab": {}
      },
      "source": [
        "link2 = 'https://drive.google.com/open?id=1lW1jdrRGAMWcOrma7fqYXJfErk6ah_qS'\n",
        "fluff, id = link2.split('=')\n",
        "download2 = drive.CreateFile({'id':id})\n",
        "download2.GetContentFile('electron.hdf5')"
      ],
      "execution_count": 0,
      "outputs": []
    },
    {
      "cell_type": "code",
      "metadata": {
        "id": "Ud8__ghtWeJy",
        "colab_type": "code",
        "colab": {}
      },
      "source": [
        "e = h5py.File('electron.hdf5', 'r')\n",
        "e_X = e['X']\n",
        "e_y = e['y']"
      ],
      "execution_count": 0,
      "outputs": []
    },
    {
      "cell_type": "code",
      "metadata": {
        "id": "z_D_K8AcWw4z",
        "colab_type": "code",
        "colab": {}
      },
      "source": [
        "p_X = np.array(p_X)\n",
        "p_y = np.array(p_y)\n",
        "e_X = np.array(e_X)\n",
        "e_y = np.array(e_y)"
      ],
      "execution_count": 0,
      "outputs": []
    },
    {
      "cell_type": "code",
      "metadata": {
        "id": "PN_aS4JrWyrD",
        "colab_type": "code",
        "colab": {}
      },
      "source": [
        "X_train = np.concatenate((p_X, e_X), axis = 0)\n",
        "y_train = np.concatenate((p_y, e_y), axis = 0)"
      ],
      "execution_count": 0,
      "outputs": []
    },
    {
      "cell_type": "code",
      "metadata": {
        "id": "UzX2RCCaXv01",
        "colab_type": "code",
        "colab": {}
      },
      "source": [
        "indices = np.arange(X_train.shape[0])\n",
        "np.random.shuffle(indices)\n",
        "X_train = X_train[indices]\n",
        "y_train = y_train[indices]"
      ],
      "execution_count": 0,
      "outputs": []
    },
    {
      "cell_type": "code",
      "metadata": {
        "id": "gCbYnU9RYhdA",
        "colab_type": "code",
        "colab": {}
      },
      "source": [
        "X_train, X_test, y_train, y_test = train_test_split(X_train, y_train, test_size=0.2, random_state=43)"
      ],
      "execution_count": 0,
      "outputs": []
    },
    {
      "cell_type": "markdown",
      "metadata": {
        "id": "-lIXrBTlCb3h",
        "colab_type": "text"
      },
      "source": [
        ""
      ]
    },
    {
      "cell_type": "code",
      "metadata": {
        "id": "xw_tVgYaY-LF",
        "colab_type": "code",
        "colab": {}
      },
      "source": [
        "X_test, X_val, y_test, y_val = train_test_split(X_test, y_test, test_size=0.5, random_state=43)"
      ],
      "execution_count": 0,
      "outputs": []
    },
    {
      "cell_type": "code",
      "metadata": {
        "id": "nHv81lC0eSt_",
        "colab_type": "code",
        "outputId": "8be5d086-6520-4235-944a-ad18ab9c3724",
        "colab": {
          "base_uri": "https://localhost:8080/",
          "height": 34
        }
      },
      "source": [
        "X_val.shape"
      ],
      "execution_count": 0,
      "outputs": [
        {
          "output_type": "execute_result",
          "data": {
            "text/plain": [
              "(49800, 32, 32, 2)"
            ]
          },
          "metadata": {
            "tags": []
          },
          "execution_count": 29
        }
      ]
    },
    {
      "cell_type": "code",
      "metadata": {
        "id": "6OdMql6JgmNW",
        "colab_type": "code",
        "outputId": "df492f21-0080-4d84-972f-52ec0f34fecf",
        "colab": {
          "base_uri": "https://localhost:8080/",
          "height": 176
        }
      },
      "source": [
        "cnn1 = Sequential([\n",
        "    Conv2D(8, kernel_size=(5, 5), activation='relu',padding='same',input_shape=(32, 32, 2)),\n",
        "    MaxPooling2D(pool_size=(2, 2),strides=2),\n",
        "    Conv2D(16, kernel_size=(5, 5), activation='relu'),\n",
        "    MaxPooling2D(pool_size=(2, 2),strides=2),\n",
        "    Flatten(),\n",
        "    Dense(120, activation='relu'),\n",
        "    Dense(84, activation='relu'),\n",
        "    Dense(2, activation='softmax')\n",
        "])"
      ],
      "execution_count": 0,
      "outputs": [
        {
          "output_type": "stream",
          "text": [
            "WARNING:tensorflow:From /usr/local/lib/python3.6/dist-packages/keras/backend/tensorflow_backend.py:66: The name tf.get_default_graph is deprecated. Please use tf.compat.v1.get_default_graph instead.\n",
            "\n",
            "WARNING:tensorflow:From /usr/local/lib/python3.6/dist-packages/keras/backend/tensorflow_backend.py:541: The name tf.placeholder is deprecated. Please use tf.compat.v1.placeholder instead.\n",
            "\n",
            "WARNING:tensorflow:From /usr/local/lib/python3.6/dist-packages/keras/backend/tensorflow_backend.py:4432: The name tf.random_uniform is deprecated. Please use tf.random.uniform instead.\n",
            "\n",
            "WARNING:tensorflow:From /usr/local/lib/python3.6/dist-packages/keras/backend/tensorflow_backend.py:4267: The name tf.nn.max_pool is deprecated. Please use tf.nn.max_pool2d instead.\n",
            "\n"
          ],
          "name": "stdout"
        }
      ]
    },
    {
      "cell_type": "code",
      "metadata": {
        "id": "uGoZlGdxy6ua",
        "colab_type": "code",
        "outputId": "476f8e3c-ebcb-4d7c-f734-8fc7272f601b",
        "colab": {
          "base_uri": "https://localhost:8080/",
          "height": 434
        }
      },
      "source": [
        "cnn1.summary()"
      ],
      "execution_count": 0,
      "outputs": [
        {
          "output_type": "stream",
          "text": [
            "Model: \"sequential_2\"\n",
            "_________________________________________________________________\n",
            "Layer (type)                 Output Shape              Param #   \n",
            "=================================================================\n",
            "conv2d_3 (Conv2D)            (None, 32, 32, 8)         408       \n",
            "_________________________________________________________________\n",
            "max_pooling2d_3 (MaxPooling2 (None, 16, 16, 8)         0         \n",
            "_________________________________________________________________\n",
            "conv2d_4 (Conv2D)            (None, 12, 12, 16)        3216      \n",
            "_________________________________________________________________\n",
            "max_pooling2d_4 (MaxPooling2 (None, 6, 6, 16)          0         \n",
            "_________________________________________________________________\n",
            "flatten_2 (Flatten)          (None, 576)               0         \n",
            "_________________________________________________________________\n",
            "dense_4 (Dense)              (None, 120)               69240     \n",
            "_________________________________________________________________\n",
            "dense_5 (Dense)              (None, 84)                10164     \n",
            "_________________________________________________________________\n",
            "dense_6 (Dense)              (None, 2)                 170       \n",
            "=================================================================\n",
            "Total params: 83,198\n",
            "Trainable params: 83,198\n",
            "Non-trainable params: 0\n",
            "_________________________________________________________________\n"
          ],
          "name": "stdout"
        }
      ]
    },
    {
      "cell_type": "code",
      "metadata": {
        "id": "EM75U-BJ3YLp",
        "colab_type": "code",
        "colab": {}
      },
      "source": [
        "opt = keras.optimizers.Adam(lr=0.001)"
      ],
      "execution_count": 0,
      "outputs": []
    },
    {
      "cell_type": "code",
      "metadata": {
        "id": "mnglE-Q-5qmN",
        "colab_type": "code",
        "colab": {}
      },
      "source": [
        "cnn1.compile(loss='sparse_categorical_crossentropy', optimizer=opt, metrics=['accuracy'])"
      ],
      "execution_count": 0,
      "outputs": []
    },
    {
      "cell_type": "code",
      "metadata": {
        "id": "sGrPeOdX4DCi",
        "colab_type": "code",
        "outputId": "782f66ca-72ec-4b01-ccc7-377b9622bbf1",
        "colab": {
          "base_uri": "https://localhost:8080/",
          "height": 1000
        }
      },
      "source": [
        "history = cnn1.fit(X_train, y_train, batch_size=256, epochs=30, validation_data=(X_val, y_val), shuffle=True)"
      ],
      "execution_count": 0,
      "outputs": [
        {
          "output_type": "stream",
          "text": [
            "Train on 348600 samples, validate on 74700 samples\n",
            "Epoch 1/30\n",
            "348600/348600 [==============================] - 133s 382us/step - loss: 0.6274 - acc: 0.6504 - val_loss: 0.5936 - val_acc: 0.6923\n",
            "Epoch 2/30\n",
            "348600/348600 [==============================] - 133s 382us/step - loss: 0.5872 - acc: 0.6968 - val_loss: 0.5770 - val_acc: 0.7069\n",
            "Epoch 3/30\n",
            "348600/348600 [==============================] - 134s 384us/step - loss: 0.5748 - acc: 0.7077 - val_loss: 0.5696 - val_acc: 0.7133\n",
            "Epoch 4/30\n",
            "348600/348600 [==============================] - 135s 386us/step - loss: 0.5676 - acc: 0.7134 - val_loss: 0.5683 - val_acc: 0.7122\n",
            "Epoch 5/30\n",
            "348600/348600 [==============================] - 136s 390us/step - loss: 0.5638 - acc: 0.7162 - val_loss: 0.5579 - val_acc: 0.7226\n",
            "Epoch 6/30\n",
            "348600/348600 [==============================] - 135s 388us/step - loss: 0.5614 - acc: 0.7177 - val_loss: 0.5607 - val_acc: 0.7195\n",
            "Epoch 7/30\n",
            "348600/348600 [==============================] - 135s 388us/step - loss: 0.5590 - acc: 0.7196 - val_loss: 0.5601 - val_acc: 0.7192\n",
            "Epoch 8/30\n",
            "348600/348600 [==============================] - 134s 384us/step - loss: 0.5577 - acc: 0.7214 - val_loss: 0.5556 - val_acc: 0.7231\n",
            "Epoch 9/30\n",
            "348600/348600 [==============================] - 134s 386us/step - loss: 0.5557 - acc: 0.7222 - val_loss: 0.5538 - val_acc: 0.7246\n",
            "Epoch 10/30\n",
            "348600/348600 [==============================] - 134s 386us/step - loss: 0.5540 - acc: 0.7236 - val_loss: 0.5565 - val_acc: 0.7218\n",
            "Epoch 11/30\n",
            "348600/348600 [==============================] - 135s 387us/step - loss: 0.5528 - acc: 0.7242 - val_loss: 0.5513 - val_acc: 0.7268\n",
            "Epoch 12/30\n",
            "348600/348600 [==============================] - 134s 385us/step - loss: 0.5515 - acc: 0.7251 - val_loss: 0.5597 - val_acc: 0.7207\n",
            "Epoch 13/30\n",
            "348600/348600 [==============================] - 134s 385us/step - loss: 0.5506 - acc: 0.7260 - val_loss: 0.5540 - val_acc: 0.7252\n",
            "Epoch 14/30\n",
            "348600/348600 [==============================] - 134s 385us/step - loss: 0.5497 - acc: 0.7264 - val_loss: 0.5523 - val_acc: 0.7254\n",
            "Epoch 15/30\n",
            "348600/348600 [==============================] - 134s 385us/step - loss: 0.5485 - acc: 0.7270 - val_loss: 0.5508 - val_acc: 0.7271\n",
            "Epoch 16/30\n",
            "348600/348600 [==============================] - 136s 391us/step - loss: 0.5478 - acc: 0.7279 - val_loss: 0.5500 - val_acc: 0.7277\n",
            "Epoch 17/30\n",
            "348600/348600 [==============================] - 137s 392us/step - loss: 0.5472 - acc: 0.7276 - val_loss: 0.5519 - val_acc: 0.7258\n",
            "Epoch 18/30\n",
            "348600/348600 [==============================] - 137s 392us/step - loss: 0.5462 - acc: 0.7295 - val_loss: 0.5489 - val_acc: 0.7288\n",
            "Epoch 19/30\n",
            "348600/348600 [==============================] - 134s 386us/step - loss: 0.5453 - acc: 0.7299 - val_loss: 0.5485 - val_acc: 0.7284\n",
            "Epoch 20/30\n",
            "348600/348600 [==============================] - 136s 390us/step - loss: 0.5450 - acc: 0.7304 - val_loss: 0.5492 - val_acc: 0.7278\n",
            "Epoch 21/30\n",
            "348600/348600 [==============================] - 136s 391us/step - loss: 0.5442 - acc: 0.7304 - val_loss: 0.5463 - val_acc: 0.7304\n",
            "Epoch 22/30\n",
            "348600/348600 [==============================] - 138s 395us/step - loss: 0.5432 - acc: 0.7315 - val_loss: 0.5490 - val_acc: 0.7286\n",
            "Epoch 23/30\n",
            "348600/348600 [==============================] - 137s 392us/step - loss: 0.5429 - acc: 0.7317 - val_loss: 0.5457 - val_acc: 0.7305\n",
            "Epoch 24/30\n",
            "348600/348600 [==============================] - 136s 390us/step - loss: 0.5421 - acc: 0.7318 - val_loss: 0.5470 - val_acc: 0.7283\n",
            "Epoch 25/30\n",
            "348600/348600 [==============================] - 136s 390us/step - loss: 0.5411 - acc: 0.7331 - val_loss: 0.5461 - val_acc: 0.7301\n",
            "Epoch 26/30\n",
            "348600/348600 [==============================] - 135s 388us/step - loss: 0.5411 - acc: 0.7321 - val_loss: 0.5459 - val_acc: 0.7309\n",
            "Epoch 27/30\n",
            "348600/348600 [==============================] - 135s 388us/step - loss: 0.5404 - acc: 0.7335 - val_loss: 0.5437 - val_acc: 0.7325\n",
            "Epoch 28/30\n",
            "348600/348600 [==============================] - 135s 388us/step - loss: 0.5394 - acc: 0.7338 - val_loss: 0.5497 - val_acc: 0.7292\n",
            "Epoch 29/30\n",
            "348600/348600 [==============================] - 135s 388us/step - loss: 0.5391 - acc: 0.7342 - val_loss: 0.5448 - val_acc: 0.7312\n",
            "Epoch 30/30\n",
            "348600/348600 [==============================] - 136s 390us/step - loss: 0.5384 - acc: 0.7349 - val_loss: 0.5460 - val_acc: 0.7304\n"
          ],
          "name": "stdout"
        }
      ]
    },
    {
      "cell_type": "code",
      "metadata": {
        "id": "49XLg1-o5ig_",
        "colab_type": "code",
        "outputId": "6f450e0d-3764-44fe-b9f5-7fd1ebfe6611",
        "colab": {
          "base_uri": "https://localhost:8080/",
          "height": 295
        }
      },
      "source": [
        "plt.plot(history.history['loss'])\n",
        "plt.plot(history.history['val_loss'])\n",
        "plt.title('Model loss')\n",
        "plt.ylabel('Loss')\n",
        "plt.xlabel('Epoch')\n",
        "plt.legend(['Train', 'validation'], loc='upper left')\n",
        "plt.show()"
      ],
      "execution_count": 0,
      "outputs": [
        {
          "output_type": "display_data",
          "data": {
            "image/png": "[encoded data removed]",
            "text/plain": [
              "<Figure size 432x288 with 1 Axes>"
            ]
          },
          "metadata": {
            "tags": []
          }
        }
      ]
    },
    {
      "cell_type": "code",
      "metadata": {
        "id": "_j8dWD2bK2G9",
        "colab_type": "code",
        "colab": {}
      },
      "source": [
        "cnn2 = Sequential([\n",
        "    Conv2D(16, kernel_size=(3, 3), activation='relu',padding='same',input_shape=(32, 32, 2)),\n",
        "    Conv2D(16, kernel_size=(3, 3), activation='relu',padding='same'),\n",
        "    MaxPooling2D(pool_size=(2, 2),strides=2),\n",
        "    Conv2D(32, kernel_size=(3, 3), activation='relu'),\n",
        "    Conv2D(32, kernel_size=(3, 3), activation='relu'),\n",
        "    MaxPooling2D(pool_size=(2, 2),strides=2),\n",
        "    Flatten(),\n",
        "    Dense(512, activation='relu'),\n",
        "    Dense(2, activation='softmax')\n",
        "])"
      ],
      "execution_count": 0,
      "outputs": []
    },
    {
      "cell_type": "code",
      "metadata": {
        "id": "AcQuOxs1Mqrx",
        "colab_type": "code",
        "outputId": "2efbbe68-dcb9-414e-c103-8b52ea58b6f8",
        "colab": {
          "base_uri": "https://localhost:8080/",
          "height": 469
        }
      },
      "source": [
        "cnn2.summary()"
      ],
      "execution_count": 0,
      "outputs": [
        {
          "output_type": "stream",
          "text": [
            "Model: \"sequential_3\"\n",
            "_________________________________________________________________\n",
            "Layer (type)                 Output Shape              Param #   \n",
            "=================================================================\n",
            "conv2d_5 (Conv2D)            (None, 32, 32, 16)        304       \n",
            "_________________________________________________________________\n",
            "conv2d_6 (Conv2D)            (None, 32, 32, 16)        2320      \n",
            "_________________________________________________________________\n",
            "max_pooling2d_5 (MaxPooling2 (None, 16, 16, 16)        0         \n",
            "_________________________________________________________________\n",
            "conv2d_7 (Conv2D)            (None, 14, 14, 32)        4640      \n",
            "_________________________________________________________________\n",
            "conv2d_8 (Conv2D)            (None, 12, 12, 32)        9248      \n",
            "_________________________________________________________________\n",
            "max_pooling2d_6 (MaxPooling2 (None, 6, 6, 32)          0         \n",
            "_________________________________________________________________\n",
            "flatten_3 (Flatten)          (None, 1152)              0         \n",
            "_________________________________________________________________\n",
            "dense_7 (Dense)              (None, 512)               590336    \n",
            "_________________________________________________________________\n",
            "dense_8 (Dense)              (None, 10)                5130      \n",
            "=================================================================\n",
            "Total params: 611,978\n",
            "Trainable params: 611,978\n",
            "Non-trainable params: 0\n",
            "_________________________________________________________________\n"
          ],
          "name": "stdout"
        }
      ]
    },
    {
      "cell_type": "code",
      "metadata": {
        "id": "nuOmjDOjNgAE",
        "colab_type": "code",
        "colab": {}
      },
      "source": [
        "cnn2.compile(loss='sparse_categorical_crossentropy', optimizer=opt, metrics=['accuracy'])"
      ],
      "execution_count": 0,
      "outputs": []
    },
    {
      "cell_type": "code",
      "metadata": {
        "id": "YyT-y_FaOzcR",
        "colab_type": "code",
        "colab": {}
      },
      "source": [
        ""
      ],
      "execution_count": 0,
      "outputs": []
    },
    {
      "cell_type": "code",
      "metadata": {
        "colab_type": "code",
        "outputId": "ab653a4a-7bd4-4f97-85c0-36647a409f8e",
        "id": "JnzKN0UgO0TZ",
        "colab": {
          "base_uri": "https://localhost:8080/",
          "height": 1000
        }
      },
      "source": [
        "history = cnn2.fit(X_train, y_train, batch_size=256, epochs=30, validation_data=(X_val, y_val), shuffle=True)"
      ],
      "execution_count": 0,
      "outputs": [
        {
          "output_type": "stream",
          "text": [
            "Train on 348600 samples, validate on 74700 samples\n",
            "Epoch 1/30\n",
            "348600/348600 [==============================] - 323s 926us/step - loss: 0.7011 - acc: 0.5078 - val_loss: 0.6828 - val_acc: 0.5578\n",
            "Epoch 2/30\n",
            "348600/348600 [==============================] - 321s 921us/step - loss: 0.6514 - acc: 0.6184 - val_loss: 0.6148 - val_acc: 0.6687\n",
            "Epoch 3/30\n",
            "348600/348600 [==============================] - 324s 928us/step - loss: 0.6006 - acc: 0.6827 - val_loss: 0.5874 - val_acc: 0.6972\n",
            "Epoch 4/30\n",
            "348600/348600 [==============================] - 324s 929us/step - loss: 0.5833 - acc: 0.6986 - val_loss: 0.5758 - val_acc: 0.7090\n",
            "Epoch 5/30\n",
            "348600/348600 [==============================] - 322s 925us/step - loss: 0.5712 - acc: 0.7098 - val_loss: 0.5605 - val_acc: 0.7200\n",
            "Epoch 6/30\n",
            "348600/348600 [==============================] - 322s 922us/step - loss: 0.5608 - acc: 0.7187 - val_loss: 0.5625 - val_acc: 0.7198\n",
            "Epoch 7/30\n",
            "348600/348600 [==============================] - 321s 922us/step - loss: 0.5562 - acc: 0.7225 - val_loss: 0.5536 - val_acc: 0.7266\n",
            "Epoch 8/30\n",
            "348600/348600 [==============================] - 322s 923us/step - loss: 0.5528 - acc: 0.7247 - val_loss: 0.5546 - val_acc: 0.7253\n",
            "Epoch 9/30\n",
            "348600/348600 [==============================] - 323s 925us/step - loss: 0.5497 - acc: 0.7273 - val_loss: 0.5514 - val_acc: 0.7276\n",
            "Epoch 10/30\n",
            "348600/348600 [==============================] - 323s 928us/step - loss: 0.5480 - acc: 0.7281 - val_loss: 0.5480 - val_acc: 0.7294\n",
            "Epoch 11/30\n",
            "348600/348600 [==============================] - 322s 924us/step - loss: 0.5468 - acc: 0.7291 - val_loss: 0.5586 - val_acc: 0.7224\n",
            "Epoch 12/30\n",
            "348600/348600 [==============================] - 322s 924us/step - loss: 0.5450 - acc: 0.7315 - val_loss: 0.5441 - val_acc: 0.7326\n",
            "Epoch 13/30\n",
            "348600/348600 [==============================] - 322s 923us/step - loss: 0.5432 - acc: 0.7321 - val_loss: 0.5572 - val_acc: 0.7211\n",
            "Epoch 14/30\n",
            "348600/348600 [==============================] - 324s 928us/step - loss: 0.5421 - acc: 0.7335 - val_loss: 0.5431 - val_acc: 0.7341\n",
            "Epoch 15/30\n",
            "348600/348600 [==============================] - 323s 926us/step - loss: 0.5411 - acc: 0.7333 - val_loss: 0.5446 - val_acc: 0.7319\n",
            "Epoch 16/30\n",
            "348600/348600 [==============================] - 323s 927us/step - loss: 0.5403 - acc: 0.7340 - val_loss: 0.5401 - val_acc: 0.7352\n",
            "Epoch 17/30\n",
            "348600/348600 [==============================] - 322s 925us/step - loss: 0.5389 - acc: 0.7349 - val_loss: 0.5408 - val_acc: 0.7339\n",
            "Epoch 18/30\n",
            "348600/348600 [==============================] - 322s 923us/step - loss: 0.5381 - acc: 0.7356 - val_loss: 0.5459 - val_acc: 0.7295\n",
            "Epoch 19/30\n",
            "348600/348600 [==============================] - 322s 924us/step - loss: 0.5371 - acc: 0.7356 - val_loss: 0.5382 - val_acc: 0.7352\n",
            "Epoch 20/30\n",
            "348600/348600 [==============================] - 323s 928us/step - loss: 0.5362 - acc: 0.7365 - val_loss: 0.5463 - val_acc: 0.7319\n",
            "Epoch 21/30\n",
            "348600/348600 [==============================] - 322s 924us/step - loss: 0.5357 - acc: 0.7365 - val_loss: 0.5425 - val_acc: 0.7320\n",
            "Epoch 22/30\n",
            "348600/348600 [==============================] - 321s 921us/step - loss: 0.5350 - acc: 0.7378 - val_loss: 0.5403 - val_acc: 0.7348\n",
            "Epoch 23/30\n",
            "348600/348600 [==============================] - 319s 916us/step - loss: 0.5339 - acc: 0.7384 - val_loss: 0.5423 - val_acc: 0.7333\n",
            "Epoch 24/30\n",
            "348600/348600 [==============================] - 319s 916us/step - loss: 0.5331 - acc: 0.7383 - val_loss: 0.5401 - val_acc: 0.7339\n",
            "Epoch 25/30\n",
            "348600/348600 [==============================] - 321s 920us/step - loss: 0.5327 - acc: 0.7389 - val_loss: 0.5398 - val_acc: 0.7340\n",
            "Epoch 26/30\n",
            "348600/348600 [==============================] - 323s 927us/step - loss: 0.5317 - acc: 0.7403 - val_loss: 0.5388 - val_acc: 0.7351\n",
            "Epoch 27/30\n",
            "348600/348600 [==============================] - 320s 919us/step - loss: 0.5312 - acc: 0.7399 - val_loss: 0.5380 - val_acc: 0.7346\n",
            "Epoch 28/30\n",
            "348600/348600 [==============================] - 320s 917us/step - loss: 0.5302 - acc: 0.7407 - val_loss: 0.5387 - val_acc: 0.7355\n",
            "Epoch 29/30\n",
            "348600/348600 [==============================] - 319s 916us/step - loss: 0.5298 - acc: 0.7406 - val_loss: 0.5425 - val_acc: 0.7334\n",
            "Epoch 30/30\n",
            "348600/348600 [==============================] - 320s 919us/step - loss: 0.5290 - acc: 0.7412 - val_loss: 0.5400 - val_acc: 0.7344\n"
          ],
          "name": "stdout"
        }
      ]
    },
    {
      "cell_type": "code",
      "metadata": {
        "id": "7aU47hkIO38J",
        "colab_type": "code",
        "outputId": "56ef3115-7dd0-437b-df2e-1b9e4fcb327c",
        "colab": {
          "base_uri": "https://localhost:8080/",
          "height": 295
        }
      },
      "source": [
        "plt.plot(history.history['loss'])\n",
        "plt.plot(history.history['val_loss'])\n",
        "plt.title('Model loss')\n",
        "plt.ylabel('Loss')\n",
        "plt.xlabel('Epoch')\n",
        "plt.legend(['Train', 'validation'], loc='upper left')\n",
        "plt.show()"
      ],
      "execution_count": 0,
      "outputs": [
        {
          "output_type": "display_data",
          "data": {
            "image/png": "[encoded data removed]",
            "text/plain": [
              "<Figure size 432x288 with 1 Axes>"
            ]
          },
          "metadata": {
            "tags": []
          }
        }
      ]
    },
    {
      "cell_type": "code",
      "metadata": {
        "id": "_oY0bwZ-z10F",
        "colab_type": "code",
        "colab": {}
      },
      "source": [
        "n_classes = 2\n",
        "y_train2 = keras.utils.np_utils.to_categorical(y_train, n_classes)\n",
        "y_val2 = keras.utils.np_utils.to_categorical(y_val, n_classes)\n",
        "y_test2 = keras.utils.np_utils.to_categorical(y_test, n_classes)"
      ],
      "execution_count": 0,
      "outputs": []
    },
    {
      "cell_type": "code",
      "metadata": {
        "id": "8-c7MDd1TevW",
        "colab_type": "code",
        "colab": {}
      },
      "source": [
        "cnn3 = Sequential([\n",
        "    Conv2D(16, kernel_size=(3, 3), activation='relu',padding='same',input_shape=(32, 32, 2)),\n",
        "    Conv2D(16, kernel_size=(3, 3), activation='relu',padding='same'),\n",
        "    MaxPooling2D(pool_size=(2, 2),strides=2),\n",
        "    Conv2D(32, kernel_size=(3, 3), activation='relu'),\n",
        "    Conv2D(32, kernel_size=(3, 3), activation='relu'),\n",
        "    MaxPooling2D(pool_size=(2, 2),strides=2),\n",
        "    Flatten(),\n",
        "    Dense(512, activation='relu'),\n",
        "    Dense(2, activation='softmax')\n",
        "])"
      ],
      "execution_count": 0,
      "outputs": []
    },
    {
      "cell_type": "code",
      "metadata": {
        "id": "en8WPMDgTk2p",
        "colab_type": "code",
        "outputId": "b2f7e5a1-b573-4693-9e21-69ea65852664",
        "colab": {
          "base_uri": "https://localhost:8080/",
          "height": 106
        }
      },
      "source": [
        "cnn3.compile(loss='categorical_crossentropy', optimizer=opt, metrics=['accuracy'])"
      ],
      "execution_count": 0,
      "outputs": [
        {
          "output_type": "stream",
          "text": [
            "WARNING:tensorflow:From /usr/local/lib/python3.6/dist-packages/keras/optimizers.py:793: The name tf.train.Optimizer is deprecated. Please use tf.compat.v1.train.Optimizer instead.\n",
            "\n",
            "WARNING:tensorflow:From /usr/local/lib/python3.6/dist-packages/keras/backend/tensorflow_backend.py:3576: The name tf.log is deprecated. Please use tf.math.log instead.\n",
            "\n"
          ],
          "name": "stdout"
        }
      ]
    },
    {
      "cell_type": "code",
      "metadata": {
        "id": "uz8cTIkUT_IL",
        "colab_type": "code",
        "outputId": "d2e4792d-160b-4808-bed2-0ff8e6b4b2ed",
        "colab": {
          "base_uri": "https://localhost:8080/",
          "height": 469
        }
      },
      "source": [
        "cnn3.summary()"
      ],
      "execution_count": 0,
      "outputs": [
        {
          "output_type": "stream",
          "text": [
            "Model: \"sequential_2\"\n",
            "_________________________________________________________________\n",
            "Layer (type)                 Output Shape              Param #   \n",
            "=================================================================\n",
            "conv2d_5 (Conv2D)            (None, 32, 32, 16)        304       \n",
            "_________________________________________________________________\n",
            "conv2d_6 (Conv2D)            (None, 32, 32, 16)        2320      \n",
            "_________________________________________________________________\n",
            "max_pooling2d_3 (MaxPooling2 (None, 16, 16, 16)        0         \n",
            "_________________________________________________________________\n",
            "conv2d_7 (Conv2D)            (None, 14, 14, 32)        4640      \n",
            "_________________________________________________________________\n",
            "conv2d_8 (Conv2D)            (None, 12, 12, 32)        9248      \n",
            "_________________________________________________________________\n",
            "max_pooling2d_4 (MaxPooling2 (None, 6, 6, 32)          0         \n",
            "_________________________________________________________________\n",
            "flatten_2 (Flatten)          (None, 1152)              0         \n",
            "_________________________________________________________________\n",
            "dense_3 (Dense)              (None, 512)               590336    \n",
            "_________________________________________________________________\n",
            "dense_4 (Dense)              (None, 2)                 1026      \n",
            "=================================================================\n",
            "Total params: 607,874\n",
            "Trainable params: 607,874\n",
            "Non-trainable params: 0\n",
            "_________________________________________________________________\n"
          ],
          "name": "stdout"
        }
      ]
    },
    {
      "cell_type": "code",
      "metadata": {
        "id": "2nfTEo4kToeO",
        "colab_type": "code",
        "outputId": "1ac03a3a-c658-4796-d2eb-ebcfe184f04b",
        "colab": {
          "base_uri": "https://localhost:8080/",
          "height": 402
        }
      },
      "source": [
        "history3 = cnn3.fit(X_train, y_train2, batch_size=64, epochs=30, validation_data=(X_val, y_val2), shuffle=True)"
      ],
      "execution_count": 0,
      "outputs": [
        {
          "output_type": "stream",
          "text": [
            "Train on 348600 samples, validate on 74700 samples\n",
            "Epoch 1/30\n",
            "348600/348600 [==============================] - 389s 1ms/step - loss: 0.6094 - acc: 0.6711 - val_loss: 0.5750 - val_acc: 0.7076\n",
            "Epoch 2/30\n",
            "348600/348600 [==============================] - 390s 1ms/step - loss: 0.5706 - acc: 0.7107 - val_loss: 0.5640 - val_acc: 0.7178\n",
            "Epoch 3/30\n",
            "348600/348600 [==============================] - 391s 1ms/step - loss: 0.5622 - acc: 0.7179 - val_loss: 0.5603 - val_acc: 0.7218\n",
            "Epoch 4/30\n",
            "348600/348600 [==============================] - 391s 1ms/step - loss: 0.5579 - acc: 0.7205 - val_loss: 0.5574 - val_acc: 0.7213\n",
            "Epoch 5/30\n",
            "348600/348600 [==============================] - 387s 1ms/step - loss: 0.5548 - acc: 0.7235 - val_loss: 0.5512 - val_acc: 0.7258\n",
            "Epoch 6/30\n",
            "348600/348600 [==============================] - 388s 1ms/step - loss: 0.5527 - acc: 0.7245 - val_loss: 0.5519 - val_acc: 0.7259\n",
            "Epoch 7/30\n",
            "348600/348600 [==============================] - 391s 1ms/step - loss: 0.5511 - acc: 0.7262 - val_loss: 0.5532 - val_acc: 0.7269\n",
            "Epoch 8/30\n",
            "348600/348600 [==============================] - 390s 1ms/step - loss: 0.5486 - acc: 0.7279 - val_loss: 0.5498 - val_acc: 0.7277\n",
            "Epoch 9/30\n",
            "348600/348600 [==============================] - 391s 1ms/step - loss: 0.5474 - acc: 0.7283 - val_loss: 0.5529 - val_acc: 0.7262\n",
            "Epoch 10/30\n",
            "218880/348600 [=================>............] - ETA: 2:16 - loss: 0.5457 - acc: 0.7297\b\b\b\b\b\b\b\b\b\b\b\b\b\b\b\b\b\b\b\b\b\b\b\b\b\b\b\b\b\b\b\b\b\b\b\b\b\b\b\b\b\b\b\b\b\b\b\b\b\b\b\b\b\b\b\b\b\b\b\b\b\b\b\b\b\b\b\b\b\b\b\b\b\b\b\b\b\b\b\b\b\b\b\b\b\b\bBuffered data was truncated after reaching the output size limit."
          ],
          "name": "stdout"
        }
      ]
    },
    {
      "cell_type": "code",
      "metadata": {
        "id": "ct6orWuoT4Vn",
        "colab_type": "code",
        "outputId": "4aa6a8b8-48cb-49bb-db5d-2e4f902ae424",
        "colab": {
          "base_uri": "https://localhost:8080/",
          "height": 295
        }
      },
      "source": [
        "plt.plot(history3.history['loss'])\n",
        "plt.plot(history3.history['val_loss'])\n",
        "plt.title('Model loss')\n",
        "plt.ylabel('Loss')\n",
        "plt.xlabel('Epoch')\n",
        "plt.legend(['Train', 'validation'], loc='upper left')\n",
        "plt.show()"
      ],
      "execution_count": 0,
      "outputs": [
        {
          "output_type": "display_data",
          "data": {
            "image/png": "[encoded data removed]",
            "text/plain": [
              "<Figure size 432x288 with 1 Axes>"
            ]
          },
          "metadata": {
            "tags": []
          }
        }
      ]
    },
    {
      "cell_type": "code",
      "metadata": {
        "id": "5QVjcP3_8LBu",
        "colab_type": "code",
        "outputId": "dcd659cb-5cea-4539-8a15-38f6b44d5b13",
        "colab": {
          "base_uri": "https://localhost:8080/",
          "height": 167
        }
      },
      "source": [
        "print(np.max(history3.history['val_acc']))"
      ],
      "execution_count": 0,
      "outputs": [
        {
          "output_type": "error",
          "ename": "NameError",
          "evalue": "ignored",
          "traceback": [
            "\u001b[0;31m---------------------------------------------------------------------------\u001b[0m",
            "\u001b[0;31mNameError\u001b[0m                                 Traceback (most recent call last)",
            "\u001b[0;32m<ipython-input-1-19b51fb2c0af>\u001b[0m in \u001b[0;36m<module>\u001b[0;34m()\u001b[0m\n\u001b[0;32m----> 1\u001b[0;31m \u001b[0mprint\u001b[0m\u001b[0;34m(\u001b[0m\u001b[0mnp\u001b[0m\u001b[0;34m.\u001b[0m\u001b[0mmax\u001b[0m\u001b[0;34m(\u001b[0m\u001b[0mhistory3\u001b[0m\u001b[0;34m.\u001b[0m\u001b[0mhistory\u001b[0m\u001b[0;34m[\u001b[0m\u001b[0;34m'val_acc'\u001b[0m\u001b[0;34m]\u001b[0m\u001b[0;34m)\u001b[0m\u001b[0;34m)\u001b[0m\u001b[0;34m\u001b[0m\u001b[0;34m\u001b[0m\u001b[0m\n\u001b[0m",
            "\u001b[0;31mNameError\u001b[0m: name 'np' is not defined"
          ]
        }
      ]
    },
    {
      "cell_type": "code",
      "metadata": {
        "id": "mva57cx5YeeT",
        "colab_type": "code",
        "colab": {}
      },
      "source": [
        ""
      ],
      "execution_count": 0,
      "outputs": []
    },
    {
      "cell_type": "code",
      "metadata": {
        "colab_type": "code",
        "outputId": "3a26c25a-ff88-416a-ad9a-52a817a1bb14",
        "id": "YoEJc_5vYe9V",
        "colab": {
          "base_uri": "https://localhost:8080/",
          "height": 1000
        }
      },
      "source": [
        "history4 = cnn3.fit(X_train, y_train2, batch_size=256, epochs=30, validation_data=(X_val, y_val2), shuffle=True)"
      ],
      "execution_count": 0,
      "outputs": [
        {
          "output_type": "stream",
          "text": [
            "WARNING:tensorflow:From /tensorflow-1.15.0/python3.6/tensorflow_core/python/ops/math_grad.py:1424: where (from tensorflow.python.ops.array_ops) is deprecated and will be removed in a future version.\n",
            "Instructions for updating:\n",
            "Use tf.where in 2.0, which has the same broadcast rule as np.where\n",
            "WARNING:tensorflow:From /usr/local/lib/python3.6/dist-packages/keras/backend/tensorflow_backend.py:1033: The name tf.assign_add is deprecated. Please use tf.compat.v1.assign_add instead.\n",
            "\n",
            "WARNING:tensorflow:From /usr/local/lib/python3.6/dist-packages/keras/backend/tensorflow_backend.py:1020: The name tf.assign is deprecated. Please use tf.compat.v1.assign instead.\n",
            "\n",
            "WARNING:tensorflow:From /usr/local/lib/python3.6/dist-packages/keras/backend/tensorflow_backend.py:3005: The name tf.Session is deprecated. Please use tf.compat.v1.Session instead.\n",
            "\n",
            "Train on 348600 samples, validate on 74700 samples\n",
            "Epoch 1/30\n",
            "WARNING:tensorflow:From /usr/local/lib/python3.6/dist-packages/keras/backend/tensorflow_backend.py:190: The name tf.get_default_session is deprecated. Please use tf.compat.v1.get_default_session instead.\n",
            "\n",
            "WARNING:tensorflow:From /usr/local/lib/python3.6/dist-packages/keras/backend/tensorflow_backend.py:197: The name tf.ConfigProto is deprecated. Please use tf.compat.v1.ConfigProto instead.\n",
            "\n",
            "WARNING:tensorflow:From /usr/local/lib/python3.6/dist-packages/keras/backend/tensorflow_backend.py:207: The name tf.global_variables is deprecated. Please use tf.compat.v1.global_variables instead.\n",
            "\n",
            "WARNING:tensorflow:From /usr/local/lib/python3.6/dist-packages/keras/backend/tensorflow_backend.py:216: The name tf.is_variable_initialized is deprecated. Please use tf.compat.v1.is_variable_initialized instead.\n",
            "\n",
            "WARNING:tensorflow:From /usr/local/lib/python3.6/dist-packages/keras/backend/tensorflow_backend.py:223: The name tf.variables_initializer is deprecated. Please use tf.compat.v1.variables_initializer instead.\n",
            "\n",
            "348600/348600 [==============================] - 321s 922us/step - loss: 0.6371 - acc: 0.6363 - val_loss: 0.6028 - val_acc: 0.6817\n",
            "Epoch 2/30\n",
            "348600/348600 [==============================] - 320s 919us/step - loss: 0.5884 - acc: 0.6954 - val_loss: 0.5699 - val_acc: 0.7143\n",
            "Epoch 3/30\n",
            "348600/348600 [==============================] - 319s 915us/step - loss: 0.5678 - acc: 0.7139 - val_loss: 0.5618 - val_acc: 0.7175\n",
            "Epoch 4/30\n",
            "348600/348600 [==============================] - 320s 918us/step - loss: 0.5594 - acc: 0.7203 - val_loss: 0.5564 - val_acc: 0.7225\n",
            "Epoch 5/30\n",
            "348600/348600 [==============================] - 320s 918us/step - loss: 0.5545 - acc: 0.7243 - val_loss: 0.5581 - val_acc: 0.7195\n",
            "Epoch 6/30\n",
            "348600/348600 [==============================] - 322s 923us/step - loss: 0.5505 - acc: 0.7271 - val_loss: 0.5481 - val_acc: 0.7271\n",
            "Epoch 7/30\n",
            "348600/348600 [==============================] - 320s 919us/step - loss: 0.5475 - acc: 0.7289 - val_loss: 0.5496 - val_acc: 0.7265\n",
            "Epoch 8/30\n",
            "348600/348600 [==============================] - 320s 918us/step - loss: 0.5452 - acc: 0.7302 - val_loss: 0.5594 - val_acc: 0.7235\n",
            "Epoch 9/30\n",
            "348600/348600 [==============================] - 320s 917us/step - loss: 0.5437 - acc: 0.7314 - val_loss: 0.5479 - val_acc: 0.7272\n",
            "Epoch 10/30\n",
            "348600/348600 [==============================] - 322s 923us/step - loss: 0.5414 - acc: 0.7332 - val_loss: 0.5488 - val_acc: 0.7262\n",
            "Epoch 11/30\n",
            "348600/348600 [==============================] - 321s 922us/step - loss: 0.5402 - acc: 0.7341 - val_loss: 0.5434 - val_acc: 0.7328\n",
            "Epoch 12/30\n",
            "348600/348600 [==============================] - 321s 921us/step - loss: 0.5387 - acc: 0.7353 - val_loss: 0.5436 - val_acc: 0.7326\n",
            "Epoch 13/30\n",
            "348600/348600 [==============================] - 321s 919us/step - loss: 0.5367 - acc: 0.7363 - val_loss: 0.5402 - val_acc: 0.7336\n",
            "Epoch 14/30\n",
            "348600/348600 [==============================] - 321s 921us/step - loss: 0.5355 - acc: 0.7374 - val_loss: 0.5407 - val_acc: 0.7339\n",
            "Epoch 15/30\n",
            "348600/348600 [==============================] - 324s 929us/step - loss: 0.5342 - acc: 0.7383 - val_loss: 0.5399 - val_acc: 0.7334\n",
            "Epoch 16/30\n",
            "348600/348600 [==============================] - 322s 924us/step - loss: 0.5329 - acc: 0.7391 - val_loss: 0.5390 - val_acc: 0.7340\n",
            "Epoch 17/30\n",
            "348600/348600 [==============================] - 320s 918us/step - loss: 0.5321 - acc: 0.7393 - val_loss: 0.5443 - val_acc: 0.7318\n",
            "Epoch 18/30\n",
            "348600/348600 [==============================] - 323s 926us/step - loss: 0.5309 - acc: 0.7399 - val_loss: 0.5426 - val_acc: 0.7301\n",
            "Epoch 19/30\n",
            "348600/348600 [==============================] - 321s 921us/step - loss: 0.5295 - acc: 0.7413 - val_loss: 0.5403 - val_acc: 0.7344\n",
            "Epoch 20/30\n",
            "348600/348600 [==============================] - 321s 921us/step - loss: 0.5285 - acc: 0.7421 - val_loss: 0.5386 - val_acc: 0.7358\n",
            "Epoch 21/30\n",
            "348600/348600 [==============================] - 321s 922us/step - loss: 0.5273 - acc: 0.7424 - val_loss: 0.5413 - val_acc: 0.7339\n",
            "Epoch 22/30\n",
            "348600/348600 [==============================] - 322s 924us/step - loss: 0.5254 - acc: 0.7435 - val_loss: 0.5397 - val_acc: 0.7341\n",
            "Epoch 23/30\n",
            "348600/348600 [==============================] - 323s 927us/step - loss: 0.5242 - acc: 0.7448 - val_loss: 0.5397 - val_acc: 0.7346\n",
            "Epoch 24/30\n",
            "348600/348600 [==============================] - 322s 923us/step - loss: 0.5231 - acc: 0.7450 - val_loss: 0.5396 - val_acc: 0.7340\n",
            "Epoch 25/30\n",
            "348600/348600 [==============================] - 323s 927us/step - loss: 0.5214 - acc: 0.7464 - val_loss: 0.5419 - val_acc: 0.7356\n",
            "Epoch 26/30\n",
            "348600/348600 [==============================] - 322s 924us/step - loss: 0.5198 - acc: 0.7473 - val_loss: 0.5446 - val_acc: 0.7319\n",
            "Epoch 27/30\n",
            "348600/348600 [==============================] - 326s 934us/step - loss: 0.5185 - acc: 0.7482 - val_loss: 0.5429 - val_acc: 0.7322\n",
            "Epoch 28/30\n",
            "348600/348600 [==============================] - 322s 923us/step - loss: 0.5160 - acc: 0.7496 - val_loss: 0.5446 - val_acc: 0.7299\n",
            "Epoch 29/30\n",
            "348600/348600 [==============================] - 322s 924us/step - loss: 0.5144 - acc: 0.7510 - val_loss: 0.5427 - val_acc: 0.7353\n",
            "Epoch 30/30\n",
            "348600/348600 [==============================] - 321s 921us/step - loss: 0.5129 - acc: 0.7513 - val_loss: 0.5513 - val_acc: 0.7267\n"
          ],
          "name": "stdout"
        }
      ]
    },
    {
      "cell_type": "code",
      "metadata": {
        "id": "0PJbPvx0F2uq",
        "colab_type": "code",
        "outputId": "1ecf25fb-0a64-41b8-a619-37084ecfbbec",
        "colab": {
          "base_uri": "https://localhost:8080/",
          "height": 295
        }
      },
      "source": [
        "plt.plot(history4.history['loss'])\n",
        "plt.plot(history4.history['val_loss'])\n",
        "plt.title('Model loss')\n",
        "plt.ylabel('Loss')\n",
        "plt.xlabel('Epoch')\n",
        "plt.legend(['Train', 'validation'], loc='upper left')\n",
        "plt.show()"
      ],
      "execution_count": 0,
      "outputs": [
        {
          "output_type": "display_data",
          "data": {
            "image/png": "[encoded data removed]",
            "text/plain": [
              "<Figure size 432x288 with 1 Axes>"
            ]
          },
          "metadata": {
            "tags": []
          }
        }
      ]
    },
    {
      "cell_type": "markdown",
      "metadata": {
        "colab_type": "text",
        "id": "AFfIKEIFa1kQ"
      },
      "source": [
        "# **Using 1 channel, 1 output neuron.**"
      ]
    },
    {
      "cell_type": "code",
      "metadata": {
        "colab_type": "code",
        "id": "8Gcmp1sfa1kk",
        "colab": {}
      },
      "source": [
        "X_train1 = np.concatenate((p_X, e_X), axis = 0)\n",
        "y_train1 = np.concatenate((p_y, e_y), axis = 0)"
      ],
      "execution_count": 0,
      "outputs": []
    },
    {
      "cell_type": "code",
      "metadata": {
        "colab_type": "code",
        "id": "eeOX4lcqa1k5",
        "colab": {}
      },
      "source": [
        "X_train1 = X_train1[...,0]\n"
      ],
      "execution_count": 0,
      "outputs": []
    },
    {
      "cell_type": "code",
      "metadata": {
        "colab_type": "code",
        "outputId": "ebadf4bd-82fb-414d-b9ac-7c9afca89983",
        "id": "FlAfUApga1lF",
        "colab": {
          "base_uri": "https://localhost:8080/",
          "height": 34
        }
      },
      "source": [
        "X_train1.shape"
      ],
      "execution_count": 0,
      "outputs": [
        {
          "output_type": "execute_result",
          "data": {
            "text/plain": [
              "(498000, 32, 32)"
            ]
          },
          "metadata": {
            "tags": []
          },
          "execution_count": 61
        }
      ]
    },
    {
      "cell_type": "code",
      "metadata": {
        "colab_type": "code",
        "id": "nM6MTjPYa1lP",
        "colab": {}
      },
      "source": [
        "indices = np.arange(X_train1.shape[0])\n",
        "np.random.shuffle(indices)\n",
        "X_train1 = X_train1[indices]\n",
        "y_train1 = y_train1[indices]"
      ],
      "execution_count": 0,
      "outputs": []
    },
    {
      "cell_type": "code",
      "metadata": {
        "colab_type": "code",
        "id": "fToI8Rf8a1la",
        "colab": {}
      },
      "source": [
        "X_train1 = X_train1.reshape(-1, 32, 32, 1)"
      ],
      "execution_count": 0,
      "outputs": []
    },
    {
      "cell_type": "code",
      "metadata": {
        "colab_type": "code",
        "id": "IJiT5jEda1lk",
        "colab": {}
      },
      "source": [
        "cnn4 = Sequential([\n",
        "    Conv2D(8, kernel_size=(5, 5), activation='relu',padding='same',input_shape=(32, 32, 1)),\n",
        "    MaxPooling2D(pool_size=(2, 2),strides=2),\n",
        "    Conv2D(16, kernel_size=(5, 5), activation='relu'),\n",
        "    MaxPooling2D(pool_size=(2, 2),strides=2),\n",
        "    Flatten(),\n",
        "    Dense(120, activation='relu'),\n",
        "    Dense(84, activation='relu'),\n",
        "    Dense(1, activation='sigmoid')\n",
        "])"
      ],
      "execution_count": 0,
      "outputs": []
    },
    {
      "cell_type": "code",
      "metadata": {
        "colab_type": "code",
        "id": "zNUStpLYa1lu",
        "colab": {}
      },
      "source": [
        "X_train1, X_test1, y_train1, y_test1 = train_test_split(X_train1, y_train1, test_size=0.2, random_state=43)"
      ],
      "execution_count": 0,
      "outputs": []
    },
    {
      "cell_type": "code",
      "metadata": {
        "colab_type": "code",
        "id": "3gpqNwqNa1l1",
        "colab": {}
      },
      "source": [
        "X_test1, X_val1, y_test1, y_val1 = train_test_split(X_test1, y_test1, test_size=0.5, random_state=43)"
      ],
      "execution_count": 0,
      "outputs": []
    },
    {
      "cell_type": "code",
      "metadata": {
        "colab_type": "code",
        "outputId": "70ccc76f-05b1-431c-a094-f59c6ccf290f",
        "id": "mQb-FdIUa1l-",
        "colab": {
          "base_uri": "https://localhost:8080/",
          "height": 434
        }
      },
      "source": [
        "cnn4.summary()"
      ],
      "execution_count": 0,
      "outputs": [
        {
          "output_type": "stream",
          "text": [
            "Model: \"sequential_3\"\n",
            "_________________________________________________________________\n",
            "Layer (type)                 Output Shape              Param #   \n",
            "=================================================================\n",
            "conv2d_5 (Conv2D)            (None, 32, 32, 8)         208       \n",
            "_________________________________________________________________\n",
            "max_pooling2d_5 (MaxPooling2 (None, 16, 16, 8)         0         \n",
            "_________________________________________________________________\n",
            "conv2d_6 (Conv2D)            (None, 12, 12, 16)        3216      \n",
            "_________________________________________________________________\n",
            "max_pooling2d_6 (MaxPooling2 (None, 6, 6, 16)          0         \n",
            "_________________________________________________________________\n",
            "flatten_3 (Flatten)          (None, 576)               0         \n",
            "_________________________________________________________________\n",
            "dense_7 (Dense)              (None, 120)               69240     \n",
            "_________________________________________________________________\n",
            "dense_8 (Dense)              (None, 84)                10164     \n",
            "_________________________________________________________________\n",
            "dense_9 (Dense)              (None, 1)                 85        \n",
            "=================================================================\n",
            "Total params: 82,913\n",
            "Trainable params: 82,913\n",
            "Non-trainable params: 0\n",
            "_________________________________________________________________\n"
          ],
          "name": "stdout"
        }
      ]
    },
    {
      "cell_type": "code",
      "metadata": {
        "colab_type": "code",
        "id": "HVY76hDKa1mK",
        "colab": {}
      },
      "source": [
        "opt4 = keras.optimizers.Adam(lr=5*(10**-4))"
      ],
      "execution_count": 0,
      "outputs": []
    },
    {
      "cell_type": "code",
      "metadata": {
        "colab_type": "code",
        "outputId": "409898dc-11e6-4d5d-87b3-e55edf837458",
        "id": "1Iy-6ULEa1mU",
        "colab": {
          "base_uri": "https://localhost:8080/",
          "height": 159
        }
      },
      "source": [
        "cnn4.compile(optimizer=opt4, loss=['binary_crossentropy'], metrics=['accuracy'])"
      ],
      "execution_count": 0,
      "outputs": [
        {
          "output_type": "stream",
          "text": [
            "WARNING:tensorflow:From /usr/local/lib/python3.6/dist-packages/keras/optimizers.py:793: The name tf.train.Optimizer is deprecated. Please use tf.compat.v1.train.Optimizer instead.\n",
            "\n",
            "WARNING:tensorflow:From /usr/local/lib/python3.6/dist-packages/keras/backend/tensorflow_backend.py:3657: The name tf.log is deprecated. Please use tf.math.log instead.\n",
            "\n",
            "WARNING:tensorflow:From /tensorflow-1.15.0/python3.6/tensorflow_core/python/ops/nn_impl.py:183: where (from tensorflow.python.ops.array_ops) is deprecated and will be removed in a future version.\n",
            "Instructions for updating:\n",
            "Use tf.where in 2.0, which has the same broadcast rule as np.where\n"
          ],
          "name": "stdout"
        }
      ]
    },
    {
      "cell_type": "code",
      "metadata": {
        "colab_type": "code",
        "outputId": "b9619821-69b9-42d7-e729-08b01ee52313",
        "id": "qSG1riy8a1ml",
        "colab": {
          "base_uri": "https://localhost:8080/",
          "height": 1000
        }
      },
      "source": [
        "history4 = cnn4.fit(x=X_train1, y=y_train1, batch_size=32, epochs=30, validation_data=(X_val1, y_val1), shuffle=True)"
      ],
      "execution_count": 0,
      "outputs": [
        {
          "output_type": "stream",
          "text": [
            "WARNING:tensorflow:From /usr/local/lib/python3.6/dist-packages/keras/backend/tensorflow_backend.py:1033: The name tf.assign_add is deprecated. Please use tf.compat.v1.assign_add instead.\n",
            "\n",
            "WARNING:tensorflow:From /usr/local/lib/python3.6/dist-packages/keras/backend/tensorflow_backend.py:1020: The name tf.assign is deprecated. Please use tf.compat.v1.assign instead.\n",
            "\n",
            "WARNING:tensorflow:From /usr/local/lib/python3.6/dist-packages/keras/backend/tensorflow_backend.py:3005: The name tf.Session is deprecated. Please use tf.compat.v1.Session instead.\n",
            "\n",
            "Train on 398400 samples, validate on 49800 samples\n",
            "Epoch 1/30\n",
            "WARNING:tensorflow:From /usr/local/lib/python3.6/dist-packages/keras/backend/tensorflow_backend.py:190: The name tf.get_default_session is deprecated. Please use tf.compat.v1.get_default_session instead.\n",
            "\n",
            "WARNING:tensorflow:From /usr/local/lib/python3.6/dist-packages/keras/backend/tensorflow_backend.py:197: The name tf.ConfigProto is deprecated. Please use tf.compat.v1.ConfigProto instead.\n",
            "\n",
            "WARNING:tensorflow:From /usr/local/lib/python3.6/dist-packages/keras/backend/tensorflow_backend.py:207: The name tf.global_variables is deprecated. Please use tf.compat.v1.global_variables instead.\n",
            "\n",
            "WARNING:tensorflow:From /usr/local/lib/python3.6/dist-packages/keras/backend/tensorflow_backend.py:216: The name tf.is_variable_initialized is deprecated. Please use tf.compat.v1.is_variable_initialized instead.\n",
            "\n",
            "WARNING:tensorflow:From /usr/local/lib/python3.6/dist-packages/keras/backend/tensorflow_backend.py:223: The name tf.variables_initializer is deprecated. Please use tf.compat.v1.variables_initializer instead.\n",
            "\n",
            "398400/398400 [==============================] - 96s 240us/step - loss: 0.6020 - acc: 0.6808 - val_loss: 0.5729 - val_acc: 0.7138\n",
            "Epoch 2/30\n",
            "398400/398400 [==============================] - 83s 208us/step - loss: 0.5735 - acc: 0.7105 - val_loss: 0.5706 - val_acc: 0.7110\n",
            "Epoch 3/30\n",
            "398400/398400 [==============================] - 83s 208us/step - loss: 0.5667 - acc: 0.7157 - val_loss: 0.5622 - val_acc: 0.7189\n",
            "Epoch 4/30\n",
            "398400/398400 [==============================] - 84s 210us/step - loss: 0.5613 - acc: 0.7191 - val_loss: 0.5637 - val_acc: 0.7175\n",
            "Epoch 5/30\n",
            "398400/398400 [==============================] - 83s 208us/step - loss: 0.5578 - acc: 0.7214 - val_loss: 0.5535 - val_acc: 0.7243\n",
            "Epoch 6/30\n",
            "398400/398400 [==============================] - 83s 209us/step - loss: 0.5540 - acc: 0.7240 - val_loss: 0.5542 - val_acc: 0.7246\n",
            "Epoch 7/30\n",
            "398400/398400 [==============================] - 83s 209us/step - loss: 0.5518 - acc: 0.7255 - val_loss: 0.5477 - val_acc: 0.7287\n",
            "Epoch 8/30\n",
            "398400/398400 [==============================] - 84s 211us/step - loss: 0.5499 - acc: 0.7266 - val_loss: 0.5474 - val_acc: 0.7289\n",
            "Epoch 9/30\n",
            "398400/398400 [==============================] - 84s 210us/step - loss: 0.5483 - acc: 0.7275 - val_loss: 0.5491 - val_acc: 0.7270\n",
            "Epoch 10/30\n",
            "398400/398400 [==============================] - 84s 210us/step - loss: 0.5471 - acc: 0.7278 - val_loss: 0.5511 - val_acc: 0.7246\n",
            "Epoch 11/30\n",
            "398400/398400 [==============================] - 84s 212us/step - loss: 0.5459 - acc: 0.7289 - val_loss: 0.5546 - val_acc: 0.7240\n",
            "Epoch 12/30\n",
            "398400/398400 [==============================] - 84s 211us/step - loss: 0.5450 - acc: 0.7303 - val_loss: 0.5465 - val_acc: 0.7267\n",
            "Epoch 13/30\n",
            "398400/398400 [==============================] - 85s 214us/step - loss: 0.5441 - acc: 0.7303 - val_loss: 0.5496 - val_acc: 0.7252\n",
            "Epoch 14/30\n",
            "398400/398400 [==============================] - 85s 212us/step - loss: 0.5434 - acc: 0.7312 - val_loss: 0.5439 - val_acc: 0.7332\n",
            "Epoch 15/30\n",
            "398400/398400 [==============================] - 85s 213us/step - loss: 0.5424 - acc: 0.7317 - val_loss: 0.5422 - val_acc: 0.7331\n",
            "Epoch 16/30\n",
            "398400/398400 [==============================] - 83s 209us/step - loss: 0.5418 - acc: 0.7321 - val_loss: 0.5441 - val_acc: 0.7309\n",
            "Epoch 17/30\n",
            "398400/398400 [==============================] - 83s 209us/step - loss: 0.5411 - acc: 0.7330 - val_loss: 0.5469 - val_acc: 0.7311\n",
            "Epoch 18/30\n",
            "398400/398400 [==============================] - 83s 209us/step - loss: 0.5405 - acc: 0.7329 - val_loss: 0.5492 - val_acc: 0.7297\n",
            "Epoch 19/30\n",
            "398400/398400 [==============================] - 84s 210us/step - loss: 0.5397 - acc: 0.7335 - val_loss: 0.5576 - val_acc: 0.7182\n",
            "Epoch 20/30\n",
            "398400/398400 [==============================] - 83s 210us/step - loss: 0.5390 - acc: 0.7342 - val_loss: 0.5430 - val_acc: 0.7322\n",
            "Epoch 21/30\n",
            "398400/398400 [==============================] - 83s 209us/step - loss: 0.5383 - acc: 0.7346 - val_loss: 0.5429 - val_acc: 0.7301\n",
            "Epoch 22/30\n",
            "398400/398400 [==============================] - 83s 209us/step - loss: 0.5381 - acc: 0.7350 - val_loss: 0.5405 - val_acc: 0.7345\n",
            "Epoch 23/30\n",
            "398400/398400 [==============================] - 84s 210us/step - loss: 0.5375 - acc: 0.7352 - val_loss: 0.5435 - val_acc: 0.7323\n",
            "Epoch 24/30\n",
            "398400/398400 [==============================] - 83s 209us/step - loss: 0.5370 - acc: 0.7353 - val_loss: 0.5495 - val_acc: 0.7269\n",
            "Epoch 25/30\n",
            "398400/398400 [==============================] - 83s 209us/step - loss: 0.5364 - acc: 0.7358 - val_loss: 0.5415 - val_acc: 0.7334\n",
            "Epoch 26/30\n",
            "398400/398400 [==============================] - 84s 210us/step - loss: 0.5359 - acc: 0.7365 - val_loss: 0.5410 - val_acc: 0.7346\n",
            "Epoch 27/30\n",
            "398400/398400 [==============================] - 84s 210us/step - loss: 0.5352 - acc: 0.7366 - val_loss: 0.5468 - val_acc: 0.7284\n",
            "Epoch 28/30\n",
            "398400/398400 [==============================] - 83s 209us/step - loss: 0.5349 - acc: 0.7367 - val_loss: 0.5416 - val_acc: 0.7335\n",
            "Epoch 29/30\n",
            "398400/398400 [==============================] - 83s 209us/step - loss: 0.5345 - acc: 0.7368 - val_loss: 0.5391 - val_acc: 0.7339\n",
            "Epoch 30/30\n",
            "398400/398400 [==============================] - 84s 210us/step - loss: 0.5337 - acc: 0.7379 - val_loss: 0.5398 - val_acc: 0.7349\n"
          ],
          "name": "stdout"
        }
      ]
    },
    {
      "cell_type": "code",
      "metadata": {
        "colab_type": "code",
        "outputId": "55727f22-b9e1-4e81-8baf-e5c22e79aae1",
        "id": "F2tRvQYca1my",
        "colab": {
          "base_uri": "https://localhost:8080/",
          "height": 279
        }
      },
      "source": [
        "plt.plot(history4.history['loss'])\n",
        "plt.plot(history4.history['val_loss'])\n",
        "plt.xlabel('Epochs')\n",
        "plt.ylabel('Loss')\n",
        "plt.legend(['train', 'validation'])\n",
        "plt.show()"
      ],
      "execution_count": 0,
      "outputs": [
        {
          "output_type": "display_data",
          "data": {
            "image/png": "[encoded data removed]",
            "text/plain": [
              "<Figure size 432x288 with 1 Axes>"
            ]
          },
          "metadata": {
            "tags": []
          }
        }
      ]
    },
    {
      "cell_type": "code",
      "metadata": {
        "colab_type": "code",
        "id": "bFuItWqqa1nA",
        "colab": {}
      },
      "source": [
        "y_pred = cnn4.predict(X_test1)"
      ],
      "execution_count": 0,
      "outputs": []
    },
    {
      "cell_type": "markdown",
      "metadata": {
        "id": "r0IuTTA5ZwTg",
        "colab_type": "text"
      },
      "source": [
        "# ROC Curve"
      ]
    },
    {
      "cell_type": "code",
      "metadata": {
        "id": "vV23ZUDLY8DT",
        "colab_type": "code",
        "outputId": "8f7f5881-c61b-47c6-cd74-abf5e665164d",
        "colab": {
          "base_uri": "https://localhost:8080/",
          "height": 296
        }
      },
      "source": [
        "fpr, tpr, _ = roc_curve(y_test1, y_pred)\n",
        "plt.plot(fpr, tpr,label='ROC curve')\n",
        "plt.xlabel('False +ve')\n",
        "plt.ylabel('False -ve')\n",
        "plt.legend()\n",
        "plt.show"
      ],
      "execution_count": 0,
      "outputs": [
        {
          "output_type": "execute_result",
          "data": {
            "text/plain": [
              "<function matplotlib.pyplot.show>"
            ]
          },
          "metadata": {
            "tags": []
          },
          "execution_count": 82
        },
        {
          "output_type": "display_data",
          "data": {
            "image/png": "[encoded data removed]",
            "text/plain": [
              "<Figure size 432x288 with 1 Axes>"
            ]
          },
          "metadata": {
            "tags": []
          }
        }
      ]
    },
    {
      "cell_type": "markdown",
      "metadata": {
        "id": "1HxJ4CxLZzP5",
        "colab_type": "text"
      },
      "source": [
        "# ROC Area Under Curve"
      ]
    },
    {
      "cell_type": "code",
      "metadata": {
        "id": "DairrPpKWUxq",
        "colab_type": "code",
        "outputId": "f4cc7a61-1b4b-4039-f73b-16f6de100cf8",
        "colab": {
          "base_uri": "https://localhost:8080/",
          "height": 34
        }
      },
      "source": [
        "roc = roc_auc_score(y_test1, y_pred)\n",
        "print(roc)"
      ],
      "execution_count": 0,
      "outputs": [
        {
          "output_type": "stream",
          "text": [
            "0.806531027400486\n"
          ],
          "name": "stdout"
        }
      ]
    },
    {
      "cell_type": "code",
      "metadata": {
        "id": "mMVb1FG5qWmT",
        "colab_type": "code",
        "colab": {}
      },
      "source": [
        "with open('./cnn4.pkl', 'wb') as model_pkl:\n",
        "  pickle.dump(cnn4, model_pkl)"
      ],
      "execution_count": 0,
      "outputs": []
    },
    {
      "cell_type": "code",
      "metadata": {
        "id": "j4JGJgGBugsW",
        "colab_type": "code",
        "outputId": "2cf6beca-6b3d-46de-df88-a49c29226c6a",
        "colab": {
          "base_uri": "https://localhost:8080/",
          "height": 34
        }
      },
      "source": [
        "X_test1.reshape(-1, X_test1.shape[1]*X_test1.shape[2]).shape"
      ],
      "execution_count": 0,
      "outputs": [
        {
          "output_type": "execute_result",
          "data": {
            "text/plain": [
              "(49800, 1024)"
            ]
          },
          "metadata": {
            "tags": []
          },
          "execution_count": 100
        }
      ]
    },
    {
      "cell_type": "code",
      "metadata": {
        "id": "MJVT4c1Bq1Od",
        "colab_type": "code",
        "colab": {}
      },
      "source": [
        "np.savetxt('X_test.csv', X_test1.reshape(-1,X_test1.shape[1]*X_test1.shape[2]), delimiter=',')\n",
        "np.savetxt('y_test.csv', y_test1, delimiter=',')"
      ],
      "execution_count": 0,
      "outputs": []
    },
    {
      "cell_type": "code",
      "metadata": {
        "id": "AG0hXv848s1P",
        "colab_type": "code",
        "colab": {}
      },
      "source": [
        ""
      ],
      "execution_count": 0,
      "outputs": []
    },
    {
      "cell_type": "code",
      "metadata": {
        "id": "E20hWd1yuART",
        "colab_type": "code",
        "colab": {}
      },
      "source": [
        ""
      ],
      "execution_count": 0,
      "outputs": []
    }
  ]
}
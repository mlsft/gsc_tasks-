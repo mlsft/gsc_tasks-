{
  "nbformat": 4,
  "nbformat_minor": 0,
  "metadata": {
    "colab": {
      "name": "Keras_CERN.ipynb",
      "provenance": [],
      "collapsed_sections": [],
      "toc_visible": true,
      "machine_shape": "hm"
    },
    "kernelspec": {
      "name": "python3",
      "display_name": "Python 3"
    },
    "accelerator": "GPU"
  },
  "cells": [
    {
      "cell_type": "code",
      "metadata": {
        "id": "IJbTv8o5MPbc",
        "colab_type": "code",
        "outputId": "3fb7d0d9-4ad8-42f3-f7e0-213174b00735",
        "colab": {
          "base_uri": "https://localhost:8080/",
          "height": 173
        }
      },
      "source": [
        "!pip install keras==2.1.5 --no-deps"
      ],
      "execution_count": 1,
      "outputs": [
        {
          "output_type": "stream",
          "text": [
            "Collecting keras==2.1.5\n",
            "\u001b[?25l  Downloading https://files.pythonhosted.org/packages/ba/65/e4aff762b8696ec0626a6654b1e73b396fcc8b7cc6b98d78a1bc53b85b48/Keras-2.1.5-py2.py3-none-any.whl (334kB)\n",
            "\r\u001b[K     |█                               | 10kB 22.6MB/s eta 0:00:01\r\u001b[K     |██                              | 20kB 1.7MB/s eta 0:00:01\r\u001b[K     |███                             | 30kB 2.6MB/s eta 0:00:01\r\u001b[K     |████                            | 40kB 1.7MB/s eta 0:00:01\r\u001b[K     |█████                           | 51kB 2.1MB/s eta 0:00:01\r\u001b[K     |█████▉                          | 61kB 2.5MB/s eta 0:00:01\r\u001b[K     |██████▉                         | 71kB 2.9MB/s eta 0:00:01\r\u001b[K     |███████▉                        | 81kB 3.3MB/s eta 0:00:01\r\u001b[K     |████████▉                       | 92kB 3.7MB/s eta 0:00:01\r\u001b[K     |█████████▉                      | 102kB 2.8MB/s eta 0:00:01\r\u001b[K     |██████████▊                     | 112kB 2.8MB/s eta 0:00:01\r\u001b[K     |███████████▊                    | 122kB 2.8MB/s eta 0:00:01\r\u001b[K     |████████████▊                   | 133kB 2.8MB/s eta 0:00:01\r\u001b[K     |█████████████▊                  | 143kB 2.8MB/s eta 0:00:01\r\u001b[K     |██████████████▊                 | 153kB 2.8MB/s eta 0:00:01\r\u001b[K     |███████████████▋                | 163kB 2.8MB/s eta 0:00:01\r\u001b[K     |████████████████▋               | 174kB 2.8MB/s eta 0:00:01\r\u001b[K     |█████████████████▋              | 184kB 2.8MB/s eta 0:00:01\r\u001b[K     |██████████████████▋             | 194kB 2.8MB/s eta 0:00:01\r\u001b[K     |███████████████████▋            | 204kB 2.8MB/s eta 0:00:01\r\u001b[K     |████████████████████▌           | 215kB 2.8MB/s eta 0:00:01\r\u001b[K     |█████████████████████▌          | 225kB 2.8MB/s eta 0:00:01\r\u001b[K     |██████████████████████▌         | 235kB 2.8MB/s eta 0:00:01\r\u001b[K     |███████████████████████▌        | 245kB 2.8MB/s eta 0:00:01\r\u001b[K     |████████████████████████▌       | 256kB 2.8MB/s eta 0:00:01\r\u001b[K     |█████████████████████████▍      | 266kB 2.8MB/s eta 0:00:01\r\u001b[K     |██████████████████████████▍     | 276kB 2.8MB/s eta 0:00:01\r\u001b[K     |███████████████████████████▍    | 286kB 2.8MB/s eta 0:00:01\r\u001b[K     |████████████████████████████▍   | 296kB 2.8MB/s eta 0:00:01\r\u001b[K     |█████████████████████████████▍  | 307kB 2.8MB/s eta 0:00:01\r\u001b[K     |██████████████████████████████▎ | 317kB 2.8MB/s eta 0:00:01\r\u001b[K     |███████████████████████████████▎| 327kB 2.8MB/s eta 0:00:01\r\u001b[K     |████████████████████████████████| 337kB 2.8MB/s \n",
            "\u001b[?25hInstalling collected packages: keras\n",
            "  Found existing installation: Keras 2.2.5\n",
            "    Uninstalling Keras-2.2.5:\n",
            "      Successfully uninstalled Keras-2.2.5\n",
            "Successfully installed keras-2.1.5\n"
          ],
          "name": "stdout"
        }
      ]
    },
    {
      "cell_type": "code",
      "metadata": {
        "id": "0fMCTnljrOPk",
        "colab_type": "code",
        "outputId": "ed1bfff9-6d47-40a5-c31d-1ab9aff93ac8",
        "colab": {
          "base_uri": "https://localhost:8080/",
          "height": 122
        }
      },
      "source": [
        "from google.colab import drive\n",
        "drive.mount('/content/drive')"
      ],
      "execution_count": 2,
      "outputs": [
        {
          "output_type": "stream",
          "text": [
            "Go to this URL in a browser: https://accounts.google.com/o/oauth2/auth?client_id=947318989803-6bn6qk8qdgf4n4g3pfee6491hc0brc4i.apps.googleusercontent.com&redirect_uri=urn%3aietf%3awg%3aoauth%3a2.0%3aoob&response_type=code&scope=email%20https%3a%2f%2fwww.googleapis.com%2fauth%2fdocs.test%20https%3a%2f%2fwww.googleapis.com%2fauth%2fdrive%20https%3a%2f%2fwww.googleapis.com%2fauth%2fdrive.photos.readonly%20https%3a%2f%2fwww.googleapis.com%2fauth%2fpeopleapi.readonly\n",
            "\n",
            "Enter your authorization code:\n",
            "··········\n",
            "Mounted at /content/drive\n"
          ],
          "name": "stdout"
        }
      ]
    },
    {
      "cell_type": "code",
      "metadata": {
        "id": "gSgGJLqRrl73",
        "colab_type": "code",
        "outputId": "d4ca7b7f-b013-4985-a2db-eeee54874a6e",
        "colab": {
          "base_uri": "https://localhost:8080/",
          "height": 34
        }
      },
      "source": [
        "cd drive/My Drive/google_colab_gpu/GSOC 2020/CERN-HSF"
      ],
      "execution_count": 3,
      "outputs": [
        {
          "output_type": "stream",
          "text": [
            "/content/drive/My Drive/google_colab_gpu/GSOC 2020/CERN-HSF\n"
          ],
          "name": "stdout"
        }
      ]
    },
    {
      "cell_type": "code",
      "metadata": {
        "id": "Ozs4cGberlWG",
        "colab_type": "code",
        "outputId": "deff08b4-fca9-4170-97a5-286542b2be9d",
        "colab": {
          "base_uri": "https://localhost:8080/",
          "height": 136
        }
      },
      "source": [
        "ls"
      ],
      "execution_count": 4,
      "outputs": [
        {
          "output_type": "stream",
          "text": [
            "ground_truth.csv       output.csv\n",
            "Keras_CERN.ipynb       pytorch1.pt\n",
            "Keras_inference.ipynb  Pytorch_CERN.ipynb\n",
            "model1.h5              SingleElectronPt50_IMGCROPS_n249k_RHv1.hdf5\n",
            "model1.hdf5            SingleElectronPt50_IMGCROPS_n249k_RHv1_inference.hdf5\n",
            "model1.json            SinglePhotonPt50_IMGCROPS_n249k_RHv1.hdf5\n",
            "model2.h5              SinglePhotonPt50_IMGCROPS_n249k_RHv1_inference.hdf5\n"
          ],
          "name": "stdout"
        }
      ]
    },
    {
      "cell_type": "code",
      "metadata": {
        "id": "yhRSfE02r4qw",
        "colab_type": "code",
        "colab": {}
      },
      "source": [
        "#import cv2\n",
        "import numpy as np\n",
        "import pandas as pd\n",
        "#from google.colab.patches import cv2_imshow\n",
        "import h5py"
      ],
      "execution_count": 0,
      "outputs": []
    },
    {
      "cell_type": "code",
      "metadata": {
        "id": "ziNnBPmai3a3",
        "colab_type": "code",
        "colab": {
          "base_uri": "https://localhost:8080/",
          "height": 80
        },
        "outputId": "814052c6-94e9-408d-e05f-9eca96932391"
      },
      "source": [
        "import numpy as np\n",
        "import matplotlib.pyplot as plt\n",
        "import pandas as pd\n",
        "import warnings\n",
        "warnings.filterwarnings('ignore')\n",
        "import cv2\n",
        "#from keras.datasets import mnist\n",
        "\n",
        "from keras.utils import np_utils\n",
        "from keras.models import Sequential,load_model, model_from_json\n",
        "from keras.layers import Activation, BatchNormalization, Input, Conv1D, Conv2D, MaxPool2D, Flatten, Dense, Dropout, GlobalAveragePooling2D,LeakyReLU\n",
        "from keras import optimizers\n",
        "from sklearn.model_selection import train_test_split\n",
        "import tensorflow as tf\n",
        "import keras.backend as K\n",
        "from keras.models import Model, Sequential\n",
        "from keras.utils import plot_model\n",
        "from keras.callbacks import Callback\n",
        "import keras\n"
      ],
      "execution_count": 6,
      "outputs": [
        {
          "output_type": "stream",
          "text": [
            "Using TensorFlow backend.\n"
          ],
          "name": "stderr"
        },
        {
          "output_type": "display_data",
          "data": {
            "text/html": [
              "<p style=\"color: red;\">\n",
              "The default version of TensorFlow in Colab will switch to TensorFlow 2.x on the 27th of March, 2020.<br>\n",
              "We recommend you <a href=\"https://www.tensorflow.org/guide/migrate\" target=\"_blank\">upgrade</a> now\n",
              "or ensure your notebook will continue to use TensorFlow 1.x via the <code>%tensorflow_version 1.x</code> magic:\n",
              "<a href=\"https://colab.research.google.com/notebooks/tensorflow_version.ipynb\" target=\"_blank\">more info</a>.</p>\n"
            ],
            "text/plain": [
              "<IPython.core.display.HTML object>"
            ]
          },
          "metadata": {
            "tags": []
          }
        }
      ]
    },
    {
      "cell_type": "code",
      "metadata": {
        "id": "JLukReOjg-gG",
        "colab_type": "code",
        "colab": {}
      },
      "source": [
        "filename='SingleElectronPt50_IMGCROPS_n249k_RHv1.hdf5'\n",
        "data1 = h5py.File(filename, 'r')\n",
        "Y1=data1['y']\n",
        "X1=data1['X']"
      ],
      "execution_count": 0,
      "outputs": []
    },
    {
      "cell_type": "code",
      "metadata": {
        "id": "oFr-uB9apUFc",
        "colab_type": "code",
        "colab": {}
      },
      "source": [
        "filename='SinglePhotonPt50_IMGCROPS_n249k_RHv1.hdf5'\n",
        "data0 = h5py.File(filename, 'r')\n",
        "Y0=data0['y']\n",
        "X0=data0['X']"
      ],
      "execution_count": 0,
      "outputs": []
    },
    {
      "cell_type": "code",
      "metadata": {
        "id": "NWoA5lByslC_",
        "colab_type": "code",
        "colab": {}
      },
      "source": [
        "X_final=np.concatenate((X0[:],X1[:]),axis=0)\n",
        "Y_final=np.concatenate((Y0[:],Y1[:]),axis=0)"
      ],
      "execution_count": 0,
      "outputs": []
    },
    {
      "cell_type": "code",
      "metadata": {
        "id": "TlNRSM4EixGi",
        "colab_type": "code",
        "colab": {}
      },
      "source": [
        "from keras import backend as K\n",
        "\n",
        "def recall_m(y_true, y_pred):\n",
        "        true_positives = K.sum(K.round(K.clip(y_true * y_pred, 0, 1)))\n",
        "        possible_positives = K.sum(K.round(K.clip(y_true, 0, 1)))\n",
        "        recall = true_positives / (possible_positives + K.epsilon())\n",
        "        return recall\n",
        "\n",
        "def precision_m(y_true, y_pred):\n",
        "        true_positives = K.sum(K.round(K.clip(y_true * y_pred, 0, 1)))\n",
        "        predicted_positives = K.sum(K.round(K.clip(y_pred, 0, 1)))\n",
        "        precision = true_positives / (predicted_positives + K.epsilon())\n",
        "        return precision\n",
        "\n",
        "def f1_m(y_true, y_pred):\n",
        "    precision = precision_m(y_true, y_pred)\n",
        "    recall = recall_m(y_true, y_pred)\n",
        "    return 2*((precision*recall)/(precision+recall+K.epsilon()))"
      ],
      "execution_count": 0,
      "outputs": []
    },
    {
      "cell_type": "code",
      "metadata": {
        "id": "MMenb7frilCi",
        "colab_type": "code",
        "colab": {}
      },
      "source": [
        "X_train,X_valid, Y_train, Y_valid = train_test_split(X_final,Y_final,test_size = 0.2, random_state = 42)\n",
        "#print(X_train.shape,Y_train.shape)\n",
        "#print(X_valid.shape,Y_valid.shape)"
      ],
      "execution_count": 0,
      "outputs": []
    },
    {
      "cell_type": "code",
      "metadata": {
        "id": "Fcw-GPOtyyX4",
        "colab_type": "code",
        "outputId": "cca0848e-0f9c-4c0e-9353-a0ba3e930e01",
        "colab": {
          "base_uri": "https://localhost:8080/",
          "height": 119
        }
      },
      "source": [
        "X_train0=(X_train[:,:,:,0].reshape((X_train.shape[0],X_train.shape[1],X_train.shape[2],1)))\n",
        "X_valid0=(X_valid[:,:,:,0].reshape((X_valid.shape[0],X_valid.shape[1],X_valid.shape[2],1)))\n",
        "X_train1=(X_train[:,:,:,1].reshape((X_train.shape[0],X_train.shape[1],X_train.shape[2],1)))\n",
        "X_valid1=(X_valid[:,:,:,1].reshape((X_valid.shape[0],X_valid.shape[1],X_valid.shape[2],1)))\n",
        "X_train.shape,X_valid.shape,X_train0.shape,X_valid0.shape,X_train1.shape,X_valid1.shape"
      ],
      "execution_count": 12,
      "outputs": [
        {
          "output_type": "execute_result",
          "data": {
            "text/plain": [
              "((398400, 32, 32, 2),\n",
              " (99600, 32, 32, 2),\n",
              " (398400, 32, 32, 1),\n",
              " (99600, 32, 32, 1),\n",
              " (398400, 32, 32, 1),\n",
              " (99600, 32, 32, 1))"
            ]
          },
          "metadata": {
            "tags": []
          },
          "execution_count": 12
        }
      ]
    },
    {
      "cell_type": "code",
      "metadata": {
        "id": "-nQYoEV2jsCJ",
        "colab_type": "code",
        "colab": {}
      },
      "source": [
        "window_height=32\n",
        "window_width=32"
      ],
      "execution_count": 0,
      "outputs": []
    },
    {
      "cell_type": "code",
      "metadata": {
        "id": "IpRanR8zilFA",
        "colab_type": "code",
        "outputId": "c0726df4-abde-4776-bc1a-61eb9e114722",
        "colab": {
          "base_uri": "https://localhost:8080/",
          "height": 595
        }
      },
      "source": [
        "inputs_1 = Input(shape=(window_height,window_width,1),name='input_image')\n",
        "x=Conv2D(32, (3, 3), activation='relu',padding='same', input_shape=(window_height,window_width,1))(inputs_1)\n",
        "x=MaxPool2D(pool_size=(2, 2),strides=(2,2))(x)\n",
        "x=Conv2D(32, (3, 3), activation='relu',padding='same')(x)\n",
        "#x1=BatchNormalization(momentum=0.5)(x1)\n",
        "x=MaxPool2D(pool_size=(2, 2),strides=(2,2))(x)\n",
        "x=Conv2D(64, (3, 3), activation='relu',padding='same')(x)\n",
        "#x1=BatchNormalization(momentum=0.5)(x1)\n",
        "x=Conv2D(64, (3, 3), activation='relu',padding='same')(x)\n",
        "x=MaxPool2D(pool_size=(2, 2),strides=(2,2))(x)\n",
        "x=Conv2D(128, (3, 3), activation='relu',padding='same')(x)\n",
        "#x=Conv2D(256, (3, 3), activation='relu',padding='same')(x)\n",
        "x=MaxPool2D(pool_size=(2, 2),strides=(2,2))(x)\n",
        "#x=Conv2D(256, (3, 3), activation='relu',padding='same')(x)\n",
        "#x=Conv2D(256, (3, 3), activation='relu',padding='same')(x)\n",
        "#x=MaxPool2D(pool_size=(2, 2),strides=(2,2))(x)\n",
        "x=Flatten()(x)\n",
        "x1=Dense(512,activation='relu')(x)\n",
        "x1=Dense(128,activation='relu')(x)\n",
        "#x1=BatchNormalization()(x1)\n",
        "#x1=Dropout(0.5)(x1)\n",
        "#x1=Dense(64,activation='relu')(x1)\n",
        "#x1=Dense(128,activation='relu')(x1)\n",
        "x1=Dense(1,activation='sigmoid')(x1)\n",
        "\n",
        "model1 = Model(inputs=[inputs_1], outputs=x1)\n",
        "print(model1.summary())"
      ],
      "execution_count": 0,
      "outputs": [
        {
          "output_type": "stream",
          "text": [
            "_________________________________________________________________\n",
            "Layer (type)                 Output Shape              Param #   \n",
            "=================================================================\n",
            "input_image (InputLayer)     (None, 32, 32, 1)         0         \n",
            "_________________________________________________________________\n",
            "conv2d_6 (Conv2D)            (None, 32, 32, 32)        320       \n",
            "_________________________________________________________________\n",
            "max_pooling2d_5 (MaxPooling2 (None, 16, 16, 32)        0         \n",
            "_________________________________________________________________\n",
            "conv2d_7 (Conv2D)            (None, 16, 16, 32)        9248      \n",
            "_________________________________________________________________\n",
            "max_pooling2d_6 (MaxPooling2 (None, 8, 8, 32)          0         \n",
            "_________________________________________________________________\n",
            "conv2d_8 (Conv2D)            (None, 8, 8, 64)          18496     \n",
            "_________________________________________________________________\n",
            "conv2d_9 (Conv2D)            (None, 8, 8, 64)          36928     \n",
            "_________________________________________________________________\n",
            "max_pooling2d_7 (MaxPooling2 (None, 4, 4, 64)          0         \n",
            "_________________________________________________________________\n",
            "conv2d_10 (Conv2D)           (None, 4, 4, 128)         73856     \n",
            "_________________________________________________________________\n",
            "max_pooling2d_8 (MaxPooling2 (None, 2, 2, 128)         0         \n",
            "_________________________________________________________________\n",
            "flatten_2 (Flatten)          (None, 512)               0         \n",
            "_________________________________________________________________\n",
            "dense_5 (Dense)              (None, 128)               65664     \n",
            "_________________________________________________________________\n",
            "dense_6 (Dense)              (None, 1)                 129       \n",
            "=================================================================\n",
            "Total params: 204,641\n",
            "Trainable params: 204,641\n",
            "Non-trainable params: 0\n",
            "_________________________________________________________________\n",
            "None\n"
          ],
          "name": "stdout"
        }
      ]
    },
    {
      "cell_type": "code",
      "metadata": {
        "id": "QCgNvgTnWMfk",
        "colab_type": "code",
        "colab": {}
      },
      "source": [
        "adam=optimizers.adam(lr=0.001)\n",
        "model1.compile(loss = 'binary_crossentropy', optimizer=adam,metrics = [f1_m,precision_m, recall_m, 'accuracy','mae'])"
      ],
      "execution_count": 0,
      "outputs": []
    },
    {
      "cell_type": "code",
      "metadata": {
        "id": "qc249iGYWNpx",
        "colab_type": "code",
        "outputId": "dea1f0af-70c8-4058-aea5-7e7c6875556c",
        "colab": {
          "base_uri": "https://localhost:8080/",
          "height": 853
        }
      },
      "source": [
        "model1.fit(X_train0,Y_train,batch_size=1024, epochs=15, validation_data=(X_valid0,Y_valid))"
      ],
      "execution_count": 0,
      "outputs": [
        {
          "output_type": "stream",
          "text": [
            "WARNING:tensorflow:From /usr/local/lib/python3.6/dist-packages/keras/backend/tensorflow_backend.py:976: The name tf.assign_add is deprecated. Please use tf.compat.v1.assign_add instead.\n",
            "\n",
            "WARNING:tensorflow:From /usr/local/lib/python3.6/dist-packages/keras/backend/tensorflow_backend.py:963: The name tf.assign is deprecated. Please use tf.compat.v1.assign instead.\n",
            "\n",
            "WARNING:tensorflow:From /usr/local/lib/python3.6/dist-packages/keras/backend/tensorflow_backend.py:2499: The name tf.Session is deprecated. Please use tf.compat.v1.Session instead.\n",
            "\n",
            "Train on 398400 samples, validate on 99600 samples\n",
            "Epoch 1/15\n",
            "WARNING:tensorflow:From /usr/local/lib/python3.6/dist-packages/keras/backend/tensorflow_backend.py:167: The name tf.get_default_session is deprecated. Please use tf.compat.v1.get_default_session instead.\n",
            "\n",
            "WARNING:tensorflow:From /usr/local/lib/python3.6/dist-packages/keras/backend/tensorflow_backend.py:174: The name tf.ConfigProto is deprecated. Please use tf.compat.v1.ConfigProto instead.\n",
            "\n",
            "WARNING:tensorflow:From /usr/local/lib/python3.6/dist-packages/keras/backend/tensorflow_backend.py:183: The name tf.global_variables is deprecated. Please use tf.compat.v1.global_variables instead.\n",
            "\n",
            "WARNING:tensorflow:From /usr/local/lib/python3.6/dist-packages/keras/backend/tensorflow_backend.py:192: The name tf.is_variable_initialized is deprecated. Please use tf.compat.v1.is_variable_initialized instead.\n",
            "\n",
            "WARNING:tensorflow:From /usr/local/lib/python3.6/dist-packages/keras/backend/tensorflow_backend.py:199: The name tf.variables_initializer is deprecated. Please use tf.compat.v1.variables_initializer instead.\n",
            "\n",
            "398400/398400 [==============================] - 22s 56us/step - loss: 0.6199 - f1_m: 0.6679 - precision_m: 0.6493 - recall_m: 0.7040 - acc: 0.6582 - mean_absolute_error: 0.4321 - val_loss: 0.5841 - val_f1_m: 0.7246 - val_precision_m: 0.6753 - val_recall_m: 0.7821 - val_acc: 0.7031 - val_mean_absolute_error: 0.4015\n",
            "Epoch 2/15\n",
            "398400/398400 [==============================] - 9s 23us/step - loss: 0.5797 - f1_m: 0.7144 - precision_m: 0.6948 - recall_m: 0.7402 - acc: 0.7057 - mean_absolute_error: 0.3948 - val_loss: 0.5749 - val_f1_m: 0.7194 - val_precision_m: 0.6956 - val_recall_m: 0.7452 - val_acc: 0.7095 - val_mean_absolute_error: 0.3858\n",
            "Epoch 3/15\n",
            "398400/398400 [==============================] - 9s 23us/step - loss: 0.5706 - f1_m: 0.7220 - precision_m: 0.7021 - recall_m: 0.7468 - acc: 0.7135 - mean_absolute_error: 0.3868 - val_loss: 0.5778 - val_f1_m: 0.6955 - val_precision_m: 0.7260 - val_recall_m: 0.6678 - val_acc: 0.7078 - val_mean_absolute_error: 0.3991\n",
            "Epoch 4/15\n",
            "398400/398400 [==============================] - 9s 23us/step - loss: 0.5653 - f1_m: 0.7249 - precision_m: 0.7063 - recall_m: 0.7481 - acc: 0.7171 - mean_absolute_error: 0.3823 - val_loss: 0.6024 - val_f1_m: 0.7263 - val_precision_m: 0.6331 - val_recall_m: 0.8522 - val_acc: 0.6792 - val_mean_absolute_error: 0.4231\n",
            "Epoch 5/15\n",
            "398400/398400 [==============================] - 9s 23us/step - loss: 0.5610 - f1_m: 0.7274 - precision_m: 0.7086 - recall_m: 0.7503 - acc: 0.7198 - mean_absolute_error: 0.3791 - val_loss: 0.5804 - val_f1_m: 0.6832 - val_precision_m: 0.7385 - val_recall_m: 0.6360 - val_acc: 0.7054 - val_mean_absolute_error: 0.3806\n",
            "Epoch 6/15\n",
            "398400/398400 [==============================] - 9s 23us/step - loss: 0.5567 - f1_m: 0.7297 - precision_m: 0.7122 - recall_m: 0.7504 - acc: 0.7228 - mean_absolute_error: 0.3752 - val_loss: 0.5703 - val_f1_m: 0.7427 - val_precision_m: 0.6627 - val_recall_m: 0.8451 - val_acc: 0.7075 - val_mean_absolute_error: 0.3871\n",
            "Epoch 7/15\n",
            "398400/398400 [==============================] - 9s 23us/step - loss: 0.5547 - f1_m: 0.7310 - precision_m: 0.7136 - recall_m: 0.7518 - acc: 0.7242 - mean_absolute_error: 0.3736 - val_loss: 0.5542 - val_f1_m: 0.7344 - val_precision_m: 0.7078 - val_recall_m: 0.7635 - val_acc: 0.7241 - val_mean_absolute_error: 0.3700\n",
            "Epoch 8/15\n",
            "398400/398400 [==============================] - 9s 23us/step - loss: 0.5535 - f1_m: 0.7313 - precision_m: 0.7159 - recall_m: 0.7498 - acc: 0.7253 - mean_absolute_error: 0.3724 - val_loss: 0.5555 - val_f1_m: 0.7231 - val_precision_m: 0.7216 - val_recall_m: 0.7249 - val_acc: 0.7226 - val_mean_absolute_error: 0.3611\n",
            "Epoch 9/15\n",
            "398400/398400 [==============================] - 9s 23us/step - loss: 0.5504 - f1_m: 0.7334 - precision_m: 0.7168 - recall_m: 0.7526 - acc: 0.7270 - mean_absolute_error: 0.3700 - val_loss: 0.5556 - val_f1_m: 0.7298 - val_precision_m: 0.7167 - val_recall_m: 0.7438 - val_acc: 0.7248 - val_mean_absolute_error: 0.3544\n",
            "Epoch 10/15\n",
            "398400/398400 [==============================] - 9s 23us/step - loss: 0.5501 - f1_m: 0.7335 - precision_m: 0.7181 - recall_m: 0.7516 - acc: 0.7275 - mean_absolute_error: 0.3696 - val_loss: 0.5858 - val_f1_m: 0.6851 - val_precision_m: 0.7330 - val_recall_m: 0.6436 - val_acc: 0.7045 - val_mean_absolute_error: 0.3722\n",
            "Epoch 11/15\n",
            "398400/398400 [==============================] - 9s 23us/step - loss: 0.5488 - f1_m: 0.7341 - precision_m: 0.7186 - recall_m: 0.7523 - acc: 0.7281 - mean_absolute_error: 0.3688 - val_loss: 0.5543 - val_f1_m: 0.7251 - val_precision_m: 0.7195 - val_recall_m: 0.7311 - val_acc: 0.7230 - val_mean_absolute_error: 0.3610\n",
            "Epoch 12/15\n",
            "398400/398400 [==============================] - 9s 23us/step - loss: 0.5473 - f1_m: 0.7349 - precision_m: 0.7200 - recall_m: 0.7524 - acc: 0.7292 - mean_absolute_error: 0.3674 - val_loss: 0.5534 - val_f1_m: 0.7426 - val_precision_m: 0.6982 - val_recall_m: 0.7933 - val_acc: 0.7252 - val_mean_absolute_error: 0.3659\n",
            "Epoch 13/15\n",
            "398400/398400 [==============================] - 9s 23us/step - loss: 0.5462 - f1_m: 0.7347 - precision_m: 0.7212 - recall_m: 0.7507 - acc: 0.7296 - mean_absolute_error: 0.3667 - val_loss: 0.5711 - val_f1_m: 0.6875 - val_precision_m: 0.7427 - val_recall_m: 0.6405 - val_acc: 0.7093 - val_mean_absolute_error: 0.3703\n",
            "Epoch 14/15\n",
            "398400/398400 [==============================] - 9s 23us/step - loss: 0.5453 - f1_m: 0.7348 - precision_m: 0.7225 - recall_m: 0.7495 - acc: 0.7302 - mean_absolute_error: 0.3660 - val_loss: 0.5530 - val_f1_m: 0.7195 - val_precision_m: 0.7302 - val_recall_m: 0.7095 - val_acc: 0.7237 - val_mean_absolute_error: 0.3844\n",
            "Epoch 15/15\n",
            "398400/398400 [==============================] - 9s 23us/step - loss: 0.5434 - f1_m: 0.7367 - precision_m: 0.7220 - recall_m: 0.7535 - acc: 0.7313 - mean_absolute_error: 0.3646 - val_loss: 0.5526 - val_f1_m: 0.7379 - val_precision_m: 0.7086 - val_recall_m: 0.7700 - val_acc: 0.7267 - val_mean_absolute_error: 0.3517\n"
          ],
          "name": "stdout"
        },
        {
          "output_type": "execute_result",
          "data": {
            "text/plain": [
              "<keras.callbacks.History at 0x7f9bf9f97f98>"
            ]
          },
          "metadata": {
            "tags": []
          },
          "execution_count": 19
        }
      ]
    },
    {
      "cell_type": "code",
      "metadata": {
        "id": "HJzASVo9OEjo",
        "colab_type": "code",
        "outputId": "f7d22495-9978-46ef-9b5f-e08c4f9a13b2",
        "colab": {
          "base_uri": "https://localhost:8080/",
          "height": 34
        }
      },
      "source": [
        "# serialize model to JSON\n",
        "model_json = model1.to_json()\n",
        "with open(\"model1.json\", \"w\") as json_file:\n",
        "    json_file.write(model_json)\n",
        "# serialize weights to HDF5\n",
        "model1.save_weights(\"model1.hdf5\")\n",
        "print(\"Saved model to disk\")"
      ],
      "execution_count": 0,
      "outputs": [
        {
          "output_type": "stream",
          "text": [
            "Saved model to disk\n"
          ],
          "name": "stdout"
        }
      ]
    },
    {
      "cell_type": "code",
      "metadata": {
        "id": "zUBwPSlTOGUJ",
        "colab_type": "code",
        "outputId": "12df9185-8618-43e3-baec-4bb405fe0c3f",
        "colab": {
          "base_uri": "https://localhost:8080/",
          "height": 360
        }
      },
      "source": [
        "# load json and create model\n",
        "json_file = open('model1.json', 'r')\n",
        "loaded_model_json = json_file.read()\n",
        "json_file.close()\n",
        "model1 = model_from_json(loaded_model_json)\n",
        "# load weights into new model\n",
        "model1.load_weights(\"model1.hdf5\")\n",
        "print(\"Loaded model from disk\")"
      ],
      "execution_count": 14,
      "outputs": [
        {
          "output_type": "stream",
          "text": [
            "WARNING:tensorflow:From /usr/local/lib/python3.6/dist-packages/keras/backend/tensorflow_backend.py:507: The name tf.placeholder is deprecated. Please use tf.compat.v1.placeholder instead.\n",
            "\n",
            "WARNING:tensorflow:From /usr/local/lib/python3.6/dist-packages/keras/backend/tensorflow_backend.py:3831: The name tf.random_uniform is deprecated. Please use tf.random.uniform instead.\n",
            "\n",
            "WARNING:tensorflow:From /usr/local/lib/python3.6/dist-packages/keras/backend/tensorflow_backend.py:3655: The name tf.nn.max_pool is deprecated. Please use tf.nn.max_pool2d instead.\n",
            "\n",
            "WARNING:tensorflow:From /usr/local/lib/python3.6/dist-packages/keras/backend/tensorflow_backend.py:167: The name tf.get_default_session is deprecated. Please use tf.compat.v1.get_default_session instead.\n",
            "\n",
            "WARNING:tensorflow:From /usr/local/lib/python3.6/dist-packages/keras/backend/tensorflow_backend.py:174: The name tf.ConfigProto is deprecated. Please use tf.compat.v1.ConfigProto instead.\n",
            "\n",
            "WARNING:tensorflow:From /usr/local/lib/python3.6/dist-packages/keras/backend/tensorflow_backend.py:179: The name tf.Session is deprecated. Please use tf.compat.v1.Session instead.\n",
            "\n",
            "WARNING:tensorflow:From /usr/local/lib/python3.6/dist-packages/keras/backend/tensorflow_backend.py:183: The name tf.global_variables is deprecated. Please use tf.compat.v1.global_variables instead.\n",
            "\n",
            "WARNING:tensorflow:From /usr/local/lib/python3.6/dist-packages/keras/backend/tensorflow_backend.py:192: The name tf.is_variable_initialized is deprecated. Please use tf.compat.v1.is_variable_initialized instead.\n",
            "\n",
            "WARNING:tensorflow:From /usr/local/lib/python3.6/dist-packages/keras/backend/tensorflow_backend.py:199: The name tf.variables_initializer is deprecated. Please use tf.compat.v1.variables_initializer instead.\n",
            "\n",
            "Loaded model from disk\n"
          ],
          "name": "stdout"
        }
      ]
    },
    {
      "cell_type": "code",
      "metadata": {
        "id": "jlIsE6aFOZz1",
        "colab_type": "code",
        "colab": {
          "base_uri": "https://localhost:8080/",
          "height": 156
        },
        "outputId": "b1cd5b69-a62c-4ea5-a782-8bb7cfaf3890"
      },
      "source": [
        "adam=optimizers.adam(lr=0.001)\n",
        "model1.compile(loss = 'binary_crossentropy', optimizer=adam,metrics = [f1_m,precision_m, recall_m, 'accuracy','mae'])"
      ],
      "execution_count": 15,
      "outputs": [
        {
          "output_type": "stream",
          "text": [
            "WARNING:tensorflow:From /usr/local/lib/python3.6/dist-packages/keras/optimizers.py:757: The name tf.train.Optimizer is deprecated. Please use tf.compat.v1.train.Optimizer instead.\n",
            "\n",
            "WARNING:tensorflow:From /usr/local/lib/python3.6/dist-packages/keras/backend/tensorflow_backend.py:3069: The name tf.log is deprecated. Please use tf.math.log instead.\n",
            "\n",
            "WARNING:tensorflow:From /tensorflow-1.15.0/python3.6/tensorflow_core/python/ops/nn_impl.py:183: where (from tensorflow.python.ops.array_ops) is deprecated and will be removed in a future version.\n",
            "Instructions for updating:\n",
            "Use tf.where in 2.0, which has the same broadcast rule as np.where\n"
          ],
          "name": "stdout"
        }
      ]
    },
    {
      "cell_type": "code",
      "metadata": {
        "id": "Ii7BUFNLOph8",
        "colab_type": "code",
        "outputId": "05ad4647-0987-48db-b940-03d1c66af81b",
        "colab": {
          "base_uri": "https://localhost:8080/",
          "height": 136
        }
      },
      "source": [
        "model1.evaluate(X_valid0,Y_valid,verbose=1)"
      ],
      "execution_count": 0,
      "outputs": [
        {
          "output_type": "stream",
          "text": [
            "99600/99600 [==============================] - 14s 138us/step\n"
          ],
          "name": "stdout"
        },
        {
          "output_type": "execute_result",
          "data": {
            "text/plain": [
              "[0.5525859504435436,\n",
              " 0.732163390385578,\n",
              " 0.7090966943277413,\n",
              " 0.7698570608518209,\n",
              " 0.7266566265060241,\n",
              " 0.35171728847496003]"
            ]
          },
          "metadata": {
            "tags": []
          },
          "execution_count": 21
        }
      ]
    },
    {
      "cell_type": "code",
      "metadata": {
        "id": "DEkiAawfO5ve",
        "colab_type": "code",
        "outputId": "63831dff-4571-4d96-be31-f7d813cb6785",
        "colab": {
          "base_uri": "https://localhost:8080/",
          "height": 34
        }
      },
      "source": [
        "model1.metrics_names"
      ],
      "execution_count": 0,
      "outputs": [
        {
          "output_type": "execute_result",
          "data": {
            "text/plain": [
              "['loss', 'f1_m', 'precision_m', 'recall_m', 'acc', 'mean_absolute_error']"
            ]
          },
          "metadata": {
            "tags": []
          },
          "execution_count": 22
        }
      ]
    },
    {
      "cell_type": "code",
      "metadata": {
        "id": "dqHSLFRdSPJ0",
        "colab_type": "code",
        "colab": {}
      },
      "source": [
        "from sklearn.metrics import roc_curve\n",
        "y_pred = model1.predict(X_valid0).ravel()\n",
        "fpr, tpr, thresholds = roc_curve(Y_valid, y_pred)"
      ],
      "execution_count": 0,
      "outputs": []
    },
    {
      "cell_type": "code",
      "metadata": {
        "id": "dZviUPACnKtV",
        "colab_type": "code",
        "colab": {}
      },
      "source": [
        "from sklearn.metrics import auc\n",
        "auc_keras = auc(fpr, tpr)"
      ],
      "execution_count": 0,
      "outputs": []
    },
    {
      "cell_type": "code",
      "metadata": {
        "id": "zeizM0EcnVdi",
        "colab_type": "code",
        "outputId": "a6ad5897-aecd-4e6f-d1cc-786ddc9924b1",
        "colab": {
          "base_uri": "https://localhost:8080/",
          "height": 295
        }
      },
      "source": [
        "plt.figure(1)\n",
        "plt.plot([0, 1], [0, 1], 'k--')\n",
        "plt.plot(fpr, tpr, label='Keras (area = {:.3f})'.format(auc_keras))\n",
        "#plt.plot(fpr_rf, tpr_rf, label='RF (area = {:.3f})'.format(auc_rf))\n",
        "plt.xlabel('False positive rate')\n",
        "plt.ylabel('True positive rate')\n",
        "plt.title('ROC curve')\n",
        "plt.legend(loc='best')\n",
        "plt.show()\n"
      ],
      "execution_count": 18,
      "outputs": [
        {
          "output_type": "display_data",
          "data": {
            "image/png": "[encoded data removed]",
            "text/plain": [
              "<Figure size 432x288 with 1 Axes>"
            ]
          },
          "metadata": {
            "tags": []
          }
        }
      ]
    },
    {
      "cell_type": "code",
      "metadata": {
        "id": "-KW7-Z-3oVYx",
        "colab_type": "code",
        "colab": {}
      },
      "source": [
        ""
      ],
      "execution_count": 0,
      "outputs": []
    }
  ]
}
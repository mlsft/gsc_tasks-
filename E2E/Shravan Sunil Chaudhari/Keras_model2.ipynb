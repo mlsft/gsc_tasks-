{
  "nbformat": 4,
  "nbformat_minor": 0,
  "metadata": {
    "colab": {
      "name": "Keras_model2.ipynb",
      "provenance": []
    },
    "kernelspec": {
      "name": "python3",
      "display_name": "Python 3"
    },
    "accelerator": "GPU"
  },
  "cells": [
    {
      "cell_type": "code",
      "metadata": {
        "id": "j7toY4fF4mJF",
        "colab_type": "code",
        "colab": {
          "base_uri": "https://localhost:8080/",
          "height": 272
        },
        "outputId": "06d952c3-c97a-4aa0-a02d-5b52579279e2"
      },
      "source": [
        "!pip install keras --upgrade"
      ],
      "execution_count": 1,
      "outputs": [
        {
          "output_type": "stream",
          "text": [
            "Collecting keras\n",
            "\u001b[?25l  Downloading https://files.pythonhosted.org/packages/ad/fd/6bfe87920d7f4fd475acd28500a42482b6b84479832bdc0fe9e589a60ceb/Keras-2.3.1-py2.py3-none-any.whl (377kB)\n",
            "\r\u001b[K     |▉                               | 10kB 14.9MB/s eta 0:00:01\r\u001b[K     |█▊                              | 20kB 18.3MB/s eta 0:00:01\r\u001b[K     |██▋                             | 30kB 20.6MB/s eta 0:00:01\r\u001b[K     |███▌                            | 40kB 23.1MB/s eta 0:00:01\r\u001b[K     |████▍                           | 51kB 24.7MB/s eta 0:00:01\r\u001b[K     |█████▏                          | 61kB 27.5MB/s eta 0:00:01\r\u001b[K     |██████                          | 71kB 29.4MB/s eta 0:00:01\r\u001b[K     |███████                         | 81kB 30.4MB/s eta 0:00:01\r\u001b[K     |███████▉                        | 92kB 31.1MB/s eta 0:00:01\r\u001b[K     |████████▊                       | 102kB 31.8MB/s eta 0:00:01\r\u001b[K     |█████████▌                      | 112kB 31.8MB/s eta 0:00:01\r\u001b[K     |██████████▍                     | 122kB 31.8MB/s eta 0:00:01\r\u001b[K     |███████████▎                    | 133kB 31.8MB/s eta 0:00:01\r\u001b[K     |████████████▏                   | 143kB 31.8MB/s eta 0:00:01\r\u001b[K     |█████████████                   | 153kB 31.8MB/s eta 0:00:01\r\u001b[K     |█████████████▉                  | 163kB 31.8MB/s eta 0:00:01\r\u001b[K     |██████████████▊                 | 174kB 31.8MB/s eta 0:00:01\r\u001b[K     |███████████████▋                | 184kB 31.8MB/s eta 0:00:01\r\u001b[K     |████████████████▌               | 194kB 31.8MB/s eta 0:00:01\r\u001b[K     |█████████████████▍              | 204kB 31.8MB/s eta 0:00:01\r\u001b[K     |██████████████████▏             | 215kB 31.8MB/s eta 0:00:01\r\u001b[K     |███████████████████             | 225kB 31.8MB/s eta 0:00:01\r\u001b[K     |████████████████████            | 235kB 31.8MB/s eta 0:00:01\r\u001b[K     |████████████████████▉           | 245kB 31.8MB/s eta 0:00:01\r\u001b[K     |█████████████████████▊          | 256kB 31.8MB/s eta 0:00:01\r\u001b[K     |██████████████████████▌         | 266kB 31.8MB/s eta 0:00:01\r\u001b[K     |███████████████████████▍        | 276kB 31.8MB/s eta 0:00:01\r\u001b[K     |████████████████████████▎       | 286kB 31.8MB/s eta 0:00:01\r\u001b[K     |█████████████████████████▏      | 296kB 31.8MB/s eta 0:00:01\r\u001b[K     |██████████████████████████      | 307kB 31.8MB/s eta 0:00:01\r\u001b[K     |██████████████████████████▉     | 317kB 31.8MB/s eta 0:00:01\r\u001b[K     |███████████████████████████▊    | 327kB 31.8MB/s eta 0:00:01\r\u001b[K     |████████████████████████████▋   | 337kB 31.8MB/s eta 0:00:01\r\u001b[K     |█████████████████████████████▌  | 348kB 31.8MB/s eta 0:00:01\r\u001b[K     |██████████████████████████████▍ | 358kB 31.8MB/s eta 0:00:01\r\u001b[K     |███████████████████████████████▏| 368kB 31.8MB/s eta 0:00:01\r\u001b[K     |████████████████████████████████| 378kB 31.8MB/s \n",
            "\u001b[?25hRequirement already satisfied, skipping upgrade: keras-applications>=1.0.6 in /usr/local/lib/python3.6/dist-packages (from keras) (1.0.8)\n",
            "Requirement already satisfied, skipping upgrade: h5py in /usr/local/lib/python3.6/dist-packages (from keras) (2.10.0)\n",
            "Requirement already satisfied, skipping upgrade: six>=1.9.0 in /usr/local/lib/python3.6/dist-packages (from keras) (1.12.0)\n",
            "Requirement already satisfied, skipping upgrade: numpy>=1.9.1 in /usr/local/lib/python3.6/dist-packages (from keras) (1.18.2)\n",
            "Requirement already satisfied, skipping upgrade: keras-preprocessing>=1.0.5 in /usr/local/lib/python3.6/dist-packages (from keras) (1.1.0)\n",
            "Requirement already satisfied, skipping upgrade: pyyaml in /usr/local/lib/python3.6/dist-packages (from keras) (3.13)\n",
            "Requirement already satisfied, skipping upgrade: scipy>=0.14 in /usr/local/lib/python3.6/dist-packages (from keras) (1.4.1)\n",
            "Installing collected packages: keras\n",
            "  Found existing installation: Keras 2.2.5\n",
            "    Uninstalling Keras-2.2.5:\n",
            "      Successfully uninstalled Keras-2.2.5\n",
            "Successfully installed keras-2.3.1\n"
          ],
          "name": "stdout"
        }
      ]
    },
    {
      "cell_type": "code",
      "metadata": {
        "id": "R2S6MLow4wPX",
        "colab_type": "code",
        "colab": {
          "base_uri": "https://localhost:8080/",
          "height": 122
        },
        "outputId": "2618cb1b-e85a-4a85-a2cd-ac105accda9a"
      },
      "source": [
        "from google.colab import drive\n",
        "drive.mount('/content/drive')"
      ],
      "execution_count": 2,
      "outputs": [
        {
          "output_type": "stream",
          "text": [
            "Go to this URL in a browser: https://accounts.google.com/o/oauth2/auth?client_id=947318989803-6bn6qk8qdgf4n4g3pfee6491hc0brc4i.apps.googleusercontent.com&redirect_uri=urn%3aietf%3awg%3aoauth%3a2.0%3aoob&response_type=code&scope=email%20https%3a%2f%2fwww.googleapis.com%2fauth%2fdocs.test%20https%3a%2f%2fwww.googleapis.com%2fauth%2fdrive%20https%3a%2f%2fwww.googleapis.com%2fauth%2fdrive.photos.readonly%20https%3a%2f%2fwww.googleapis.com%2fauth%2fpeopleapi.readonly\n",
            "\n",
            "Enter your authorization code:\n",
            "··········\n",
            "Mounted at /content/drive\n"
          ],
          "name": "stdout"
        }
      ]
    },
    {
      "cell_type": "code",
      "metadata": {
        "id": "4Rd-piRl5GXB",
        "colab_type": "code",
        "colab": {
          "base_uri": "https://localhost:8080/",
          "height": 34
        },
        "outputId": "4fc34946-14a1-4d6d-e98d-c0c95c4cb9f7"
      },
      "source": [
        "cd drive/My Drive/google_colab_gpu/GSOC 2020/CERN-HSF"
      ],
      "execution_count": 3,
      "outputs": [
        {
          "output_type": "stream",
          "text": [
            "/content/drive/My Drive/google_colab_gpu/GSOC 2020/CERN-HSF\n"
          ],
          "name": "stdout"
        }
      ]
    },
    {
      "cell_type": "code",
      "metadata": {
        "id": "D5sMTLt-5QGw",
        "colab_type": "code",
        "colab": {}
      },
      "source": [
        "import numpy as np\n",
        "import pandas as pd\n",
        "import h5py\n",
        "from sklearn.utils import shuffle"
      ],
      "execution_count": 0,
      "outputs": []
    },
    {
      "cell_type": "code",
      "metadata": {
        "id": "rch9yXPp5Vif",
        "colab_type": "code",
        "colab": {}
      },
      "source": [
        "import numpy as np\n",
        "import matplotlib.pyplot as plt\n",
        "import pandas as pd\n",
        "import warnings\n",
        "warnings.filterwarnings('ignore')\n",
        "import cv2\n",
        "#from keras.datasets import mnist\n",
        "from numpy import savetxt\n",
        "from keras.utils import np_utils\n",
        "from keras.models import Sequential,load_model, model_from_json\n",
        "from keras.layers import Add, GlobalAveragePooling2D, Activation, BatchNormalization, Input, Conv1D, Conv2D, MaxPool2D, Flatten, Dense, Dropout, AveragePooling2D,LeakyReLU\n",
        "from keras import optimizers\n",
        "from sklearn.model_selection import train_test_split\n",
        "import tensorflow as tf\n",
        "import keras.backend as K\n",
        "from keras.models import Model, Sequential\n",
        "from keras.utils import plot_model\n",
        "from keras.callbacks import Callback\n",
        "import keras\n",
        "from keras import regularizers\n",
        "import seaborn as sns\n",
        "from sklearn import preprocessing\n",
        "from keras.regularizers import l2\n",
        "from keras.wrappers.scikit_learn import KerasClassifier\n",
        "from sklearn.model_selection import GridSearchCV, KFold"
      ],
      "execution_count": 0,
      "outputs": []
    },
    {
      "cell_type": "code",
      "metadata": {
        "id": "D3aOjLo680le",
        "colab_type": "code",
        "colab": {
          "base_uri": "https://localhost:8080/",
          "height": 51
        },
        "outputId": "f7e462c0-053c-4fc0-a9da-0353d7ba5764"
      },
      "source": [
        "#Please shift to Keras version >2.3 and tensorflow version =v2 for the running the inference of the model.\n",
        "print(tf.__version__)\n",
        "print(keras.__version__)"
      ],
      "execution_count": 41,
      "outputs": [
        {
          "output_type": "stream",
          "text": [
            "2.2.0-rc1\n",
            "2.3.1\n"
          ],
          "name": "stdout"
        }
      ]
    },
    {
      "cell_type": "code",
      "metadata": {
        "id": "aguavzuL5g7H",
        "colab_type": "code",
        "colab": {
          "base_uri": "https://localhost:8080/",
          "height": 34
        },
        "outputId": "6142fa83-7286-4d3c-ac7b-d66207bdfe48"
      },
      "source": [
        "#Enter the batch size you want to evaluate on\n",
        "batch_size=input(\"Enter the batch size(max 1000): \")"
      ],
      "execution_count": 9,
      "outputs": [
        {
          "output_type": "stream",
          "text": [
            "Enter the batch size(max 1000): 100\n"
          ],
          "name": "stdout"
        }
      ]
    },
    {
      "cell_type": "code",
      "metadata": {
        "id": "9pMcnl867FYV",
        "colab_type": "code",
        "colab": {}
      },
      "source": [
        "batch_start_idx=0\n",
        "batch_end_idx=int(batch_size)"
      ],
      "execution_count": 0,
      "outputs": []
    },
    {
      "cell_type": "code",
      "metadata": {
        "id": "1ZM-2z7G7KNb",
        "colab_type": "code",
        "colab": {}
      },
      "source": [
        "filename='SingleElectronPt50_IMGCROPS_n249k_RHv1_inference.hdf5'\n",
        "data1 = h5py.File(filename, 'r')\n",
        "Y1=data1['y']\n",
        "X1=data1['X']"
      ],
      "execution_count": 0,
      "outputs": []
    },
    {
      "cell_type": "code",
      "metadata": {
        "id": "5Y0R471U7Mks",
        "colab_type": "code",
        "colab": {
          "base_uri": "https://localhost:8080/",
          "height": 34
        },
        "outputId": "31157d1b-316f-4813-dde8-1079ed97d75a"
      },
      "source": [
        "filename='SinglePhotonPt50_IMGCROPS_n249k_RHv1_inference.hdf5'\n",
        "data0 = h5py.File(filename, 'r')\n",
        "Y0=data0['y']\n",
        "X0=data0['X']\n",
        "print(\"Data loading completed.\")"
      ],
      "execution_count": 21,
      "outputs": [
        {
          "output_type": "stream",
          "text": [
            "Data loading completed.\n"
          ],
          "name": "stdout"
        }
      ]
    },
    {
      "cell_type": "code",
      "metadata": {
        "id": "UAftWDJu7P22",
        "colab_type": "code",
        "colab": {}
      },
      "source": [
        "X_final=np.concatenate((X0[:],X1[:]),axis=0)\n",
        "Y_final=np.concatenate((Y0[:],Y1[:]),axis=0)"
      ],
      "execution_count": 0,
      "outputs": []
    },
    {
      "cell_type": "code",
      "metadata": {
        "id": "nFY8WqJD74L3",
        "colab_type": "code",
        "colab": {}
      },
      "source": [
        "X_final=(X_final[:,:,:,0].reshape((X_final.shape[0],X_final.shape[1],X_final.shape[2],1)))"
      ],
      "execution_count": 0,
      "outputs": []
    },
    {
      "cell_type": "code",
      "metadata": {
        "id": "wa6tUFyX7SK3",
        "colab_type": "code",
        "colab": {}
      },
      "source": [
        "X_final, Y_final = shuffle(X_final, Y_final)\n"
      ],
      "execution_count": 0,
      "outputs": []
    },
    {
      "cell_type": "code",
      "metadata": {
        "id": "PckCo8wy7U92",
        "colab_type": "code",
        "colab": {
          "base_uri": "https://localhost:8080/",
          "height": 34
        },
        "outputId": "7d46b9be-8b43-49eb-8ae0-48f410d1f0b1"
      },
      "source": [
        "data1.close()\n",
        "data0.close()\n",
        "print(\"Data preparation completed.\")"
      ],
      "execution_count": 25,
      "outputs": [
        {
          "output_type": "stream",
          "text": [
            "Data preparation completed.\n"
          ],
          "name": "stdout"
        }
      ]
    },
    {
      "cell_type": "code",
      "metadata": {
        "id": "b6cx401I5Gnd",
        "colab_type": "code",
        "colab": {
          "base_uri": "https://localhost:8080/",
          "height": 34
        },
        "outputId": "296b43fb-0502-47fa-f8c0-5634fee29434"
      },
      "source": [
        "# load json and create model\n",
        "json_file = open('model2.json', 'r')\n",
        "loaded_model_json = json_file.read()\n",
        "json_file.close()\n",
        "model2 = model_from_json(loaded_model_json)\n",
        "# load weights into new model\n",
        "model2.load_weights(\"model2.hdf5\")\n",
        "print(\"Loaded model from disk\")"
      ],
      "execution_count": 32,
      "outputs": [
        {
          "output_type": "stream",
          "text": [
            "Loaded model from disk\n"
          ],
          "name": "stdout"
        }
      ]
    },
    {
      "cell_type": "code",
      "metadata": {
        "id": "Cf7PygGf5tBd",
        "colab_type": "code",
        "colab": {
          "base_uri": "https://localhost:8080/",
          "height": 935
        },
        "outputId": "511b859b-5f88-426a-ee8c-4d9e61dc1ed6"
      },
      "source": [
        "model2.summary()"
      ],
      "execution_count": 33,
      "outputs": [
        {
          "output_type": "stream",
          "text": [
            "Model: \"model_5\"\n",
            "_________________________________________________________________\n",
            "Layer (type)                 Output Shape              Param #   \n",
            "=================================================================\n",
            "input_image (InputLayer)     (None, 32, 32, 1)         0         \n",
            "_________________________________________________________________\n",
            "conv2d_26 (Conv2D)           (None, 32, 32, 32)        320       \n",
            "_________________________________________________________________\n",
            "leaky_re_lu_35 (LeakyReLU)   (None, 32, 32, 32)        0         \n",
            "_________________________________________________________________\n",
            "max_pooling2d_13 (MaxPooling (None, 16, 16, 32)        0         \n",
            "_________________________________________________________________\n",
            "conv2d_27 (Conv2D)           (None, 16, 16, 32)        9248      \n",
            "_________________________________________________________________\n",
            "leaky_re_lu_36 (LeakyReLU)   (None, 16, 16, 32)        0         \n",
            "_________________________________________________________________\n",
            "conv2d_28 (Conv2D)           (None, 16, 16, 64)        18496     \n",
            "_________________________________________________________________\n",
            "leaky_re_lu_37 (LeakyReLU)   (None, 16, 16, 64)        0         \n",
            "_________________________________________________________________\n",
            "conv2d_29 (Conv2D)           (None, 16, 16, 64)        36928     \n",
            "_________________________________________________________________\n",
            "leaky_re_lu_38 (LeakyReLU)   (None, 16, 16, 64)        0         \n",
            "_________________________________________________________________\n",
            "max_pooling2d_14 (MaxPooling (None, 8, 8, 64)          0         \n",
            "_________________________________________________________________\n",
            "conv2d_30 (Conv2D)           (None, 8, 8, 128)         73856     \n",
            "_________________________________________________________________\n",
            "leaky_re_lu_39 (LeakyReLU)   (None, 8, 8, 128)         0         \n",
            "_________________________________________________________________\n",
            "max_pooling2d_15 (MaxPooling (None, 4, 4, 128)         0         \n",
            "_________________________________________________________________\n",
            "flatten_5 (Flatten)          (None, 2048)              0         \n",
            "_________________________________________________________________\n",
            "dense_14 (Dense)             (None, 1024)              2098176   \n",
            "_________________________________________________________________\n",
            "leaky_re_lu_40 (LeakyReLU)   (None, 1024)              0         \n",
            "_________________________________________________________________\n",
            "dense_15 (Dense)             (None, 1024)              1049600   \n",
            "_________________________________________________________________\n",
            "leaky_re_lu_41 (LeakyReLU)   (None, 1024)              0         \n",
            "_________________________________________________________________\n",
            "dense_16 (Dense)             (None, 256)               262400    \n",
            "_________________________________________________________________\n",
            "leaky_re_lu_42 (LeakyReLU)   (None, 256)               0         \n",
            "_________________________________________________________________\n",
            "dense_17 (Dense)             (None, 1)                 257       \n",
            "_________________________________________________________________\n",
            "activation_2 (Activation)    (None, 1)                 0         \n",
            "=================================================================\n",
            "Total params: 3,549,281\n",
            "Trainable params: 3,549,281\n",
            "Non-trainable params: 0\n",
            "_________________________________________________________________\n"
          ],
          "name": "stdout"
        }
      ]
    },
    {
      "cell_type": "code",
      "metadata": {
        "id": "9JAEbWsx5-dH",
        "colab_type": "code",
        "colab": {}
      },
      "source": [
        "optimizer=optimizers.Adam(lr=0.00003)\n",
        "model2.compile(loss = 'binary_crossentropy', optimizer=optimizer,metrics = ['accuracy','mae','mse'])"
      ],
      "execution_count": 0,
      "outputs": []
    },
    {
      "cell_type": "code",
      "metadata": {
        "id": "0CljGiAM7rEj",
        "colab_type": "code",
        "colab": {}
      },
      "source": [
        "target=model2.predict(X_final[batch_start_idx:batch_end_idx])\n",
        "target[target<0.5]=0\n",
        "target[target>0.5]=1\n",
        "true_values=Y_final[batch_start_idx:batch_end_idx]\n",
        "target=target.reshape(true_values.shape)"
      ],
      "execution_count": 0,
      "outputs": []
    },
    {
      "cell_type": "code",
      "metadata": {
        "id": "UlsG79zU8GL-",
        "colab_type": "code",
        "colab": {
          "base_uri": "https://localhost:8080/",
          "height": 102
        },
        "outputId": "c350e6e1-6cc9-4422-bb49-8902021236da"
      },
      "source": [
        "metrics=model2.evaluate(X_final[batch_start_idx:batch_end_idx,:,:,:],true_values.reshape((true_values.shape[0],1)),verbose=1)\n",
        "print(model2.metrics_names[0]+\": \"+str(metrics[0])+\"\\n\"+model2.metrics_names[1]+\": \"+str(metrics[1])+\"\\n\"+model2.metrics_names[2]+\": \"+str(metrics[2])+\"\\n\"+str(model2.metrics_names[3])+\": \"+str(metrics[3]))"
      ],
      "execution_count": 36,
      "outputs": [
        {
          "output_type": "stream",
          "text": [
            "100/100 [==============================] - 0s 569us/step\n",
            "loss: 0.43171454906463624\n",
            "accuracy: 0.8100000023841858\n",
            "mae: 0.30461326241493225\n",
            "mse: 0.1354389190673828\n"
          ],
          "name": "stdout"
        }
      ]
    },
    {
      "cell_type": "code",
      "metadata": {
        "id": "rZQcTz7d8jF-",
        "colab_type": "code",
        "colab": {}
      },
      "source": [
        "savetxt('output.csv',target,delimiter=',')\n",
        "savetxt('ground_truth.csv',true_values,delimiter=',')"
      ],
      "execution_count": 0,
      "outputs": []
    },
    {
      "cell_type": "code",
      "metadata": {
        "id": "6whkNjtV5-gs",
        "colab_type": "code",
        "colab": {
          "base_uri": "https://localhost:8080/",
          "height": 51
        },
        "outputId": "12b0f520-ee88-49fb-ae85-e983676bcbf9"
      },
      "source": [
        "print(\"The outputs have been saved in file named output.csv corresponding to the respective indices. The first 20 values of output are:\\n\"+str(target[:20]))"
      ],
      "execution_count": 38,
      "outputs": [
        {
          "output_type": "stream",
          "text": [
            "The outputs have been saved in file named output.csv corresponding to the respective indices. The first 20 values of output are:\n",
            "[1. 1. 0. 0. 1. 1. 0. 1. 0. 0. 1. 1. 1. 1. 0. 1. 0. 1. 0. 0.]\n"
          ],
          "name": "stdout"
        }
      ]
    },
    {
      "cell_type": "code",
      "metadata": {
        "id": "T1W0_tmt8rv8",
        "colab_type": "code",
        "colab": {
          "base_uri": "https://localhost:8080/",
          "height": 51
        },
        "outputId": "9b62f8fa-3b5a-4847-8816-6b5100bee26b"
      },
      "source": [
        "print(\"The first 20 values of true values are:\\n\"+str(true_values[:20]))"
      ],
      "execution_count": 39,
      "outputs": [
        {
          "output_type": "stream",
          "text": [
            "The first 20 values of true values are:\n",
            "[0. 1. 0. 1. 1. 0. 0. 1. 0. 1. 1. 1. 1. 1. 0. 1. 1. 1. 0. 1.]\n"
          ],
          "name": "stdout"
        }
      ]
    },
    {
      "cell_type": "code",
      "metadata": {
        "id": "uIJQBrDy52P3",
        "colab_type": "code",
        "colab": {}
      },
      "source": [
        "from sklearn.metrics import roc_curve\n",
        "y_pred = model2.predict(X_final[batch_start_idx:batch_end_idx,:,:,:]).ravel()\n",
        "fpr, tpr, thresholds = roc_curve(true_values.reshape((true_values.shape[0],1)), y_pred)"
      ],
      "execution_count": 0,
      "outputs": []
    },
    {
      "cell_type": "code",
      "metadata": {
        "id": "Cl9Ws8Em6Q3O",
        "colab_type": "code",
        "colab": {}
      },
      "source": [
        "from sklearn.metrics import auc\n",
        "auc_keras = auc(fpr, tpr)"
      ],
      "execution_count": 0,
      "outputs": []
    },
    {
      "cell_type": "code",
      "metadata": {
        "id": "64_5BX4B6TKz",
        "colab_type": "code",
        "colab": {
          "base_uri": "https://localhost:8080/",
          "height": 295
        },
        "outputId": "cef78973-27f5-47d9-c98c-8d7f69817e65"
      },
      "source": [
        "plt.figure(1)\n",
        "plt.plot([0, 1], [0, 1], 'k--')\n",
        "plt.plot(fpr, tpr, label='Keras (area = {:.3f})'.format(auc_keras))\n",
        "#plt.plot(fpr_rf, tpr_rf, label='RF (area = {:.3f})'.format(auc_rf))\n",
        "plt.xlabel('False positive rate')\n",
        "plt.ylabel('True positive rate')\n",
        "plt.title('ROC curve')\n",
        "plt.legend(loc='best')\n",
        "plt.show()\n"
      ],
      "execution_count": 48,
      "outputs": [
        {
          "output_type": "display_data",
          "data": {
            "image/png": "[encoded data removed]",
            "text/plain": [
              "<Figure size 432x288 with 1 Axes>"
            ]
          },
          "metadata": {
            "tags": []
          }
        }
      ]
    },
    {
      "cell_type": "code",
      "metadata": {
        "id": "Ln4NaM-l5yDH",
        "colab_type": "code",
        "colab": {}
      },
      "source": [
        "#For retraining\n",
        "#model2.fit(X_train0,Y_train,batch_size=1024, epochs=20, validation_data=(X_valid0,Y_valid))"
      ],
      "execution_count": 0,
      "outputs": []
    }
  ]
}
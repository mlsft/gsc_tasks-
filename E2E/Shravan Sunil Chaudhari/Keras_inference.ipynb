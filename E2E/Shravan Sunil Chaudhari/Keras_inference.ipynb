{
  "nbformat": 4,
  "nbformat_minor": 0,
  "metadata": {
    "colab": {
      "name": "Keras_inference.ipynb",
      "provenance": [],
      "collapsed_sections": [],
      "machine_shape": "hm"
    },
    "kernelspec": {
      "name": "python3",
      "display_name": "Python 3"
    }
  },
  "cells": [
    {
      "cell_type": "code",
      "metadata": {
        "id": "JeM-HpPOOubT",
        "colab_type": "code",
        "outputId": "222645eb-0658-474f-d4d3-83391ecf88ef",
        "colab": {
          "base_uri": "https://localhost:8080/",
          "height": 153
        }
      },
      "source": [
        "!pip install keras==2.1.5 --no-deps"
      ],
      "execution_count": 1,
      "outputs": [
        {
          "output_type": "stream",
          "text": [
            "Collecting keras==2.1.5\n",
            "\u001b[?25l  Downloading https://files.pythonhosted.org/packages/ba/65/e4aff762b8696ec0626a6654b1e73b396fcc8b7cc6b98d78a1bc53b85b48/Keras-2.1.5-py2.py3-none-any.whl (334kB)\n",
            "\r\u001b[K     |█                               | 10kB 21.7MB/s eta 0:00:01\r\u001b[K     |██                              | 20kB 1.7MB/s eta 0:00:01\r\u001b[K     |███                             | 30kB 2.5MB/s eta 0:00:01\r\u001b[K     |████                            | 40kB 1.7MB/s eta 0:00:01\r\u001b[K     |█████                           | 51kB 2.1MB/s eta 0:00:01\r\u001b[K     |█████▉                          | 61kB 2.5MB/s eta 0:00:01\r\u001b[K     |██████▉                         | 71kB 2.9MB/s eta 0:00:01\r\u001b[K     |███████▉                        | 81kB 2.2MB/s eta 0:00:01\r\u001b[K     |████████▉                       | 92kB 2.5MB/s eta 0:00:01\r\u001b[K     |█████████▉                      | 102kB 2.7MB/s eta 0:00:01\r\u001b[K     |██████████▊                     | 112kB 2.7MB/s eta 0:00:01\r\u001b[K     |███████████▊                    | 122kB 2.7MB/s eta 0:00:01\r\u001b[K     |████████████▊                   | 133kB 2.7MB/s eta 0:00:01\r\u001b[K     |█████████████▊                  | 143kB 2.7MB/s eta 0:00:01\r\u001b[K     |██████████████▊                 | 153kB 2.7MB/s eta 0:00:01\r\u001b[K     |███████████████▋                | 163kB 2.7MB/s eta 0:00:01\r\u001b[K     |████████████████▋               | 174kB 2.7MB/s eta 0:00:01\r\u001b[K     |█████████████████▋              | 184kB 2.7MB/s eta 0:00:01\r\u001b[K     |██████████████████▋             | 194kB 2.7MB/s eta 0:00:01\r\u001b[K     |███████████████████▋            | 204kB 2.7MB/s eta 0:00:01\r\u001b[K     |████████████████████▌           | 215kB 2.7MB/s eta 0:00:01\r\u001b[K     |█████████████████████▌          | 225kB 2.7MB/s eta 0:00:01\r\u001b[K     |██████████████████████▌         | 235kB 2.7MB/s eta 0:00:01\r\u001b[K     |███████████████████████▌        | 245kB 2.7MB/s eta 0:00:01\r\u001b[K     |████████████████████████▌       | 256kB 2.7MB/s eta 0:00:01\r\u001b[K     |█████████████████████████▍      | 266kB 2.7MB/s eta 0:00:01\r\u001b[K     |██████████████████████████▍     | 276kB 2.7MB/s eta 0:00:01\r\u001b[K     |███████████████████████████▍    | 286kB 2.7MB/s eta 0:00:01\r\u001b[K     |████████████████████████████▍   | 296kB 2.7MB/s eta 0:00:01\r\u001b[K     |█████████████████████████████▍  | 307kB 2.7MB/s eta 0:00:01\r\u001b[K     |██████████████████████████████▎ | 317kB 2.7MB/s eta 0:00:01\r\u001b[K     |███████████████████████████████▎| 327kB 2.7MB/s eta 0:00:01\r\u001b[K     |████████████████████████████████| 337kB 2.7MB/s \n",
            "\u001b[?25hInstalling collected packages: keras\n",
            "  Found existing installation: Keras 2.2.5\n",
            "    Uninstalling Keras-2.2.5:\n",
            "      Successfully uninstalled Keras-2.2.5\n",
            "Successfully installed keras-2.1.5\n"
          ],
          "name": "stdout"
        }
      ]
    },
    {
      "cell_type": "code",
      "metadata": {
        "id": "P8cIs-d1yEpJ",
        "colab_type": "code",
        "outputId": "f758e4b7-c7eb-4c5e-f32a-cc2592318ef0",
        "colab": {
          "base_uri": "https://localhost:8080/",
          "height": 122
        }
      },
      "source": [
        "from google.colab import drive\n",
        "drive.mount('/content/drive')"
      ],
      "execution_count": 2,
      "outputs": [
        {
          "output_type": "stream",
          "text": [
            "Go to this URL in a browser: https://accounts.google.com/o/oauth2/auth?client_id=947318989803-6bn6qk8qdgf4n4g3pfee6491hc0brc4i.apps.googleusercontent.com&redirect_uri=urn%3aietf%3awg%3aoauth%3a2.0%3aoob&response_type=code&scope=email%20https%3a%2f%2fwww.googleapis.com%2fauth%2fdocs.test%20https%3a%2f%2fwww.googleapis.com%2fauth%2fdrive%20https%3a%2f%2fwww.googleapis.com%2fauth%2fdrive.photos.readonly%20https%3a%2f%2fwww.googleapis.com%2fauth%2fpeopleapi.readonly\n",
            "\n",
            "Enter your authorization code:\n",
            "··········\n",
            "Mounted at /content/drive\n"
          ],
          "name": "stdout"
        }
      ]
    },
    {
      "cell_type": "code",
      "metadata": {
        "id": "hIX4iqrTyL9H",
        "colab_type": "code",
        "outputId": "acb049e4-ae17-48bc-a95c-dbcbf5dccde1",
        "colab": {
          "base_uri": "https://localhost:8080/",
          "height": 34
        }
      },
      "source": [
        "cd drive/My Drive/google_colab_gpu/GSOC 2020/CERN-HSF"
      ],
      "execution_count": 3,
      "outputs": [
        {
          "output_type": "stream",
          "text": [
            "/content/drive/My Drive/google_colab_gpu/GSOC 2020/CERN-HSF\n"
          ],
          "name": "stdout"
        }
      ]
    },
    {
      "cell_type": "code",
      "metadata": {
        "id": "CMqWpew2yOeU",
        "colab_type": "code",
        "outputId": "7397d1bf-174d-4451-ba39-db3b352456b1",
        "colab": {
          "base_uri": "https://localhost:8080/",
          "height": 153
        }
      },
      "source": [
        "ls"
      ],
      "execution_count": 5,
      "outputs": [
        {
          "output_type": "stream",
          "text": [
            "cifar10vgg.h5          output.csv\n",
            "ground_truth.csv       pytorch1.pt\n",
            "Keras_CERN.ipynb       Pytorch_CERN.ipynb\n",
            "Keras_inference.ipynb  SingleElectronPt50_IMGCROPS_n249k_RHv1.hdf5\n",
            "model1.h5              SingleElectronPt50_IMGCROPS_n249k_RHv1_inference.hdf5\n",
            "model1.hdf5            SinglePhotonPt50_IMGCROPS_n249k_RHv1.hdf5\n",
            "model1.json            SinglePhotonPt50_IMGCROPS_n249k_RHv1_inference.hdf5\n",
            "model2.h5\n"
          ],
          "name": "stdout"
        }
      ]
    },
    {
      "cell_type": "code",
      "metadata": {
        "id": "vZQ2nYXmFp0f",
        "colab_type": "code",
        "colab": {}
      },
      "source": [
        "filename1='SingleElectronPt50_IMGCROPS_n249k_RHv1.hdf5'\n",
        "filename2='SingleElectronPt50_IMGCROPS_n249k_RHv1_inference.hdf5'\n",
        "data1 = h5py.File(filename1, 'r')\n",
        "Y1=data1['y']\n",
        "X1=data1['X']\n",
        "write1=h5py.File(filename2, 'w')\n",
        "write1.create_dataset('X', data=X1[:1000,:,:,:])\n",
        "write1.create_dataset('y', data=Y1[:1000])\n",
        "del(X1)\n",
        "del(Y1)\n",
        "data1.close()\n",
        "write1.close()"
      ],
      "execution_count": 0,
      "outputs": []
    },
    {
      "cell_type": "code",
      "metadata": {
        "id": "d6Zfn_zEPsqi",
        "colab_type": "code",
        "colab": {}
      },
      "source": [
        "filename1='SinglePhotonPt50_IMGCROPS_n249k_RHv1.hdf5'\n",
        "filename2='SinglePhotonPt50_IMGCROPS_n249k_RHv1_inference.hdf5'\n",
        "data1 = h5py.File(filename1, 'r')\n",
        "Y1=data1['y']\n",
        "X1=data1['X']\n",
        "write1=h5py.File(filename2, 'w')\n",
        "write1.create_dataset('X', data=X1[:1000,:,:,:])\n",
        "write1.create_dataset('y', data=Y1[:1000])\n",
        "del(X1)\n",
        "del(Y1)\n",
        "data1.close()\n",
        "write1.close()"
      ],
      "execution_count": 0,
      "outputs": []
    },
    {
      "cell_type": "code",
      "metadata": {
        "id": "eCCyCpwIyWL2",
        "colab_type": "code",
        "outputId": "be9c2d7a-ca17-4440-a179-b2f47af34d28",
        "colab": {
          "base_uri": "https://localhost:8080/",
          "height": 97
        }
      },
      "source": [
        "import numpy as np\n",
        "import pandas as pd\n",
        "import h5py\n",
        "#import matplotlib.pyplot as plt\n",
        "import warnings\n",
        "warnings.filterwarnings('ignore')\n",
        "#from keras.utils import np_utils\n",
        "from keras.models import load_model,model_from_json\n",
        "#from sklearn.model_selection import train_test_split\n",
        "from keras import optimizers\n",
        "from numpy import savetxt\n",
        "from sklearn.utils import shuffle\n",
        "print(\"Importing completed.\")"
      ],
      "execution_count": 6,
      "outputs": [
        {
          "output_type": "stream",
          "text": [
            "Using TensorFlow backend.\n"
          ],
          "name": "stderr"
        },
        {
          "output_type": "display_data",
          "data": {
            "text/html": [
              "<p style=\"color: red;\">\n",
              "The default version of TensorFlow in Colab will switch to TensorFlow 2.x on the 27th of March, 2020.<br>\n",
              "We recommend you <a href=\"https://www.tensorflow.org/guide/migrate\" target=\"_blank\">upgrade</a> now\n",
              "or ensure your notebook will continue to use TensorFlow 1.x via the <code>%tensorflow_version 1.x</code> magic:\n",
              "<a href=\"https://colab.research.google.com/notebooks/tensorflow_version.ipynb\" target=\"_blank\">more info</a>.</p>\n"
            ],
            "text/plain": [
              "<IPython.core.display.HTML object>"
            ]
          },
          "metadata": {
            "tags": []
          }
        },
        {
          "output_type": "stream",
          "text": [
            "Importing completed.\n"
          ],
          "name": "stdout"
        }
      ]
    },
    {
      "cell_type": "code",
      "metadata": {
        "id": "LPIBfFqi9pvK",
        "colab_type": "code",
        "outputId": "0093ac7a-7735-4cc9-8bc5-5a4457f28ccf",
        "colab": {
          "base_uri": "https://localhost:8080/",
          "height": 34
        }
      },
      "source": [
        "#Enter the batch size you want to evaluate on\n",
        "batch_size=input(\"Enter the batch size(max 1000): \")"
      ],
      "execution_count": 7,
      "outputs": [
        {
          "output_type": "stream",
          "text": [
            "Enter the batch size(max 1000): 100\n"
          ],
          "name": "stdout"
        }
      ]
    },
    {
      "cell_type": "code",
      "metadata": {
        "id": "dorvYcfK-BFU",
        "colab_type": "code",
        "colab": {}
      },
      "source": [
        "batch_start_idx=0\n",
        "batch_end_idx=int(batch_size)"
      ],
      "execution_count": 0,
      "outputs": []
    },
    {
      "cell_type": "code",
      "metadata": {
        "id": "y9C1BBC0yx5B",
        "colab_type": "code",
        "colab": {}
      },
      "source": [
        "filename='SingleElectronPt50_IMGCROPS_n249k_RHv1_inference.hdf5'\n",
        "data1 = h5py.File(filename, 'r')\n",
        "Y1=data1['y']\n",
        "X1=data1['X']"
      ],
      "execution_count": 0,
      "outputs": []
    },
    {
      "cell_type": "code",
      "metadata": {
        "id": "El7Wn6XPyz0t",
        "colab_type": "code",
        "outputId": "2dce09b2-20f7-4ded-84e9-122611bfccd2",
        "colab": {
          "base_uri": "https://localhost:8080/",
          "height": 34
        }
      },
      "source": [
        "filename='SinglePhotonPt50_IMGCROPS_n249k_RHv1_inference.hdf5'\n",
        "data0 = h5py.File(filename, 'r')\n",
        "Y0=data0['y']\n",
        "X0=data0['X']\n",
        "print(\"Data loading completed.\")"
      ],
      "execution_count": 10,
      "outputs": [
        {
          "output_type": "stream",
          "text": [
            "Data loading completed.\n"
          ],
          "name": "stdout"
        }
      ]
    },
    {
      "cell_type": "code",
      "metadata": {
        "id": "uvumq2eIy4U0",
        "colab_type": "code",
        "colab": {}
      },
      "source": [
        "X_final=np.concatenate((X0[:],X1[:]),axis=0)\n",
        "Y_final=np.concatenate((Y0[:],Y1[:]),axis=0)"
      ],
      "execution_count": 0,
      "outputs": []
    },
    {
      "cell_type": "code",
      "metadata": {
        "id": "dOj-dSGI3TUX",
        "colab_type": "code",
        "colab": {}
      },
      "source": [
        "X_final=(X_final[:,:,:,0].reshape((X_final.shape[0],X_final.shape[1],X_final.shape[2],1)))"
      ],
      "execution_count": 0,
      "outputs": []
    },
    {
      "cell_type": "code",
      "metadata": {
        "id": "7OElS7yZ3X_G",
        "colab_type": "code",
        "colab": {}
      },
      "source": [
        "X_final, Y_final = shuffle(X_final, Y_final)\n"
      ],
      "execution_count": 0,
      "outputs": []
    },
    {
      "cell_type": "code",
      "metadata": {
        "id": "iBMwYfxqWNVo",
        "colab_type": "code",
        "outputId": "15db6b32-5c7a-47f1-c3a2-c54069decdd6",
        "colab": {
          "base_uri": "https://localhost:8080/",
          "height": 34
        }
      },
      "source": [
        "data1.close()\n",
        "data0.close()\n",
        "print(\"Data preparation completed.\")"
      ],
      "execution_count": 14,
      "outputs": [
        {
          "output_type": "stream",
          "text": [
            "Data preparation completed.\n"
          ],
          "name": "stdout"
        }
      ]
    },
    {
      "cell_type": "code",
      "metadata": {
        "id": "B8nUpHd60EBy",
        "colab_type": "code",
        "colab": {}
      },
      "source": [
        "#model1=load_model('model1.hdf5')"
      ],
      "execution_count": 0,
      "outputs": []
    },
    {
      "cell_type": "code",
      "metadata": {
        "id": "Rz3z8e1OXt-9",
        "colab_type": "code",
        "colab": {}
      },
      "source": [
        "#model1.save('model1.hdf5')"
      ],
      "execution_count": 0,
      "outputs": []
    },
    {
      "cell_type": "code",
      "metadata": {
        "id": "ZZ8vkITwPTNg",
        "colab_type": "code",
        "outputId": "95f9145a-be82-4437-b848-fbf600b9162e",
        "colab": {
          "base_uri": "https://localhost:8080/",
          "height": 360
        }
      },
      "source": [
        "# load json and create model\n",
        "json_file = open('model1.json', 'r')\n",
        "loaded_model_json = json_file.read()\n",
        "json_file.close()\n",
        "model1 = model_from_json(loaded_model_json)\n",
        "# load weights into new model\n",
        "model1.load_weights(\"model1.hdf5\")\n",
        "print(\"Loaded model from disk\")"
      ],
      "execution_count": 15,
      "outputs": [
        {
          "output_type": "stream",
          "text": [
            "WARNING:tensorflow:From /usr/local/lib/python3.6/dist-packages/keras/backend/tensorflow_backend.py:507: The name tf.placeholder is deprecated. Please use tf.compat.v1.placeholder instead.\n",
            "\n",
            "WARNING:tensorflow:From /usr/local/lib/python3.6/dist-packages/keras/backend/tensorflow_backend.py:3831: The name tf.random_uniform is deprecated. Please use tf.random.uniform instead.\n",
            "\n",
            "WARNING:tensorflow:From /usr/local/lib/python3.6/dist-packages/keras/backend/tensorflow_backend.py:3655: The name tf.nn.max_pool is deprecated. Please use tf.nn.max_pool2d instead.\n",
            "\n",
            "WARNING:tensorflow:From /usr/local/lib/python3.6/dist-packages/keras/backend/tensorflow_backend.py:167: The name tf.get_default_session is deprecated. Please use tf.compat.v1.get_default_session instead.\n",
            "\n",
            "WARNING:tensorflow:From /usr/local/lib/python3.6/dist-packages/keras/backend/tensorflow_backend.py:174: The name tf.ConfigProto is deprecated. Please use tf.compat.v1.ConfigProto instead.\n",
            "\n",
            "WARNING:tensorflow:From /usr/local/lib/python3.6/dist-packages/keras/backend/tensorflow_backend.py:179: The name tf.Session is deprecated. Please use tf.compat.v1.Session instead.\n",
            "\n",
            "WARNING:tensorflow:From /usr/local/lib/python3.6/dist-packages/keras/backend/tensorflow_backend.py:183: The name tf.global_variables is deprecated. Please use tf.compat.v1.global_variables instead.\n",
            "\n",
            "WARNING:tensorflow:From /usr/local/lib/python3.6/dist-packages/keras/backend/tensorflow_backend.py:192: The name tf.is_variable_initialized is deprecated. Please use tf.compat.v1.is_variable_initialized instead.\n",
            "\n",
            "WARNING:tensorflow:From /usr/local/lib/python3.6/dist-packages/keras/backend/tensorflow_backend.py:199: The name tf.variables_initializer is deprecated. Please use tf.compat.v1.variables_initializer instead.\n",
            "\n",
            "Loaded model from disk\n"
          ],
          "name": "stdout"
        }
      ]
    },
    {
      "cell_type": "code",
      "metadata": {
        "id": "QUCfGDKF0NxD",
        "colab_type": "code",
        "outputId": "a4c1ce5d-3721-4df8-f2b0-184f337a34a4",
        "colab": {
          "base_uri": "https://localhost:8080/",
          "height": 173
        }
      },
      "source": [
        "adam=optimizers.adam(lr=0.001)\n",
        "model1.compile(loss = 'binary_crossentropy', optimizer=adam,metrics = [ 'accuracy','mae','mse'])\n",
        "print(\"Model compiled successfully\")"
      ],
      "execution_count": 16,
      "outputs": [
        {
          "output_type": "stream",
          "text": [
            "WARNING:tensorflow:From /usr/local/lib/python3.6/dist-packages/keras/optimizers.py:757: The name tf.train.Optimizer is deprecated. Please use tf.compat.v1.train.Optimizer instead.\n",
            "\n",
            "WARNING:tensorflow:From /usr/local/lib/python3.6/dist-packages/keras/backend/tensorflow_backend.py:3069: The name tf.log is deprecated. Please use tf.math.log instead.\n",
            "\n",
            "WARNING:tensorflow:From /tensorflow-1.15.2/python3.6/tensorflow_core/python/ops/nn_impl.py:183: where (from tensorflow.python.ops.array_ops) is deprecated and will be removed in a future version.\n",
            "Instructions for updating:\n",
            "Use tf.where in 2.0, which has the same broadcast rule as np.where\n",
            "Model compiled successfully\n"
          ],
          "name": "stdout"
        }
      ]
    },
    {
      "cell_type": "code",
      "metadata": {
        "id": "ADuPe7CL0XCE",
        "colab_type": "code",
        "colab": {}
      },
      "source": [
        "target=model1.predict(X_final[batch_start_idx:batch_end_idx])\n",
        "target[target<0.5]=0\n",
        "target[target>0.5]=1\n",
        "true_values=Y_final[batch_start_idx:batch_end_idx]\n",
        "target=target.reshape(true_values.shape)"
      ],
      "execution_count": 0,
      "outputs": []
    },
    {
      "cell_type": "code",
      "metadata": {
        "id": "bwxnWJ5O1Kok",
        "colab_type": "code",
        "outputId": "a35e76a4-36b6-43b3-83ef-7072ad7ac6f1",
        "colab": {
          "base_uri": "https://localhost:8080/",
          "height": 102
        }
      },
      "source": [
        "metrics=model1.evaluate(X_final[batch_start_idx:batch_end_idx,:,:,:],true_values.reshape((true_values.shape[0],1)),verbose=1)\n",
        "print(model1.metrics_names[0]+\": \"+str(metrics[0])+\"\\n\"+model1.metrics_names[1]+\": \"+str(metrics[1])+\"\\n\"+model1.metrics_names[2]+\": \"+str(metrics[2])+\"\\n\"+str(model1.metrics_names[3])+\": \"+str(metrics[3]))"
      ],
      "execution_count": 20,
      "outputs": [
        {
          "output_type": "stream",
          "text": [
            "100/100 [==============================] - 0s 414us/step\n",
            "loss: 0.45229004859924316\n",
            "acc: 0.74\n",
            "mean_absolute_error: 0.3128185403347015\n",
            "mean_squared_error: 0.14958342432975769\n"
          ],
          "name": "stdout"
        }
      ]
    },
    {
      "cell_type": "code",
      "metadata": {
        "id": "wvkuXKa_3kFJ",
        "colab_type": "code",
        "colab": {}
      },
      "source": [
        "savetxt('output.csv',target,delimiter=',')\n",
        "savetxt('ground_truth.csv',true_values,delimiter=',')"
      ],
      "execution_count": 0,
      "outputs": []
    },
    {
      "cell_type": "code",
      "metadata": {
        "id": "3EMvLH2m1L5W",
        "colab_type": "code",
        "outputId": "8c1ed7bc-f900-4bdc-a6a0-05fedd1c1ae6",
        "colab": {
          "base_uri": "https://localhost:8080/",
          "height": 51
        }
      },
      "source": [
        "print(\"The outputs have been saved in file named output.csv corresponding to the respective indices. The first 20 values of output are:\\n\"+str(target[:20]))"
      ],
      "execution_count": 22,
      "outputs": [
        {
          "output_type": "stream",
          "text": [
            "The outputs have been saved in file named output.csv corresponding to the respective indices. The first 20 values of output are:\n",
            "[0. 0. 0. 1. 1. 1. 1. 1. 0. 0. 1. 1. 0. 1. 0. 0. 0. 0. 1. 1.]\n"
          ],
          "name": "stdout"
        }
      ]
    },
    {
      "cell_type": "code",
      "metadata": {
        "id": "5RHBhNIQ5InF",
        "colab_type": "code",
        "outputId": "c9e904fd-d6cd-47e3-e3b7-7805ce19cf98",
        "colab": {
          "base_uri": "https://localhost:8080/",
          "height": 51
        }
      },
      "source": [
        "print(\"The first 20 values of true values are:\\n\"+str(true_values[:20]))"
      ],
      "execution_count": 23,
      "outputs": [
        {
          "output_type": "stream",
          "text": [
            "The first 20 values of true values are:\n",
            "[0. 0. 0. 1. 1. 1. 0. 0. 0. 0. 1. 0. 0. 1. 0. 0. 1. 0. 1. 0.]\n"
          ],
          "name": "stdout"
        }
      ]
    },
    {
      "cell_type": "code",
      "metadata": {
        "id": "fYcaoQtZFCxs",
        "colab_type": "code",
        "colab": {}
      },
      "source": [
        ""
      ],
      "execution_count": 0,
      "outputs": []
    }
  ]
}
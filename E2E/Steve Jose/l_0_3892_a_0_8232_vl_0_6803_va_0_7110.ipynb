{
  "nbformat": 4,
  "nbformat_minor": 0,
  "metadata": {
    "kernelspec": {
      "name": "python3",
      "display_name": "Python 3"
    },
    "language_info": {
      "codemirror_mode": {
        "name": "ipython",
        "version": 3
      },
      "file_extension": ".py",
      "mimetype": "text/x-python",
      "name": "python",
      "nbconvert_exporter": "python",
      "pygments_lexer": "ipython3",
      "version": "3.6.9"
    },
    "colab": {
      "name": "l:0.3892 a:0.8232 vl:0.6803 va: 0.7110.ipynb",
      "provenance": [],
      "collapsed_sections": [],
      "machine_shape": "hm"
    },
    "accelerator": "GPU"
  },
  "cells": [
    {
      "cell_type": "code",
      "metadata": {
        "id": "aTb4WKqn2KGt",
        "colab_type": "code",
        "colab": {
          "base_uri": "https://localhost:8080/",
          "height": 81
        },
        "outputId": "3e49c0b7-b106-4c8e-cb97-6d01d53480c8"
      },
      "source": [
        "from keras import models \n",
        "from keras.layers import Dense, Flatten, Dropout\n",
        "from keras.layers.convolutional import Conv2D, MaxPooling2D, Convolution2D\n",
        "from keras.models import Sequential, Model\n",
        "from keras.optimizers import Adam\n",
        "import glob\n",
        "import h5py\n",
        "import os\n",
        "import matplotlib.pyplot as plt\n",
        "from google.colab import drive\n",
        "import numpy as np\n",
        "from tqdm import tqdm\n"
      ],
      "execution_count": 1,
      "outputs": [
        {
          "output_type": "stream",
          "text": [
            "Using TensorFlow backend.\n"
          ],
          "name": "stderr"
        },
        {
          "output_type": "display_data",
          "data": {
            "text/html": [
              "<p style=\"color: red;\">\n",
              "The default version of TensorFlow in Colab will soon switch to TensorFlow 2.x.<br>\n",
              "We recommend you <a href=\"https://www.tensorflow.org/guide/migrate\" target=\"_blank\">upgrade</a> now \n",
              "or ensure your notebook will continue to use TensorFlow 1.x via the <code>%tensorflow_version 1.x</code> magic:\n",
              "<a href=\"https://colab.research.google.com/notebooks/tensorflow_version.ipynb\" target=\"_blank\">more info</a>.</p>\n"
            ],
            "text/plain": [
              "<IPython.core.display.HTML object>"
            ]
          },
          "metadata": {
            "tags": []
          }
        }
      ]
    },
    {
      "cell_type": "code",
      "metadata": {
        "id": "9Io3eU1D4EVP",
        "colab_type": "code",
        "outputId": "f097b714-ac42-4e78-c1e7-51d732f6bed0",
        "colab": {
          "base_uri": "https://localhost:8080/",
          "height": 124
        }
      },
      "source": [
        "drive.mount('/content/gdrive')\n"
      ],
      "execution_count": 2,
      "outputs": [
        {
          "output_type": "stream",
          "text": [
            "Go to this URL in a browser: https://accounts.google.com/o/oauth2/auth?client_id=947318989803-6bn6qk8qdgf4n4g3pfee6491hc0brc4i.apps.googleusercontent.com&redirect_uri=urn%3aietf%3awg%3aoauth%3a2.0%3aoob&response_type=code&scope=email%20https%3a%2f%2fwww.googleapis.com%2fauth%2fdocs.test%20https%3a%2f%2fwww.googleapis.com%2fauth%2fdrive%20https%3a%2f%2fwww.googleapis.com%2fauth%2fdrive.photos.readonly%20https%3a%2f%2fwww.googleapis.com%2fauth%2fpeopleapi.readonly\n",
            "\n",
            "Enter your authorization code:\n",
            "··········\n",
            "Mounted at /content/gdrive\n"
          ],
          "name": "stdout"
        }
      ]
    },
    {
      "cell_type": "code",
      "metadata": {
        "id": "Wfd5Ezc76kGj",
        "colab_type": "code",
        "outputId": "2c9001f9-3865-4bb7-f23b-d78234ff8835",
        "colab": {
          "base_uri": "https://localhost:8080/",
          "height": 52
        }
      },
      "source": [
        "!ls\n",
        "os.chdir('gdrive/My Drive/My_AI_proj/CERN_data/')\n",
        "!pwd"
      ],
      "execution_count": 3,
      "outputs": [
        {
          "output_type": "stream",
          "text": [
            "gdrive\tsample_data\n",
            "/content/gdrive/My Drive/My_AI_proj/CERN_data\n"
          ],
          "name": "stdout"
        }
      ]
    },
    {
      "cell_type": "code",
      "metadata": {
        "id": "FkrVvryk2KG5",
        "colab_type": "code",
        "colab": {}
      },
      "source": [
        "\n",
        "photon='SinglePhotonPt50_IMGCROPS_n249k_RHv1.hdf5'\n",
        "electron='SingleElectronPt50_IMGCROPS_n249k_RHv1.hdf5'\n"
      ],
      "execution_count": 0,
      "outputs": []
    },
    {
      "cell_type": "code",
      "metadata": {
        "id": "DCRvBOsd2KHU",
        "colab_type": "code",
        "colab": {}
      },
      "source": [
        "def create_model():\n",
        "    model=Sequential()\n",
        "    model.add(Convolution2D(32, 3, 3, input_shape=(32,32,2), activation='relu'))\n",
        "    # print(model.shape)\n",
        "    model.add(Convolution2D(32, 3, 3, activation='relu'))\n",
        "    # print(model.shape)\n",
        "    model.add(MaxPooling2D(pool_size=(2,2)))\n",
        "    # print(model.shape)\n",
        "    model.add(Flatten())\n",
        "    \n",
        "    # model.add(Dense(units=3776, activation='relu'))\n",
        "    model.add(Dense(units=1500, activation='relu'))\n",
        "    model.add(Dropout(0.4))\n",
        "    model.add(Dense(units=500, activation='relu'))\n",
        "    model.add(Dropout(0.3))\n",
        "    model.add(Dense(units=100, activation='relu'))\n",
        "\n",
        "    optimizer=Adam(lr=1e-1)    \n",
        "    model.add(Dense(units=1, activation='sigmoid'))\n",
        "    model.compile(optimizer='adam', loss='binary_crossentropy', metrics=['accuracy'])\n",
        "    \n",
        "    return model"
      ],
      "execution_count": 0,
      "outputs": []
    },
    {
      "cell_type": "code",
      "metadata": {
        "id": "x8WhyMVdYzcr",
        "colab_type": "code",
        "colab": {}
      },
      "source": [
        "def input_target(photon, electron):\n",
        "  X_input=[]\n",
        "  electron_image_data=h5py.File(electron,'r')['X'].value\n",
        "  for i in tqdm(range(len(electron_image_data))):\n",
        "    image=electron_image_data[i]\n",
        "    X_input.append(image)\n",
        "  del(electron_image_data)\n",
        "  photon_image_data=h5py.File(photon, 'r')['X'].value\n",
        "  for i in tqdm(range(len(photon_image_data))):\n",
        "    image=photon_image_data[i]\n",
        "    X_input.append(image)\n",
        "  y_photon=[1]*249000\n",
        "  y_electron=[0]*249000\n",
        "  y_target=np.array(y_photon+y_electron)\n",
        "  return np.asarray(X_input), np.asarray(y_target)\n"
      ],
      "execution_count": 0,
      "outputs": []
    },
    {
      "cell_type": "code",
      "metadata": {
        "id": "rGUu0Dm-f8T8",
        "colab_type": "code",
        "outputId": "151fd606-c9ca-43fe-9a0a-da1e9e500e9c",
        "colab": {
          "base_uri": "https://localhost:8080/",
          "height": 52
        }
      },
      "source": [
        "X_input,y_target=input_target(photon,electron)"
      ],
      "execution_count": 7,
      "outputs": [
        {
          "output_type": "stream",
          "text": [
            "100%|██████████| 249000/249000 [00:00<00:00, 1689374.89it/s]\n",
            "100%|██████████| 249000/249000 [00:00<00:00, 1672753.05it/s]\n"
          ],
          "name": "stderr"
        }
      ]
    },
    {
      "cell_type": "code",
      "metadata": {
        "id": "As2FMo8Hb4OF",
        "colab_type": "code",
        "outputId": "b125fd3d-d61d-4416-d4f5-213dbe41f10a",
        "colab": {
          "base_uri": "https://localhost:8080/",
          "height": 34
        }
      },
      "source": [
        "print(X_input.shape, y_target.shape)"
      ],
      "execution_count": 8,
      "outputs": [
        {
          "output_type": "stream",
          "text": [
            "(498000, 32, 32, 2) (498000,)\n"
          ],
          "name": "stdout"
        }
      ]
    },
    {
      "cell_type": "code",
      "metadata": {
        "id": "PbhANfGM2KHa",
        "colab_type": "code",
        "colab": {}
      },
      "source": [
        "from sklearn.model_selection import train_test_split\n",
        "X_train, X_test, y_train, y_test=train_test_split(X_input,y_target, test_size=0.2,random_state=23)"
      ],
      "execution_count": 0,
      "outputs": []
    },
    {
      "cell_type": "code",
      "metadata": {
        "id": "XMP7MN0J2KHf",
        "colab_type": "code",
        "outputId": "c2b2de8f-a267-47eb-acd9-ccf1f6d4f903",
        "colab": {
          "base_uri": "https://localhost:8080/",
          "height": 34
        }
      },
      "source": [
        "print(X_train.shape, X_test.shape, y_train.shape, y_test.shape)"
      ],
      "execution_count": 10,
      "outputs": [
        {
          "output_type": "stream",
          "text": [
            "(298800, 32, 32, 2) (199200, 32, 32, 2) (298800,) (199200,)\n"
          ],
          "name": "stdout"
        }
      ]
    },
    {
      "cell_type": "code",
      "metadata": {
        "id": "eV066D6_PKAu",
        "colab_type": "code",
        "outputId": "10bf651c-93cd-4832-8ad2-25306b6975a0",
        "colab": {
          "base_uri": "https://localhost:8080/",
          "height": 1000
        }
      },
      "source": [
        "model=create_model()\n",
        "model.summary()\n",
        "history=model.fit(x=X_train, y=y_train, batch_size=100, epochs=40, verbose=1, callbacks=None,validation_data=(X_test,y_test), shuffle=True)"
      ],
      "execution_count": 13,
      "outputs": [
        {
          "output_type": "stream",
          "text": [
            "/usr/local/lib/python3.6/dist-packages/ipykernel_launcher.py:3: UserWarning: Update your `Conv2D` call to the Keras 2 API: `Conv2D(32, (3, 3), input_shape=(32, 32, 2..., activation=\"relu\")`\n",
            "  This is separate from the ipykernel package so we can avoid doing imports until\n",
            "/usr/local/lib/python3.6/dist-packages/ipykernel_launcher.py:5: UserWarning: Update your `Conv2D` call to the Keras 2 API: `Conv2D(32, (3, 3), activation=\"relu\")`\n",
            "  \"\"\"\n"
          ],
          "name": "stderr"
        },
        {
          "output_type": "stream",
          "text": [
            "Model: \"sequential_2\"\n",
            "_________________________________________________________________\n",
            "Layer (type)                 Output Shape              Param #   \n",
            "=================================================================\n",
            "conv2d_3 (Conv2D)            (None, 30, 30, 32)        608       \n",
            "_________________________________________________________________\n",
            "conv2d_4 (Conv2D)            (None, 28, 28, 32)        9248      \n",
            "_________________________________________________________________\n",
            "max_pooling2d_2 (MaxPooling2 (None, 14, 14, 32)        0         \n",
            "_________________________________________________________________\n",
            "flatten_2 (Flatten)          (None, 6272)              0         \n",
            "_________________________________________________________________\n",
            "dense_5 (Dense)              (None, 1500)              9409500   \n",
            "_________________________________________________________________\n",
            "dropout_3 (Dropout)          (None, 1500)              0         \n",
            "_________________________________________________________________\n",
            "dense_6 (Dense)              (None, 500)               750500    \n",
            "_________________________________________________________________\n",
            "dropout_4 (Dropout)          (None, 500)               0         \n",
            "_________________________________________________________________\n",
            "dense_7 (Dense)              (None, 100)               50100     \n",
            "_________________________________________________________________\n",
            "dense_8 (Dense)              (None, 1)                 101       \n",
            "=================================================================\n",
            "Total params: 10,220,057\n",
            "Trainable params: 10,220,057\n",
            "Non-trainable params: 0\n",
            "_________________________________________________________________\n",
            "Train on 398400 samples, validate on 99600 samples\n",
            "Epoch 1/40\n",
            "398400/398400 [==============================] - 47s 117us/step - loss: 0.6197 - acc: 0.6604 - val_loss: 0.5820 - val_acc: 0.7014\n",
            "Epoch 2/40\n",
            "398400/398400 [==============================] - 46s 115us/step - loss: 0.5724 - acc: 0.7098 - val_loss: 0.5610 - val_acc: 0.7185\n",
            "Epoch 3/40\n",
            "398400/398400 [==============================] - 46s 115us/step - loss: 0.5604 - acc: 0.7190 - val_loss: 0.5582 - val_acc: 0.7237\n",
            "Epoch 4/40\n",
            "398400/398400 [==============================] - 46s 116us/step - loss: 0.5546 - acc: 0.7233 - val_loss: 0.5509 - val_acc: 0.7272\n",
            "Epoch 5/40\n",
            "398400/398400 [==============================] - 46s 115us/step - loss: 0.5505 - acc: 0.7260 - val_loss: 0.5461 - val_acc: 0.7299\n",
            "Epoch 6/40\n",
            "398400/398400 [==============================] - 46s 115us/step - loss: 0.5478 - acc: 0.7286 - val_loss: 0.5521 - val_acc: 0.7220\n",
            "Epoch 7/40\n",
            "398400/398400 [==============================] - 46s 115us/step - loss: 0.5449 - acc: 0.7302 - val_loss: 0.5481 - val_acc: 0.7260\n",
            "Epoch 8/40\n",
            "398400/398400 [==============================] - 46s 115us/step - loss: 0.5428 - acc: 0.7317 - val_loss: 0.5530 - val_acc: 0.7261\n",
            "Epoch 9/40\n",
            "398400/398400 [==============================] - 46s 115us/step - loss: 0.5398 - acc: 0.7343 - val_loss: 0.5498 - val_acc: 0.7270\n",
            "Epoch 10/40\n",
            "398400/398400 [==============================] - 46s 115us/step - loss: 0.5373 - acc: 0.7358 - val_loss: 0.5417 - val_acc: 0.7336\n",
            "Epoch 11/40\n",
            "398400/398400 [==============================] - 46s 115us/step - loss: 0.5350 - acc: 0.7377 - val_loss: 0.5432 - val_acc: 0.7312\n",
            "Epoch 12/40\n",
            "398400/398400 [==============================] - 46s 115us/step - loss: 0.5321 - acc: 0.7391 - val_loss: 0.5419 - val_acc: 0.7326\n",
            "Epoch 13/40\n",
            "398400/398400 [==============================] - 46s 115us/step - loss: 0.5288 - acc: 0.7418 - val_loss: 0.5431 - val_acc: 0.7341\n",
            "Epoch 14/40\n",
            "398400/398400 [==============================] - 46s 115us/step - loss: 0.5257 - acc: 0.7440 - val_loss: 0.5438 - val_acc: 0.7341\n",
            "Epoch 15/40\n",
            "398400/398400 [==============================] - 46s 115us/step - loss: 0.5216 - acc: 0.7460 - val_loss: 0.5445 - val_acc: 0.7323\n",
            "Epoch 16/40\n",
            "398400/398400 [==============================] - 46s 115us/step - loss: 0.5183 - acc: 0.7479 - val_loss: 0.5496 - val_acc: 0.7305\n",
            "Epoch 17/40\n",
            "398400/398400 [==============================] - 46s 115us/step - loss: 0.5136 - acc: 0.7512 - val_loss: 0.5485 - val_acc: 0.7309\n",
            "Epoch 18/40\n",
            "398400/398400 [==============================] - 46s 115us/step - loss: 0.5100 - acc: 0.7541 - val_loss: 0.5536 - val_acc: 0.7319\n",
            "Epoch 19/40\n",
            "398400/398400 [==============================] - 46s 114us/step - loss: 0.5046 - acc: 0.7571 - val_loss: 0.5574 - val_acc: 0.7296\n",
            "Epoch 20/40\n",
            "398400/398400 [==============================] - 46s 115us/step - loss: 0.4998 - acc: 0.7600 - val_loss: 0.5598 - val_acc: 0.7268\n",
            "Epoch 21/40\n",
            "398400/398400 [==============================] - 46s 114us/step - loss: 0.4943 - acc: 0.7633 - val_loss: 0.5601 - val_acc: 0.7304\n",
            "Epoch 22/40\n",
            "398400/398400 [==============================] - 46s 114us/step - loss: 0.4887 - acc: 0.7664 - val_loss: 0.5630 - val_acc: 0.7288\n",
            "Epoch 23/40\n",
            "398400/398400 [==============================] - 46s 115us/step - loss: 0.4832 - acc: 0.7704 - val_loss: 0.5755 - val_acc: 0.7271\n",
            "Epoch 24/40\n",
            "398400/398400 [==============================] - 46s 115us/step - loss: 0.4766 - acc: 0.7738 - val_loss: 0.5899 - val_acc: 0.7243\n",
            "Epoch 25/40\n",
            "398400/398400 [==============================] - 46s 114us/step - loss: 0.4713 - acc: 0.7769 - val_loss: 0.5980 - val_acc: 0.7252\n",
            "Epoch 26/40\n",
            "398400/398400 [==============================] - 46s 114us/step - loss: 0.4654 - acc: 0.7805 - val_loss: 0.5872 - val_acc: 0.7273\n",
            "Epoch 27/40\n",
            "398400/398400 [==============================] - 45s 114us/step - loss: 0.4587 - acc: 0.7846 - val_loss: 0.5994 - val_acc: 0.7251\n",
            "Epoch 28/40\n",
            "398400/398400 [==============================] - 45s 114us/step - loss: 0.4526 - acc: 0.7877 - val_loss: 0.6027 - val_acc: 0.7241\n",
            "Epoch 29/40\n",
            "398400/398400 [==============================] - 45s 114us/step - loss: 0.4472 - acc: 0.7914 - val_loss: 0.5963 - val_acc: 0.7237\n",
            "Epoch 30/40\n",
            "398400/398400 [==============================] - 46s 114us/step - loss: 0.4418 - acc: 0.7937 - val_loss: 0.6119 - val_acc: 0.7231\n",
            "Epoch 31/40\n",
            "398400/398400 [==============================] - 46s 114us/step - loss: 0.4358 - acc: 0.7975 - val_loss: 0.6223 - val_acc: 0.7214\n",
            "Epoch 32/40\n",
            "398400/398400 [==============================] - 45s 114us/step - loss: 0.4305 - acc: 0.8002 - val_loss: 0.6314 - val_acc: 0.7208\n",
            "Epoch 33/40\n",
            "398400/398400 [==============================] - 46s 114us/step - loss: 0.4251 - acc: 0.8033 - val_loss: 0.6287 - val_acc: 0.7202\n",
            "Epoch 34/40\n",
            "398400/398400 [==============================] - 45s 114us/step - loss: 0.4192 - acc: 0.8063 - val_loss: 0.6393 - val_acc: 0.7190\n",
            "Epoch 35/40\n",
            "398400/398400 [==============================] - 46s 114us/step - loss: 0.4137 - acc: 0.8093 - val_loss: 0.6531 - val_acc: 0.7157\n",
            "Epoch 36/40\n",
            "398400/398400 [==============================] - 45s 114us/step - loss: 0.4093 - acc: 0.8122 - val_loss: 0.6725 - val_acc: 0.7182\n",
            "Epoch 37/40\n",
            "398400/398400 [==============================] - 45s 114us/step - loss: 0.4033 - acc: 0.8153 - val_loss: 0.6595 - val_acc: 0.7165\n",
            "Epoch 38/40\n",
            "398400/398400 [==============================] - 45s 114us/step - loss: 0.3986 - acc: 0.8174 - val_loss: 0.6887 - val_acc: 0.7124\n",
            "Epoch 39/40\n",
            "398400/398400 [==============================] - 45s 114us/step - loss: 0.3938 - acc: 0.8204 - val_loss: 0.6951 - val_acc: 0.7128\n",
            "Epoch 40/40\n",
            "398400/398400 [==============================] - 45s 114us/step - loss: 0.3892 - acc: 0.8232 - val_loss: 0.6803 - val_acc: 0.7110\n"
          ],
          "name": "stdout"
        }
      ]
    },
    {
      "cell_type": "code",
      "metadata": {
        "id": "lZWS3XNVinCN",
        "colab_type": "code",
        "colab": {}
      },
      "source": [
        " model.save('l:0.3892 a:0.8232 vl:0.6803 va: 0.7110.hdf5')"
      ],
      "execution_count": 0,
      "outputs": []
    },
    {
      "cell_type": "code",
      "metadata": {
        "id": "4EBOF7pVARbE",
        "colab_type": "code",
        "colab": {}
      },
      "source": [
        ""
      ],
      "execution_count": 0,
      "outputs": []
    }
  ]
}
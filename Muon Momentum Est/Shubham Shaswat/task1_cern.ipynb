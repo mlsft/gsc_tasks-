{
  "nbformat": 4,
  "nbformat_minor": 0,
  "metadata": {
    "colab": {
      "name": "task1_cern",
      "provenance": [],
      "collapsed_sections": []
    },
    "kernelspec": {
      "name": "python3",
      "display_name": "Python 3"
    },
    "accelerator": "GPU"
  },
  "cells": [
    {
      "cell_type": "markdown",
      "metadata": {
        "id": "LtyhIVf0tAXN",
        "colab_type": "text"
      },
      "source": [
        "GSOC'20 **Task-1** for Deep Learning Algorithms for Muon Momentum Estimation in the CMS Trigger System\n",
        "\n",
        "by Shubham Shaswat\n",
        "\n",
        "Email: shaswat.cpp@gmail.com"
      ]
    },
    {
      "cell_type": "code",
      "metadata": {
        "id": "psz6YvAh7MB8",
        "colab_type": "code",
        "outputId": "04c3fe3f-18e7-47bb-d67a-49c25bfaeac4",
        "colab": {
          "base_uri": "https://localhost:8080/",
          "height": 35
        }
      },
      "source": [
        "%tensorflow_version 2.x\n",
        "import tensorflow as tf\n",
        "\n",
        "import tensorflow.keras as K\n",
        "import numpy as np\n",
        "import tensorflow as tf\n",
        "import matplotlib as mpl\n",
        "import matplotlib.pyplot as plt\n",
        "import pandas as pd\n",
        "\n"
      ],
      "execution_count": 0,
      "outputs": [
        {
          "output_type": "stream",
          "text": [
            "TensorFlow 2.x selected.\n"
          ],
          "name": "stdout"
        }
      ]
    },
    {
      "cell_type": "code",
      "metadata": {
        "id": "4o0YFrN1nd98",
        "colab_type": "code",
        "colab": {}
      },
      "source": [
        "#enable xla \n",
        "tf.config.optimizer.set_jit(True)"
      ],
      "execution_count": 0,
      "outputs": []
    },
    {
      "cell_type": "code",
      "metadata": {
        "id": "quFo_4lR7e0j",
        "colab_type": "code",
        "outputId": "f1479c48-3f11-409b-88eb-1bb6ecc7bccd",
        "colab": {
          "base_uri": "https://localhost:8080/",
          "height": 126
        }
      },
      "source": [
        "from google.colab import drive\n",
        "drive.mount('/content/drive')"
      ],
      "execution_count": 0,
      "outputs": [
        {
          "output_type": "stream",
          "text": [
            "Go to this URL in a browser: https://accounts.google.com/o/oauth2/auth?client_id=947318989803-6bn6qk8qdgf4n4g3pfee6491hc0brc4i.apps.googleusercontent.com&redirect_uri=urn%3aietf%3awg%3aoauth%3a2.0%3aoob&response_type=code&scope=email%20https%3a%2f%2fwww.googleapis.com%2fauth%2fdocs.test%20https%3a%2f%2fwww.googleapis.com%2fauth%2fdrive%20https%3a%2f%2fwww.googleapis.com%2fauth%2fdrive.photos.readonly%20https%3a%2f%2fwww.googleapis.com%2fauth%2fpeopleapi.readonly\n",
            "\n",
            "Enter your authorization code:\n",
            "··········\n",
            "Mounted at /content/drive\n"
          ],
          "name": "stdout"
        }
      ]
    },
    {
      "cell_type": "code",
      "metadata": {
        "id": "Ij8G3j407o9q",
        "colab_type": "code",
        "colab": {}
      },
      "source": [
        "#path and filename of data \n",
        "path = 'drive/My Drive/Colab Data/cern'\n",
        "filename = 'histos_tba.20.npz'"
      ],
      "execution_count": 0,
      "outputs": []
    },
    {
      "cell_type": "code",
      "metadata": {
        "id": "dLNiFGr-8nWP",
        "colab_type": "code",
        "outputId": "bffe9c2b-1b20-4a9f-e348-3d9e74e4bed4",
        "colab": {
          "base_uri": "https://localhost:8080/",
          "height": 35
        }
      },
      "source": [
        "import os\n",
        "os.listdir(path)"
      ],
      "execution_count": 0,
      "outputs": [
        {
          "output_type": "execute_result",
          "data": {
            "text/plain": [
              "['histos_tba.20.npz']"
            ]
          },
          "metadata": {
            "tags": []
          },
          "execution_count": 7
        }
      ]
    },
    {
      "cell_type": "code",
      "metadata": {
        "id": "AWlOVk8x8MHm",
        "colab_type": "code",
        "outputId": "030517ab-ccc7-4285-cdcc-73de010c9587",
        "colab": {
          "base_uri": "https://localhost:8080/",
          "height": 35
        }
      },
      "source": [
        "#loading the data\n",
        "data = np.load(os.path.join(path,filename))\n",
        "lst = data.files\n",
        "print(lst)"
      ],
      "execution_count": 0,
      "outputs": [
        {
          "output_type": "stream",
          "text": [
            "['variables', 'parameters']\n"
          ],
          "name": "stdout"
        }
      ]
    },
    {
      "cell_type": "code",
      "metadata": {
        "id": "kWfNLI7E_RKz",
        "colab_type": "code",
        "outputId": "ca3cd5e5-9bcf-4e35-ec52-2ab0346512a3",
        "colab": {
          "base_uri": "https://localhost:8080/",
          "height": 35
        }
      },
      "source": [
        "#shape of the data\n",
        "print(data['variables'].shape)"
      ],
      "execution_count": 0,
      "outputs": [
        {
          "output_type": "stream",
          "text": [
            "(3272341, 87)\n"
          ],
          "name": "stdout"
        }
      ]
    },
    {
      "cell_type": "code",
      "metadata": {
        "id": "K6qed9or-ndO",
        "colab_type": "code",
        "colab": {}
      },
      "source": [
        ""
      ],
      "execution_count": 0,
      "outputs": []
    },
    {
      "cell_type": "code",
      "metadata": {
        "id": "UxmCIQSWIvnw",
        "colab_type": "code",
        "colab": {}
      },
      "source": [
        ""
      ],
      "execution_count": 0,
      "outputs": []
    },
    {
      "cell_type": "code",
      "metadata": {
        "id": "r-vDi7kddgX0",
        "colab_type": "code",
        "colab": {}
      },
      "source": [
        "#load data features for CSC\n",
        "\n",
        "phi = data['variables'][:,0:5]\n",
        "theta = data['variables'][:,12:17]\n",
        "bending_angle = data['variables'][:,24:29]\n",
        "ring = data['variables'][:,48:53]\n",
        "hit = data['variables'][:,60:65]\n",
        "mask = data['variables'][:,72:77]\n",
        "\n"
      ],
      "execution_count": 0,
      "outputs": []
    },
    {
      "cell_type": "code",
      "metadata": {
        "id": "Mtxo6pFJldIu",
        "colab_type": "code",
        "colab": {}
      },
      "source": [
        ""
      ],
      "execution_count": 0,
      "outputs": []
    },
    {
      "cell_type": "code",
      "metadata": {
        "id": "SBRuptgultMm",
        "colab_type": "code",
        "colab": {}
      },
      "source": [
        "#contenate to make single array\n",
        "train_data = np.concatenate((phi,theta,bending_angle,ring,hit,mask),axis=1)"
      ],
      "execution_count": 0,
      "outputs": []
    },
    {
      "cell_type": "code",
      "metadata": {
        "id": "oBpEnBet-pl1",
        "colab_type": "code",
        "colab": {}
      },
      "source": [
        "#load transvere momentum\n",
        "pt=np.abs(1/(data['parameters'][:,0]))\n"
      ],
      "execution_count": 0,
      "outputs": []
    },
    {
      "cell_type": "code",
      "metadata": {
        "id": "lHtEryen4-GO",
        "colab_type": "code",
        "colab": {}
      },
      "source": [
        "#replace the nan with 0\n",
        "mask_ = np.isnan(train_data)\n",
        "train_data = np.where(mask_,0,train_data)"
      ],
      "execution_count": 0,
      "outputs": []
    },
    {
      "cell_type": "code",
      "metadata": {
        "id": "kVjqMVeUtRO-",
        "colab_type": "code",
        "colab": {}
      },
      "source": [
        "#calucate max and min of the x_train along the colums\n",
        "max_arr = np.max(train_data,axis=0)\n",
        "min_arr = np.min(train_data,axis=0)\n"
      ],
      "execution_count": 0,
      "outputs": []
    },
    {
      "cell_type": "code",
      "metadata": {
        "id": "EAx5tzraxQGF",
        "colab_type": "code",
        "colab": {}
      },
      "source": [
        "#normalise the trainig data\n",
        "train_data = (train_data-min_arr)/(max_arr - min_arr)"
      ],
      "execution_count": 0,
      "outputs": []
    },
    {
      "cell_type": "code",
      "metadata": {
        "id": "9Ss14FBnDb8H",
        "colab_type": "code",
        "outputId": "60955c70-6d75-4648-a211-fd4f1b774222",
        "colab": {
          "base_uri": "https://localhost:8080/",
          "height": 608
        }
      },
      "source": [
        "#distribution plots for each features after normalisation\n",
        "import seaborn as sns\n",
        "fig = plt.figure(figsize=(10,10))\n",
        "labels = ['phi','theta','bending_angle','ring','hit','mask']\n",
        "for i in range(30):\n",
        "  plt.subplot(6,5,i+1)\n",
        "  plt.title(labels[i%5])\n",
        "  sns.distplot(train_data[:,i])"
      ],
      "execution_count": 0,
      "outputs": [
        {
          "output_type": "display_data",
          "data": {
            "image/png": "[encoded data removed]",
            "text/plain": [
              "<Figure size 720x720 with 30 Axes>"
            ]
          },
          "metadata": {
            "tags": []
          }
        }
      ]
    },
    {
      "cell_type": "code",
      "metadata": {
        "id": "AZ8jv0jBdg0h",
        "colab_type": "code",
        "colab": {}
      },
      "source": [
        "#load labels into categories\n",
        "\n",
        "pt[np.where(pt < 10)] = 0\n",
        "pt[np.where((pt >= 10 )& (pt < 30))] = 1\n",
        "pt[np.where((pt < 100 )& (pt >= 30))] = 2\n",
        "pt[np.where(pt >= 100 )] =3\n",
        " "
      ],
      "execution_count": 0,
      "outputs": []
    },
    {
      "cell_type": "code",
      "metadata": {
        "id": "M1_cCMigt9HE",
        "colab_type": "code",
        "colab": {}
      },
      "source": [
        "#defina a function to free mem\n",
        "\n",
        "del data\n",
        "del phi\n",
        "del theta\n",
        "del bending_angle\n",
        "del ring\n",
        "del hit\n",
        "del max_arr\n",
        "del min_arr\n",
        "del mask\n",
        "del mask_\n"
      ],
      "execution_count": 0,
      "outputs": []
    },
    {
      "cell_type": "code",
      "metadata": {
        "id": "krSdm6SulEsb",
        "colab_type": "code",
        "colab": {}
      },
      "source": [
        "#calculate the sum of labels\n",
        "h=[]\n",
        "for i in range(4):\n",
        "  h.append(len(pt[pt==i]))\n"
      ],
      "execution_count": 0,
      "outputs": []
    },
    {
      "cell_type": "code",
      "metadata": {
        "id": "F3syJ534kbBc",
        "colab_type": "code",
        "outputId": "0a475aee-8bbd-4dc4-ae13-b56ba57fea61",
        "colab": {
          "base_uri": "https://localhost:8080/",
          "height": 353
        }
      },
      "source": [
        "#plot bar for tansverse momentum labels\n",
        "\n",
        "plt.bar(np.arange(4),h)\n",
        "plt.xticks(np.arange(4), ('0-10 GeV', '10-30 GeV', '30-100 Gev', '> 100 GeV'))\n",
        "\n"
      ],
      "execution_count": 0,
      "outputs": [
        {
          "output_type": "execute_result",
          "data": {
            "text/plain": [
              "([<matplotlib.axis.XTick at 0x7f20fa726240>,\n",
              "  <matplotlib.axis.XTick at 0x7f20fa714898>,\n",
              "  <matplotlib.axis.XTick at 0x7f20fa7147f0>,\n",
              "  <matplotlib.axis.XTick at 0x7f20fa69fe80>],\n",
              " <a list of 4 Text xticklabel objects>)"
            ]
          },
          "metadata": {
            "tags": []
          },
          "execution_count": 15
        },
        {
          "output_type": "display_data",
          "data": {
            "image/png": "[encoded data removed]",
            "text/plain": [
              "<Figure size 432x288 with 1 Axes>"
            ]
          },
          "metadata": {
            "tags": []
          }
        }
      ]
    },
    {
      "cell_type": "code",
      "metadata": {
        "id": "Zq_7wnh1U2w7",
        "colab_type": "code",
        "colab": {}
      },
      "source": [
        "#build a dense model\n",
        "from tensorflow.keras import Model\n",
        "from tensorflow.keras.layers import Dense, Flatten, Conv2D, Input, Dropout,MaxPooling2D\n",
        "\n",
        "def FNN():\n",
        "\n",
        "  inp = Input(shape=(30,))\n",
        "  x = Dense(1000,activation='relu')(inp)\n",
        "  x = Dense(1000,activation='relu')(x)\n",
        "  x = Dropout(0.5)(x)\n",
        "  out = Dense(4)(x)\n",
        "\n",
        "  return Model(inputs=inp,outputs=out)\n",
        "\n"
      ],
      "execution_count": 0,
      "outputs": []
    },
    {
      "cell_type": "code",
      "metadata": {
        "id": "O8LTrtjbl41c",
        "colab_type": "code",
        "colab": {}
      },
      "source": [
        "#call the model\n",
        "model = FNN()"
      ],
      "execution_count": 0,
      "outputs": []
    },
    {
      "cell_type": "code",
      "metadata": {
        "id": "Nq7Elb8Cle80",
        "colab_type": "code",
        "colab": {}
      },
      "source": [
        "#compile the model\n",
        "model.compile(optimizer=tf.keras.optimizers.Adam(learning_rate=0.01),loss='sparse_categorical_crossentropy',metrics=['accuracy'] )"
      ],
      "execution_count": 0,
      "outputs": []
    },
    {
      "cell_type": "code",
      "metadata": {
        "id": "Nn9ZReqOmB5f",
        "colab_type": "code",
        "outputId": "183ea830-0bcd-4285-b58a-afdfb1fd4ae2",
        "colab": {
          "base_uri": "https://localhost:8080/",
          "height": 213
        }
      },
      "source": [
        "#train the model\n",
        "history=model.fit(train_data,pt,batch_size=128,epochs=5,validation_split=0.1)"
      ],
      "execution_count": 0,
      "outputs": [
        {
          "output_type": "stream",
          "text": [
            "Train on 2945106 samples, validate on 327235 samples\n",
            "Epoch 1/5\n",
            "2945106/2945106 [==============================] - 133s 45us/sample - loss: 3.6731 - accuracy: 0.7721 - val_loss: 3.6923 - val_accuracy: 0.7709\n",
            "Epoch 2/5\n",
            "2945106/2945106 [==============================] - 130s 44us/sample - loss: 3.6728 - accuracy: 0.7721 - val_loss: 3.6923 - val_accuracy: 0.7709\n",
            "Epoch 3/5\n",
            "2945106/2945106 [==============================] - 128s 44us/sample - loss: 3.6728 - accuracy: 0.7721 - val_loss: 3.6923 - val_accuracy: 0.7709\n",
            "Epoch 4/5\n",
            "2945106/2945106 [==============================] - 129s 44us/sample - loss: 3.6728 - accuracy: 0.7721 - val_loss: 3.6923 - val_accuracy: 0.7709\n",
            "Epoch 5/5\n",
            "2945106/2945106 [==============================] - 131s 45us/sample - loss: 3.6728 - accuracy: 0.7721 - val_loss: 3.6923 - val_accuracy: 0.7709\n"
          ],
          "name": "stdout"
        }
      ]
    },
    {
      "cell_type": "code",
      "metadata": {
        "id": "a8Dek8zYb5R1",
        "colab_type": "code",
        "colab": {}
      },
      "source": [
        "#defina a convolution nueral network model\n",
        "\n",
        "\n",
        "class CNN(Model):\n",
        "\n",
        "  def __init__(self):\n",
        "    super(CNN,self).__init__()\n",
        "\n",
        "    self.cnn1 = Conv2D(10,(2,2),activation='relu')\n",
        "    self.maxpool = MaxPooling2D((2,2))\n",
        "    self.flatten = Flatten()\n",
        "    self.dense1 = Dense(100,activation = 'relu')\n",
        "    self.out = Dense(4)\n",
        "\n",
        "  def call(self,x):\n",
        "\n",
        "    x = self.cnn1(x)\n",
        "    x = self.maxpool(x)\n",
        "    x = self.dense1(x)\n",
        "    x = self.flatten(x)\n",
        "\n",
        "    x = self.out(x)\n",
        "\n",
        "    return x"
      ],
      "execution_count": 0,
      "outputs": []
    },
    {
      "cell_type": "code",
      "metadata": {
        "id": "W3tU97uScGlZ",
        "colab_type": "code",
        "colab": {}
      },
      "source": [
        ""
      ],
      "execution_count": 0,
      "outputs": []
    },
    {
      "cell_type": "code",
      "metadata": {
        "id": "Yq-bzqixXLs0",
        "colab_type": "code",
        "colab": {}
      },
      "source": [
        "#loss object and optimizer\n",
        "loss_object = tf.keras.losses.SparseCategoricalCrossentropy(from_logits=True)\n",
        "opt = tf.keras.optimizers.Adam(learning_rate=0.01, beta_1=0.9, beta_2=0.999, amsgrad=False)\n",
        "\n"
      ],
      "execution_count": 0,
      "outputs": []
    },
    {
      "cell_type": "code",
      "metadata": {
        "id": "OeSjm6FzgagX",
        "colab_type": "code",
        "colab": {}
      },
      "source": [
        "#define loss and accuracy metrics for both train and val data\n",
        "\n",
        "train_loss = tf.keras.metrics.Mean(name='train_loss')\n",
        "train_accuracy = tf.keras.metrics.SparseCategoricalAccuracy(name='train_accuracy')\n",
        "\n",
        "test_loss = tf.keras.metrics.Mean(name='test_loss')\n",
        "test_accuracy = tf.keras.metrics.SparseCategoricalAccuracy(name='test_accuracy')"
      ],
      "execution_count": 0,
      "outputs": []
    },
    {
      "cell_type": "code",
      "metadata": {
        "id": "WmYIAO5vkpmA",
        "colab_type": "code",
        "colab": {}
      },
      "source": [
        "#defina a train step\n",
        "@tf.function\n",
        "def train_step(x, y):\n",
        "  with tf.GradientTape() as tape:\n",
        "    \n",
        "    predictions = model(x, training=True)\n",
        "    loss = loss_object(y, predictions)\n",
        "\n",
        "  gradients = tape.gradient(loss, model.trainable_variables)\n",
        "  opt.apply_gradients(zip(gradients, model.trainable_variables))\n",
        "\n",
        "  train_loss(loss)\n",
        "  train_accuracy(y, predictions)"
      ],
      "execution_count": 0,
      "outputs": []
    },
    {
      "cell_type": "code",
      "metadata": {
        "id": "h7zkD3TLdtwg",
        "colab_type": "code",
        "colab": {}
      },
      "source": [
        "model = CNN()"
      ],
      "execution_count": 0,
      "outputs": []
    },
    {
      "cell_type": "code",
      "metadata": {
        "id": "-hz7jIUDpkny",
        "colab_type": "code",
        "colab": {}
      },
      "source": [
        "#reshape the data\n",
        "train_data1=np.reshape(train_data,[train_data.shape[0],6,5,1])"
      ],
      "execution_count": 0,
      "outputs": []
    },
    {
      "cell_type": "code",
      "metadata": {
        "id": "YhQBicf6qR87",
        "colab_type": "code",
        "outputId": "e4449a39-4ccc-4704-af88-e10d53c0acdf",
        "colab": {
          "base_uri": "https://localhost:8080/",
          "height": 35
        }
      },
      "source": [
        "pt.shape"
      ],
      "execution_count": 0,
      "outputs": [
        {
          "output_type": "execute_result",
          "data": {
            "text/plain": [
              "(3272341,)"
            ]
          },
          "metadata": {
            "tags": []
          },
          "execution_count": 72
        }
      ]
    },
    {
      "cell_type": "code",
      "metadata": {
        "id": "VKDQNu3EoBB1",
        "colab_type": "code",
        "colab": {}
      },
      "source": [
        "from sklearn.model_selection import train_test_split\n",
        "x_train,x_test,y_train,y_test = train_test_split(train_data1, pt ,test_size=0.1, random_state=42)"
      ],
      "execution_count": 0,
      "outputs": []
    },
    {
      "cell_type": "code",
      "metadata": {
        "id": "p_yXYmQhrAyx",
        "colab_type": "code",
        "colab": {}
      },
      "source": [
        "BATCH_SIZE = 128\n",
        "\n",
        "train_dataset = tf.data.Dataset.from_tensor_slices((x_train,y_train))\n",
        "train_dataset = train_dataset.batch(BATCH_SIZE)\n",
        "\n",
        "test_dataset = tf.data.Dataset.from_tensor_slices((x_test,y_test)).batch(BATCH_SIZE)\n",
        "\n"
      ],
      "execution_count": 0,
      "outputs": []
    },
    {
      "cell_type": "code",
      "metadata": {
        "id": "6QLqCkhCdFEo",
        "colab_type": "code",
        "colab": {}
      },
      "source": [
        "\n",
        "def train(EPOCHS=5):\n",
        "\n",
        " #to store accuracy and loss of train,test\n",
        "  train_acc_plt = []\n",
        "  train_loss_plt = []\n",
        "  \n",
        "  for epoch in range(EPOCHS):\n",
        "    # Reset the metrics at the start of the next epoch\n",
        "    train_loss.reset_states()\n",
        "    train_accuracy.reset_states()\n",
        "    \n",
        "\n",
        " \n",
        "\n",
        "    for x,y in train_dataset:\n",
        "      train_step(x, y)\n",
        "\n",
        "    \n",
        "    train_loss_plt.append(train_loss.result())\n",
        "    train_acc_plt.append(train_accuracy.result()*100)\n",
        "    \n",
        "\n",
        "    template = 'Epoch {}, Loss: {}, Accuracy: {}'\n",
        "    print(template.format(epoch+1,\n",
        "                          train_loss.result(),\n",
        "                          train_accuracy.result()*100\n",
        "                          ))\n",
        "    \n",
        "  return train_loss_plt, train_acc_plt"
      ],
      "execution_count": 0,
      "outputs": []
    },
    {
      "cell_type": "code",
      "metadata": {
        "id": "ocSCvqn1nQna",
        "colab_type": "code",
        "outputId": "9ddd7cc6-4d59-40c4-bdac-1df953b3aac6",
        "colab": {
          "base_uri": "https://localhost:8080/",
          "height": 106
        }
      },
      "source": [
        "loss_,acc_=train(EPOCHS=5)"
      ],
      "execution_count": 0,
      "outputs": [
        {
          "output_type": "stream",
          "text": [
            "Epoch 1, Loss: 0.5862486958503723, Accuracy: 79.55876922607422\n",
            "Epoch 2, Loss: 0.4923819601535797, Accuracy: 81.52406311035156\n",
            "Epoch 3, Loss: 0.4866178035736084, Accuracy: 81.72103118896484\n",
            "Epoch 4, Loss: 0.4851222336292267, Accuracy: 81.76976013183594\n",
            "Epoch 5, Loss: 0.48535364866256714, Accuracy: 81.76826477050781\n"
          ],
          "name": "stdout"
        }
      ]
    },
    {
      "cell_type": "code",
      "metadata": {
        "id": "XVB2Ocxq2AhK",
        "colab_type": "code",
        "outputId": "ada89f22-d94c-46c6-eb3c-2a644cc477ed",
        "colab": {
          "base_uri": "https://localhost:8080/",
          "height": 35
        }
      },
      "source": [
        "y_test.shape"
      ],
      "execution_count": 0,
      "outputs": [
        {
          "output_type": "execute_result",
          "data": {
            "text/plain": [
              "(327235,)"
            ]
          },
          "metadata": {
            "tags": []
          },
          "execution_count": 76
        }
      ]
    },
    {
      "cell_type": "code",
      "metadata": {
        "id": "ThwGiUtk0rod",
        "colab_type": "code",
        "colab": {}
      },
      "source": [
        "#function to eval test data\n",
        "def eval(x_test,y_test):\n",
        "  predictions = model(x_test)\n",
        "  acc = test_accuracy(y_test,predictions)\n",
        "  \n",
        "  return predictions,acc"
      ],
      "execution_count": 0,
      "outputs": []
    },
    {
      "cell_type": "code",
      "metadata": {
        "id": "jZOp03hU1rn_",
        "colab_type": "code",
        "colab": {}
      },
      "source": [
        "y_pred,test_acc=eval(x_test,y_test)"
      ],
      "execution_count": 0,
      "outputs": []
    },
    {
      "cell_type": "code",
      "metadata": {
        "id": "Sq5HobnK52m4",
        "colab_type": "code",
        "outputId": "ab4a1e33-2111-4e71-c8d4-700c59e66b41",
        "colab": {
          "base_uri": "https://localhost:8080/",
          "height": 35
        }
      },
      "source": [
        "#Test accuracy\n",
        "print('Test Acc = ',test_acc.numpy() )"
      ],
      "execution_count": 0,
      "outputs": [
        {
          "output_type": "stream",
          "text": [
            "Test Acc =  0.80497503\n"
          ],
          "name": "stdout"
        }
      ]
    },
    {
      "cell_type": "code",
      "metadata": {
        "id": "TPKmMM2u-pVe",
        "colab_type": "code",
        "colab": {}
      },
      "source": [
        "#get confusion matrix\n",
        " confusion_matrix = tf.math.confusion_matrix(y_test ,tf.math.argmax(y_pred,axis=1))\n"
      ],
      "execution_count": 0,
      "outputs": []
    },
    {
      "cell_type": "code",
      "metadata": {
        "id": "XCLPLbvZGI2I",
        "colab_type": "code",
        "outputId": "54b11d33-e084-42e2-ccb7-9410f0690b76",
        "colab": {
          "base_uri": "https://localhost:8080/",
          "height": 286
        }
      },
      "source": [
        "#draw confusion  matrix\n",
        "sns.set(font_scale=1) # for label size\n",
        "sns.heatmap(confusion_matrix, annot=True, annot_kws={\"size\": 10}) # font size"
      ],
      "execution_count": 0,
      "outputs": [
        {
          "output_type": "execute_result",
          "data": {
            "text/plain": [
              "<matplotlib.axes._subplots.AxesSubplot at 0x7ff299f14978>"
            ]
          },
          "metadata": {
            "tags": []
          },
          "execution_count": 135
        },
        {
          "output_type": "display_data",
          "data": {
            "image/png": "[encoded data removed]",
            "text/plain": [
              "<Figure size 432x288 with 2 Axes>"
            ]
          },
          "metadata": {
            "tags": []
          }
        }
      ]
    },
    {
      "cell_type": "code",
      "metadata": {
        "id": "GHnWUeStwyNq",
        "colab_type": "code",
        "outputId": "3a6ab1de-7702-419f-9276-f075581bbc32",
        "colab": {
          "base_uri": "https://localhost:8080/",
          "height": 639
        }
      },
      "source": [
        "#plot accuracy\n",
        "fig = plt.figure(figsize=(10,10))\n",
        "\n",
        "plt.subplot(2,2,1)\n",
        "\n",
        "plt.plot(history.history['accuracy'])\n",
        "plt.plot(acc_)\n",
        "plt.title('Model accuracy')\n",
        "plt.ylabel('Accuracy')\n",
        "plt.xlabel('Epoch')\n",
        "plt.legend(['FNN Acc', 'CNN Acc'], loc='upper left')\n",
        "\n",
        "plt.subplot(2,2,2)\n",
        "\n",
        "plt.plot(history.history['loss'])\n",
        "plt.plot(loss_)\n",
        "plt.title('Model loss')\n",
        "plt.ylabel('Loss')\n",
        "plt.xlabel('Epoch')\n",
        "plt.legend(['FNN Loss', 'CNN Loss'], loc='upper left')\n",
        "\n",
        "plt.subplot(2,2,3)\n",
        "\n",
        "\n",
        "plt.plot(history.history['val_accuracy'])\n",
        "plt.plot(history.history['val_loss'])\n",
        "plt.title('FNN Model Val Loss and Acc')\n",
        "plt.legend(['FNN Acc', 'Val Loss'], loc='upper left')\n",
        "plt.xlabel('Epoch')\n",
        "\n",
        "plt.subplot(2,2,4)\n",
        "\n",
        "\n",
        "\n",
        "\n",
        "\n",
        "\n"
      ],
      "execution_count": 0,
      "outputs": [
        {
          "output_type": "execute_result",
          "data": {
            "text/plain": [
              "<matplotlib.axes._subplots.AxesSubplot at 0x7f2f2e3f23c8>"
            ]
          },
          "metadata": {
            "tags": []
          },
          "execution_count": 38
        },
        {
          "output_type": "display_data",
          "data": {
            "image/png": "[encoded data removed]",
            "text/plain": [
              "<Figure size 720x720 with 4 Axes>"
            ]
          },
          "metadata": {
            "tags": []
          }
        }
      ]
    },
    {
      "cell_type": "markdown",
      "metadata": {
        "id": "e9MUPeUt6iTB",
        "colab_type": "text"
      },
      "source": [
        "As seen from the plot using CNN over FNN,The accuarcy increased by 3% wrt 77% in FNN and 80% in CNN on test data."
      ]
    },
    {
      "cell_type": "code",
      "metadata": {
        "id": "X7Vs6-d8Hmj8",
        "colab_type": "code",
        "colab": {}
      },
      "source": [
        ""
      ],
      "execution_count": 0,
      "outputs": []
    },
    {
      "cell_type": "markdown",
      "metadata": {
        "id": "vxTeCEMuHnvE",
        "colab_type": "text"
      },
      "source": [
        "We will now train the model to estimate momentum"
      ]
    },
    {
      "cell_type": "code",
      "metadata": {
        "id": "Z4X7wfc40p7L",
        "colab_type": "code",
        "colab": {}
      },
      "source": [
        "#model for regression\n",
        "class CNN_Reg(Model):\n",
        "\n",
        "  def __init__(self):\n",
        "    super(CNN_Reg,self).__init__()\n",
        "\n",
        "    self.cnn1 = Conv2D(10,(2,2),activation='relu')\n",
        "    self.maxpool = MaxPooling2D((2,2))\n",
        "    self.flatten = Flatten()\n",
        "    self.dense1 = Dense(100,activation = 'relu')\n",
        "    self.out = Dense(1)\n",
        "\n",
        "  def call(self,x):\n",
        "\n",
        "    x = self.cnn1(x)\n",
        "    x = self.maxpool(x)\n",
        "    x = self.dense1(x)\n",
        "    x = self.flatten(x)\n",
        "\n",
        "    x = self.out(x)\n",
        "\n",
        "    return x"
      ],
      "execution_count": 0,
      "outputs": []
    },
    {
      "cell_type": "code",
      "metadata": {
        "id": "JI3rUT5gISWd",
        "colab_type": "code",
        "colab": {}
      },
      "source": [
        "#load data\n",
        "data = np.load(os.path.join(path,filename))\n",
        "pt_ = np.abs(data['parameters'][:,0])\n"
      ],
      "execution_count": 0,
      "outputs": []
    },
    {
      "cell_type": "code",
      "metadata": {
        "id": "lEOAWXLMMdsD",
        "colab_type": "code",
        "outputId": "9da00b91-63ae-4f7a-a5af-d1986fcb98fb",
        "colab": {
          "base_uri": "https://localhost:8080/",
          "height": 53
        }
      },
      "source": [
        "pt_"
      ],
      "execution_count": 0,
      "outputs": [
        {
          "output_type": "execute_result",
          "data": {
            "text/plain": [
              "array([0.4456128 , 0.35296607, 0.16274202, ..., 0.06879503, 0.00109554,\n",
              "       0.41426006], dtype=float32)"
            ]
          },
          "metadata": {
            "tags": []
          },
          "execution_count": 157
        }
      ]
    },
    {
      "cell_type": "code",
      "metadata": {
        "id": "38pl1J1OKvCD",
        "colab_type": "code",
        "colab": {}
      },
      "source": [
        "train_data_reg = np.reshape(train_data,[train_data.shape[0],6,5,1])"
      ],
      "execution_count": 0,
      "outputs": []
    },
    {
      "cell_type": "code",
      "metadata": {
        "id": "vZb4G-unIEFH",
        "colab_type": "code",
        "colab": {}
      },
      "source": [
        "#buidl a model\n",
        "model=CNN_Reg()"
      ],
      "execution_count": 0,
      "outputs": []
    },
    {
      "cell_type": "code",
      "metadata": {
        "id": "B5z02QFxHwI7",
        "colab_type": "code",
        "colab": {}
      },
      "source": [
        "#compile the model\n",
        "model.compile(optimizer='adam',loss='mse',metrics=['mae', 'mse'])"
      ],
      "execution_count": 0,
      "outputs": []
    },
    {
      "cell_type": "code",
      "metadata": {
        "id": "uqQT3ieuIPvB",
        "colab_type": "code",
        "outputId": "6e52a426-9687-4fb2-c3eb-e6e7c4e1a95d",
        "colab": {
          "base_uri": "https://localhost:8080/",
          "height": 233
        }
      },
      "source": [
        "his=model.fit(train_data_reg,pt_,epochs=5,batch_size=128,validation_split=0.1)"
      ],
      "execution_count": 0,
      "outputs": [
        {
          "output_type": "stream",
          "text": [
            "Train on 2945106 samples, validate on 327235 samples\n",
            "Epoch 1/5\n",
            "2945106/2945106 [==============================] - 91s 31us/sample - loss: 0.0083 - mae: 0.0688 - mse: 0.0083 - val_loss: 0.0056 - val_mae: 0.0542 - val_mse: 0.0056\n",
            "Epoch 2/5\n",
            "2945106/2945106 [==============================] - 91s 31us/sample - loss: 0.0055 - mae: 0.0535 - mse: 0.0055 - val_loss: 0.0052 - val_mae: 0.0511 - val_mse: 0.0052\n",
            "Epoch 3/5\n",
            "2945106/2945106 [==============================] - 90s 31us/sample - loss: 0.0053 - mae: 0.0520 - mse: 0.0053 - val_loss: 0.0049 - val_mae: 0.0501 - val_mse: 0.0049\n",
            "Epoch 4/5\n",
            "2945106/2945106 [==============================] - 88s 30us/sample - loss: 0.0051 - mae: 0.0511 - mse: 0.0051 - val_loss: 0.0052 - val_mae: 0.0522 - val_mse: 0.0052\n",
            "Epoch 5/5\n",
            "2945106/2945106 [==============================] - 88s 30us/sample - loss: 0.0048 - mae: 0.0500 - mse: 0.0048 - val_loss: 0.0046 - val_mae: 0.0485 - val_mse: 0.0046\n"
          ],
          "name": "stdout"
        }
      ]
    },
    {
      "cell_type": "code",
      "metadata": {
        "id": "pIs1DD7NOYLB",
        "colab_type": "code",
        "outputId": "c9ffa656-35d9-4729-a759-d51895a5c4b2",
        "colab": {
          "base_uri": "https://localhost:8080/",
          "height": 319
        }
      },
      "source": [
        "#plot mse \n",
        "plt.plot(hist.history['mse'])\n",
        "plt.plot(hist.history['val_mse'])\n",
        "plt.title('CNN Model MSE')\n",
        "plt.ylabel('Error')\n",
        "plt.xlabel('Epoch')\n",
        "plt.legend(['Train', 'Test'], loc='upper left')\n"
      ],
      "execution_count": 0,
      "outputs": [
        {
          "output_type": "execute_result",
          "data": {
            "text/plain": [
              "<matplotlib.legend.Legend at 0x7ff2962f1d68>"
            ]
          },
          "metadata": {
            "tags": []
          },
          "execution_count": 170
        },
        {
          "output_type": "display_data",
          "data": {
            "image/png": "[encoded data removed]",
            "text/plain": [
              "<Figure size 432x288 with 1 Axes>"
            ]
          },
          "metadata": {
            "tags": []
          }
        }
      ]
    },
    {
      "cell_type": "code",
      "metadata": {
        "id": "zViTMv5UPsOg",
        "colab_type": "code",
        "outputId": "6d94bd14-ba79-40de-d2b6-dc2fe2830ad8",
        "colab": {
          "base_uri": "https://localhost:8080/",
          "height": 319
        }
      },
      "source": [
        "#plot mse \n",
        "plt.plot(hist.history['mae'])\n",
        "plt.plot(hist.history['val_mae'])\n",
        "plt.title('CNN Model MAE')\n",
        "plt.ylabel('Error')\n",
        "plt.xlabel('Epoch')\n",
        "plt.legend(['Train', 'Test'], loc='upper left')\n"
      ],
      "execution_count": 0,
      "outputs": [
        {
          "output_type": "execute_result",
          "data": {
            "text/plain": [
              "<matplotlib.legend.Legend at 0x7ff296257198>"
            ]
          },
          "metadata": {
            "tags": []
          },
          "execution_count": 171
        },
        {
          "output_type": "display_data",
          "data": {
            "image/png": "[encoded data removed]",
            "text/plain": [
              "<Figure size 432x288 with 1 Axes>"
            ]
          },
          "metadata": {
            "tags": []
          }
        }
      ]
    }
  ]
}
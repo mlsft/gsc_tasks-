{
  "nbformat": 4,
  "nbformat_minor": 0,
  "metadata": {
    "colab": {
      "name": "cms_optional_task.ipynb",
      "provenance": [],
      "collapsed_sections": []
    },
    "kernelspec": {
      "name": "python3",
      "display_name": "Python 3"
    },
    "accelerator": "GPU"
  },
  "cells": [
    {
      "cell_type": "markdown",
      "metadata": {
        "id": "p6qtawEK3OZQ",
        "colab_type": "text"
      },
      "source": [
        "\n",
        "\n",
        "GSOC'20 **Optional Task** for Deep Learning Algorithms for Muon Momentum Estimation in the CMS Trigger System\n",
        "\n",
        "by Shubham Shaswat\n",
        "\n",
        "Email: shaswat.cpp@gmail.com"
      ]
    },
    {
      "cell_type": "code",
      "metadata": {
        "id": "XCyV6pnw3mTb",
        "colab_type": "code",
        "colab": {}
      },
      "source": [
        ""
      ],
      "execution_count": 0,
      "outputs": []
    },
    {
      "cell_type": "code",
      "metadata": {
        "id": "Nfxgj_jATG2M",
        "colab_type": "code",
        "outputId": "4e60d902-1e19-48e9-efa3-262f6a03d1a6",
        "colab": {
          "base_uri": "https://localhost:8080/",
          "height": 35
        }
      },
      "source": [
        "%tensorflow_version 2.x\n",
        "import tensorflow as tf\n",
        "\n",
        "import tensorflow.keras as K\n",
        "import numpy as np\n",
        "import tensorflow as tf\n",
        "import matplotlib as mpl\n",
        "import matplotlib.pyplot as plt\n",
        "import pandas as pd\n",
        "\n"
      ],
      "execution_count": 0,
      "outputs": [
        {
          "output_type": "stream",
          "text": [
            "TensorFlow 2.x selected.\n"
          ],
          "name": "stdout"
        }
      ]
    },
    {
      "cell_type": "code",
      "metadata": {
        "id": "wb1QgprbTWcI",
        "colab_type": "code",
        "colab": {}
      },
      "source": [
        "#enable xla \n",
        "tf.config.optimizer.set_jit(True)"
      ],
      "execution_count": 0,
      "outputs": []
    },
    {
      "cell_type": "code",
      "metadata": {
        "id": "kBdmUOlMTWj8",
        "colab_type": "code",
        "outputId": "eb56b540-ede3-4c26-8bab-f8a5749539b0",
        "colab": {
          "base_uri": "https://localhost:8080/",
          "height": 126
        }
      },
      "source": [
        "from google.colab import drive\n",
        "drive.mount('/content/drive')"
      ],
      "execution_count": 0,
      "outputs": [
        {
          "output_type": "stream",
          "text": [
            "Go to this URL in a browser: https://accounts.google.com/o/oauth2/auth?client_id=947318989803-6bn6qk8qdgf4n4g3pfee6491hc0brc4i.apps.googleusercontent.com&redirect_uri=urn%3aietf%3awg%3aoauth%3a2.0%3aoob&response_type=code&scope=email%20https%3a%2f%2fwww.googleapis.com%2fauth%2fdocs.test%20https%3a%2f%2fwww.googleapis.com%2fauth%2fdrive%20https%3a%2f%2fwww.googleapis.com%2fauth%2fdrive.photos.readonly%20https%3a%2f%2fwww.googleapis.com%2fauth%2fpeopleapi.readonly\n",
            "\n",
            "Enter your authorization code:\n",
            "··········\n",
            "Mounted at /content/drive\n"
          ],
          "name": "stdout"
        }
      ]
    },
    {
      "cell_type": "code",
      "metadata": {
        "id": "2BVo91mYTWf7",
        "colab_type": "code",
        "colab": {}
      },
      "source": [
        "#path and filename of data \n",
        "path = 'drive/My Drive/Colab Data/cern'\n",
        "filename = 'histos_tba.20.npz'"
      ],
      "execution_count": 0,
      "outputs": []
    },
    {
      "cell_type": "code",
      "metadata": {
        "id": "xn_Bcd6VTsoy",
        "colab_type": "code",
        "outputId": "3edf1fe3-9307-4c33-ae0c-880491fe26ba",
        "colab": {
          "base_uri": "https://localhost:8080/",
          "height": 35
        }
      },
      "source": [
        "import os\n",
        "os.listdir(path)"
      ],
      "execution_count": 0,
      "outputs": [
        {
          "output_type": "execute_result",
          "data": {
            "text/plain": [
              "['histos_tba.20.npz']"
            ]
          },
          "metadata": {
            "tags": []
          },
          "execution_count": 5
        }
      ]
    },
    {
      "cell_type": "code",
      "metadata": {
        "id": "qLGb7j1ETmC4",
        "colab_type": "code",
        "outputId": "bd9a6773-ac01-4be2-dc3c-b8645dd62b37",
        "colab": {
          "base_uri": "https://localhost:8080/",
          "height": 35
        }
      },
      "source": [
        "#loading the data\n",
        "data = np.load(os.path.join(path,filename))\n",
        "lst = data.files\n",
        "print(lst)"
      ],
      "execution_count": 0,
      "outputs": [
        {
          "output_type": "stream",
          "text": [
            "['variables', 'parameters']\n"
          ],
          "name": "stdout"
        }
      ]
    },
    {
      "cell_type": "code",
      "metadata": {
        "id": "sOFGJCumTvMQ",
        "colab_type": "code",
        "outputId": "0eef4756-5cce-43e7-8a0c-c2dad153ed15",
        "colab": {
          "base_uri": "https://localhost:8080/",
          "height": 35
        }
      },
      "source": [
        "#shape of the data\n",
        "print(data['variables'].shape)"
      ],
      "execution_count": 0,
      "outputs": [
        {
          "output_type": "stream",
          "text": [
            "(3272341, 87)\n"
          ],
          "name": "stdout"
        }
      ]
    },
    {
      "cell_type": "code",
      "metadata": {
        "id": "vWM3KD_nUQwg",
        "colab_type": "code",
        "colab": {}
      },
      "source": [
        "#load data features for CSC\n",
        "\n",
        "phi = data['variables'][:,0:5]\n",
        "theta = data['variables'][:,12:17]\n",
        "bending_angle = data['variables'][:,24:29]\n",
        "ring = data['variables'][:,48:53]\n",
        "hit = data['variables'][:,60:65]\n",
        "mask = data['variables'][:,72:77]\n",
        "\n"
      ],
      "execution_count": 0,
      "outputs": []
    },
    {
      "cell_type": "code",
      "metadata": {
        "id": "v8x25EB-UVsC",
        "colab_type": "code",
        "colab": {}
      },
      "source": [
        "#contenate to make single array\n",
        "train_data = np.concatenate((phi,theta,bending_angle,ring,hit,mask),axis=1)"
      ],
      "execution_count": 0,
      "outputs": []
    },
    {
      "cell_type": "code",
      "metadata": {
        "id": "jNbhpy6iUQ6p",
        "colab_type": "code",
        "colab": {}
      },
      "source": [
        "#load transvere momentum\n",
        "pt=np.abs(1/(data['parameters'][:,0]))\n"
      ],
      "execution_count": 0,
      "outputs": []
    },
    {
      "cell_type": "code",
      "metadata": {
        "id": "r2AnN41KUQ-M",
        "colab_type": "code",
        "colab": {}
      },
      "source": [
        "#replace the nan with 0\n",
        "mask_ = np.isnan(train_data)\n",
        "train_data = np.where(mask_,0,train_data)"
      ],
      "execution_count": 0,
      "outputs": []
    },
    {
      "cell_type": "code",
      "metadata": {
        "id": "wESoAftJUgVj",
        "colab_type": "code",
        "colab": {}
      },
      "source": [
        "#calucate max and min of the x_train along the colums\n",
        "max_arr = np.max(train_data,axis=0)\n",
        "min_arr = np.min(train_data,axis=0)\n"
      ],
      "execution_count": 0,
      "outputs": []
    },
    {
      "cell_type": "code",
      "metadata": {
        "id": "jHEopMBxUiUI",
        "colab_type": "code",
        "colab": {}
      },
      "source": [
        "#normalise the trainig data\n",
        "train_data = (train_data-min_arr)/(max_arr - min_arr)"
      ],
      "execution_count": 0,
      "outputs": []
    },
    {
      "cell_type": "code",
      "metadata": {
        "id": "RmHwxRMFUnAj",
        "colab_type": "code",
        "outputId": "12a3a89d-00f3-4cb7-b0d2-59ca9dcee0c2",
        "colab": {
          "base_uri": "https://localhost:8080/",
          "height": 608
        }
      },
      "source": [
        "#distribution plots for each features after normalisation\n",
        "import seaborn as sns\n",
        "fig = plt.figure(figsize=(10,10))\n",
        "labels = ['phi','theta','bending_angle','ring','hit','mask']\n",
        "for i in range(30):\n",
        "  plt.subplot(6,5,i+1)\n",
        "  plt.title(labels[i%5])\n",
        "  sns.distplot(train_data[:,i])"
      ],
      "execution_count": 0,
      "outputs": [
        {
          "output_type": "display_data",
          "data": {
            "image/png": "[encoded data removed]",
            "text/plain": [
              "<Figure size 720x720 with 30 Axes>"
            ]
          },
          "metadata": {
            "tags": []
          }
        }
      ]
    },
    {
      "cell_type": "code",
      "metadata": {
        "id": "5m_b9YNYUoD0",
        "colab_type": "code",
        "colab": {}
      },
      "source": [
        "#load tanseverse momentume into 4 categories\n",
        "\n",
        "pt[np.where(pt < 10)] = 0\n",
        "pt[np.where((pt >= 10 )& (pt < 30))] = 1\n",
        "pt[np.where((pt < 100 )& (pt >= 30))] = 2\n",
        "pt[np.where(pt >= 100 )] =3\n",
        " "
      ],
      "execution_count": 0,
      "outputs": []
    },
    {
      "cell_type": "code",
      "metadata": {
        "id": "wwaPqVK5Uy1S",
        "colab_type": "code",
        "colab": {}
      },
      "source": [
        "#defina a function to free mem\n",
        "\n",
        "del data\n",
        "del phi\n",
        "del theta\n",
        "del bending_angle\n",
        "del ring\n",
        "del hit\n",
        "del max_arr\n",
        "del min_arr\n",
        "del mask\n",
        "del mask_\n"
      ],
      "execution_count": 0,
      "outputs": []
    },
    {
      "cell_type": "code",
      "metadata": {
        "id": "xP6Q-QuiU1AM",
        "colab_type": "code",
        "colab": {}
      },
      "source": [
        "#calculate the sum of labels\n",
        "h=[]\n",
        "for i in range(4):\n",
        "  h.append(len(pt[pt==i]))\n"
      ],
      "execution_count": 0,
      "outputs": []
    },
    {
      "cell_type": "code",
      "metadata": {
        "id": "nuM-vhhCU3yr",
        "colab_type": "code",
        "outputId": "d590fc25-0021-42b9-937d-86017d43312e",
        "colab": {
          "base_uri": "https://localhost:8080/",
          "height": 282
        }
      },
      "source": [
        "#plot bar for tansverse momentum labels\n",
        "\n",
        "plt.bar(np.arange(4),h)\n"
      ],
      "execution_count": 0,
      "outputs": [
        {
          "output_type": "execute_result",
          "data": {
            "text/plain": [
              "<BarContainer object of 4 artists>"
            ]
          },
          "metadata": {
            "tags": []
          },
          "execution_count": 40
        },
        {
          "output_type": "display_data",
          "data": {
            "image/png": "[encoded data removed]",
            "text/plain": [
              "<Figure size 432x288 with 1 Axes>"
            ]
          },
          "metadata": {
            "tags": []
          }
        }
      ]
    },
    {
      "cell_type": "code",
      "metadata": {
        "id": "40dkHf1DU5Br",
        "colab_type": "code",
        "colab": {}
      },
      "source": [
        "lr = 0.01 #learning rate\n",
        "\n",
        "#loss object and optimizer\n",
        "loss_object = tf.keras.losses.SparseCategoricalCrossentropy(from_logits=True)\n",
        "opt = tf.keras.optimizers.Adam(learning_rate=lr, beta_1=0.9, beta_2=0.999, amsgrad=False)\n",
        "\n",
        "#define loss and accuracy metrics for both train and val data\n",
        "\n",
        "train_loss = tf.keras.metrics.Mean(name='train_loss')\n",
        "train_accuracy = tf.keras.metrics.SparseCategoricalAccuracy(name='train_accuracy')\n",
        "\n",
        "test_loss = tf.keras.metrics.Mean(name='test_loss')\n",
        "test_accuracy = tf.keras.metrics.SparseCategoricalAccuracy(name='test_accuracy')\n"
      ],
      "execution_count": 0,
      "outputs": []
    },
    {
      "cell_type": "code",
      "metadata": {
        "id": "6LMhWAyEVFhk",
        "colab_type": "code",
        "colab": {}
      },
      "source": [
        "#defina a train step\n",
        "@tf.function\n",
        "def train_step(x, A,y):\n",
        "  with tf.GradientTape() as tape:\n",
        "    \n",
        "    predictions = model(x,A, training=True)\n",
        "    loss = loss_object(y, predictions)\n",
        "\n",
        "\n",
        "  gradients = tape.gradient(loss, model.trainable_variables)\n",
        "  opt.apply_gradients(zip(gradients, model.trainable_variables))\n",
        "\n",
        "  train_loss(loss)\n",
        "  train_accuracy(y, predictions)\n",
        "\n"
      ],
      "execution_count": 0,
      "outputs": []
    },
    {
      "cell_type": "code",
      "metadata": {
        "id": "au64rN2nU5aV",
        "colab_type": "code",
        "colab": {}
      },
      "source": [
        "#define a test step\n",
        "@tf.function\n",
        "def test_step(x,A, y):\n",
        "  \n",
        "    \n",
        "  predictions = model(x, A,training=False)\n",
        "  t_loss = loss_object(y, predictions)\n",
        "\n",
        "\n",
        "  test_loss(t_loss)\n",
        "  test_accuracy(y, predictions)\n",
        "\n"
      ],
      "execution_count": 0,
      "outputs": []
    },
    {
      "cell_type": "code",
      "metadata": {
        "id": "6lTGJH0kU5fn",
        "colab_type": "code",
        "colab": {}
      },
      "source": [
        "import time\n",
        "\n",
        "\n",
        "#function to train the model\n",
        "def train(train_dataset,test_dataset,EPOCHS=2):\n",
        "\n",
        "  acc_plot=[]\n",
        "  loss_plot=[]\n",
        "  t_acc=[]\n",
        "  t_loss=[]\n",
        "\n",
        "  for epoch in range(EPOCHS):\n",
        "\n",
        "    #start time\n",
        "    t0 = time.time()\n",
        "\n",
        "\n",
        "\n",
        "    # Reset the metrics at the start of the next epoch\n",
        "    train_loss.reset_states()\n",
        "    train_accuracy.reset_states()\n",
        "    test_loss.reset_states()\n",
        "    test_accuracy.reset_states()\n",
        "\n",
        "    \n",
        "\n",
        "    for x,A,y in train_dataset:\n",
        "     train_step(x,A,y)\n",
        "    \n",
        "\n",
        "    for x,A,y in test_dataset:\n",
        "      test_step(x,A, y)\n",
        "    \n",
        "\n",
        "    acc_plot.append(train_accuracy.result()*100)\n",
        "    loss_plot.append(train_loss.result())\n",
        "    \n",
        "   \n",
        "    t_acc.append(test_accuracy.result()*100)\n",
        "    t_loss.append(test_loss.result())\n",
        "    \n",
        "\n",
        "    template = 'Epoch {}, Loss: {}, Accuracy: {}, Test Loss: {}, Test Accuracy: {}, Time {:.4f}  '\n",
        "    print(template.format(epoch+1,\n",
        "                          train_loss.result(),\n",
        "                          train_accuracy.result()*100,\n",
        "                          test_loss.result(),\n",
        "                          test_accuracy.result()*100,\n",
        "                          time.time()-t0\n",
        "                          ))\n",
        "    \n",
        "  return acc_plot,t_acc,loss_plot,t_loss\n"
      ],
      "execution_count": 0,
      "outputs": []
    },
    {
      "cell_type": "code",
      "metadata": {
        "id": "hqw0OvZQVqlH",
        "colab_type": "code",
        "colab": {}
      },
      "source": [
        "\n",
        "from tensorflow.keras import Model\n",
        "\n",
        "from tensorflow.keras.layers import Dense, Flatten, Conv2D, Input, Dropout,MaxPooling2D,GRUCell,RNN,Layer\n",
        "\n",
        "\n",
        "\"\"\"\n",
        "The code is copied from the below mentionde URL\n",
        "credits = https://github.com/SeongokRyu/Graph-neural-networks/blob/master/tutorials/ggnn.ipynb\n",
        "The code is modified to be comaptible with TF2.0 \n",
        "\"\"\"\n",
        "\n",
        "#buidling a MPNN Model modeified for binary classification for the jet data\n",
        "\n",
        "\n",
        "\"\"\"\n",
        "  Parameters:\n",
        "  -----------------------\n",
        "  num_nodes : the number of nodes graph have\n",
        "  input_dim : the nodes features dimension\n",
        "  output_dim : the output dimension of the nodes\n",
        "  -----------------------\n",
        "\n",
        "\"\"\"\n",
        "\n",
        "class MPNN(Model):\n",
        "\n",
        "  def __init__(self,num_nodes,input_dim,output_dim):\n",
        "    super(MPNN,self).__init__()\n",
        "\n",
        "    self.num_nodes = num_nodes\n",
        "    self.input_dim = input_dim\n",
        "    self.output_dim = output_dim\n",
        "    self.dense1 = Dense(output_dim)\n",
        "    self.gru_cell1 = GRUCell(output_dim) #GRU cell\n",
        "    self.rnn = RNN(self.gru_cell1)\n",
        "    self.dense2 = Dense(num_nodes,activation='relu') #Dense layer tp aggregate outputs of the all the nodes\n",
        "    self.dense3 = Dense(4,activation='softmax') #Dense layer for classification\n",
        "    \n",
        "\n",
        "  def call(self,X,A):\n",
        "\n",
        "    X = self.dense1(X)\n",
        "    _m = tf.matmul(A,X)\n",
        "\n",
        "    X_total=[]\n",
        "    for i in range(self.num_nodes):\n",
        "      mi = tf.expand_dims(_m[:,i,:],1)\n",
        "      hi = X[:,i,:]\n",
        "      _h = self.rnn(mi,initial_state=hi)\n",
        "      X_total.append(tf.expand_dims(_h,1))\n",
        "\n",
        "    out =tf.concat(X_total,axis=1)\n",
        "    out = tf.squeeze(out,axis=-1)\n",
        "\n",
        "    out = self.dense2(out) \n",
        "    out = self.dense3(out)\n",
        "    \n",
        "    return out\n",
        "\n"
      ],
      "execution_count": 0,
      "outputs": []
    },
    {
      "cell_type": "code",
      "metadata": {
        "id": "UkZ0E7KAY6-q",
        "colab_type": "code",
        "colab": {}
      },
      "source": [
        "#reshape the train data\n",
        "train_data1=np.reshape(train_data,[train_data.shape[0],5,6])"
      ],
      "execution_count": 0,
      "outputs": []
    },
    {
      "cell_type": "code",
      "metadata": {
        "id": "iWMp1wlxVYQZ",
        "colab_type": "code",
        "colab": {}
      },
      "source": [
        "#split into train and test data,80% train data and 20% test data\n",
        "from sklearn.model_selection import train_test_split\n",
        "x_train,x_test,y_train,y_test = train_test_split(train_data1, pt, test_size=0.8, random_state=42)"
      ],
      "execution_count": 0,
      "outputs": []
    },
    {
      "cell_type": "markdown",
      "metadata": {
        "id": "77Go3te06rMX",
        "colab_type": "text"
      },
      "source": [
        ""
      ]
    },
    {
      "cell_type": "code",
      "metadata": {
        "id": "hfRCd5yPYyi3",
        "colab_type": "code",
        "colab": {}
      },
      "source": [
        "#our Adjancey Matrix\n",
        "_A=np.array([[1.,1.,0.,0.,0.],\n",
        "            [0.,1.,1.,0.,0.],\n",
        "            [0.,0.,1.,1.,0.],\n",
        "            [0.,0.,0.,1.,1.],\n",
        "            [0.,0.,0.,0.,1.]])"
      ],
      "execution_count": 0,
      "outputs": []
    },
    {
      "cell_type": "code",
      "metadata": {
        "id": "nvUycp2HU5ds",
        "colab_type": "code",
        "colab": {}
      },
      "source": [
        "#define a map fn\n",
        "#A is our Adjancey Matrix\n",
        "\n",
        "\n",
        "def map_fn(x,y):\n",
        "  #A = tf.constant(_A,dtype=np.float32)\n",
        "  A = tf.ones((5,5))\n",
        "  return x,A,y"
      ],
      "execution_count": 0,
      "outputs": []
    },
    {
      "cell_type": "code",
      "metadata": {
        "id": "M0M6ke2WW-BE",
        "colab_type": "code",
        "colab": {}
      },
      "source": [
        "#create input pipeline\n",
        "BATCH_SIZE = 64\n",
        "train_dataset = tf.data.Dataset.from_tensor_slices((x_train,y_train))\n",
        "train_dataset = train_dataset.map(map_fn)\n",
        "train_dataset = train_dataset.batch(BATCH_SIZE)\n",
        "\n",
        "test_dataset = tf.data.Dataset.from_tensor_slices((x_test,y_test))\n",
        "test_dataset = test_dataset.map(map_fn)\n",
        "test_dataset = test_dataset.batch(BATCH_SIZE)\n",
        "\n"
      ],
      "execution_count": 0,
      "outputs": []
    },
    {
      "cell_type": "code",
      "metadata": {
        "id": "5xgwPab8YO5w",
        "colab_type": "code",
        "colab": {}
      },
      "source": [
        "#call the model\n",
        "model=MPNN(5,6,1)\n"
      ],
      "execution_count": 0,
      "outputs": []
    },
    {
      "cell_type": "code",
      "metadata": {
        "id": "CF22W48FYYVY",
        "colab_type": "code",
        "outputId": "fcd50794-efe4-4cc9-efa6-4fa0f1a217c3",
        "colab": {
          "base_uri": "https://localhost:8080/",
          "height": 106
        }
      },
      "source": [
        "#train the model\n",
        "acc_,acc_t,loss_,loss_t=train(train_dataset,test_dataset,EPOCHS=5)"
      ],
      "execution_count": 0,
      "outputs": [
        {
          "output_type": "stream",
          "text": [
            "Epoch 1, Loss: 0.7153261303901672, Accuracy: 77.18696594238281, Test Loss: 0.710435688495636, Test Accuracy: 77.20233154296875, Time 205.6306  \n",
            "Epoch 2, Loss: 0.7069321274757385, Accuracy: 77.19598388671875, Test Loss: 0.706824779510498, Test Accuracy: 77.20233154296875, Time 191.3250  \n",
            "Epoch 3, Loss: 0.7007178664207458, Accuracy: 77.19598388671875, Test Loss: 0.6957578659057617, Test Accuracy: 77.20233154296875, Time 194.9861  \n",
            "Epoch 4, Loss: 0.6954179406166077, Accuracy: 77.19598388671875, Test Loss: 0.6933169960975647, Test Accuracy: 77.20233154296875, Time 201.6832  \n",
            "Epoch 5, Loss: 0.6948778033256531, Accuracy: 77.19598388671875, Test Loss: 0.6934382915496826, Test Accuracy: 77.20233154296875, Time 193.0614  \n"
          ],
          "name": "stdout"
        }
      ]
    },
    {
      "cell_type": "code",
      "metadata": {
        "id": "NS9K-M0pu3La",
        "colab_type": "code",
        "colab": {}
      },
      "source": [
        ""
      ],
      "execution_count": 0,
      "outputs": []
    },
    {
      "cell_type": "code",
      "metadata": {
        "id": "1e4sSpprr_Du",
        "colab_type": "code",
        "outputId": "9d615088-8d4a-4025-d5a4-200a65a9ab13",
        "colab": {
          "base_uri": "https://localhost:8080/",
          "height": 313
        }
      },
      "source": [
        "#plot accuracy\n",
        "\n",
        "plt.plot(acc_)\n",
        "plt.plot(acc_t)\n",
        "plt.title('Model accuracy')\n",
        "plt.ylabel('Accuracy')\n",
        "plt.xlabel('Epoch')\n",
        "plt.legend(['Train Acc', 'Test Acc'], loc='upper left')\n"
      ],
      "execution_count": 0,
      "outputs": [
        {
          "output_type": "execute_result",
          "data": {
            "text/plain": [
              "<matplotlib.legend.Legend at 0x7ff0de87d898>"
            ]
          },
          "metadata": {
            "tags": []
          },
          "execution_count": 32
        },
        {
          "output_type": "display_data",
          "data": {
            "image/png": "[encoded data removed]",
            "text/plain": [
              "<Figure size 432x288 with 1 Axes>"
            ]
          },
          "metadata": {
            "tags": []
          }
        }
      ]
    },
    {
      "cell_type": "code",
      "metadata": {
        "id": "reZ6h5w2sD0r",
        "colab_type": "code",
        "outputId": "406e5e2b-02df-4b89-d46f-8979fd5aa460",
        "colab": {
          "base_uri": "https://localhost:8080/",
          "height": 313
        }
      },
      "source": [
        "#plot loss\n",
        "plt.plot(loss_)\n",
        "plt.plot(loss_t) \n",
        "plt.title('Model loss')\n",
        "plt.ylabel('Loss')\n",
        "plt.xlabel('Epoch')\n",
        "plt.legend(['Train Loss', 'Test Loss'], loc='upper left')\n"
      ],
      "execution_count": 0,
      "outputs": [
        {
          "output_type": "execute_result",
          "data": {
            "text/plain": [
              "<matplotlib.legend.Legend at 0x7ff0de7dff98>"
            ]
          },
          "metadata": {
            "tags": []
          },
          "execution_count": 33
        },
        {
          "output_type": "display_data",
          "data": {
            "image/png": "[encoded data removed]",
            "text/plain": [
              "<Figure size 432x288 with 1 Axes>"
            ]
          },
          "metadata": {
            "tags": []
          }
        }
      ]
    },
    {
      "cell_type": "code",
      "metadata": {
        "id": "tSggqNa_2ynR",
        "colab_type": "code",
        "colab": {}
      },
      "source": [
        ""
      ],
      "execution_count": 0,
      "outputs": []
    },
    {
      "cell_type": "markdown",
      "metadata": {
        "id": "sIU6UZLKpjvJ",
        "colab_type": "text"
      },
      "source": [
        "NOTES:\n",
        "\n",
        "The Message Passing Nueral Network Model that used in the Task-3 in Jet classification,the same model is applied here to classify the transverse momentum muon with fours class labels as 0-10 GeV, 10-30 GeV, 30-100 GeV and\n",
        "&gt;100 GeV.\n",
        "\n",
        "The accuracy and the loss plot is drawn above.\n",
        "\n",
        "The only difference is that we used Directed graph with 5 nodes and each node with 6 features representing *'phi', 'theta', 'bending_angle', 'ring', 'hit', & 'mask'*\n",
        "\n",
        "The Graph topology used is shown below"
      ]
    },
    {
      "cell_type": "code",
      "metadata": {
        "id": "mhBbqpx1z3AS",
        "colab_type": "code",
        "colab": {}
      },
      "source": [
        "import networkx as nx\n",
        "\n",
        "G = nx.DiGraph()\n",
        "G.add_edges_from( [('1', '2'), ('2', '3'),('3','4'), ('4', '5')])"
      ],
      "execution_count": 0,
      "outputs": []
    },
    {
      "cell_type": "code",
      "metadata": {
        "id": "akVPNE-r1ggj",
        "colab_type": "code",
        "outputId": "4da93b94-d659-462d-aa25-13fa4075d6d7",
        "colab": {
          "base_uri": "https://localhost:8080/",
          "height": 248
        }
      },
      "source": [
        "nx.draw_networkx(G)\n"
      ],
      "execution_count": 0,
      "outputs": [
        {
          "output_type": "display_data",
          "data": {
            "image/png": "[encoded data removed]",
            "text/plain": [
              "<Figure size 432x288 with 1 Axes>"
            ]
          },
          "metadata": {
            "tags": []
          }
        }
      ]
    },
    {
      "cell_type": "markdown",
      "metadata": {
        "id": "rQljFyqC23IE",
        "colab_type": "text"
      },
      "source": [
        "Since,Loss and Accuracy is not look like a much improvement over the other classification model we have been used till now.\n",
        "\n",
        "The followings points are for future work to improve model:\n",
        "\n",
        "\n",
        "1.  Choosing a better Adjancey Matrix than the one we used.We could have a learnable adjancey matric A based on the [paper Neural Message Passing for Jet Physics](https://dl4physicalsciences.github.io/files/nips_dlps_2017_29.pdf)\n",
        "\n",
        "2.  Adding more layer of MPNN could improve model performance\n",
        "\n",
        "3. Handling the imbalanced data with suitable methods and metrics evaluations\n",
        "\n",
        "4. Modifying features for the nodes and edges could be checked for any improvement\n",
        "\n"
      ]
    }
  ]
}
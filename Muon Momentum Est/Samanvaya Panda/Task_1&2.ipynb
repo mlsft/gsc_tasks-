{
 "cells": [
  {
   "cell_type": "markdown",
   "metadata": {
    "colab_type": "text",
    "id": "sGrcTTWnHVdF"
   },
   "source": [
    "## Task 1\n",
    "\n"
   ]
  },
  {
   "cell_type": "code",
   "execution_count": 0,
   "metadata": {
    "colab": {},
    "colab_type": "code",
    "id": "eU-bDHVdHVdH"
   },
   "outputs": [],
   "source": [
    "import numpy as np\n",
    "from matplotlib import pyplot as plt\n",
    "import tensorflow as tf\n",
    "from tensorflow.keras import layers, backend, optimizers\n",
    "from sklearn.preprocessing import normalize\n",
    "%matplotlib inline"
   ]
  },
  {
   "cell_type": "code",
   "execution_count": 2,
   "metadata": {
    "colab": {
     "base_uri": "https://localhost:8080/",
     "height": 224
    },
    "colab_type": "code",
    "id": "4L-LTVFpHaG6",
    "outputId": "ea60f1d3-14cf-41b3-de9c-b4722b5cb0dc"
   },
   "outputs": [
    {
     "name": "stdout",
     "output_type": "stream",
     "text": [
      "--2020-03-30 13:31:07--  https://uc048d8634003087e17e3217c3df.dl.dropboxusercontent.com/cd/0/get/A06Q7_nXRHXxTWN5zyRRGgXzeQH5yclMLR8eudDViil8eeZ9OFgLWkrL1ihDOaqoj5NbmUvhN6n4Km3quXj-VnXjUaqJoVq37tFQNwLZG2U-MW7YccMi6AuHueL8w_qZtek/file?_download_id=318993953814009406251755409166071366448415630657840514387678025865\n",
      "Resolving uc048d8634003087e17e3217c3df.dl.dropboxusercontent.com (uc048d8634003087e17e3217c3df.dl.dropboxusercontent.com)... 162.125.9.6, 2620:100:601f:6::a27d:906\n",
      "Connecting to uc048d8634003087e17e3217c3df.dl.dropboxusercontent.com (uc048d8634003087e17e3217c3df.dl.dropboxusercontent.com)|162.125.9.6|:443... connected.\n",
      "HTTP request sent, awaiting response... 200 OK\n",
      "Length: 223440772 (213M) [application/binary]\n",
      "Saving to: ‘histos_tba’\n",
      "\n",
      "histos_tba          100%[===================>] 213.09M  32.9MB/s    in 7.0s    \n",
      "\n",
      "2020-03-30 13:31:14 (30.5 MB/s) - ‘histos_tba’ saved [223440772/223440772]\n",
      "\n"
     ]
    }
   ],
   "source": [
    "!wget -O histos_tba https://uc048d8634003087e17e3217c3df.dl.dropboxusercontent.com/cd/0/get/A06Q7_nXRHXxTWN5zyRRGgXzeQH5yclMLR8eudDViil8eeZ9OFgLWkrL1ihDOaqoj5NbmUvhN6n4Km3quXj-VnXjUaqJoVq37tFQNwLZG2U-MW7YccMi6AuHueL8w_qZtek/file?_download_id=318993953814009406251755409166071366448415630657840514387678025865&_notify_domain=www.dropbox.com&dl=1"
   ]
  },
  {
   "cell_type": "code",
   "execution_count": 0,
   "metadata": {
    "colab": {},
    "colab_type": "code",
    "id": "S83xUAAKHVdQ"
   },
   "outputs": [],
   "source": [
    "with np.load('histos_tba') as data:\n",
    "    variables = data['variables']\n",
    "    parameters = data['parameters'] "
   ]
  },
  {
   "cell_type": "markdown",
   "metadata": {
    "colab_type": "text",
    "id": "QfgPkXefnfU4"
   },
   "source": [
    "**Pre-processing data**"
   ]
  },
  {
   "cell_type": "code",
   "execution_count": 4,
   "metadata": {
    "colab": {
     "base_uri": "https://localhost:8080/",
     "height": 646
    },
    "colab_type": "code",
    "id": "b_r74RpPHVdW",
    "outputId": "efe4cf06-8aa2-471e-885a-5f16762d296d",
    "scrolled": true
   },
   "outputs": [
    {
     "name": "stdout",
     "output_type": "stream",
     "text": [
      "(3272341, 87)\n",
      "(3272341, 3)\n",
      "(3272341, 38)\n",
      "Checked 0 samples\n",
      "Checked 100000 samples\n",
      "Checked 200000 samples\n",
      "Checked 300000 samples\n",
      "Checked 400000 samples\n",
      "Checked 500000 samples\n",
      "Checked 600000 samples\n",
      "Checked 700000 samples\n",
      "Checked 800000 samples\n",
      "Checked 900000 samples\n",
      "Checked 1000000 samples\n",
      "Checked 1100000 samples\n",
      "Checked 1200000 samples\n",
      "Checked 1300000 samples\n",
      "Checked 1400000 samples\n",
      "Checked 1500000 samples\n",
      "Checked 1600000 samples\n",
      "Checked 1700000 samples\n",
      "Checked 1800000 samples\n",
      "Checked 1900000 samples\n",
      "Checked 2000000 samples\n",
      "Checked 2100000 samples\n",
      "Checked 2200000 samples\n",
      "Checked 2300000 samples\n",
      "Checked 2400000 samples\n",
      "Checked 2500000 samples\n",
      "Checked 2600000 samples\n",
      "Checked 2700000 samples\n",
      "Checked 2800000 samples\n",
      "Checked 2900000 samples\n",
      "Checked 3000000 samples\n",
      "Checked 3100000 samples\n",
      "Checked 3200000 samples\n",
      "(1191431, 38) 2080910\n"
     ]
    }
   ],
   "source": [
    "print(variables.shape)\n",
    "print(parameters.shape)\n",
    "del_ind = []\n",
    "for i in range(7):\n",
    "    for j in range(12*i+5, 12*i+12):\n",
    "        del_ind.append(j)\n",
    "# print(del_ind)\n",
    "csc_var = np.delete(variables, del_ind, axis=1)\n",
    "print(csc_var.shape)\n",
    "l = csc_var.shape[1]*0.5\n",
    "del_ind = []\n",
    "for i in range(csc_var.shape[0]):\n",
    "    count = 0\n",
    "    for j in range(csc_var.shape[1]):\n",
    "        if csc_var[i][j] == 0 or np.isnan(csc_var[i][j]):\n",
    "            count += 1\n",
    "    if count > l:\n",
    "        del_ind.append(i)\n",
    "    if i%100000 == 0:\n",
    "        print(\"Checked\",i, \"samples\")\n",
    "var = np.delete(csc_var, del_ind, axis=0)\n",
    "print(var.shape, len(del_ind))\n",
    "avg = np.nanmean(var, axis=0)\n",
    "for i in range(var.shape[1]):\n",
    "    var[:,i] = np.nan_to_num(var[:,i], nan=avg[i])\n"
   ]
  },
  {
   "cell_type": "markdown",
   "metadata": {
    "colab_type": "text",
    "id": "-WN-D-rsnoU9"
   },
   "source": [
    "**Data split**"
   ]
  },
  {
   "cell_type": "code",
   "execution_count": 13,
   "metadata": {
    "colab": {
     "base_uri": "https://localhost:8080/",
     "height": 68
    },
    "colab_type": "code",
    "id": "SLX-6zqxHVdc",
    "outputId": "8f4942d7-5b2a-4558-c40d-f6b95d1869d6"
   },
   "outputs": [
    {
     "name": "stdout",
     "output_type": "stream",
     "text": [
      "1191431\n",
      "0.00014307493 0.49999535\n",
      "0.00014307493 0.49999535\n"
     ]
    }
   ],
   "source": [
    "var = normalize(var, axis=0)\n",
    "a = np.arange(var.shape[0])\n",
    "np.random.shuffle(a)\n",
    "index = a[:int(var.shape[0]*0.7)]\n",
    "train_data = var[index]\n",
    "par = np.delete(parameters, del_ind, axis=0)\n",
    "print(par.shape[0])\n",
    "label = par[index,0]\n",
    "im_label = par[index]\n",
    "temp = normalize(im_label[:,[1,2]], axis=0)\n",
    "im_label[:,[1,2]] = temp\n",
    "# momentum = abs(1/label)\n",
    "momentum = abs(label)\n",
    "im_momentum = im_label\n",
    "im_momentum[:,0] = abs(im_momentum[:,0])\n",
    "print(np.min(momentum), np.max(momentum))\n",
    "print(np.min(im_momentum[:,0]), np.max(im_momentum[:,0]))\n",
    "\n",
    "t_ind = a[int(var.shape[0]*0.7):]\n",
    "test_data = var[t_ind]\n",
    "# test_data = normalize(test_data, axis=0)\n",
    "t_mom = par[t_ind, 0]"
   ]
  },
  {
   "cell_type": "code",
   "execution_count": 0,
   "metadata": {
    "colab": {},
    "colab_type": "code",
    "id": "CTRcjzJiHVeH"
   },
   "outputs": [],
   "source": [
    "avg = np.nanmean(csc_var, axis=0)\n",
    "# print(avg)\n",
    "for i in range(csc_var.shape[1]):\n",
    "    csc_var[:,i] = np.nan_to_num(csc_var[:,i], nan=avg[i])\n",
    "\n",
    "csc_var = normalize(csc_var, axis=0)\n",
    "csc_var = np.delete(csc_var, index, axis=0)\n",
    "# print(np.min(abs(t_mom)), np.max(t_mom))"
   ]
  },
  {
   "cell_type": "markdown",
   "metadata": {
    "colab_type": "text",
    "id": "1-vSUYs_qIKX"
   },
   "source": [
    "**Function definitions**"
   ]
  },
  {
   "cell_type": "code",
   "execution_count": 0,
   "metadata": {
    "colab": {},
    "colab_type": "code",
    "id": "wX5TO3SCdr-F"
   },
   "outputs": [],
   "source": [
    "def mse_error(pred):\n",
    "  error = np.sum((abs(1/parameters[:,0]) - pred)**2)\n",
    "  return error**0.5"
   ]
  },
  {
   "cell_type": "code",
   "execution_count": 0,
   "metadata": {
    "colab": {},
    "colab_type": "code",
    "id": "xsyqaW6Og57V"
   },
   "outputs": [],
   "source": [
    "def plot_loss(hist):\n",
    "  plt.plot(hist.history['loss'])\n",
    "  plt.title('Model loss')\n",
    "  plt.ylabel('Loss')\n",
    "  plt.xlabel('Epoch')\n",
    "  plt.show()"
   ]
  },
  {
   "cell_type": "code",
   "execution_count": 0,
   "metadata": {
    "colab": {},
    "colab_type": "code",
    "id": "x-zQ6YptHVeQ"
   },
   "outputs": [],
   "source": [
    "def gen_cluster(out):\n",
    "    cluster = [[] for i in range(4)]\n",
    "    label = []\n",
    "    for i in range(out.shape[0]):\n",
    "        if out[i] <= 10:\n",
    "            cluster[0].append(i)\n",
    "            label.append(0)\n",
    "        elif out[i] <= 30:\n",
    "            cluster[1].append(i)\n",
    "            label.append(1)\n",
    "        elif out[i] <= 100:\n",
    "            cluster[2].append(i)\n",
    "            label.append(2)\n",
    "        else:\n",
    "            cluster[3].append(i)\n",
    "            label.append(3)\n",
    "    return cluster, label\n"
   ]
  },
  {
   "cell_type": "code",
   "execution_count": 0,
   "metadata": {
    "colab": {},
    "colab_type": "code",
    "id": "pZ8WkVOiYMAt"
   },
   "outputs": [],
   "source": [
    "def gen_conf_mat(ori_label, pred_label):\n",
    "  conf_mat = np.zeros([4,4])\n",
    "  for i in range(len(ori_label)):\n",
    "    conf_mat[ori_label[i]][pred_label[i]] += 1\n",
    "  return conf_mat"
   ]
  },
  {
   "cell_type": "code",
   "execution_count": 0,
   "metadata": {
    "colab": {},
    "colab_type": "code",
    "id": "9DRONc-8cbMC"
   },
   "outputs": [],
   "source": [
    "def find_accuarcy(conf_mat):\n",
    "  count = 0\n",
    "  for i in range(4):\n",
    "    count += conf_mat[i][i]\n",
    "  return 100*(count/len(csc_var))"
   ]
  },
  {
   "cell_type": "markdown",
   "metadata": {
    "colab_type": "text",
    "id": "WxuNSSOenxsZ"
   },
   "source": [
    "**FC Model**"
   ]
  },
  {
   "cell_type": "code",
   "execution_count": 20,
   "metadata": {
    "colab": {
     "base_uri": "https://localhost:8080/",
     "height": 782
    },
    "colab_type": "code",
    "collapsed": true,
    "id": "2grUmiCPHVdi",
    "outputId": "11ac5cf8-ed17-411b-95a9-961284867270"
   },
   "outputs": [
    {
     "name": "stdout",
     "output_type": "stream",
     "text": [
      "Model: \"sequential_1\"\n",
      "_________________________________________________________________\n",
      "Layer (type)                 Output Shape              Param #   \n",
      "=================================================================\n",
      "dense_10 (Dense)             (None, 32)                1248      \n",
      "_________________________________________________________________\n",
      "dropout_8 (Dropout)          (None, 32)                0         \n",
      "_________________________________________________________________\n",
      "dense_11 (Dense)             (None, 128)               4224      \n",
      "_________________________________________________________________\n",
      "dropout_9 (Dropout)          (None, 128)               0         \n",
      "_________________________________________________________________\n",
      "dense_12 (Dense)             (None, 256)               33024     \n",
      "_________________________________________________________________\n",
      "dropout_10 (Dropout)         (None, 256)               0         \n",
      "_________________________________________________________________\n",
      "dense_13 (Dense)             (None, 512)               131584    \n",
      "_________________________________________________________________\n",
      "dropout_11 (Dropout)         (None, 512)               0         \n",
      "_________________________________________________________________\n",
      "dense_14 (Dense)             (None, 1024)              525312    \n",
      "_________________________________________________________________\n",
      "dropout_12 (Dropout)         (None, 1024)              0         \n",
      "_________________________________________________________________\n",
      "dense_15 (Dense)             (None, 512)               524800    \n",
      "_________________________________________________________________\n",
      "dropout_13 (Dropout)         (None, 512)               0         \n",
      "_________________________________________________________________\n",
      "dense_16 (Dense)             (None, 256)               131328    \n",
      "_________________________________________________________________\n",
      "dropout_14 (Dropout)         (None, 256)               0         \n",
      "_________________________________________________________________\n",
      "dense_17 (Dense)             (None, 128)               32896     \n",
      "_________________________________________________________________\n",
      "dropout_15 (Dropout)         (None, 128)               0         \n",
      "_________________________________________________________________\n",
      "dense_18 (Dense)             (None, 32)                4128      \n",
      "_________________________________________________________________\n",
      "dense_19 (Dense)             (None, 1)                 33        \n",
      "=================================================================\n",
      "Total params: 1,388,577\n",
      "Trainable params: 1,388,577\n",
      "Non-trainable params: 0\n",
      "_________________________________________________________________\n",
      "None\n"
     ]
    }
   ],
   "source": [
    "predictor = tf.keras.Sequential()\n",
    "predictor.add(layers.Dense(32, activation='relu', input_dim=train_data.shape[1]))\n",
    "predictor.add(layers.Dropout(0.2))\n",
    "predictor.add(layers.Dense(128, activation='relu'))\n",
    "predictor.add(layers.Dropout(0.2))\n",
    "predictor.add(layers.Dense(256, activation='relu'))\n",
    "predictor.add(layers.Dropout(0.2))\n",
    "predictor.add(layers.Dense(512, activation='relu'))\n",
    "predictor.add(layers.Dropout(0.2))\n",
    "predictor.add(layers.Dense(1024, activation='relu' ))\n",
    "predictor.add(layers.Dropout(0.2))\n",
    "predictor.add(layers.Dense(512, activation='relu'))\n",
    "predictor.add(layers.Dropout(0.2))\n",
    "predictor.add(layers.Dense(256, activation='relu'))\n",
    "predictor.add(layers.Dropout(0.2))\n",
    "predictor.add(layers.Dense(128, activation='relu'))\n",
    "predictor.add(layers.Dropout(0.2))\n",
    "predictor.add(layers.Dense(32, activation='relu'))\n",
    "predictor.add(layers.Dense(1, activation='relu'))\n",
    "print(predictor.summary())\n"
   ]
  },
  {
   "cell_type": "markdown",
   "metadata": {
    "colab_type": "text",
    "id": "l2MMwh54n6jT"
   },
   "source": [
    "**Training Model**"
   ]
  },
  {
   "cell_type": "code",
   "execution_count": 21,
   "metadata": {
    "colab": {
     "base_uri": "https://localhost:8080/",
     "height": 1000
    },
    "colab_type": "code",
    "id": "uH3JQ_8LHVd-",
    "outputId": "4b450830-4841-4b2e-a311-cf017b336753",
    "scrolled": true
   },
   "outputs": [
    {
     "name": "stdout",
     "output_type": "stream",
     "text": [
      "Epoch 1/50\n",
      "815/815 [==============================] - 9s 11ms/step - loss: 0.0156 - mae: 0.1019\n",
      "Epoch 2/50\n",
      "815/815 [==============================] - 9s 11ms/step - loss: 0.0099 - mae: 0.0790\n",
      "Epoch 3/50\n",
      "815/815 [==============================] - 9s 10ms/step - loss: 0.0077 - mae: 0.0679\n",
      "Epoch 4/50\n",
      "815/815 [==============================] - 8s 10ms/step - loss: 0.0063 - mae: 0.0610\n",
      "Epoch 5/50\n",
      "815/815 [==============================] - 9s 10ms/step - loss: 0.0057 - mae: 0.0572\n",
      "Epoch 6/50\n",
      "815/815 [==============================] - 9s 10ms/step - loss: 0.0052 - mae: 0.0545\n",
      "Epoch 7/50\n",
      "815/815 [==============================] - 9s 11ms/step - loss: 0.0049 - mae: 0.0524\n",
      "Epoch 8/50\n",
      "815/815 [==============================] - 9s 11ms/step - loss: 0.0046 - mae: 0.0508\n",
      "Epoch 9/50\n",
      "815/815 [==============================] - 9s 11ms/step - loss: 0.0044 - mae: 0.0494\n",
      "Epoch 10/50\n",
      "815/815 [==============================] - 9s 11ms/step - loss: 0.0042 - mae: 0.0482\n",
      "Epoch 11/50\n",
      "815/815 [==============================] - 9s 11ms/step - loss: 0.0041 - mae: 0.0471\n",
      "Epoch 12/50\n",
      "815/815 [==============================] - 9s 11ms/step - loss: 0.0039 - mae: 0.0462\n",
      "Epoch 13/50\n",
      "815/815 [==============================] - 9s 11ms/step - loss: 0.0038 - mae: 0.0454\n",
      "Epoch 14/50\n",
      "815/815 [==============================] - 9s 11ms/step - loss: 0.0037 - mae: 0.0447\n",
      "Epoch 15/50\n",
      "815/815 [==============================] - 9s 11ms/step - loss: 0.0036 - mae: 0.0441\n",
      "Epoch 16/50\n",
      "815/815 [==============================] - 9s 11ms/step - loss: 0.0035 - mae: 0.0437\n",
      "Epoch 17/50\n",
      "815/815 [==============================] - 9s 11ms/step - loss: 0.0034 - mae: 0.0432\n",
      "Epoch 18/50\n",
      "815/815 [==============================] - 9s 11ms/step - loss: 0.0033 - mae: 0.0427\n",
      "Epoch 19/50\n",
      "815/815 [==============================] - 9s 11ms/step - loss: 0.0033 - mae: 0.0423\n",
      "Epoch 20/50\n",
      "815/815 [==============================] - 9s 11ms/step - loss: 0.0032 - mae: 0.0418\n",
      "Epoch 21/50\n",
      "815/815 [==============================] - 9s 11ms/step - loss: 0.0031 - mae: 0.0416\n",
      "Epoch 22/50\n",
      "815/815 [==============================] - 9s 11ms/step - loss: 0.0031 - mae: 0.0411\n",
      "Epoch 23/50\n",
      "815/815 [==============================] - 9s 11ms/step - loss: 0.0030 - mae: 0.0408\n",
      "Epoch 24/50\n",
      "815/815 [==============================] - 9s 11ms/step - loss: 0.0030 - mae: 0.0406\n",
      "Epoch 25/50\n",
      "815/815 [==============================] - 9s 11ms/step - loss: 0.0029 - mae: 0.0404\n",
      "Epoch 26/50\n",
      "815/815 [==============================] - 9s 11ms/step - loss: 0.0029 - mae: 0.0401\n",
      "Epoch 27/50\n",
      "815/815 [==============================] - 9s 11ms/step - loss: 0.0028 - mae: 0.0398\n",
      "Epoch 28/50\n",
      "815/815 [==============================] - 9s 11ms/step - loss: 0.0028 - mae: 0.0396\n",
      "Epoch 29/50\n",
      "815/815 [==============================] - 9s 11ms/step - loss: 0.0028 - mae: 0.0395\n",
      "Epoch 30/50\n",
      "815/815 [==============================] - 9s 11ms/step - loss: 0.0028 - mae: 0.0393\n",
      "Epoch 31/50\n",
      "815/815 [==============================] - 9s 11ms/step - loss: 0.0027 - mae: 0.0391\n",
      "Epoch 32/50\n",
      "815/815 [==============================] - 9s 11ms/step - loss: 0.0027 - mae: 0.0390\n",
      "Epoch 33/50\n",
      "815/815 [==============================] - 9s 11ms/step - loss: 0.0027 - mae: 0.0388\n",
      "Epoch 34/50\n",
      "815/815 [==============================] - 9s 11ms/step - loss: 0.0027 - mae: 0.0387\n",
      "Epoch 35/50\n",
      "815/815 [==============================] - 9s 11ms/step - loss: 0.0027 - mae: 0.0386\n",
      "Epoch 36/50\n",
      "815/815 [==============================] - 9s 11ms/step - loss: 0.0027 - mae: 0.0386\n",
      "Epoch 37/50\n",
      "815/815 [==============================] - 9s 11ms/step - loss: 0.0026 - mae: 0.0384\n",
      "Epoch 38/50\n",
      "815/815 [==============================] - 9s 11ms/step - loss: 0.0026 - mae: 0.0383\n",
      "Epoch 39/50\n",
      "815/815 [==============================] - 9s 11ms/step - loss: 0.0026 - mae: 0.0382\n",
      "Epoch 40/50\n",
      "815/815 [==============================] - 9s 11ms/step - loss: 0.0026 - mae: 0.0382\n",
      "Epoch 41/50\n",
      "815/815 [==============================] - 9s 11ms/step - loss: 0.0026 - mae: 0.0380\n",
      "Epoch 42/50\n",
      "815/815 [==============================] - 9s 11ms/step - loss: 0.0026 - mae: 0.0379\n",
      "Epoch 43/50\n",
      "815/815 [==============================] - 9s 11ms/step - loss: 0.0026 - mae: 0.0378\n",
      "Epoch 44/50\n",
      "815/815 [==============================] - 9s 11ms/step - loss: 0.0025 - mae: 0.0377\n",
      "Epoch 45/50\n",
      "815/815 [==============================] - 9s 11ms/step - loss: 0.0025 - mae: 0.0377\n",
      "Epoch 46/50\n",
      "815/815 [==============================] - 9s 11ms/step - loss: 0.0025 - mae: 0.0376\n",
      "Epoch 47/50\n",
      "815/815 [==============================] - 9s 10ms/step - loss: 0.0025 - mae: 0.0376\n",
      "Epoch 48/50\n",
      "815/815 [==============================] - 8s 10ms/step - loss: 0.0025 - mae: 0.0374\n",
      "Epoch 49/50\n",
      "815/815 [==============================] - 9s 10ms/step - loss: 0.0025 - mae: 0.0374\n",
      "Epoch 50/50\n",
      "815/815 [==============================] - 9s 11ms/step - loss: 0.0025 - mae: 0.0373\n",
      "358/358 [==============================] - 1s 4ms/step - loss: 0.0972 - mae: 0.2127\n"
     ]
    },
    {
     "data": {
      "text/plain": [
       "[0.09722501784563065, 0.21266572177410126]"
      ]
     },
     "execution_count": 21,
     "metadata": {
      "tags": []
     },
     "output_type": "execute_result"
    }
   ],
   "source": [
    "predictor.compile(optimizer=optimizers.Adam(learning_rate=0.00004), loss='mse', metrics=['mae'])\n",
    "hist1 = predictor.fit(train_data, momentum, batch_size=1024, epochs=50)\n",
    "predictor.evaluate(test_data, t_mom, batch_size=1000)"
   ]
  },
  {
   "cell_type": "markdown",
   "metadata": {
    "colab_type": "text",
    "id": "i8QAR_ad4dy1"
   },
   "source": [
    "**Loss plot**"
   ]
  },
  {
   "cell_type": "code",
   "execution_count": 33,
   "metadata": {
    "colab": {
     "base_uri": "https://localhost:8080/",
     "height": 295
    },
    "colab_type": "code",
    "id": "_C_68hgCHVeC",
    "outputId": "f5f310fb-74e7-4f1e-8eab-54a48ed7a136"
   },
   "outputs": [
    {
     "data": {
      "image/png": "[encoded data removed]",
      "text/plain": [
       "<Figure size 432x288 with 1 Axes>"
      ]
     },
     "metadata": {
      "tags": []
     },
     "output_type": "display_data"
    }
   ],
   "source": [
    "predictor.save('predictor.h5')\n",
    "plot_loss(hist1)"
   ]
  },
  {
   "cell_type": "markdown",
   "metadata": {
    "colab_type": "text",
    "id": "3ikZqR11oK7e"
   },
   "source": [
    "**Predicting values**"
   ]
  },
  {
   "cell_type": "code",
   "execution_count": 41,
   "metadata": {
    "colab": {
     "base_uri": "https://localhost:8080/",
     "height": 51
    },
    "colab_type": "code",
    "id": "BwUi-lkaHVeL",
    "outputId": "258b29c5-0c1f-4db0-bea8-ce6e3b7d638b"
   },
   "outputs": [
    {
     "name": "stdout",
     "output_type": "stream",
     "text": [
      "44/44 [==============================] - 1s 17ms/step - loss: 0.0972 - mae: 0.2127\n",
      "17.904488 2.3839595\n"
     ]
    }
   ],
   "source": [
    "# predictor = tf.keras.models.load_model('predictor.h5')\n",
    "predictor.evaluate(test_data, t_mom, batch_size=8196)\n",
    "out1 = 1/predictor.predict(csc_var)\n",
    "print(np.max(out1), np.min(out1))"
   ]
  },
  {
   "cell_type": "markdown",
   "metadata": {
    "colab_type": "text",
    "id": "sc5lo5Y_odfa"
   },
   "source": [
    "**Predicted cluster**"
   ]
  },
  {
   "cell_type": "code",
   "execution_count": 0,
   "metadata": {
    "colab": {},
    "colab_type": "code",
    "id": "N18ksh-SHVeS"
   },
   "outputs": [],
   "source": [
    "mom = abs(1/parameters[:,0])\n",
    "mom = np.delete(mom, index, axis=0)\n",
    "ori_cluster, ori_label = gen_cluster(mom)\n",
    "pred_cluster, pred_label = gen_cluster(out1)"
   ]
  },
  {
   "cell_type": "code",
   "execution_count": 46,
   "metadata": {
    "colab": {
     "base_uri": "https://localhost:8080/",
     "height": 51
    },
    "colab_type": "code",
    "id": "WaA8GIBqHVeW",
    "outputId": "a0ebf786-7433-4743-9e28-05edecc9c70c"
   },
   "outputs": [
    {
     "name": "stdout",
     "output_type": "stream",
     "text": [
      "1882273 371016 129985 55066\n",
      "2183508 254832 0 0\n"
     ]
    }
   ],
   "source": [
    "print(len(ori_cluster[0]), len(ori_cluster[1]), len(ori_cluster[2]), len(ori_cluster[3]))\n",
    "print(len(pred_cluster[0]), len(pred_cluster[1]), len(pred_cluster[2]), len(pred_cluster[3]))"
   ]
  },
  {
   "cell_type": "markdown",
   "metadata": {
    "colab_type": "text",
    "id": "O5QOcux-ojUj"
   },
   "source": [
    "**Performance of model**"
   ]
  },
  {
   "cell_type": "code",
   "execution_count": 47,
   "metadata": {
    "colab": {
     "base_uri": "https://localhost:8080/",
     "height": 102
    },
    "colab_type": "code",
    "id": "81xu6S7jHVea",
    "outputId": "32e93c88-7aa7-4a09-913f-172e749eafae"
   },
   "outputs": [
    {
     "name": "stdout",
     "output_type": "stream",
     "text": [
      "[[1644224.  238049.       0.       0.]\n",
      " [ 359340.   11676.       0.       0.]\n",
      " [ 126549.    3436.       0.       0.]\n",
      " [  53395.    1671.       0.       0.]]\n",
      "Accuracy of model = 67.91095581420147\n"
     ]
    }
   ],
   "source": [
    "conf_mat1 = gen_conf_mat(ori_label, pred_label)\n",
    "print(conf_mat1)\n",
    "print(\"Accuracy of model =\", find_accuarcy(conf_mat1))"
   ]
  },
  {
   "cell_type": "markdown",
   "metadata": {
    "colab_type": "text",
    "id": "AmPC3AiqHVec"
   },
   "source": [
    "**CNN Model**"
   ]
  },
  {
   "cell_type": "code",
   "execution_count": 34,
   "metadata": {
    "colab": {
     "base_uri": "https://localhost:8080/",
     "height": 34
    },
    "colab_type": "code",
    "id": "AbSf1tdjHVed",
    "outputId": "e9d46263-6184-4f08-9da1-a5ae9c365c14"
   },
   "outputs": [
    {
     "name": "stdout",
     "output_type": "stream",
     "text": [
      "5 8\n"
     ]
    }
   ],
   "source": [
    "def gen_3d_data(data):\n",
    "    zero_col = np.zeros(data.shape[0])\n",
    "    temp_data = np.insert(data, data.shape[1], zero_col, axis=1)\n",
    "    temp_data = np.insert(temp_data, temp_data.shape[1], zero_col, axis=1)\n",
    "    # conv_data = np.reshape(conv_data, (conv_data.shape[0], 5, 8))\n",
    "    conv_data = np.zeros([data.shape[0], 5, 8])\n",
    "    for i in range(5):\n",
    "        for j in range(8):\n",
    "            conv_data[:,i,j] = temp_data[:,5*j+i]\n",
    "    return conv_data\n",
    "\n",
    "conv_data = gen_3d_data(var)\n",
    "nr, nf = conv_data.shape[1], conv_data.shape[2]\n",
    "print(nr, nf)"
   ]
  },
  {
   "cell_type": "code",
   "execution_count": 66,
   "metadata": {
    "colab": {
     "base_uri": "https://localhost:8080/",
     "height": 918
    },
    "colab_type": "code",
    "collapsed": true,
    "id": "8eImnz2ZHVef",
    "outputId": "17d96037-62fe-4e80-f30a-fbf52c4cfdd8"
   },
   "outputs": [
    {
     "name": "stdout",
     "output_type": "stream",
     "text": [
      "Model: \"sequential_6\"\n",
      "_________________________________________________________________\n",
      "Layer (type)                 Output Shape              Param #   \n",
      "=================================================================\n",
      "conv1d_9 (Conv1D)            (None, 5, 32)             2080      \n",
      "_________________________________________________________________\n",
      "conv1d_10 (Conv1D)           (None, 5, 32)             8224      \n",
      "_________________________________________________________________\n",
      "conv1d_11 (Conv1D)           (None, 5, 16)             4112      \n",
      "_________________________________________________________________\n",
      "max_pooling1d_3 (MaxPooling1 (None, 1, 16)             0         \n",
      "_________________________________________________________________\n",
      "flatten_3 (Flatten)          (None, 16)                0         \n",
      "_________________________________________________________________\n",
      "dense_60 (Dense)             (None, 32)                544       \n",
      "_________________________________________________________________\n",
      "dense_61 (Dense)             (None, 128)               4224      \n",
      "_________________________________________________________________\n",
      "dropout_44 (Dropout)         (None, 128)               0         \n",
      "_________________________________________________________________\n",
      "dense_62 (Dense)             (None, 256)               33024     \n",
      "_________________________________________________________________\n",
      "dropout_45 (Dropout)         (None, 256)               0         \n",
      "_________________________________________________________________\n",
      "dense_63 (Dense)             (None, 512)               131584    \n",
      "_________________________________________________________________\n",
      "dropout_46 (Dropout)         (None, 512)               0         \n",
      "_________________________________________________________________\n",
      "dense_64 (Dense)             (None, 1024)              525312    \n",
      "_________________________________________________________________\n",
      "dropout_47 (Dropout)         (None, 1024)              0         \n",
      "_________________________________________________________________\n",
      "dense_65 (Dense)             (None, 512)               524800    \n",
      "_________________________________________________________________\n",
      "dropout_48 (Dropout)         (None, 512)               0         \n",
      "_________________________________________________________________\n",
      "dense_66 (Dense)             (None, 256)               131328    \n",
      "_________________________________________________________________\n",
      "dropout_49 (Dropout)         (None, 256)               0         \n",
      "_________________________________________________________________\n",
      "dense_67 (Dense)             (None, 128)               32896     \n",
      "_________________________________________________________________\n",
      "dropout_50 (Dropout)         (None, 128)               0         \n",
      "_________________________________________________________________\n",
      "dense_68 (Dense)             (None, 32)                4128      \n",
      "_________________________________________________________________\n",
      "dense_69 (Dense)             (None, 1)                 33        \n",
      "=================================================================\n",
      "Total params: 1,402,289\n",
      "Trainable params: 1,402,289\n",
      "Non-trainable params: 0\n",
      "_________________________________________________________________\n",
      "None\n"
     ]
    }
   ],
   "source": [
    "conv_model = tf.keras.Sequential()\n",
    "conv_model.add(layers.Conv1D(filters=32, kernel_size=8, padding='same',activation='relu', input_shape=(nr, nf)))\n",
    "# conv_model.add(layers.Dropout(0.3))\n",
    "conv_model.add(layers.Conv1D(filters=32, kernel_size=8, padding='same', activation='relu'))\n",
    "# conv_model.add(layers.Dropout(0.3))\n",
    "conv_model.add(layers.Conv1D(filters=16, kernel_size=8, padding='same', activation='relu'))\n",
    "conv_model.add(layers.MaxPooling1D(pool_size=3))\n",
    "conv_model.add(layers.Flatten())\n",
    "conv_model.add(layers.Dense(32, activation='relu'))\n",
    "conv_model.add(layers.Dense(128, activation='relu'))\n",
    "conv_model.add(layers.Dropout(0.3))\n",
    "conv_model.add(layers.Dense(256, activation='relu'))\n",
    "conv_model.add(layers.Dropout(0.3))\n",
    "conv_model.add(layers.Dense(512, activation='relu'))\n",
    "conv_model.add(layers.Dropout(0.3))\n",
    "conv_model.add(layers.Dense(1024, activation='relu'))\n",
    "conv_model.add(layers.Dropout(0.3))\n",
    "conv_model.add(layers.Dense(512, activation='relu'))\n",
    "conv_model.add(layers.Dropout(0.3))\n",
    "conv_model.add(layers.Dense(256, activation='relu'))\n",
    "conv_model.add(layers.Dropout(0.3))\n",
    "conv_model.add(layers.Dense(128, activation='relu'))\n",
    "conv_model.add(layers.Dropout(0.3))\n",
    "conv_model.add(layers.Dense(32, activation='relu'))\n",
    "conv_model.add(layers.Dense(1))\n",
    "\n",
    "print(conv_model.summary())"
   ]
  },
  {
   "cell_type": "markdown",
   "metadata": {
    "colab_type": "text",
    "id": "pBRZygbNpOuL"
   },
   "source": [
    "**Training Model**"
   ]
  },
  {
   "cell_type": "code",
   "execution_count": 67,
   "metadata": {
    "colab": {
     "base_uri": "https://localhost:8080/",
     "height": 1000
    },
    "colab_type": "code",
    "id": "x0i6Xe-vHVei",
    "outputId": "bb27c66a-805b-49e3-ce8e-af4ed648c275",
    "scrolled": true
   },
   "outputs": [
    {
     "name": "stdout",
     "output_type": "stream",
     "text": [
      "Epoch 1/50\n",
      "815/815 [==============================] - 11s 14ms/step - loss: 0.0189 - mae: 0.1123\n",
      "Epoch 2/50\n",
      "815/815 [==============================] - 11s 14ms/step - loss: 0.0093 - mae: 0.0765\n",
      "Epoch 3/50\n",
      "815/815 [==============================] - 11s 14ms/step - loss: 0.0051 - mae: 0.0540\n",
      "Epoch 4/50\n",
      "815/815 [==============================] - 11s 14ms/step - loss: 0.0043 - mae: 0.0485\n",
      "Epoch 5/50\n",
      "815/815 [==============================] - 11s 13ms/step - loss: 0.0040 - mae: 0.0464\n",
      "Epoch 6/50\n",
      "815/815 [==============================] - 11s 13ms/step - loss: 0.0038 - mae: 0.0450\n",
      "Epoch 7/50\n",
      "815/815 [==============================] - 11s 14ms/step - loss: 0.0036 - mae: 0.0440\n",
      "Epoch 8/50\n",
      "815/815 [==============================] - 11s 14ms/step - loss: 0.0034 - mae: 0.0428\n",
      "Epoch 9/50\n",
      "815/815 [==============================] - 11s 13ms/step - loss: 0.0033 - mae: 0.0423\n",
      "Epoch 10/50\n",
      "815/815 [==============================] - 11s 14ms/step - loss: 0.0031 - mae: 0.0416\n",
      "Epoch 11/50\n",
      "815/815 [==============================] - 11s 14ms/step - loss: 0.0030 - mae: 0.0410\n",
      "Epoch 12/50\n",
      "815/815 [==============================] - 11s 14ms/step - loss: 0.0030 - mae: 0.0407\n",
      "Epoch 13/50\n",
      "815/815 [==============================] - 11s 14ms/step - loss: 0.0029 - mae: 0.0405\n",
      "Epoch 14/50\n",
      "815/815 [==============================] - 11s 14ms/step - loss: 0.0028 - mae: 0.0400\n",
      "Epoch 15/50\n",
      "815/815 [==============================] - 11s 13ms/step - loss: 0.0028 - mae: 0.0397\n",
      "Epoch 16/50\n",
      "815/815 [==============================] - 11s 13ms/step - loss: 0.0028 - mae: 0.0395\n",
      "Epoch 17/50\n",
      "815/815 [==============================] - 11s 14ms/step - loss: 0.0027 - mae: 0.0394\n",
      "Epoch 18/50\n",
      "815/815 [==============================] - 11s 14ms/step - loss: 0.0027 - mae: 0.0391\n",
      "Epoch 19/50\n",
      "815/815 [==============================] - 11s 14ms/step - loss: 0.0027 - mae: 0.0391\n",
      "Epoch 20/50\n",
      "815/815 [==============================] - 11s 14ms/step - loss: 0.0027 - mae: 0.0388\n",
      "Epoch 21/50\n",
      "815/815 [==============================] - 11s 14ms/step - loss: 0.0027 - mae: 0.0388\n",
      "Epoch 22/50\n",
      "815/815 [==============================] - 11s 14ms/step - loss: 0.0026 - mae: 0.0386\n",
      "Epoch 23/50\n",
      "815/815 [==============================] - 11s 14ms/step - loss: 0.0026 - mae: 0.0385\n",
      "Epoch 24/50\n",
      "815/815 [==============================] - 11s 14ms/step - loss: 0.0026 - mae: 0.0385\n",
      "Epoch 25/50\n",
      "815/815 [==============================] - 11s 14ms/step - loss: 0.0026 - mae: 0.0381\n",
      "Epoch 26/50\n",
      "815/815 [==============================] - 11s 14ms/step - loss: 0.0026 - mae: 0.0382\n",
      "Epoch 27/50\n",
      "815/815 [==============================] - 11s 13ms/step - loss: 0.0026 - mae: 0.0381\n",
      "Epoch 28/50\n",
      "815/815 [==============================] - 11s 14ms/step - loss: 0.0025 - mae: 0.0379\n",
      "Epoch 29/50\n",
      "815/815 [==============================] - 11s 14ms/step - loss: 0.0025 - mae: 0.0378\n",
      "Epoch 30/50\n",
      "815/815 [==============================] - 11s 14ms/step - loss: 0.0025 - mae: 0.0378\n",
      "Epoch 31/50\n",
      "815/815 [==============================] - 11s 14ms/step - loss: 0.0025 - mae: 0.0377\n",
      "Epoch 32/50\n",
      "815/815 [==============================] - 11s 14ms/step - loss: 0.0025 - mae: 0.0376\n",
      "Epoch 33/50\n",
      "815/815 [==============================] - 11s 14ms/step - loss: 0.0025 - mae: 0.0375\n",
      "Epoch 34/50\n",
      "815/815 [==============================] - 11s 14ms/step - loss: 0.0025 - mae: 0.0374\n",
      "Epoch 35/50\n",
      "815/815 [==============================] - 11s 14ms/step - loss: 0.0025 - mae: 0.0374\n",
      "Epoch 36/50\n",
      "815/815 [==============================] - 11s 14ms/step - loss: 0.0025 - mae: 0.0372\n",
      "Epoch 37/50\n",
      "815/815 [==============================] - 11s 14ms/step - loss: 0.0025 - mae: 0.0372\n",
      "Epoch 38/50\n",
      "815/815 [==============================] - 11s 14ms/step - loss: 0.0025 - mae: 0.0372\n",
      "Epoch 39/50\n",
      "815/815 [==============================] - 11s 14ms/step - loss: 0.0024 - mae: 0.0370\n",
      "Epoch 40/50\n",
      "815/815 [==============================] - 11s 14ms/step - loss: 0.0024 - mae: 0.0369\n",
      "Epoch 41/50\n",
      "815/815 [==============================] - 11s 14ms/step - loss: 0.0024 - mae: 0.0370\n",
      "Epoch 42/50\n",
      "815/815 [==============================] - 11s 14ms/step - loss: 0.0024 - mae: 0.0369\n",
      "Epoch 43/50\n",
      "815/815 [==============================] - 11s 14ms/step - loss: 0.0024 - mae: 0.0368\n",
      "Epoch 44/50\n",
      "815/815 [==============================] - 11s 14ms/step - loss: 0.0024 - mae: 0.0367\n",
      "Epoch 45/50\n",
      "815/815 [==============================] - 11s 14ms/step - loss: 0.0024 - mae: 0.0367\n",
      "Epoch 46/50\n",
      "815/815 [==============================] - 11s 14ms/step - loss: 0.0024 - mae: 0.0366\n",
      "Epoch 47/50\n",
      "815/815 [==============================] - 11s 14ms/step - loss: 0.0024 - mae: 0.0367\n",
      "Epoch 48/50\n",
      "815/815 [==============================] - 11s 14ms/step - loss: 0.0024 - mae: 0.0364\n",
      "Epoch 49/50\n",
      "815/815 [==============================] - 11s 14ms/step - loss: 0.0024 - mae: 0.0365\n",
      "Epoch 50/50\n",
      "815/815 [==============================] - 11s 14ms/step - loss: 0.0024 - mae: 0.0364\n"
     ]
    }
   ],
   "source": [
    "conv_train = conv_data[index]\n",
    "conv_model.compile(optimizer=optimizers.Adam(0.00002), loss='mse', metrics=['mae'])\n",
    "hist2 = conv_model.fit(conv_train, momentum, batch_size=1024, epochs=50)"
   ]
  },
  {
   "cell_type": "markdown",
   "metadata": {
    "colab_type": "text",
    "id": "RnIWuZWt4lkv"
   },
   "source": [
    "**Loss plot**"
   ]
  },
  {
   "cell_type": "code",
   "execution_count": 71,
   "metadata": {
    "colab": {
     "base_uri": "https://localhost:8080/",
     "height": 295
    },
    "colab_type": "code",
    "id": "2tHq4eUMhgKO",
    "outputId": "697a0380-15c5-47ee-8c7e-669452f3dca8"
   },
   "outputs": [
    {
     "data": {
      "image/png": "[encoded data removed]",
      "text/plain": [
       "<Figure size 432x288 with 1 Axes>"
      ]
     },
     "metadata": {
      "tags": []
     },
     "output_type": "display_data"
    }
   ],
   "source": [
    "conv_model.save('conv_model.h5')\n",
    "plot_loss(hist2)"
   ]
  },
  {
   "cell_type": "code",
   "execution_count": 68,
   "metadata": {
    "colab": {
     "base_uri": "https://localhost:8080/",
     "height": 34
    },
    "colab_type": "code",
    "id": "-1x2Le_lHVep",
    "outputId": "262b0d8d-0bd8-4d07-b679-5bde392a71da"
   },
   "outputs": [
    {
     "name": "stdout",
     "output_type": "stream",
     "text": [
      "0.42078233 0.048125222\n"
     ]
    }
   ],
   "source": [
    "conv_full_data = gen_3d_data(csc_var)\n",
    "out2 = conv_model.predict(conv_full_data)\n",
    "print(np.max(out2), np.min(out2))"
   ]
  },
  {
   "cell_type": "markdown",
   "metadata": {
    "colab_type": "text",
    "id": "4BcLBN24pbOJ"
   },
   "source": [
    "**Predicted clusters**"
   ]
  },
  {
   "cell_type": "code",
   "execution_count": 69,
   "metadata": {
    "colab": {
     "base_uri": "https://localhost:8080/",
     "height": 51
    },
    "colab_type": "code",
    "id": "uTuGwDBlHVet",
    "outputId": "28957588-f8b6-43b4-a342-d4ec8583b9e0"
   },
   "outputs": [
    {
     "name": "stdout",
     "output_type": "stream",
     "text": [
      "1882273 371016 129985 55066\n",
      "2438340 0 0 0\n"
     ]
    }
   ],
   "source": [
    "conv_pred, conv_label = gen_cluster(out2)\n",
    "print(len(ori_cluster[0]), len(ori_cluster[1]), len(ori_cluster[2]), len(ori_cluster[3]))\n",
    "print(len(conv_pred[0]), len(conv_pred[1]), len(conv_pred[2]), len(conv_pred[3]))"
   ]
  },
  {
   "cell_type": "markdown",
   "metadata": {
    "colab_type": "text",
    "id": "IfQxxNtapjhz"
   },
   "source": [
    "**Model Performance**"
   ]
  },
  {
   "cell_type": "code",
   "execution_count": 70,
   "metadata": {
    "colab": {
     "base_uri": "https://localhost:8080/",
     "height": 102
    },
    "colab_type": "code",
    "id": "nGWiEqraZ4Al",
    "outputId": "8e34989c-c11f-46a5-d9b6-b527d4bcacc5"
   },
   "outputs": [
    {
     "name": "stdout",
     "output_type": "stream",
     "text": [
      "[[1882273.       0.       0.       0.]\n",
      " [ 371016.       0.       0.       0.]\n",
      " [ 129985.       0.       0.       0.]\n",
      " [  55066.       0.       0.       0.]]\n",
      "Accuracy of model = 77.19485387599761\n"
     ]
    }
   ],
   "source": [
    "conf_mat2 = gen_conf_mat(ori_label, conv_label)\n",
    "print(conf_mat2)\n",
    "print(\"Accuracy of model =\", find_accuarcy(conf_mat2))"
   ]
  },
  {
   "cell_type": "markdown",
   "metadata": {
    "colab_type": "text",
    "id": "Rk9roWNkJGx5"
   },
   "source": [
    "## Task 2"
   ]
  },
  {
   "cell_type": "markdown",
   "metadata": {
    "colab_type": "text",
    "id": "J01rcdiq42My"
   },
   "source": [
    "**FC Model**"
   ]
  },
  {
   "cell_type": "code",
   "execution_count": 38,
   "metadata": {
    "colab": {
     "base_uri": "https://localhost:8080/",
     "height": 748
    },
    "colab_type": "code",
    "id": "zDBNFEexHVev",
    "outputId": "a4fa817c-c66b-4196-ff5f-5bf57ff9eb7c"
   },
   "outputs": [
    {
     "name": "stdout",
     "output_type": "stream",
     "text": [
      "Model: \"sequential_3\"\n",
      "_________________________________________________________________\n",
      "Layer (type)                 Output Shape              Param #   \n",
      "=================================================================\n",
      "dense_30 (Dense)             (None, 32)                1248      \n",
      "_________________________________________________________________\n",
      "dense_31 (Dense)             (None, 128)               4224      \n",
      "_________________________________________________________________\n",
      "dropout_23 (Dropout)         (None, 128)               0         \n",
      "_________________________________________________________________\n",
      "dense_32 (Dense)             (None, 256)               33024     \n",
      "_________________________________________________________________\n",
      "dropout_24 (Dropout)         (None, 256)               0         \n",
      "_________________________________________________________________\n",
      "dense_33 (Dense)             (None, 512)               131584    \n",
      "_________________________________________________________________\n",
      "dropout_25 (Dropout)         (None, 512)               0         \n",
      "_________________________________________________________________\n",
      "dense_34 (Dense)             (None, 1024)              525312    \n",
      "_________________________________________________________________\n",
      "dropout_26 (Dropout)         (None, 1024)              0         \n",
      "_________________________________________________________________\n",
      "dense_35 (Dense)             (None, 512)               524800    \n",
      "_________________________________________________________________\n",
      "dropout_27 (Dropout)         (None, 512)               0         \n",
      "_________________________________________________________________\n",
      "dense_36 (Dense)             (None, 256)               131328    \n",
      "_________________________________________________________________\n",
      "dropout_28 (Dropout)         (None, 256)               0         \n",
      "_________________________________________________________________\n",
      "dense_37 (Dense)             (None, 128)               32896     \n",
      "_________________________________________________________________\n",
      "dropout_29 (Dropout)         (None, 128)               0         \n",
      "_________________________________________________________________\n",
      "dense_38 (Dense)             (None, 32)                4128      \n",
      "_________________________________________________________________\n",
      "dense_39 (Dense)             (None, 3)                 99        \n",
      "=================================================================\n",
      "Total params: 1,388,643\n",
      "Trainable params: 1,388,643\n",
      "Non-trainable params: 0\n",
      "_________________________________________________________________\n",
      "None\n"
     ]
    }
   ],
   "source": [
    "img_predictor = tf.keras.Sequential()\n",
    "img_predictor.add(layers.Dense(32, activation='relu', input_dim=train_data.shape[1]))\n",
    "# predictor.add(layers.Dropout(0.1))\n",
    "img_predictor.add(layers.Dense(128, activation='relu'))\n",
    "img_predictor.add(layers.Dropout(0.2))\n",
    "img_predictor.add(layers.Dense(256, activation='relu'))\n",
    "img_predictor.add(layers.Dropout(0.2))\n",
    "img_predictor.add(layers.Dense(512, activation='relu'))\n",
    "img_predictor.add(layers.Dropout(0.2))\n",
    "img_predictor.add(layers.Dense(1024, activation='relu' ))\n",
    "img_predictor.add(layers.Dropout(0.2))\n",
    "img_predictor.add(layers.Dense(512, activation='relu'))\n",
    "img_predictor.add(layers.Dropout(0.2))\n",
    "img_predictor.add(layers.Dense(256, activation='relu'))\n",
    "img_predictor.add(layers.Dropout(0.2))\n",
    "img_predictor.add(layers.Dense(128, activation='relu'))\n",
    "img_predictor.add(layers.Dropout(0.2))\n",
    "img_predictor.add(layers.Dense(32, activation='relu'))\n",
    "# predictor.add(layers.Dropout(0.1))\n",
    "img_predictor.add(layers.Dense(3))\n",
    "print(img_predictor.summary())"
   ]
  },
  {
   "cell_type": "markdown",
   "metadata": {
    "colab_type": "text",
    "id": "pyuV8w8O4-CB"
   },
   "source": [
    "**Training Model**"
   ]
  },
  {
   "cell_type": "code",
   "execution_count": 39,
   "metadata": {
    "colab": {
     "base_uri": "https://localhost:8080/",
     "height": 1000
    },
    "colab_type": "code",
    "id": "RDqlKs4RHVe0",
    "outputId": "949d93ef-0354-4ace-c1e5-d23cf966a2fd",
    "scrolled": true
   },
   "outputs": [
    {
     "name": "stdout",
     "output_type": "stream",
     "text": [
      "Epoch 1/50\n",
      "815/815 [==============================] - 9s 11ms/step - loss: 0.0063 - mae: 0.0433\n",
      "Epoch 2/50\n",
      "815/815 [==============================] - 9s 11ms/step - loss: 0.0038 - mae: 0.0326\n",
      "Epoch 3/50\n",
      "815/815 [==============================] - 9s 11ms/step - loss: 0.0026 - mae: 0.0257\n",
      "Epoch 4/50\n",
      "815/815 [==============================] - 9s 11ms/step - loss: 0.0019 - mae: 0.0216\n",
      "Epoch 5/50\n",
      "815/815 [==============================] - 9s 11ms/step - loss: 0.0017 - mae: 0.0197\n",
      "Epoch 6/50\n",
      "815/815 [==============================] - 9s 11ms/step - loss: 0.0015 - mae: 0.0186\n",
      "Epoch 7/50\n",
      "815/815 [==============================] - 9s 11ms/step - loss: 0.0014 - mae: 0.0179\n",
      "Epoch 8/50\n",
      "815/815 [==============================] - 9s 11ms/step - loss: 0.0014 - mae: 0.0172\n",
      "Epoch 9/50\n",
      "815/815 [==============================] - 9s 11ms/step - loss: 0.0013 - mae: 0.0168\n",
      "Epoch 10/50\n",
      "815/815 [==============================] - 9s 11ms/step - loss: 0.0013 - mae: 0.0163\n",
      "Epoch 11/50\n",
      "815/815 [==============================] - 9s 11ms/step - loss: 0.0012 - mae: 0.0160\n",
      "Epoch 12/50\n",
      "815/815 [==============================] - 9s 11ms/step - loss: 0.0012 - mae: 0.0157\n",
      "Epoch 13/50\n",
      "815/815 [==============================] - 9s 11ms/step - loss: 0.0011 - mae: 0.0154\n",
      "Epoch 14/50\n",
      "815/815 [==============================] - 9s 11ms/step - loss: 0.0011 - mae: 0.0152\n",
      "Epoch 15/50\n",
      "815/815 [==============================] - 9s 11ms/step - loss: 0.0011 - mae: 0.0150\n",
      "Epoch 16/50\n",
      "815/815 [==============================] - 9s 11ms/step - loss: 0.0011 - mae: 0.0148\n",
      "Epoch 17/50\n",
      "815/815 [==============================] - 9s 11ms/step - loss: 0.0010 - mae: 0.0147\n",
      "Epoch 18/50\n",
      "815/815 [==============================] - 9s 11ms/step - loss: 0.0010 - mae: 0.0145\n",
      "Epoch 19/50\n",
      "815/815 [==============================] - 9s 11ms/step - loss: 9.9255e-04 - mae: 0.0144\n",
      "Epoch 20/50\n",
      "815/815 [==============================] - 9s 11ms/step - loss: 9.7428e-04 - mae: 0.0142\n",
      "Epoch 21/50\n",
      "815/815 [==============================] - 9s 11ms/step - loss: 9.6011e-04 - mae: 0.0142\n",
      "Epoch 22/50\n",
      "815/815 [==============================] - 9s 10ms/step - loss: 9.5020e-04 - mae: 0.0141\n",
      "Epoch 23/50\n",
      "815/815 [==============================] - 8s 10ms/step - loss: 9.3855e-04 - mae: 0.0140\n",
      "Epoch 24/50\n",
      "815/815 [==============================] - 9s 10ms/step - loss: 9.2695e-04 - mae: 0.0139\n",
      "Epoch 25/50\n",
      "815/815 [==============================] - 9s 11ms/step - loss: 9.1613e-04 - mae: 0.0138\n",
      "Epoch 26/50\n",
      "815/815 [==============================] - 9s 11ms/step - loss: 9.0873e-04 - mae: 0.0138\n",
      "Epoch 27/50\n",
      "815/815 [==============================] - 9s 11ms/step - loss: 8.9996e-04 - mae: 0.0137\n",
      "Epoch 28/50\n",
      "815/815 [==============================] - 9s 11ms/step - loss: 8.9354e-04 - mae: 0.0137\n",
      "Epoch 29/50\n",
      "815/815 [==============================] - 9s 11ms/step - loss: 8.8204e-04 - mae: 0.0136\n",
      "Epoch 30/50\n",
      "815/815 [==============================] - 9s 10ms/step - loss: 8.7608e-04 - mae: 0.0135\n",
      "Epoch 31/50\n",
      "815/815 [==============================] - 9s 11ms/step - loss: 8.6799e-04 - mae: 0.0135\n",
      "Epoch 32/50\n",
      "815/815 [==============================] - 9s 11ms/step - loss: 8.6204e-04 - mae: 0.0134\n",
      "Epoch 33/50\n",
      "815/815 [==============================] - 9s 11ms/step - loss: 8.5601e-04 - mae: 0.0134\n",
      "Epoch 34/50\n",
      "815/815 [==============================] - 9s 11ms/step - loss: 8.4922e-04 - mae: 0.0133\n",
      "Epoch 35/50\n",
      "815/815 [==============================] - 9s 11ms/step - loss: 8.4365e-04 - mae: 0.0133\n",
      "Epoch 36/50\n",
      "815/815 [==============================] - 9s 11ms/step - loss: 8.3645e-04 - mae: 0.0132\n",
      "Epoch 37/50\n",
      "815/815 [==============================] - 9s 11ms/step - loss: 8.3032e-04 - mae: 0.0132\n",
      "Epoch 38/50\n",
      "815/815 [==============================] - 9s 11ms/step - loss: 8.2808e-04 - mae: 0.0131\n",
      "Epoch 39/50\n",
      "815/815 [==============================] - 9s 11ms/step - loss: 8.2224e-04 - mae: 0.0131\n",
      "Epoch 40/50\n",
      "815/815 [==============================] - 9s 11ms/step - loss: 8.1802e-04 - mae: 0.0131\n",
      "Epoch 41/50\n",
      "815/815 [==============================] - 9s 11ms/step - loss: 8.1371e-04 - mae: 0.0130\n",
      "Epoch 42/50\n",
      "815/815 [==============================] - 9s 11ms/step - loss: 8.1291e-04 - mae: 0.0130\n",
      "Epoch 43/50\n",
      "815/815 [==============================] - 9s 11ms/step - loss: 8.0530e-04 - mae: 0.0130\n",
      "Epoch 44/50\n",
      "815/815 [==============================] - 9s 11ms/step - loss: 8.0380e-04 - mae: 0.0130\n",
      "Epoch 45/50\n",
      "815/815 [==============================] - 9s 11ms/step - loss: 7.9654e-04 - mae: 0.0129\n",
      "Epoch 46/50\n",
      "815/815 [==============================] - 9s 11ms/step - loss: 7.9422e-04 - mae: 0.0129\n",
      "Epoch 47/50\n",
      "815/815 [==============================] - 9s 11ms/step - loss: 7.9357e-04 - mae: 0.0129\n",
      "Epoch 48/50\n",
      "815/815 [==============================] - 9s 11ms/step - loss: 7.8718e-04 - mae: 0.0128\n",
      "Epoch 49/50\n",
      "815/815 [==============================] - 9s 11ms/step - loss: 7.8589e-04 - mae: 0.0128\n",
      "Epoch 50/50\n",
      "815/815 [==============================] - 9s 11ms/step - loss: 7.8245e-04 - mae: 0.0128\n"
     ]
    }
   ],
   "source": [
    "img_predictor.compile(optimizer=optimizers.Adam(learning_rate=0.00002), loss='mse', metrics=['mae'])\n",
    "hist3 = img_predictor.fit(train_data, im_momentum, batch_size=1024, epochs=50)"
   ]
  },
  {
   "cell_type": "markdown",
   "metadata": {
    "colab_type": "text",
    "id": "9NMWPpkd5wrc"
   },
   "source": [
    "**Loss plot**"
   ]
  },
  {
   "cell_type": "code",
   "execution_count": 40,
   "metadata": {
    "colab": {
     "base_uri": "https://localhost:8080/",
     "height": 295
    },
    "colab_type": "code",
    "id": "Xvot24LYHVe3",
    "outputId": "1c91493f-2887-43ae-98ed-bbfb8bbe817b"
   },
   "outputs": [
    {
     "data": {
      "image/png": "[encoded data removed]",
      "text/plain": [
       "<Figure size 432x288 with 1 Axes>"
      ]
     },
     "metadata": {
      "tags": []
     },
     "output_type": "display_data"
    }
   ],
   "source": [
    "img_predictor.save('img_predictor.h5')\n",
    "plot_loss(hist3)"
   ]
  },
  {
   "cell_type": "code",
   "execution_count": 51,
   "metadata": {
    "colab": {
     "base_uri": "https://localhost:8080/",
     "height": 51
    },
    "colab_type": "code",
    "id": "crGMTSkqHVe5",
    "outputId": "277483ec-3667-40db-ce6b-f29d71701d73"
   },
   "outputs": [
    {
     "name": "stdout",
     "output_type": "stream",
     "text": [
      "44/44 [==============================] - 1s 17ms/step - loss: 0.0727 - mae: 0.2084\n",
      "21.823713 2.289417\n"
     ]
    }
   ],
   "source": [
    "# img_predictor = tf.keras.models.load_model('img_predictor.h5')\n",
    "img_predictor.evaluate(test_data, t_mom, batch_size=8196)\n",
    "out3 = img_predictor.predict(csc_var)\n",
    "out3[:,0] = abs(1/out3[:,0])\n",
    "print(np.max(out3[:,0]), np.min(out3[:,0]))"
   ]
  },
  {
   "cell_type": "markdown",
   "metadata": {
    "colab_type": "text",
    "id": "G93iO4E551lF"
   },
   "source": [
    "**Predicted cluster**"
   ]
  },
  {
   "cell_type": "code",
   "execution_count": 52,
   "metadata": {
    "colab": {
     "base_uri": "https://localhost:8080/",
     "height": 51
    },
    "colab_type": "code",
    "id": "AZ2ItxUcHVe7",
    "outputId": "a584c1e7-f806-4a77-da9a-6da6ce88f15b"
   },
   "outputs": [
    {
     "name": "stdout",
     "output_type": "stream",
     "text": [
      "1882273 371016 129985 55066\n",
      "2277925 160415 0 0\n"
     ]
    }
   ],
   "source": [
    "im_pred_cluster, im_pred_label = gen_cluster(out3[:,0])\n",
    "print(len(ori_cluster[0]), len(ori_cluster[1]), len(ori_cluster[2]), len(ori_cluster[3]))\n",
    "print(len(im_pred_cluster[0]), len(im_pred_cluster[1]), len(im_pred_cluster[2]), len(im_pred_cluster[3]))"
   ]
  },
  {
   "cell_type": "markdown",
   "metadata": {
    "colab_type": "text",
    "id": "UJLty5-056eA"
   },
   "source": [
    "**Performance of model**"
   ]
  },
  {
   "cell_type": "code",
   "execution_count": 61,
   "metadata": {
    "colab": {
     "base_uri": "https://localhost:8080/",
     "height": 102
    },
    "colab_type": "code",
    "id": "g7Q_YIQyaEyv",
    "outputId": "d665e0e7-a57d-4cb7-bec4-b1aad77d50c6"
   },
   "outputs": [
    {
     "name": "stdout",
     "output_type": "stream",
     "text": [
      "[[2.397418e+06 1.288640e+05 0.000000e+00 0.000000e+00]\n",
      " [4.937660e+05 3.890000e+03 0.000000e+00 0.000000e+00]\n",
      " [1.728100e+05 1.667000e+03 0.000000e+00 0.000000e+00]\n",
      " [7.302500e+04 9.010000e+02 0.000000e+00 0.000000e+00]]\n",
      "Accuracy of model = 73.38196110979877\n"
     ]
    }
   ],
   "source": [
    "conf_mat3 = gen_conf_mat(ori_label, im_pred_label)\n",
    "print(conf_mat3)\n",
    "print(\"Accuracy of model =\", find_accuarcy(conf_mat3))"
   ]
  },
  {
   "cell_type": "markdown",
   "metadata": {
    "colab_type": "text",
    "id": "7bB1UG9Y5-LF"
   },
   "source": [
    "**CNN Model**"
   ]
  },
  {
   "cell_type": "code",
   "execution_count": 73,
   "metadata": {
    "colab": {
     "base_uri": "https://localhost:8080/",
     "height": 918
    },
    "colab_type": "code",
    "collapsed": true,
    "id": "U8nx8LQ-HVfA",
    "outputId": "50cbf199-3300-4009-cd0c-5de8880c41dd"
   },
   "outputs": [
    {
     "name": "stdout",
     "output_type": "stream",
     "text": [
      "Model: \"sequential_7\"\n",
      "_________________________________________________________________\n",
      "Layer (type)                 Output Shape              Param #   \n",
      "=================================================================\n",
      "conv1d_12 (Conv1D)           (None, 5, 32)             2080      \n",
      "_________________________________________________________________\n",
      "conv1d_13 (Conv1D)           (None, 5, 32)             8224      \n",
      "_________________________________________________________________\n",
      "conv1d_14 (Conv1D)           (None, 5, 16)             4112      \n",
      "_________________________________________________________________\n",
      "max_pooling1d_4 (MaxPooling1 (None, 1, 16)             0         \n",
      "_________________________________________________________________\n",
      "flatten_4 (Flatten)          (None, 16)                0         \n",
      "_________________________________________________________________\n",
      "dense_70 (Dense)             (None, 32)                544       \n",
      "_________________________________________________________________\n",
      "dense_71 (Dense)             (None, 128)               4224      \n",
      "_________________________________________________________________\n",
      "dropout_51 (Dropout)         (None, 128)               0         \n",
      "_________________________________________________________________\n",
      "dense_72 (Dense)             (None, 256)               33024     \n",
      "_________________________________________________________________\n",
      "dropout_52 (Dropout)         (None, 256)               0         \n",
      "_________________________________________________________________\n",
      "dense_73 (Dense)             (None, 512)               131584    \n",
      "_________________________________________________________________\n",
      "dropout_53 (Dropout)         (None, 512)               0         \n",
      "_________________________________________________________________\n",
      "dense_74 (Dense)             (None, 1024)              525312    \n",
      "_________________________________________________________________\n",
      "dropout_54 (Dropout)         (None, 1024)              0         \n",
      "_________________________________________________________________\n",
      "dense_75 (Dense)             (None, 512)               524800    \n",
      "_________________________________________________________________\n",
      "dropout_55 (Dropout)         (None, 512)               0         \n",
      "_________________________________________________________________\n",
      "dense_76 (Dense)             (None, 256)               131328    \n",
      "_________________________________________________________________\n",
      "dropout_56 (Dropout)         (None, 256)               0         \n",
      "_________________________________________________________________\n",
      "dense_77 (Dense)             (None, 128)               32896     \n",
      "_________________________________________________________________\n",
      "dropout_57 (Dropout)         (None, 128)               0         \n",
      "_________________________________________________________________\n",
      "dense_78 (Dense)             (None, 32)                4128      \n",
      "_________________________________________________________________\n",
      "dense_79 (Dense)             (None, 3)                 99        \n",
      "=================================================================\n",
      "Total params: 1,402,355\n",
      "Trainable params: 1,402,355\n",
      "Non-trainable params: 0\n",
      "_________________________________________________________________\n",
      "None\n"
     ]
    }
   ],
   "source": [
    "im_conv_model = tf.keras.Sequential()\n",
    "im_conv_model.add(layers.Conv1D(filters=32, kernel_size=8, padding='same',activation='relu', input_shape=(nr, nf)))\n",
    "# conv_model.add(layers.Dropout(0.3))\n",
    "im_conv_model.add(layers.Conv1D(filters=32, kernel_size=8, padding='same', activation='relu'))\n",
    "# conv_model.add(layers.Dropout(0.3))\n",
    "im_conv_model.add(layers.Conv1D(filters=16, kernel_size=8, padding='same', activation='relu'))\n",
    "im_conv_model.add(layers.MaxPooling1D(pool_size=3))\n",
    "im_conv_model.add(layers.Flatten())\n",
    "im_conv_model.add(layers.Dense(32, activation='relu'))\n",
    "im_conv_model.add(layers.Dense(128, activation='relu'))\n",
    "im_conv_model.add(layers.Dropout(0.3))\n",
    "im_conv_model.add(layers.Dense(256, activation='relu'))\n",
    "im_conv_model.add(layers.Dropout(0.3))\n",
    "im_conv_model.add(layers.Dense(512, activation='relu'))\n",
    "im_conv_model.add(layers.Dropout(0.3))\n",
    "im_conv_model.add(layers.Dense(1024, activation='relu'))\n",
    "im_conv_model.add(layers.Dropout(0.3))\n",
    "im_conv_model.add(layers.Dense(512, activation='relu'))\n",
    "im_conv_model.add(layers.Dropout(0.3))\n",
    "im_conv_model.add(layers.Dense(256, activation='relu'))\n",
    "im_conv_model.add(layers.Dropout(0.3))\n",
    "im_conv_model.add(layers.Dense(128, activation='relu'))\n",
    "im_conv_model.add(layers.Dropout(0.3))\n",
    "im_conv_model.add(layers.Dense(32, activation='relu'))\n",
    "im_conv_model.add(layers.Dense(3))\n",
    "\n",
    "print(im_conv_model.summary())"
   ]
  },
  {
   "cell_type": "markdown",
   "metadata": {
    "colab_type": "text",
    "id": "Mm0mIPtv6Qme"
   },
   "source": [
    "**Training model**"
   ]
  },
  {
   "cell_type": "code",
   "execution_count": 74,
   "metadata": {
    "colab": {
     "base_uri": "https://localhost:8080/",
     "height": 1000
    },
    "colab_type": "code",
    "id": "kPYGBt0dHVfD",
    "outputId": "46102ffd-a153-48fc-c392-5fa33e809615",
    "scrolled": true
   },
   "outputs": [
    {
     "name": "stdout",
     "output_type": "stream",
     "text": [
      "Epoch 1/50\n",
      "815/815 [==============================] - 11s 14ms/step - loss: 0.0063 - mae: 0.0439\n",
      "Epoch 2/50\n",
      "815/815 [==============================] - 11s 14ms/step - loss: 0.0045 - mae: 0.0365\n",
      "Epoch 3/50\n",
      "815/815 [==============================] - 11s 14ms/step - loss: 0.0024 - mae: 0.0255\n",
      "Epoch 4/50\n",
      "815/815 [==============================] - 11s 14ms/step - loss: 0.0017 - mae: 0.0207\n",
      "Epoch 5/50\n",
      "815/815 [==============================] - 11s 14ms/step - loss: 0.0015 - mae: 0.0190\n",
      "Epoch 6/50\n",
      "815/815 [==============================] - 11s 14ms/step - loss: 0.0014 - mae: 0.0180\n",
      "Epoch 7/50\n",
      "815/815 [==============================] - 11s 14ms/step - loss: 0.0013 - mae: 0.0174\n",
      "Epoch 8/50\n",
      "815/815 [==============================] - 11s 14ms/step - loss: 0.0013 - mae: 0.0168\n",
      "Epoch 9/50\n",
      "815/815 [==============================] - 11s 14ms/step - loss: 0.0012 - mae: 0.0164\n",
      "Epoch 10/50\n",
      "815/815 [==============================] - 11s 14ms/step - loss: 0.0012 - mae: 0.0160\n",
      "Epoch 11/50\n",
      "815/815 [==============================] - 11s 14ms/step - loss: 0.0011 - mae: 0.0157\n",
      "Epoch 12/50\n",
      "815/815 [==============================] - 11s 14ms/step - loss: 0.0011 - mae: 0.0154\n",
      "Epoch 13/50\n",
      "815/815 [==============================] - 11s 14ms/step - loss: 0.0011 - mae: 0.0151\n",
      "Epoch 14/50\n",
      "815/815 [==============================] - 11s 14ms/step - loss: 0.0011 - mae: 0.0149\n",
      "Epoch 15/50\n",
      "815/815 [==============================] - 11s 14ms/step - loss: 0.0010 - mae: 0.0147\n",
      "Epoch 16/50\n",
      "815/815 [==============================] - 11s 14ms/step - loss: 0.0010 - mae: 0.0146\n",
      "Epoch 17/50\n",
      "815/815 [==============================] - 11s 14ms/step - loss: 9.7778e-04 - mae: 0.0144\n",
      "Epoch 18/50\n",
      "815/815 [==============================] - 11s 14ms/step - loss: 9.5580e-04 - mae: 0.0142\n",
      "Epoch 19/50\n",
      "815/815 [==============================] - 11s 14ms/step - loss: 9.3923e-04 - mae: 0.0141\n",
      "Epoch 20/50\n",
      "815/815 [==============================] - 11s 14ms/step - loss: 9.2114e-04 - mae: 0.0140\n",
      "Epoch 21/50\n",
      "815/815 [==============================] - 11s 14ms/step - loss: 9.0864e-04 - mae: 0.0139\n",
      "Epoch 22/50\n",
      "815/815 [==============================] - 11s 14ms/step - loss: 8.9754e-04 - mae: 0.0138\n",
      "Epoch 23/50\n",
      "815/815 [==============================] - 11s 14ms/step - loss: 8.8242e-04 - mae: 0.0137\n",
      "Epoch 24/50\n",
      "815/815 [==============================] - 11s 14ms/step - loss: 8.7746e-04 - mae: 0.0137\n",
      "Epoch 25/50\n",
      "815/815 [==============================] - 11s 14ms/step - loss: 8.7337e-04 - mae: 0.0136\n",
      "Epoch 26/50\n",
      "815/815 [==============================] - 11s 14ms/step - loss: 8.6260e-04 - mae: 0.0135\n",
      "Epoch 27/50\n",
      "815/815 [==============================] - 11s 14ms/step - loss: 8.5437e-04 - mae: 0.0135\n",
      "Epoch 28/50\n",
      "815/815 [==============================] - 11s 14ms/step - loss: 8.5148e-04 - mae: 0.0134\n",
      "Epoch 29/50\n",
      "815/815 [==============================] - 11s 14ms/step - loss: 8.4644e-04 - mae: 0.0134\n",
      "Epoch 30/50\n",
      "815/815 [==============================] - 11s 14ms/step - loss: 8.4065e-04 - mae: 0.0134\n",
      "Epoch 31/50\n",
      "815/815 [==============================] - 11s 14ms/step - loss: 8.3787e-04 - mae: 0.0133\n",
      "Epoch 32/50\n",
      "815/815 [==============================] - 11s 14ms/step - loss: 8.3391e-04 - mae: 0.0133\n",
      "Epoch 33/50\n",
      "815/815 [==============================] - 11s 14ms/step - loss: 8.3173e-04 - mae: 0.0133\n",
      "Epoch 34/50\n",
      "815/815 [==============================] - 11s 14ms/step - loss: 8.2852e-04 - mae: 0.0132\n",
      "Epoch 35/50\n",
      "815/815 [==============================] - 11s 14ms/step - loss: 8.2548e-04 - mae: 0.0132\n",
      "Epoch 36/50\n",
      "815/815 [==============================] - 11s 14ms/step - loss: 8.2238e-04 - mae: 0.0132\n",
      "Epoch 37/50\n",
      "815/815 [==============================] - 11s 14ms/step - loss: 8.1704e-04 - mae: 0.0131\n",
      "Epoch 38/50\n",
      "815/815 [==============================] - 11s 14ms/step - loss: 8.1428e-04 - mae: 0.0131\n",
      "Epoch 39/50\n",
      "815/815 [==============================] - 11s 14ms/step - loss: 8.1188e-04 - mae: 0.0131\n",
      "Epoch 40/50\n",
      "815/815 [==============================] - 11s 14ms/step - loss: 8.0889e-04 - mae: 0.0131\n",
      "Epoch 41/50\n",
      "815/815 [==============================] - 11s 14ms/step - loss: 8.0615e-04 - mae: 0.0130\n",
      "Epoch 42/50\n",
      "815/815 [==============================] - 11s 14ms/step - loss: 8.0208e-04 - mae: 0.0130\n",
      "Epoch 43/50\n",
      "815/815 [==============================] - 11s 14ms/step - loss: 8.0204e-04 - mae: 0.0130\n",
      "Epoch 44/50\n",
      "815/815 [==============================] - 11s 14ms/step - loss: 7.9768e-04 - mae: 0.0130\n",
      "Epoch 45/50\n",
      "815/815 [==============================] - 11s 14ms/step - loss: 7.9621e-04 - mae: 0.0129\n",
      "Epoch 46/50\n",
      "815/815 [==============================] - 11s 14ms/step - loss: 7.9202e-04 - mae: 0.0129\n",
      "Epoch 47/50\n",
      "815/815 [==============================] - 11s 14ms/step - loss: 7.9107e-04 - mae: 0.0129\n",
      "Epoch 48/50\n",
      "815/815 [==============================] - 11s 14ms/step - loss: 7.8743e-04 - mae: 0.0129\n",
      "Epoch 49/50\n",
      "815/815 [==============================] - 11s 14ms/step - loss: 7.8865e-04 - mae: 0.0129\n",
      "Epoch 50/50\n",
      "815/815 [==============================] - 11s 14ms/step - loss: 7.8429e-04 - mae: 0.0128\n"
     ]
    }
   ],
   "source": [
    "im_conv_train = conv_data[index]\n",
    "t_im = np.copy(im_momentum)\n",
    "# t_im[:,0] = 100*t_im[:,0] \n",
    "im_conv_model.compile(optimizer=optimizers.Adam(0.00002), loss='mse', metrics=['mae'])\n",
    "hist4 = im_conv_model.fit(conv_train, t_im, batch_size=1024, epochs=50)"
   ]
  },
  {
   "cell_type": "markdown",
   "metadata": {
    "colab_type": "text",
    "id": "PrUz1arr6VaP"
   },
   "source": [
    "**Loss plot**"
   ]
  },
  {
   "cell_type": "code",
   "execution_count": 75,
   "metadata": {
    "colab": {
     "base_uri": "https://localhost:8080/",
     "height": 295
    },
    "colab_type": "code",
    "id": "ZePqI130hzXc",
    "outputId": "d804faee-b216-4f0f-c39e-a83c1f41e41f"
   },
   "outputs": [
    {
     "data": {
      "image/png": "[encoded data removed]",
      "text/plain": [
       "<Figure size 432x288 with 1 Axes>"
      ]
     },
     "metadata": {
      "tags": []
     },
     "output_type": "display_data"
    }
   ],
   "source": [
    "im_conv_model.save('im_conv_model.h5')\n",
    "plot_loss(hist4)"
   ]
  },
  {
   "cell_type": "code",
   "execution_count": 76,
   "metadata": {
    "colab": {
     "base_uri": "https://localhost:8080/",
     "height": 34
    },
    "colab_type": "code",
    "id": "uYdHDN0cHVfF",
    "outputId": "100e17c1-d1ca-4dab-f0a3-5162b1abd3e2"
   },
   "outputs": [
    {
     "name": "stdout",
     "output_type": "stream",
     "text": [
      "0.41038004 0.04837583\n"
     ]
    }
   ],
   "source": [
    "out4 = im_conv_model.predict(conv_full_data)\n",
    "out4[:,0] = abs(out4[:,0])\n",
    "print(np.max(out4[:,0]), np.min(out4[:,0]))"
   ]
  },
  {
   "cell_type": "markdown",
   "metadata": {
    "colab_type": "text",
    "id": "NTmYS2PK6wLe"
   },
   "source": [
    "**Predicted cluster**"
   ]
  },
  {
   "cell_type": "code",
   "execution_count": 77,
   "metadata": {
    "colab": {
     "base_uri": "https://localhost:8080/",
     "height": 51
    },
    "colab_type": "code",
    "id": "qepLM_GCHVfI",
    "outputId": "4cb1f4af-fcf6-4c08-8d5b-49065d0d1c05"
   },
   "outputs": [
    {
     "name": "stdout",
     "output_type": "stream",
     "text": [
      "1882273 371016 129985 55066\n",
      "2438340 0 0 0\n"
     ]
    }
   ],
   "source": [
    "im_conv_pred_cluster, im_conv_pred_label = gen_cluster(out4[:,0])\n",
    "print(len(ori_cluster[0]), len(ori_cluster[1]), len(ori_cluster[2]), len(ori_cluster[3]))\n",
    "print(len(im_conv_pred_cluster[0]), len(im_conv_pred_cluster[1]), len(im_conv_pred_cluster[2]), len(im_conv_pred_cluster[3]))"
   ]
  },
  {
   "cell_type": "markdown",
   "metadata": {
    "colab_type": "text",
    "id": "NubKJfu76z8-"
   },
   "source": [
    "**Performance of model**"
   ]
  },
  {
   "cell_type": "code",
   "execution_count": 78,
   "metadata": {
    "colab": {
     "base_uri": "https://localhost:8080/",
     "height": 102
    },
    "colab_type": "code",
    "id": "fOi1KbodaO_E",
    "outputId": "4ec14187-b161-46f1-d8bf-106c10974a50"
   },
   "outputs": [
    {
     "name": "stdout",
     "output_type": "stream",
     "text": [
      "[[1882273.       0.       0.       0.]\n",
      " [ 371016.       0.       0.       0.]\n",
      " [ 129985.       0.       0.       0.]\n",
      " [  55066.       0.       0.       0.]]\n",
      "Accuracy of model = 77.19485387599761\n"
     ]
    }
   ],
   "source": [
    "conf_mat4 = gen_conf_mat(ori_label, im_conv_pred_label)\n",
    "print(conf_mat4)\n",
    "print(\"Accuracy of model =\", find_accuarcy(conf_mat4))"
   ]
  }
 ],
 "metadata": {
  "accelerator": "GPU",
  "colab": {
   "collapsed_sections": [],
   "machine_shape": "hm",
   "name": "Task_1&2.ipynb",
   "provenance": []
  },
  "kernelspec": {
   "display_name": "Python 3",
   "language": "python",
   "name": "python3"
  },
  "language_info": {
   "codemirror_mode": {
    "name": "ipython",
    "version": 3
   },
   "file_extension": ".py",
   "mimetype": "text/x-python",
   "name": "python",
   "nbconvert_exporter": "python",
   "pygments_lexer": "ipython3",
   "version": "3.6.9"
  }
 },
 "nbformat": 4,
 "nbformat_minor": 1
}

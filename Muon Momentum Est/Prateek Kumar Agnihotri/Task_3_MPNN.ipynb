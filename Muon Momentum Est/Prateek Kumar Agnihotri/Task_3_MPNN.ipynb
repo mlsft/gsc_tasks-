{
  "nbformat": 4,
  "nbformat_minor": 0,
  "metadata": {
    "colab": {
      "name": "Task 3 MPNN.ipynb",
      "provenance": [],
      "collapsed_sections": []
    },
    "kernelspec": {
      "name": "python3",
      "display_name": "Python 3"
    },
    "accelerator": "GPU"
  },
  "cells": [
    {
      "cell_type": "markdown",
      "metadata": {
        "id": "85EcTm8rLcov",
        "colab_type": "text"
      },
      "source": [
        "# Install required modules and Download the data"
      ]
    },
    {
      "cell_type": "code",
      "metadata": {
        "id": "_NcBP_fYM0o6",
        "colab_type": "code",
        "outputId": "78f3cdfd-7c55-4637-93ab-e4d12c9e30c8",
        "colab": {
          "base_uri": "https://localhost:8080/",
          "height": 306
        }
      },
      "source": [
        "!nvidia-smi"
      ],
      "execution_count": 1,
      "outputs": [
        {
          "output_type": "stream",
          "text": [
            "Mon Mar  9 03:39:49 2020       \n",
            "+-----------------------------------------------------------------------------+\n",
            "| NVIDIA-SMI 440.59       Driver Version: 418.67       CUDA Version: 10.1     |\n",
            "|-------------------------------+----------------------+----------------------+\n",
            "| GPU  Name        Persistence-M| Bus-Id        Disp.A | Volatile Uncorr. ECC |\n",
            "| Fan  Temp  Perf  Pwr:Usage/Cap|         Memory-Usage | GPU-Util  Compute M. |\n",
            "|===============================+======================+======================|\n",
            "|   0  Tesla T4            Off  | 00000000:00:04.0 Off |                    0 |\n",
            "| N/A   65C    P8    12W /  70W |      0MiB / 15079MiB |      0%      Default |\n",
            "+-------------------------------+----------------------+----------------------+\n",
            "                                                                               \n",
            "+-----------------------------------------------------------------------------+\n",
            "| Processes:                                                       GPU Memory |\n",
            "|  GPU       PID   Type   Process name                             Usage      |\n",
            "|=============================================================================|\n",
            "|  No running processes found                                                 |\n",
            "+-----------------------------------------------------------------------------+\n"
          ],
          "name": "stdout"
        }
      ]
    },
    {
      "cell_type": "code",
      "metadata": {
        "id": "mpbaHCKlbJO5",
        "colab_type": "code",
        "outputId": "135ddcd4-951c-470a-8917-dd1cae614114",
        "colab": {
          "base_uri": "https://localhost:8080/",
          "height": 136
        }
      },
      "source": [
        "!pip -qq install torch-scatter==latest+cu101 torch-sparse==latest+cu101 -f https://s3.eu-central-1.amazonaws.com/pytorch-geometric.com/whl/torch-1.4.0.html\n",
        "!pip -qq install torch-geometric"
      ],
      "execution_count": 2,
      "outputs": [
        {
          "output_type": "stream",
          "text": [
            "\u001b[K     |████████████████████████████████| 10.6MB 326kB/s \n",
            "\u001b[K     |████████████████████████████████| 11.5MB 377kB/s \n",
            "\u001b[K     |████████████████████████████████| 143kB 4.8MB/s \n",
            "\u001b[K     |████████████████████████████████| 348kB 11.2MB/s \n",
            "\u001b[K     |████████████████████████████████| 51kB 8.7MB/s \n",
            "\u001b[?25h  Building wheel for torch-geometric (setup.py) ... \u001b[?25l\u001b[?25hdone\n",
            "  Building wheel for plyfile (setup.py) ... \u001b[?25l\u001b[?25hdone\n"
          ],
          "name": "stdout"
        }
      ]
    },
    {
      "cell_type": "markdown",
      "metadata": {
        "id": "ItOnjpR4msaL",
        "colab_type": "text"
      },
      "source": [
        "Torchvision like format - <br>a directory graph with <br>sub-direcotry \"raw\" to store raw files and <br>sub-direcotry \"processsed\" to store individual graph in .pt format"
      ]
    },
    {
      "cell_type": "code",
      "metadata": {
        "id": "ie2pcpPUgsip",
        "colab_type": "code",
        "colab": {
          "base_uri": "https://localhost:8080/",
          "height": 102
        },
        "outputId": "d2473ba9-428a-4212-d4ec-ba8b69f13582"
      },
      "source": [
        "!mkdir /content/graphs\n",
        "!mkdir /content/graphs/raw\n",
        "!mkdir /content/graphs/processed\n",
        "%cd /content/graphs/raw\n",
        "!wget -qq \"https://zenodo.org/record/3164691/files/QG_jets.npz\"\n",
        "\n",
        "###### Uncomment commands given below to train on entire dataset ########\n",
        "\n",
        "# !wget -qq \"https://zenodo.org/record/3164691/files/QG_jets_1.npz\"\n",
        "# !wget -qq \"https://zenodo.org/record/3164691/files/QG_jets_2.npz\"\n",
        "# !wget -qq \"https://zenodo.org/record/3164691/files/QG_jets_3.npz\"\n",
        "# !wget -qq \"https://zenodo.org/record/3164691/files/QG_jets_4.npz\"\n",
        "# !wget -qq \"https://zenodo.org/record/3164691/files/QG_jets_5.npz\"\n",
        "# !wget -qq \"https://zenodo.org/record/3164691/files/QG_jets_6.npz\"\n",
        "# !wget -qq \"https://zenodo.org/record/3164691/files/QG_jets_7.npz\"\n",
        "# !wget -qq \"https://zenodo.org/record/3164691/files/QG_jets_8.npz\"\n",
        "# !wget -qq \"https://zenodo.org/record/3164691/files/QG_jets_9.npz\"\n",
        "# !wget -qq \"https://zenodo.org/record/3164691/files/QG_jets_10.npz\"\n",
        "# !wget -qq \"https://zenodo.org/record/3164691/files/QG_jets_11.npz\"\n",
        "# !wget -qq \"https://zenodo.org/record/3164691/files/QG_jets_12.npz\"\n",
        "# !wget -qq \"https://zenodo.org/record/3164691/files/QG_jets_13.npz\"\n",
        "# !wget -qq \"https://zenodo.org/record/3164691/files/QG_jets_14.npz\"\n",
        "# !wget -qq \"https://zenodo.org/record/3164691/files/QG_jets_15.npz\"\n",
        "# !wget -qq \"https://zenodo.org/record/3164691/files/QG_jets_16.npz\"\n",
        "# !wget -qq \"https://zenodo.org/record/3164691/files/QG_jets_17.npz\"\n",
        "# !wget -qq \"https://zenodo.org/record/3164691/files/QG_jets_18.npz\"\n",
        "# !wget -qq \"https://zenodo.org/record/3164691/files/QG_jets_19.npz\"\n",
        "\n",
        "%cd /content"
      ],
      "execution_count": 1,
      "outputs": [
        {
          "output_type": "stream",
          "text": [
            "mkdir: cannot create directory ‘/content/graphs’: File exists\n",
            "mkdir: cannot create directory ‘/content/graphs/raw’: File exists\n",
            "mkdir: cannot create directory ‘/content/graphs/processed’: File exists\n",
            "/content/graphs/raw\n",
            "/content\n"
          ],
          "name": "stdout"
        }
      ]
    },
    {
      "cell_type": "markdown",
      "metadata": {
        "id": "y8-xcmzg3iRf",
        "colab_type": "text"
      },
      "source": [
        "# DataGenerator and Pre-processing"
      ]
    },
    {
      "cell_type": "code",
      "metadata": {
        "id": "sTcHP0EiaB15",
        "colab_type": "code",
        "colab": {}
      },
      "source": [
        "import os.path as osp\n",
        "from tqdm import tqdm\n",
        "import seaborn as sns\n",
        "\n",
        "import numpy as np\n",
        "import torch\n",
        "from torch_geometric.data import Dataset, Data, DataLoader\n",
        "from sklearn.preprocessing import OneHotEncoder\n",
        "from sklearn.preprocessing import StandardScaler\n",
        "\n",
        "import glob"
      ],
      "execution_count": 0,
      "outputs": []
    },
    {
      "cell_type": "markdown",
      "metadata": {
        "id": "zUTd6MaclAJ9",
        "colab_type": "text"
      },
      "source": [
        "A OneHot encoder for particle ids and standard scaler to standarize data\n",
        "\n"
      ]
    },
    {
      "cell_type": "code",
      "metadata": {
        "id": "faVpbD4iaIWf",
        "colab_type": "code",
        "outputId": "0d7f1cff-09c9-4333-a364-2446879ca048",
        "colab": {
          "base_uri": "https://localhost:8080/",
          "height": 68
        }
      },
      "source": [
        "L = [-2212.0, -2112.0, -321.0, -211.0, -13.0, -11.0, 0.0, 11.0, 13.0, 22.0, 130.0, 211.0, 321.0, 2112.0, 2212.0]\n",
        "\n",
        "########## OneHot encoder #####################\n",
        "\n",
        "enc = OneHotEncoder()\n",
        "enc.fit(np.array(L).reshape(-1,1))\n",
        "# print(enc.categories_)\n",
        "\n",
        "########## Standards scaler ######################3\n",
        "\n",
        "for file in [glob.glob(\"/content/graphs/raw/*.npz\")[0]]:\n",
        "  f = []                                                                  ##### List to store graphs after removing appended rows with zero enteries \n",
        "  X_ = np.load(file)['X']\n",
        "  for i_ in tqdm(range(len(X_))):\n",
        "      X = X_[i_]\n",
        "      for j_ in range(len(X)-1,-1,-1):                                    ##### j_ is the finds the last row from the back with all zero enteries\n",
        "        if np.sum(X[j_])!=0:\n",
        "          break\n",
        "      f.append(X[:j_+1])                                                  ##### Add graph to the list \n",
        "  scaler = StandardScaler()\n",
        "  f = np.concatenate(f)                                                   ##### Concatenate graphs to fit standard sclaer\n",
        "  # print(f.shape)\n",
        "  f = f[:,:3].reshape(-1,3)\n",
        "  scaler.fit(f)\n",
        "  print(\"Mean along various feature axis\",scaler.mean_)\n",
        "  print(\"Variance along various feature axis\",scaler.var_)"
      ],
      "execution_count": 5,
      "outputs": [
        {
          "output_type": "stream",
          "text": [
            "100%|██████████| 100000/100000 [00:39<00:00, 2515.31it/s]\n"
          ],
          "name": "stderr"
        },
        {
          "output_type": "stream",
          "text": [
            "Mean along various feature axis [1.20958133e+01 2.71643237e-03 3.13742929e+00]\n",
            "Variance along various feature axis [610.8069783    0.7709161    3.31537096]\n"
          ],
          "name": "stdout"
        }
      ]
    },
    {
      "cell_type": "markdown",
      "metadata": {
        "id": "8195u8nZtXdn",
        "colab_type": "text"
      },
      "source": [
        "Visualize distribution of features"
      ]
    },
    {
      "cell_type": "code",
      "metadata": {
        "id": "H-ELLErXTkzO",
        "colab_type": "code",
        "outputId": "e65fc81a-0484-4b10-aa5c-06be566f53e6",
        "colab": {
          "base_uri": "https://localhost:8080/",
          "height": 806
        }
      },
      "source": [
        "import matplotlib.pyplot as plt\n",
        "\n",
        "labels = ['pt', 'phi', 'theta']\n",
        "for i in range(3):\n",
        "  sns.distplot(f[:,i])\n",
        "  plt.ylabel(\"PDF\")\n",
        "  plt.xlabel(labels[i])\n",
        "  plt.show()"
      ],
      "execution_count": 6,
      "outputs": [
        {
          "output_type": "display_data",
          "data": {
            "image/png": "[encoded data removed]",
            "text/plain": [
              "<Figure size 432x288 with 1 Axes>"
            ]
          },
          "metadata": {
            "tags": []
          }
        },
        {
          "output_type": "display_data",
          "data": {
            "image/png": "[encoded data removed]",
            "text/plain": [
              "<Figure size 432x288 with 1 Axes>"
            ]
          },
          "metadata": {
            "tags": []
          }
        },
        {
          "output_type": "display_data",
          "data": {
            "image/png": "[encoded data removed]",
            "text/plain": [
              "<Figure size 432x288 with 1 Axes>"
            ]
          },
          "metadata": {
            "tags": []
          }
        }
      ]
    },
    {
      "cell_type": "markdown",
      "metadata": {
        "id": "U7ech6bBqram",
        "colab_type": "text"
      },
      "source": [
        "**DataLoader - JetDatset**"
      ]
    },
    {
      "cell_type": "markdown",
      "metadata": {
        "id": "wZEfo64Nr3fj",
        "colab_type": "text"
      },
      "source": [
        "Methods - <br>\n",
        "raw_file_names : Returns list with name of the files in raw folder<br>\n",
        "processed_file_names : Returns list with name of the files in processed folder<br>\n",
        "Process : Extraxt graph from raw files -> Removes rows with all zero entry -> Save graph in .pt format<br>\n",
        "len : Return total number of processed graphs<br>\n",
        "get : Standarize features and onehot encode particle ids "
      ]
    },
    {
      "cell_type": "code",
      "metadata": {
        "id": "cY0gSrFU8m0L",
        "colab_type": "code",
        "colab": {}
      },
      "source": [
        "class JetDataset(Dataset):\n",
        "    def __init__(self, root = '/content/graphs', transform=None, pre_transform=None):\n",
        "        super(JetDataset, self).__init__(root, transform, pre_transform)\n",
        "        if len(glob.glob(\"/content/graphs/processed/*.pt\"))<5:            ##### Use method Process only if processed directory is empty\n",
        "            self.process()\n",
        "\n",
        "    @property\n",
        "    def raw_file_names(self):                                             ##### Returns list with name of the files in raw folder\n",
        "        return glob.glob(\"/content/graphs/raw/*.npz\")\n",
        "\n",
        "    @property\n",
        "    def processed_file_names(self):                                       ##### Returns list with name of the files in processed folder\n",
        "        return glob.glob(\"/content/graphs/processed/*.pt\")\n",
        "\n",
        "    def process(self):\n",
        "        count = 0\n",
        "        for file in self.raw_paths:\n",
        "            print(\"Processing :\", file)\n",
        "            X_ = np.load(file)['X']\n",
        "            Y_ = np.load(file)['y']\n",
        "            \n",
        "            for i_ in tqdm(range(len(X_))):\n",
        "              X = X_[i_]\n",
        "              for j_ in range(len(X)-1,-1,-1):\n",
        "                if np.sum(X[j_])!=0:\n",
        "                  break\n",
        "              y = [Y_[j_]]\n",
        "              I = []\n",
        "              O = []\n",
        "              X = X[:j_+1,:]\n",
        "              for i in range(len(X)):\n",
        "                for j in range(len(X)):\n",
        "                  if i!=j:\n",
        "                    I.append(i)\n",
        "                    O.append(j)\n",
        "              X = torch.tensor(X, dtype=torch.float)\n",
        "              y = torch.tensor(y, dtype=torch.float)\n",
        "              edge_index = torch.tensor([I, O], dtype=torch.long)\n",
        "              data = Data(x = X, y = y, edge_index=edge_index)\n",
        "\n",
        "              if self.pre_filter is not None and not self.pre_filter(data):\n",
        "                continue\n",
        "\n",
        "              if self.pre_transform is not None:\n",
        "                data = self.pre_transform(data)\n",
        "\n",
        "              torch.save(data, osp.join(self.processed_dir, 'data_{}.pt'.format(count)))\n",
        "              count += 1\n",
        "\n",
        "    def len(self):                                                       ###### Returns total number of processed graph in processed directory\n",
        "        return len(self.processed_file_names)\n",
        "\n",
        "    def get(self, idx):\n",
        "        data1 = torch.load(osp.join(self.processed_dir, 'data_{}.pt'.format(idx)))\n",
        "        p1 = enc.transform(data1.x[:,3].reshape(-1,1)).toarray()\n",
        "        p2 = scaler.transform(data1.x[:,:3])\n",
        "        data = Data(x=torch.cat([torch.tensor(p2, dtype=torch.float),torch.tensor(p1, dtype=torch.float)],axis=1) , y=data1.y, edge_index=data1.edge_index)\n",
        "        return data"
      ],
      "execution_count": 0,
      "outputs": []
    },
    {
      "cell_type": "code",
      "metadata": {
        "id": "_0BCyC9SejI4",
        "colab_type": "code",
        "colab": {}
      },
      "source": [
        "dataset = JetDataset()                                                   ###### Object of Dataloader"
      ],
      "execution_count": 0,
      "outputs": []
    },
    {
      "cell_type": "markdown",
      "metadata": {
        "id": "egNA_XppR4lC",
        "colab_type": "text"
      },
      "source": [
        "# Model architectures"
      ]
    },
    {
      "cell_type": "code",
      "metadata": {
        "id": "bh3pPlwRW191",
        "colab_type": "code",
        "colab": {}
      },
      "source": [
        "import torch\n",
        "from torch.nn import Sequential as Seq, Linear, ReLU, Tanh, Sigmoid, BCELoss\n",
        "from torch_geometric.nn import MessagePassing, global_mean_pool, SAGPooling, TopKPooling, SAGEConv\n",
        "from torch_geometric.nn import global_mean_pool as gap, global_max_pool as gmp\n",
        "import torch.nn.functional as F\n",
        "from torch_geometric.utils import dropout_adj\n",
        "\n",
        "import warnings\n",
        "warnings.filterwarnings(\"ignore\")"
      ],
      "execution_count": 0,
      "outputs": []
    },
    {
      "cell_type": "markdown",
      "metadata": {
        "id": "IBEoa2Z7v3Qd",
        "colab_type": "text"
      },
      "source": [
        "Custom **Message Passing Layer (MPL)** -<br><br>\n",
        "Message : Concatenate representations of two nodes and paas them through a neural network to get a representation of edge between them --> Concatenate two nodes and edge representation and paas them through the neural network to get required message<br><br>\n",
        "Update : Add all the messages to a node --> Concatenate with node representation --> paas through neural network to get updated node representation "
      ]
    },
    {
      "cell_type": "markdown",
      "metadata": {
        "id": "7QjRqtsVx_eD",
        "colab_type": "text"
      },
      "source": [
        "Reference - [Isaac Henrion, Johann Brehmer, Joan Bruna, Kyunghun Cho, Kyle Cranmer. Neural Message Passing for Jet Physics](https://dl4physicalsciences.github.io/files/nips_dlps_2017_29.pdf)"
      ]
    },
    {
      "cell_type": "code",
      "metadata": {
        "id": "eBnOL8cBsk1t",
        "colab_type": "code",
        "colab": {}
      },
      "source": [
        "class MPL(MessagePassing):\n",
        "    def __init__(self):\n",
        "        super(MPL, self).__init__(aggr='max') #  \"Max\" aggregation.\n",
        "        self.mlp1 = Seq(Linear(128, 64), Tanh())\n",
        "        self.mlp2 = Seq(Linear(64*3, 64), ReLU())\n",
        "        self.mlp3 = Seq(Linear(128, 64), ReLU())\n",
        "\n",
        "    def forward(self, x, edge_index):\n",
        "        # x has shape [N, in_channels]\n",
        "        # edge_index has shape [2, E]\n",
        "\n",
        "        return self.propagate(edge_index, size=(x.size(0), x.size(0)), x=x)\n",
        "\n",
        "    def message(self, x_i, x_j):\n",
        "        # x_i has shape [E, in_channels]\n",
        "        # x_j has shape [E, in_channels]\n",
        "\n",
        "        a_ij = self.mlp1(torch.cat([x_i, x_j], dim=1))\n",
        "        tmp = self.mlp2(torch.cat([x_i, x_j,a_ij], dim=1))\n",
        "\n",
        "        return tmp\n",
        "\n",
        "    def update(self, aggr_out,x):\n",
        "        # aggr_out has shape [N, out_channels]\n",
        "        r = self.mlp3(torch.cat([x,aggr_out], dim=1))\n",
        "        r = x+r\n",
        "\n",
        "        return r"
      ],
      "execution_count": 0,
      "outputs": []
    },
    {
      "cell_type": "markdown",
      "metadata": {
        "id": "aFC29qzXgRLI",
        "colab_type": "text"
      },
      "source": [
        "<h2>Model"
      ]
    },
    {
      "cell_type": "markdown",
      "metadata": {
        "id": "C3gPUajL82AB",
        "colab_type": "text"
      },
      "source": [
        "**Architecture Sequence -** <br><br>\n",
        "SAGEconvolution<br>\n",
        "Custom MPL<br>\n",
        "Skip Connection<br>\n",
        "Custom MPL<br>\n",
        "SAGE Convolution<br>\n",
        "TopKPooling<br>\n",
        "Concat ( global_mean_pool, global_max_pool ) - embedding 1<br>\n",
        "SAGE Convolution<br>\n",
        "Skip Connection<br>\n",
        "TopKPooling<br>\n",
        "Concat ( global_mean_pool, global_max_pool ) - embedding 2<br>\n",
        "SAGE Convolution<br>\n",
        "Skip Connection<br>\n",
        "TopKPooling<br>\n",
        "Concat ( global_mean_pool, global_max_pool ) - embedding 3<br>\n",
        "SAGE Convolution<br>\n",
        "Add all three graph embeddings<br>\n",
        "Dropout<br>\n",
        "Linear - Relu activation<br>\n",
        "Dropout<br>\n",
        "Linear - Relu activation<br>\n",
        "Dropout<br>\n",
        "Sigmoid\n"
      ]
    },
    {
      "cell_type": "code",
      "metadata": {
        "id": "nZUq_REvbPdv",
        "colab_type": "code",
        "colab": {}
      },
      "source": [
        "class Net(torch.nn.Module):\n",
        "    def __init__(self):\n",
        "        super(Net, self).__init__()\n",
        "\n",
        "        self.conv1 = SAGEConv(18, 64)\n",
        "        self.conv1_ = MPL()\n",
        "        self.pool1 = TopKPooling(128, ratio=0.8)\n",
        "        # self.pool1 = SAGPooling(128, ratio=0.8)\n",
        "        self.conv2 = SAGEConv(128, 128)\n",
        "        self.conv2_ = MPL()\n",
        "        self.pool2 = TopKPooling(128, ratio=0.8)\n",
        "        # self.pool2 = SAGPooling(128, ratio=0.8)\n",
        "        self.conv3 = SAGEConv(128, 128)\n",
        "        self.conv3_ = MPL()\n",
        "        self.pool3 = TopKPooling(128, ratio=0.8)\n",
        "        # self.pool3 = SAGPooling(128, ratio=0.8)\n",
        "        self.conv4 = SAGEConv(128, 128)\n",
        "        self.conv5 = SAGEConv(64, 128)\n",
        "        self.lin1 = torch.nn.Linear(256, 128)\n",
        "        self.lin2 = torch.nn.Linear(128, 64)\n",
        "        self.lin3 = torch.nn.Linear(64, 1)\n",
        "        self.bn1 = torch.nn.BatchNorm1d(128)\n",
        "        self.bn2 = torch.nn.BatchNorm1d(64)\n",
        "        self.act1 = torch.nn.ReLU()\n",
        "        self.act2 = torch.nn.ReLU()        \n",
        "  \n",
        "    def forward(self, data):\n",
        "        x, edge_index, batch = data.x, data.edge_index, data.batch  \n",
        "\n",
        "        x_0 = F.relu(self.conv1(x, edge_index))\n",
        "        x_1 = self.conv1_(x_0, edge_index)\n",
        "        x_2 = self.conv2_(x_1, edge_index)\n",
        "\n",
        "        # x_2 = F.relu(self.conv4(x_1, edge_index))\n",
        "        x_2 = x_2 + x_1\n",
        "        x = F.relu(self.conv5(x_2, edge_index))\n",
        "        # x = x_3 + x_2\n",
        "\n",
        "        x, edge_index, _, batch, _, _ = self.pool1(x, edge_index, None, batch)\n",
        "        x1 = torch.cat([gmp(x, batch), gap(x, batch)], dim=1)\n",
        "\n",
        "        x_ = F.relu(self.conv2(x, edge_index))\n",
        "        x = x + x_\n",
        "\n",
        "        x, edge_index, _, batch, _, _ = self.pool2(x, edge_index, None, batch)\n",
        "        x2 = torch.cat([gmp(x, batch), gap(x, batch)], dim=1)\n",
        "\n",
        "        x_ = F.relu(self.conv3(x, edge_index))\n",
        "        x = x + x_\n",
        "\n",
        "        x, edge_index, _, batch, _, _ = self.pool3(x, edge_index, None, batch)\n",
        "        x3 = torch.cat([gmp(x, batch), gap(x, batch)], dim=1)\n",
        "\n",
        "        x = x1 + x2 + x3\n",
        "\n",
        "        x = F.dropout(x, p=0.5, training=self.training)  \n",
        "        x = self.lin1(x)\n",
        "        x = self.act1(x)\n",
        "        x = F.dropout(x, p=0.5, training=self.training)\n",
        "        x = self.lin2(x)\n",
        "        x = self.act2(x)      \n",
        "        x = F.dropout(x, p=0.3, training=self.training)\n",
        "\n",
        "        x = torch.sigmoid(self.lin3(x)).squeeze(1)\n",
        "\n",
        "        return x"
      ],
      "execution_count": 0,
      "outputs": []
    },
    {
      "cell_type": "markdown",
      "metadata": {
        "id": "REI2msJojtRa",
        "colab_type": "text"
      },
      "source": [
        "# Train, Evaluate, Save and Reload"
      ]
    },
    {
      "cell_type": "code",
      "metadata": {
        "id": "VRAa1bUcC5R5",
        "colab_type": "code",
        "colab": {}
      },
      "source": [
        "num_epochs = 10                                                           ##### max number of epochs\n",
        "batch_size=512\n",
        "PATH = '/content/model.pt'                                                ##### Path to save model"
      ],
      "execution_count": 0,
      "outputs": []
    },
    {
      "cell_type": "markdown",
      "metadata": {
        "id": "fxYgDqmzER31",
        "colab_type": "text"
      },
      "source": [
        "<h2>Tain, Val and Test Generators"
      ]
    },
    {
      "cell_type": "code",
      "metadata": {
        "id": "fySeHgzHz_zF",
        "colab_type": "code",
        "colab": {}
      },
      "source": [
        "dataset.shuffle()                                                         ##### Shuffle dataset\n",
        "\n",
        "train_dataset = dataset[:int(len(dataset)*0.8)]\n",
        "val_dataset = dataset[int(len(dataset)*0.8):int(len(dataset)*0.9)]\n",
        "test_dataset = dataset[int(len(dataset)*0.9):]\n",
        "\n",
        "train_loader = DataLoader(train_dataset, batch_size=batch_size, shuffle=True)\n",
        "val_loader = DataLoader(val_dataset, batch_size=batch_size, shuffle=True)\n",
        "test_loader = DataLoader(test_dataset, batch_size=batch_size, shuffle=True)"
      ],
      "execution_count": 0,
      "outputs": []
    },
    {
      "cell_type": "code",
      "metadata": {
        "id": "JGTiK-PwDWK2",
        "colab_type": "code",
        "colab": {}
      },
      "source": [
        "## Number of samples in train, val and test\n",
        "print(len(train_dataset), len(val_dataset), len(test_dataset))"
      ],
      "execution_count": 0,
      "outputs": []
    },
    {
      "cell_type": "markdown",
      "metadata": {
        "id": "X6Kb17w-D7Qx",
        "colab_type": "text"
      },
      "source": [
        "**Evaluate function**"
      ]
    },
    {
      "cell_type": "code",
      "metadata": {
        "id": "E0p3hv1njEZP",
        "colab_type": "code",
        "colab": {}
      },
      "source": [
        "from sklearn.metrics import roc_auc_score\n",
        "\n",
        "def evaluate(loader):\n",
        "    model.eval()\n",
        "\n",
        "    predictions = []\n",
        "    labels = []\n",
        "\n",
        "    with torch.no_grad():\n",
        "        for data in tqdm(loader):\n",
        "\n",
        "            data = data.to(device)\n",
        "            pred = model(data).detach().cpu().numpy().flatten()\n",
        "\n",
        "            label = data.y.detach().cpu().numpy().flatten()\n",
        "            predictions.append(pred)\n",
        "            labels.append(label)\n",
        "\n",
        "    labels = np.concatenate(labels)\n",
        "    predictions = np.concatenate(predictions)\n",
        "    print(labels.shape,predictions.shape)\n",
        "    return (roc_auc_score(labels, predictions))"
      ],
      "execution_count": 0,
      "outputs": []
    },
    {
      "cell_type": "markdown",
      "metadata": {
        "id": "1Dl0Fz9_DzqA",
        "colab_type": "text"
      },
      "source": [
        "**Shift model to GPU**"
      ]
    },
    {
      "cell_type": "code",
      "metadata": {
        "id": "Q6dVw2KGcNMZ",
        "colab_type": "code",
        "colab": {}
      },
      "source": [
        "device = torch.device('cuda' if torch.cuda.is_available() else 'cpu')\n",
        "model = Net().to(device)\n",
        "optimizer = torch.optim.Adam(model.parameters(), lr=0.005)\n",
        "lr_scheduler = torch.optim.lr_scheduler.ReduceLROnPlateau(optimizer, verbose=True, patience=1)\n",
        "bce = BCELoss()"
      ],
      "execution_count": 0,
      "outputs": []
    },
    {
      "cell_type": "markdown",
      "metadata": {
        "id": "u75u5DHJEZ9W",
        "colab_type": "text"
      },
      "source": [
        "**Train**"
      ]
    },
    {
      "cell_type": "code",
      "metadata": {
        "id": "IJs2M781gA2L",
        "colab_type": "code",
        "outputId": "59f18395-8c30-437a-9d8b-5422af12a9e1",
        "colab": {
          "base_uri": "https://localhost:8080/",
          "height": 1000
        }
      },
      "source": [
        "count = 0\n",
        "for epoch in range(num_epochs):\n",
        "    model.train()\n",
        "    loss_all = 0\n",
        "    for data in tqdm(train_loader):\n",
        "        data = data.to(device)\n",
        "        optimizer.zero_grad()\n",
        "        output = model(data)\n",
        "        label = data.y.to(device)\n",
        "        # label = data.y.view(-1, 1).to(device)\n",
        "        loss = bce(output, label)\n",
        "        loss.backward()\n",
        "        loss_all += data.num_graphs * loss.item()\n",
        "        optimizer.step()\n",
        "    print('\\n',\"Epoch :\", epoch+1)\n",
        "    print(\"Training loss :\",loss_all/len(train_dataset))\n",
        "    val_auc = evaluate(val_loader)\n",
        "    lr_scheduler.step(-val_auc)\n",
        "    print(\"Val AUC :\",val_auc)\n",
        "    count = count+1\n",
        "print(\"Test_AUC :\",evaluate(test_loader))"
      ],
      "execution_count": 16,
      "outputs": [
        {
          "output_type": "stream",
          "text": [
            "100%|██████████| 157/157 [02:10<00:00,  1.54it/s]\n",
            "  0%|          | 0/20 [00:00<?, ?it/s]"
          ],
          "name": "stderr"
        },
        {
          "output_type": "stream",
          "text": [
            "\n",
            " Epoch : 1\n",
            "Training loss : 0.6825026425361633\n"
          ],
          "name": "stdout"
        },
        {
          "output_type": "stream",
          "text": [
            "100%|██████████| 20/20 [00:13<00:00,  1.63it/s]\n",
            "  0%|          | 0/157 [00:00<?, ?it/s]"
          ],
          "name": "stderr"
        },
        {
          "output_type": "stream",
          "text": [
            "(10000,) (10000,)\n",
            "Val AUC : 0.5880884179721991\n"
          ],
          "name": "stdout"
        },
        {
          "output_type": "stream",
          "text": [
            "100%|██████████| 157/157 [02:12<00:00,  1.52it/s]\n",
            "  0%|          | 0/20 [00:00<?, ?it/s]"
          ],
          "name": "stderr"
        },
        {
          "output_type": "stream",
          "text": [
            "\n",
            " Epoch : 2\n",
            "Training loss : 0.6663196027755738\n"
          ],
          "name": "stdout"
        },
        {
          "output_type": "stream",
          "text": [
            "100%|██████████| 20/20 [00:14<00:00,  1.61it/s]\n",
            "  0%|          | 0/157 [00:00<?, ?it/s]"
          ],
          "name": "stderr"
        },
        {
          "output_type": "stream",
          "text": [
            "(10000,) (10000,)\n",
            "Val AUC : 0.6256328565301849\n"
          ],
          "name": "stdout"
        },
        {
          "output_type": "stream",
          "text": [
            "100%|██████████| 157/157 [02:12<00:00,  1.52it/s]\n",
            "  0%|          | 0/20 [00:00<?, ?it/s]"
          ],
          "name": "stderr"
        },
        {
          "output_type": "stream",
          "text": [
            "\n",
            " Epoch : 3\n",
            "Training loss : 0.6612690538406372\n"
          ],
          "name": "stdout"
        },
        {
          "output_type": "stream",
          "text": [
            "100%|██████████| 20/20 [00:14<00:00,  1.63it/s]\n",
            "  0%|          | 0/157 [00:00<?, ?it/s]"
          ],
          "name": "stderr"
        },
        {
          "output_type": "stream",
          "text": [
            "(10000,) (10000,)\n",
            "Val AUC : 0.6589733343424405\n"
          ],
          "name": "stdout"
        },
        {
          "output_type": "stream",
          "text": [
            "100%|██████████| 157/157 [02:11<00:00,  1.55it/s]\n",
            "  0%|          | 0/20 [00:00<?, ?it/s]"
          ],
          "name": "stderr"
        },
        {
          "output_type": "stream",
          "text": [
            "\n",
            " Epoch : 4\n",
            "Training loss : 0.6429256559371949\n"
          ],
          "name": "stdout"
        },
        {
          "output_type": "stream",
          "text": [
            "100%|██████████| 20/20 [00:14<00:00,  1.62it/s]\n",
            "  0%|          | 0/157 [00:00<?, ?it/s]"
          ],
          "name": "stderr"
        },
        {
          "output_type": "stream",
          "text": [
            "(10000,) (10000,)\n",
            "Val AUC : 0.690530840838568\n"
          ],
          "name": "stdout"
        },
        {
          "output_type": "stream",
          "text": [
            "100%|██████████| 157/157 [02:11<00:00,  1.51it/s]\n",
            "  0%|          | 0/20 [00:00<?, ?it/s]"
          ],
          "name": "stderr"
        },
        {
          "output_type": "stream",
          "text": [
            "\n",
            " Epoch : 5\n",
            "Training loss : 0.6255416944503784\n"
          ],
          "name": "stdout"
        },
        {
          "output_type": "stream",
          "text": [
            "100%|██████████| 20/20 [00:14<00:00,  1.62it/s]\n",
            "  0%|          | 0/157 [00:00<?, ?it/s]"
          ],
          "name": "stderr"
        },
        {
          "output_type": "stream",
          "text": [
            "(10000,) (10000,)\n",
            "Val AUC : 0.7126584828073361\n"
          ],
          "name": "stdout"
        },
        {
          "output_type": "stream",
          "text": [
            "100%|██████████| 157/157 [02:12<00:00,  1.51it/s]\n",
            "  0%|          | 0/20 [00:00<?, ?it/s]"
          ],
          "name": "stderr"
        },
        {
          "output_type": "stream",
          "text": [
            "\n",
            " Epoch : 6\n",
            "Training loss : 0.6144924646377563\n"
          ],
          "name": "stdout"
        },
        {
          "output_type": "stream",
          "text": [
            "100%|██████████| 20/20 [00:14<00:00,  1.59it/s]\n",
            "  0%|          | 0/157 [00:00<?, ?it/s]"
          ],
          "name": "stderr"
        },
        {
          "output_type": "stream",
          "text": [
            "(10000,) (10000,)\n",
            "Val AUC : 0.7113879563056585\n"
          ],
          "name": "stdout"
        },
        {
          "output_type": "stream",
          "text": [
            "100%|██████████| 157/157 [02:11<00:00,  1.54it/s]\n",
            "  0%|          | 0/20 [00:00<?, ?it/s]"
          ],
          "name": "stderr"
        },
        {
          "output_type": "stream",
          "text": [
            "\n",
            " Epoch : 7\n",
            "Training loss : 0.6108616555213928\n"
          ],
          "name": "stdout"
        },
        {
          "output_type": "stream",
          "text": [
            "100%|██████████| 20/20 [00:14<00:00,  1.63it/s]\n",
            "  0%|          | 0/157 [00:00<?, ?it/s]"
          ],
          "name": "stderr"
        },
        {
          "output_type": "stream",
          "text": [
            "(10000,) (10000,)\n",
            "Epoch     7: reducing learning rate of group 0 to 5.0000e-04.\n",
            "Val AUC : 0.7102830041121118\n"
          ],
          "name": "stdout"
        },
        {
          "output_type": "stream",
          "text": [
            "100%|██████████| 157/157 [02:11<00:00,  1.54it/s]\n",
            "  0%|          | 0/20 [00:00<?, ?it/s]"
          ],
          "name": "stderr"
        },
        {
          "output_type": "stream",
          "text": [
            "\n",
            " Epoch : 8\n",
            "Training loss : 0.5961282676696777\n"
          ],
          "name": "stdout"
        },
        {
          "output_type": "stream",
          "text": [
            "100%|██████████| 20/20 [00:14<00:00,  1.62it/s]\n",
            "  0%|          | 0/157 [00:00<?, ?it/s]"
          ],
          "name": "stderr"
        },
        {
          "output_type": "stream",
          "text": [
            "(10000,) (10000,)\n",
            "Val AUC : 0.7176930598652842\n"
          ],
          "name": "stdout"
        },
        {
          "output_type": "stream",
          "text": [
            "100%|██████████| 157/157 [02:11<00:00,  1.53it/s]\n",
            "  0%|          | 0/20 [00:00<?, ?it/s]"
          ],
          "name": "stderr"
        },
        {
          "output_type": "stream",
          "text": [
            "\n",
            " Epoch : 9\n",
            "Training loss : 0.5933657427787781\n"
          ],
          "name": "stdout"
        },
        {
          "output_type": "stream",
          "text": [
            "100%|██████████| 20/20 [00:14<00:00,  1.61it/s]\n",
            "  0%|          | 0/157 [00:00<?, ?it/s]"
          ],
          "name": "stderr"
        },
        {
          "output_type": "stream",
          "text": [
            "(10000,) (10000,)\n",
            "Val AUC : 0.7172586795832387\n"
          ],
          "name": "stdout"
        },
        {
          "output_type": "stream",
          "text": [
            "100%|██████████| 157/157 [02:11<00:00,  1.51it/s]\n",
            "  0%|          | 0/20 [00:00<?, ?it/s]"
          ],
          "name": "stderr"
        },
        {
          "output_type": "stream",
          "text": [
            "\n",
            " Epoch : 10\n",
            "Training loss : 0.5924006509780884\n"
          ],
          "name": "stdout"
        },
        {
          "output_type": "stream",
          "text": [
            "100%|██████████| 20/20 [00:14<00:00,  1.61it/s]\n",
            "  0%|          | 0/20 [00:00<?, ?it/s]"
          ],
          "name": "stderr"
        },
        {
          "output_type": "stream",
          "text": [
            "(10000,) (10000,)\n",
            "Val AUC : 0.718388960367315\n"
          ],
          "name": "stdout"
        },
        {
          "output_type": "stream",
          "text": [
            "100%|██████████| 20/20 [00:15<00:00,  1.49it/s]"
          ],
          "name": "stderr"
        },
        {
          "output_type": "stream",
          "text": [
            "(10000,) (10000,)\n",
            "Test_AUC : 0.7237268098987539\n"
          ],
          "name": "stdout"
        },
        {
          "output_type": "stream",
          "text": [
            "\n"
          ],
          "name": "stderr"
        }
      ]
    },
    {
      "cell_type": "markdown",
      "metadata": {
        "id": "OfBtGi9KCuVC",
        "colab_type": "text"
      },
      "source": [
        "**Save and Reload**"
      ]
    },
    {
      "cell_type": "code",
      "metadata": {
        "id": "letnt4iEJu3A",
        "colab_type": "code",
        "colab": {
          "base_uri": "https://localhost:8080/",
          "height": 34
        },
        "outputId": "f11b28de-3b11-4b4b-de9f-dd87ad047d23"
      },
      "source": [
        "torch.save(model.state_dict(), PATH)\n",
        "model = Net()\n",
        "model.load_state_dict(torch.load(PATH))"
      ],
      "execution_count": 22,
      "outputs": [
        {
          "output_type": "execute_result",
          "data": {
            "text/plain": [
              "<All keys matched successfully>"
            ]
          },
          "metadata": {
            "tags": []
          },
          "execution_count": 22
        }
      ]
    },
    {
      "cell_type": "code",
      "metadata": {
        "id": "YgkT6vDWy8ub",
        "colab_type": "code",
        "colab": {}
      },
      "source": [
        ""
      ],
      "execution_count": 0,
      "outputs": []
    }
  ]
}
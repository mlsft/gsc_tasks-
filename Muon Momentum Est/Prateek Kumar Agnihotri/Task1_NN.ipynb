{
  "nbformat": 4,
  "nbformat_minor": 0,
  "metadata": {
    "colab": {
      "name": "Task1_NN.ipynb",
      "provenance": []
    },
    "kernelspec": {
      "name": "python3",
      "display_name": "Python 3"
    },
    "accelerator": "GPU"
  },
  "cells": [
    {
      "cell_type": "markdown",
      "metadata": {
        "id": "bAZiMhjnuc-U",
        "colab_type": "text"
      },
      "source": [
        "# Download the data"
      ]
    },
    {
      "cell_type": "code",
      "metadata": {
        "id": "VEqj9ayIZGoP",
        "colab_type": "code",
        "colab": {}
      },
      "source": [
        "!wget -qq \"https://www.dropbox.com/s/c1pzdacnzhvi6pm/histos_tba.20.npz\""
      ],
      "execution_count": 0,
      "outputs": []
    },
    {
      "cell_type": "markdown",
      "metadata": {
        "id": "49scWDiPukL6",
        "colab_type": "text"
      },
      "source": [
        "# Load and Pre-process"
      ]
    },
    {
      "cell_type": "code",
      "metadata": {
        "id": "4GwVijugZXss",
        "colab_type": "code",
        "colab": {}
      },
      "source": [
        "import numpy as np\n",
        "from random import shuffle\n",
        "\n",
        "X = np.load(\"/content/histos_tba.20.npz\")['variables']\n",
        "y = np.load(\"/content/histos_tba.20.npz\")['parameters'][:,0]"
      ],
      "execution_count": 0,
      "outputs": []
    },
    {
      "cell_type": "markdown",
      "metadata": {
        "id": "QvrtyOvduq83",
        "colab_type": "text"
      },
      "source": [
        "**Shuffle and seperate 10% of the data as test data**"
      ]
    },
    {
      "cell_type": "code",
      "metadata": {
        "id": "XBls2bbJc2f5",
        "colab_type": "code",
        "colab": {}
      },
      "source": [
        "rows = list(range(len(X)))\n",
        "shuffle(rows)\n",
        "X = X[rows]\n",
        "y = y[rows]\n",
        "X_test = X[int(len(X)*0.9):]\n",
        "y_test = y[int(len(X)*0.9):]\n",
        "y = y[:int(len(X)*0.9)]\n",
        "X = X[:int(len(X)*0.9)]"
      ],
      "execution_count": 0,
      "outputs": []
    },
    {
      "cell_type": "markdown",
      "metadata": {
        "id": "ah6FIVx3u1Vh",
        "colab_type": "text"
      },
      "source": [
        "**Standarize features and remove features with variance zero**"
      ]
    },
    {
      "cell_type": "code",
      "metadata": {
        "id": "S46_x_JBZpX9",
        "colab_type": "code",
        "outputId": "df79d64b-84eb-4db9-c44d-a9ccb96d562a",
        "colab": {
          "base_uri": "https://localhost:8080/",
          "height": 34
        }
      },
      "source": [
        "from sklearn.preprocessing import StandardScaler\n",
        "scaler = StandardScaler()\n",
        "X = scaler.fit_transform(X)\n",
        "X_test = scaler.transform(X_test)\n",
        "X = X[:,scaler.var_>0]\n",
        "X_test = X_test[:,scaler.var_>0]\n",
        "print(\"Shape after removing features with var=0 :\",X.shape)"
      ],
      "execution_count": 4,
      "outputs": [
        {
          "output_type": "stream",
          "text": [
            "Shape after removing features with var=0 : (2945106, 70)\n"
          ],
          "name": "stdout"
        }
      ]
    },
    {
      "cell_type": "markdown",
      "metadata": {
        "id": "fhkoJ54DvATA",
        "colab_type": "text"
      },
      "source": [
        "**Replace nan with zero**"
      ]
    },
    {
      "cell_type": "code",
      "metadata": {
        "id": "4zNlTLVFvZ16",
        "colab_type": "code",
        "colab": {}
      },
      "source": [
        "X = np.nan_to_num(X, nan = 0.0)\n",
        "X_test = np.nan_to_num(X_test, nan = 0.0)"
      ],
      "execution_count": 0,
      "outputs": []
    },
    {
      "cell_type": "markdown",
      "metadata": {
        "id": "3DjgwF8hvG0w",
        "colab_type": "text"
      },
      "source": [
        "**Target Distribution**"
      ]
    },
    {
      "cell_type": "code",
      "metadata": {
        "id": "5d7m_ayUZxD8",
        "colab_type": "code",
        "outputId": "939e4a0b-c717-4011-c274-18ead4974d00",
        "colab": {
          "base_uri": "https://localhost:8080/",
          "height": 282
        }
      },
      "source": [
        "import seaborn as sns\n",
        "import matplotlib.pyplot as plt\n",
        "\n",
        "sns.distplot(y)\n",
        "plt.xlabel('Target values (q/pt)')\n",
        "plt.ylabel('pdf')\n",
        "plt.show()"
      ],
      "execution_count": 6,
      "outputs": [
        {
          "output_type": "display_data",
          "data": {
            "image/png": "[encoded data removed]",
            "text/plain": [
              "<Figure size 432x288 with 1 Axes>"
            ]
          },
          "metadata": {
            "tags": []
          }
        }
      ]
    },
    {
      "cell_type": "code",
      "metadata": {
        "id": "ryCsmv_u3KQQ",
        "colab_type": "code",
        "outputId": "5c0cc5b6-ed6f-4f50-a3b0-43c99524933e",
        "colab": {
          "base_uri": "https://localhost:8080/",
          "height": 279
        }
      },
      "source": [
        "Y = 1/y\n",
        "sns.distplot(Y)\n",
        "plt.xlabel('Target values (pt/q)')\n",
        "plt.ylabel('pdf')\n",
        "plt.show()"
      ],
      "execution_count": 7,
      "outputs": [
        {
          "output_type": "display_data",
          "data": {
            "image/png": "[encoded data removed]",
            "text/plain": [
              "<Figure size 432x288 with 1 Axes>"
            ]
          },
          "metadata": {
            "tags": []
          }
        }
      ]
    },
    {
      "cell_type": "markdown",
      "metadata": {
        "id": "DoHgfXG1vOU3",
        "colab_type": "text"
      },
      "source": [
        "# Model"
      ]
    },
    {
      "cell_type": "code",
      "metadata": {
        "id": "fk2pUajahgQy",
        "colab_type": "code",
        "colab": {
          "base_uri": "https://localhost:8080/",
          "height": 63
        },
        "outputId": "cfe51a6a-bb8b-4592-f27c-5fa3ce7c4109"
      },
      "source": [
        "import tensorflow as tf\n",
        "from tensorflow.keras.layers import Dense, Input, Dropout\n",
        "from tensorflow.keras.models import Model\n",
        "from tensorflow.keras.callbacks import ModelCheckpoint, EarlyStopping, ReduceLROnPlateau"
      ],
      "execution_count": 8,
      "outputs": [
        {
          "output_type": "display_data",
          "data": {
            "text/html": [
              "<p style=\"color: red;\">\n",
              "The default version of TensorFlow in Colab will soon switch to TensorFlow 2.x.<br>\n",
              "We recommend you <a href=\"https://www.tensorflow.org/guide/migrate\" target=\"_blank\">upgrade</a> now \n",
              "or ensure your notebook will continue to use TensorFlow 1.x via the <code>%tensorflow_version 1.x</code> magic:\n",
              "<a href=\"https://colab.research.google.com/notebooks/tensorflow_version.ipynb\" target=\"_blank\">more info</a>.</p>\n"
            ],
            "text/plain": [
              "<IPython.core.display.HTML object>"
            ]
          },
          "metadata": {
            "tags": []
          }
        }
      ]
    },
    {
      "cell_type": "markdown",
      "metadata": {
        "id": "4Bmz8MmuzevY",
        "colab_type": "text"
      },
      "source": [
        "**Set Dropout probability**"
      ]
    },
    {
      "cell_type": "code",
      "metadata": {
        "id": "h779SDKrrtol",
        "colab_type": "code",
        "colab": {}
      },
      "source": [
        "p = 0.5"
      ],
      "execution_count": 0,
      "outputs": []
    },
    {
      "cell_type": "markdown",
      "metadata": {
        "id": "zxyDDeocvSmF",
        "colab_type": "text"
      },
      "source": [
        "**Dense Neural Network with three dense layers, skip connections and drop out layers**"
      ]
    },
    {
      "cell_type": "code",
      "metadata": {
        "id": "53uf0g2VocgV",
        "colab_type": "code",
        "colab": {
          "base_uri": "https://localhost:8080/",
          "height": 88
        },
        "outputId": "3351c285-0136-46ca-e9e3-4b539880860b"
      },
      "source": [
        "I = Input(shape=(70))\n",
        "x = Dense(128,activation='relu')(I)\n",
        "x_ = Dense(128,activation='relu')(x)\n",
        "x = x + x_                                ## skip connection\n",
        "x = Dropout(p)(x)\n",
        "x_ = Dense(128,activation='relu')(x)\n",
        "x = x + x_                                ## skip connection\n",
        "x = Dropout(p)(x)\n",
        "O = Dense(1)(x)\n",
        "model = Model(inputs=I, outputs=O)"
      ],
      "execution_count": 10,
      "outputs": [
        {
          "output_type": "stream",
          "text": [
            "WARNING:tensorflow:From /usr/local/lib/python3.6/dist-packages/tensorflow_core/python/ops/resource_variable_ops.py:1630: calling BaseResourceVariable.__init__ (from tensorflow.python.ops.resource_variable_ops) with constraint is deprecated and will be removed in a future version.\n",
            "Instructions for updating:\n",
            "If using Keras pass *_constraint arguments to layers.\n"
          ],
          "name": "stdout"
        }
      ]
    },
    {
      "cell_type": "code",
      "metadata": {
        "id": "8l35gDH8pVPm",
        "colab_type": "code",
        "outputId": "bc800cc1-6ef7-4d8d-c4f2-1462fce0eae1",
        "colab": {
          "base_uri": "https://localhost:8080/",
          "height": 493
        }
      },
      "source": [
        "model.compile(optimizer = 'adam', loss='mse', metrics=['mse'] )\n",
        "model.summary()"
      ],
      "execution_count": 11,
      "outputs": [
        {
          "output_type": "stream",
          "text": [
            "Model: \"model\"\n",
            "__________________________________________________________________________________________________\n",
            "Layer (type)                    Output Shape         Param #     Connected to                     \n",
            "==================================================================================================\n",
            "input_1 (InputLayer)            [(None, 70)]         0                                            \n",
            "__________________________________________________________________________________________________\n",
            "dense (Dense)                   (None, 128)          9088        input_1[0][0]                    \n",
            "__________________________________________________________________________________________________\n",
            "dense_1 (Dense)                 (None, 128)          16512       dense[0][0]                      \n",
            "__________________________________________________________________________________________________\n",
            "tf_op_layer_add (TensorFlowOpLa [(None, 128)]        0           dense[0][0]                      \n",
            "                                                                 dense_1[0][0]                    \n",
            "__________________________________________________________________________________________________\n",
            "dropout (Dropout)               (None, 128)          0           tf_op_layer_add[0][0]            \n",
            "__________________________________________________________________________________________________\n",
            "dense_2 (Dense)                 (None, 128)          16512       dropout[0][0]                    \n",
            "__________________________________________________________________________________________________\n",
            "tf_op_layer_add_1 (TensorFlowOp [(None, 128)]        0           dropout[0][0]                    \n",
            "                                                                 dense_2[0][0]                    \n",
            "__________________________________________________________________________________________________\n",
            "dropout_1 (Dropout)             (None, 128)          0           tf_op_layer_add_1[0][0]          \n",
            "__________________________________________________________________________________________________\n",
            "dense_3 (Dense)                 (None, 1)            129         dropout_1[0][0]                  \n",
            "==================================================================================================\n",
            "Total params: 42,241\n",
            "Trainable params: 42,241\n",
            "Non-trainable params: 0\n",
            "__________________________________________________________________________________________________\n"
          ],
          "name": "stdout"
        }
      ]
    },
    {
      "cell_type": "markdown",
      "metadata": {
        "id": "gtUO92Vzvu2V",
        "colab_type": "text"
      },
      "source": [
        "# Train, Evaluate and Save"
      ]
    },
    {
      "cell_type": "code",
      "metadata": {
        "id": "-725UFVjpaSV",
        "colab_type": "code",
        "outputId": "8aef3b1d-e274-4e3f-e428-de124d4b6f31",
        "colab": {
          "base_uri": "https://localhost:8080/",
          "height": 479
        }
      },
      "source": [
        "batch_size=128\n",
        "path = \"model.h5\"\n",
        "\n",
        "checkpoint = ModelCheckpoint(path, monitor='val_loss', verbose=1, save_best_only=True, mode='max')\n",
        "early_stop = EarlyStopping(monitor='val_loss',patience=5,verbose=True)\n",
        "reduce_lr = ReduceLROnPlateau(monitor='val_loss', factor=0.1, patience=1)\n",
        "\n",
        "history = model.fit(x=X, y=y, batch_size=batch_size, epochs=15, verbose=1, validation_split=0.1, callbacks=[checkpoint,early_stop,reduce_lr])"
      ],
      "execution_count": 12,
      "outputs": [
        {
          "output_type": "stream",
          "text": [
            "Train on 2650595 samples, validate on 294511 samples\n",
            "Epoch 1/15\n",
            "2648960/2650595 [============================>.] - ETA: 0s - loss: 0.0198 - mean_squared_error: 0.0198\n",
            "Epoch 00001: val_loss improved from -inf to 0.00449, saving model to model.h5\n",
            "2650595/2650595 [==============================] - 60s 23us/sample - loss: 0.0198 - mean_squared_error: 0.0198 - val_loss: 0.0045 - val_mean_squared_error: 0.0045\n",
            "Epoch 2/15\n",
            "2650496/2650595 [============================>.] - ETA: 0s - loss: 0.0043 - mean_squared_error: 0.0043\n",
            "Epoch 00002: val_loss improved from 0.00449 to 0.00574, saving model to model.h5\n",
            "2650595/2650595 [==============================] - 59s 22us/sample - loss: 0.0043 - mean_squared_error: 0.0043 - val_loss: 0.0057 - val_mean_squared_error: 0.0057\n",
            "Epoch 3/15\n",
            "2649344/2650595 [============================>.] - ETA: 0s - loss: 0.0036 - mean_squared_error: 0.0036\n",
            "Epoch 00003: val_loss improved from 0.00574 to 0.00629, saving model to model.h5\n",
            "2650595/2650595 [==============================] - 58s 22us/sample - loss: 0.0036 - mean_squared_error: 0.0036 - val_loss: 0.0063 - val_mean_squared_error: 0.0063\n",
            "Epoch 4/15\n",
            "2648448/2650595 [============================>.] - ETA: 0s - loss: 0.0034 - mean_squared_error: 0.0034\n",
            "Epoch 00004: val_loss did not improve from 0.00629\n",
            "2650595/2650595 [==============================] - 57s 22us/sample - loss: 0.0034 - mean_squared_error: 0.0034 - val_loss: 0.0059 - val_mean_squared_error: 0.0059\n",
            "Epoch 5/15\n",
            "2648192/2650595 [============================>.] - ETA: 0s - loss: 0.0034 - mean_squared_error: 0.0034\n",
            "Epoch 00005: val_loss did not improve from 0.00629\n",
            "2650595/2650595 [==============================] - 57s 21us/sample - loss: 0.0034 - mean_squared_error: 0.0034 - val_loss: 0.0059 - val_mean_squared_error: 0.0059\n",
            "Epoch 6/15\n",
            "2648704/2650595 [============================>.] - ETA: 0s - loss: 0.0034 - mean_squared_error: 0.0034\n",
            "Epoch 00006: val_loss did not improve from 0.00629\n",
            "2650595/2650595 [==============================] - 57s 21us/sample - loss: 0.0034 - mean_squared_error: 0.0034 - val_loss: 0.0059 - val_mean_squared_error: 0.0059\n",
            "Epoch 00006: early stopping\n"
          ],
          "name": "stdout"
        }
      ]
    },
    {
      "cell_type": "code",
      "metadata": {
        "id": "_IEwv2ypux_k",
        "colab_type": "code",
        "colab": {
          "base_uri": "https://localhost:8080/",
          "height": 51
        },
        "outputId": "0911add3-06f5-4f8d-9111-121f9bc9914d"
      },
      "source": [
        "model.evaluate(X_test,y_test)"
      ],
      "execution_count": 13,
      "outputs": [
        {
          "output_type": "stream",
          "text": [
            "327235/327235 [==============================] - 13s 39us/sample - loss: 0.0059 - mean_squared_error: 0.0059\n"
          ],
          "name": "stdout"
        },
        {
          "output_type": "execute_result",
          "data": {
            "text/plain": [
              "[0.005930198887898273, 0.0059301974]"
            ]
          },
          "metadata": {
            "tags": []
          },
          "execution_count": 13
        }
      ]
    },
    {
      "cell_type": "code",
      "metadata": {
        "id": "UaHIS6VO2k-T",
        "colab_type": "code",
        "colab": {}
      },
      "source": [
        ""
      ],
      "execution_count": 0,
      "outputs": []
    }
  ]
}
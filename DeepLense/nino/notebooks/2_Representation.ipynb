{
 "cells": [
  {
   "cell_type": "markdown",
   "metadata": {},
   "source": [
    "# Dark Matter Representation\n",
    "\n",
    "In this part, we will represent the Dark Matter. We use the dataset provided on https://drive.google.com/file/d/1IhgY91XCXz1QF5GoZow8Hu-YvzWbPZP6/view?usp=sharing, which is a set of simulated strong gravitational lensing images with and without substructure. We are going to use Convolution Neural Network (CNN) to learn the representation of dark matter in the strong gravitational lensing images provided using PyTorch. The goal is to use this learned representation for anomaly detection."
   ]
  },
  {
   "cell_type": "markdown",
   "metadata": {},
   "source": [
    "## Dataset\n",
    "\n",
    "First, we need to split the dataset into training set and validation set. Here, I take the strategy of equality, that is to split images with and without substructure with same ratio (80% train, 20% valid). Of course you can have your customized converting ratio. If your download this repo directly, you will not split again for I have split them. If you want to re-split, just remove the `lenses-train` and `lenses-valid`. "
   ]
  },
  {
   "cell_type": "code",
   "execution_count": 1,
   "metadata": {},
   "outputs": [],
   "source": [
    "import os\n",
    "import shutil\n",
    "\n",
    "def split_files(src, train, valid, ratio=.8):\n",
    "    \n",
    "    # make directory everytime\n",
    "    os.makedirs(src, exist_ok=True)\n",
    "    os.makedirs(train, exist_ok=True)\n",
    "    os.makedirs(valid, exist_ok=True)\n",
    "    \n",
    "    src_files = os.listdir(src)\n",
    "    for idx, file_name in enumerate(src_files):\n",
    "        full_file_name = os.path.join(src, file_name)\n",
    "        if os.path.isfile(full_file_name):\n",
    "                if idx < len(src_files)*ratio:\n",
    "                    shutil.copy(full_file_name, train)\n",
    "                else:\n",
    "                    shutil.copy(full_file_name, valid)\n",
    "                    \n",
    "# keep dir clean before copy files\n",
    "sub_src = '../data/lenses/sub'\n",
    "sub_train = '../data/lenses_train/sub'\n",
    "sub_valid = '../data/lenses_valid/sub'\n",
    "split_files(sub_src, sub_train, sub_valid, .8)\n",
    "\n",
    "no_sub_src = '../data/lenses/no_sub'\n",
    "no_sub_train = '../data/lenses_train/no_sub'\n",
    "no_sub_valid = '../data/lenses_valid/no_sub'\n",
    "split_files(no_sub_src, no_sub_train, no_sub_valid, .8)"
   ]
  },
  {
   "cell_type": "markdown",
   "metadata": {},
   "source": [
    "Then we need to load the dataset. Instead of creating your customized `Dataset` class and `.csv` ground truth file, `torchvision` provides us a convenient method to load the dataset as follows. That's is also the reason why I designed the specific director paths above."
   ]
  },
  {
   "cell_type": "code",
   "execution_count": 2,
   "metadata": {},
   "outputs": [],
   "source": [
    "import torch\n",
    "import torchvision\n",
    "from torchvision import transforms, datasets\n",
    "\n",
    "data_transform = transforms.Compose([\n",
    "#         transforms.RandomResizedCrop(150),\n",
    "        transforms.RandomHorizontalFlip(),\n",
    "        transforms.ToTensor(),\n",
    "        transforms.Normalize(mean=[0.485, 0.456, 0.406],\n",
    "                             std=[0.229, 0.224, 0.225])\n",
    "    ])\n",
    "train_dataset = datasets.ImageFolder(root='../data/lenses_train',\n",
    "                                           transform=data_transform)\n",
    "train_loader = torch.utils.data.DataLoader(train_dataset,\n",
    "                                             batch_size=8, shuffle=True,\n",
    "                                             num_workers=4)\n",
    "\n",
    "valid_dataset = datasets.ImageFolder(root='../data/lenses_valid',\n",
    "                                           transform=data_transform)\n",
    "valid_loader = torch.utils.data.DataLoader(train_dataset,\n",
    "                                             batch_size=8, shuffle=True,\n",
    "                                             num_workers=4)\n",
    "\n",
    "classes = ('no_sub', 'sub')"
   ]
  },
  {
   "cell_type": "markdown",
   "metadata": {},
   "source": [
    "Let's see the first branch of our training set to get familiar!"
   ]
  },
  {
   "cell_type": "code",
   "execution_count": 4,
   "metadata": {},
   "outputs": [
    {
     "data": {
      "text/plain": [
       "<Figure size 576x576 with 0 Axes>"
      ]
     },
     "metadata": {},
     "output_type": "display_data"
    },
    {
     "name": "stderr",
     "output_type": "stream",
     "text": [
      "Clipping input data to the valid range for imshow with RGB data ([0..1] for floats or [0..255] for integers).\n"
     ]
    },
    {
     "name": "stdout",
     "output_type": "stream",
     "text": [
      "     sub      sub      sub      sub      sub      sub   no_sub   no_sub\n"
     ]
    },
    {
     "data": {
      "image/png": "[encoded data removed]",
      "text/plain": [
       "<Figure size 432x288 with 1 Axes>"
      ]
     },
     "metadata": {
      "needs_background": "light"
     },
     "output_type": "display_data"
    }
   ],
   "source": [
    "import matplotlib.pyplot as plt\n",
    "import numpy as np\n",
    "\n",
    "# functions to show an image\n",
    "def imshow(img):\n",
    "    plt.figure(figsize=(8,8))\n",
    "    img = img / 2 + 0.5     # unnormalize\n",
    "    npimg = img.numpy()\n",
    "    plt.show()\n",
    "    plt.imshow(np.transpose(npimg, (1, 2, 0)))\n",
    "\n",
    "\n",
    "# get some random training images\n",
    "dataiter = iter(train_loader)\n",
    "images, labels = dataiter.next()\n",
    "\n",
    "# show images\n",
    "imshow(torchvision.utils.make_grid(images))\n",
    "\n",
    "# print labels\n",
    "print(' '.join('%8s' % classes[labels[j]] for j in range(8)))"
   ]
  },
  {
   "cell_type": "markdown",
   "metadata": {},
   "source": [
    "After looking at this, you might realize that the challenge of this task. The naked eyes are basically unable to distinguish between the two classes, i.e., `sub` and `no_sub`. Let's see the magic of CNN!"
   ]
  },
  {
   "cell_type": "markdown",
   "metadata": {},
   "source": [
    "## LensesCNN\n",
    "\n",
    "Then, we use CNN to train lenses images and evaluate it on the validation set. We use `Relu` as our activation, and have 2 convolutional layers, pooling layers, and 3 full-connected layers. We use Cross Entropy Loss as our *Note that it's not a DEEP neural networks, but the result turns out to be not bad actually.*"
   ]
  },
  {
   "cell_type": "markdown",
   "metadata": {},
   "source": [
    "Define CNN for lenses images."
   ]
  },
  {
   "cell_type": "code",
   "execution_count": 5,
   "metadata": {},
   "outputs": [],
   "source": [
    "import torch.nn as nn\n",
    "import torch.nn.functional as F\n",
    "\n",
    "\n",
    "class Net(nn.Module):\n",
    "    def __init__(self):\n",
    "        super(Net, self).__init__()\n",
    "        self.conv1 = nn.Conv2d(3, 6, 5)\n",
    "        self.pool = nn.MaxPool2d(2, 2)\n",
    "        self.conv2 = nn.Conv2d(6, 16, 5)\n",
    "        self.fc1 = nn.Linear(16 * 34 * 34, 120)\n",
    "        self.fc2 = nn.Linear(120, 84)\n",
    "        self.fc3 = nn.Linear(84, 10)\n",
    "\n",
    "    def forward(self, x):\n",
    "        x = self.pool(F.relu(self.conv1(x)))\n",
    "        x = self.pool(F.relu(self.conv2(x)))\n",
    "        x = x.view(x.size(0), 16 * 34 * 34)\n",
    "        x = F.relu(self.fc1(x))\n",
    "        x = F.relu(self.fc2(x))\n",
    "        x = self.fc3(x)\n",
    "        return x\n",
    "\n",
    "\n",
    "net = Net()"
   ]
  },
  {
   "cell_type": "markdown",
   "metadata": {},
   "source": [
    "Select loss function and optimizer, set proper learning rate. "
   ]
  },
  {
   "cell_type": "code",
   "execution_count": 6,
   "metadata": {},
   "outputs": [],
   "source": [
    "import torch.optim as optim\n",
    "import torch.optim.lr_scheduler\n",
    "\n",
    "criterion = nn.CrossEntropyLoss()\n",
    "optimizer = optim.Adam(net.parameters(), lr=0.001)\n",
    "# scheduler = torch.optim.lr_scheduler.OneCycleLR(optimizer, max_lr=0.01,\\\n",
    "#                                         steps_per_epoch=len(train_loader),\\\n",
    "#                                         epochs=3)"
   ]
  },
  {
   "cell_type": "markdown",
   "metadata": {},
   "source": [
    "Train our model."
   ]
  },
  {
   "cell_type": "code",
   "execution_count": 7,
   "metadata": {},
   "outputs": [
    {
     "name": "stdout",
     "output_type": "stream",
     "text": [
      "[1,   100] loss: 0.785\n",
      "[1,   200] loss: 0.701\n",
      "[1,   300] loss: 0.717\n",
      "[1,   400] loss: 0.697\n",
      "[1,   500] loss: 0.701\n",
      "[1,   600] loss: 0.699\n",
      "[1,   700] loss: 0.697\n",
      "[1,   800] loss: 0.694\n",
      "[1,   900] loss: 0.689\n",
      "[1,  1000] loss: 0.668\n",
      "[2,   100] loss: 0.631\n",
      "[2,   200] loss: 0.639\n",
      "[2,   300] loss: 0.644\n",
      "[2,   400] loss: 0.611\n",
      "[2,   500] loss: 0.623\n",
      "[2,   600] loss: 0.564\n",
      "[2,   700] loss: 0.545\n",
      "[2,   800] loss: 0.488\n",
      "[2,   900] loss: 0.484\n",
      "[2,  1000] loss: 0.520\n",
      "[3,   100] loss: 0.503\n",
      "[3,   200] loss: 0.443\n",
      "[3,   300] loss: 0.421\n",
      "[3,   400] loss: 0.444\n",
      "[3,   500] loss: 0.380\n",
      "[3,   600] loss: 0.356\n",
      "[3,   700] loss: 0.328\n",
      "[3,   800] loss: 0.330\n",
      "[3,   900] loss: 0.318\n",
      "[3,  1000] loss: 0.396\n",
      "[4,   100] loss: 0.286\n",
      "[4,   200] loss: 0.279\n",
      "[4,   300] loss: 0.307\n",
      "[4,   400] loss: 0.275\n",
      "[4,   500] loss: 0.263\n",
      "[4,   600] loss: 0.264\n",
      "[4,   700] loss: 0.250\n",
      "[4,   800] loss: 0.247\n",
      "[4,   900] loss: 0.340\n",
      "[4,  1000] loss: 0.294\n",
      "[5,   100] loss: 0.254\n",
      "[5,   200] loss: 0.253\n",
      "[5,   300] loss: 0.252\n",
      "[5,   400] loss: 0.249\n",
      "[5,   500] loss: 0.254\n",
      "[5,   600] loss: 0.226\n",
      "[5,   700] loss: 0.280\n",
      "[5,   800] loss: 0.252\n",
      "[5,   900] loss: 0.246\n",
      "[5,  1000] loss: 0.240\n",
      "[6,   100] loss: 0.205\n",
      "[6,   200] loss: 0.218\n",
      "[6,   300] loss: 0.259\n",
      "[6,   400] loss: 0.265\n",
      "[6,   500] loss: 0.243\n",
      "[6,   600] loss: 0.222\n",
      "[6,   700] loss: 0.226\n",
      "[6,   800] loss: 0.218\n",
      "[6,   900] loss: 0.254\n",
      "[6,  1000] loss: 0.228\n",
      "[7,   100] loss: 0.199\n",
      "[7,   200] loss: 0.173\n",
      "[7,   300] loss: 0.192\n",
      "[7,   400] loss: 0.205\n",
      "[7,   500] loss: 0.156\n",
      "[7,   600] loss: 0.180\n",
      "[7,   700] loss: 0.214\n",
      "[7,   800] loss: 0.205\n",
      "[7,   900] loss: 0.204\n",
      "[7,  1000] loss: 0.182\n",
      "[8,   100] loss: 0.179\n",
      "[8,   200] loss: 0.166\n",
      "[8,   300] loss: 0.223\n",
      "[8,   400] loss: 0.176\n",
      "[8,   500] loss: 0.196\n",
      "[8,   600] loss: 0.183\n",
      "[8,   700] loss: 0.208\n",
      "[8,   800] loss: 0.181\n",
      "[8,   900] loss: 0.208\n",
      "[8,  1000] loss: 0.157\n",
      "[9,   100] loss: 0.147\n",
      "[9,   200] loss: 0.142\n",
      "[9,   300] loss: 0.153\n",
      "[9,   400] loss: 0.213\n",
      "[9,   500] loss: 0.181\n",
      "[9,   600] loss: 0.176\n",
      "[9,   700] loss: 0.174\n",
      "[9,   800] loss: 0.157\n",
      "[9,   900] loss: 0.179\n",
      "[9,  1000] loss: 0.144\n",
      "[10,   100] loss: 0.144\n",
      "[10,   200] loss: 0.148\n",
      "[10,   300] loss: 0.178\n",
      "[10,   400] loss: 0.161\n",
      "[10,   500] loss: 0.158\n",
      "[10,   600] loss: 0.423\n",
      "[10,   700] loss: 0.222\n",
      "[10,   800] loss: 0.196\n",
      "[10,   900] loss: 0.169\n",
      "[10,  1000] loss: 0.203\n",
      "Finished Training\n"
     ]
    },
    {
     "data": {
      "image/png": "[encoded data removed]",
      "text/plain": [
       "<Figure size 432x288 with 1 Axes>"
      ]
     },
     "metadata": {
      "needs_background": "light"
     },
     "output_type": "display_data"
    }
   ],
   "source": [
    "batch_loss = []\n",
    "for epoch in range(10):  # loop over the dataset multiple times\n",
    "\n",
    "    running_loss = 0.0\n",
    "    for i, data in enumerate(train_loader, 0):\n",
    "        # get the inputs; data is a list of [inputs, labels]\n",
    "        inputs, labels = data\n",
    "\n",
    "        # zero the parameter gradients\n",
    "        optimizer.zero_grad()\n",
    "\n",
    "        # forward + backward + optimize\n",
    "        outputs = net(inputs)\n",
    "        loss = criterion(outputs, labels)\n",
    "        loss.backward()\n",
    "        optimizer.step()\n",
    "        \n",
    "        # print statistics\n",
    "        running_loss += loss.item()\n",
    "        if i % 100 == 99:    # print every 100 mini-batches\n",
    "            print('[%d, %5d] loss: %.3f' %\n",
    "                  (epoch + 1, i + 1, running_loss/100))\n",
    "            batch_loss.append(running_loss/100)\n",
    "            running_loss = 0.0\n",
    "            \n",
    "#         scheduler.step()\n",
    "\n",
    "plt.plot(batch_loss)\n",
    "plt.xlabel('batch')\n",
    "plt.ylabel('loss')\n",
    "print('Finished Training')"
   ]
  },
  {
   "cell_type": "markdown",
   "metadata": {},
   "source": [
    "The losses go down. Limited by GPU resources, we just train for 10 epochs. We save our model at `./lenses_net.pth`."
   ]
  },
  {
   "cell_type": "code",
   "execution_count": 8,
   "metadata": {},
   "outputs": [],
   "source": [
    "PATH = './lenses_net.pth'\n",
    "torch.save(net.state_dict(), PATH)"
   ]
  },
  {
   "cell_type": "markdown",
   "metadata": {},
   "source": [
    "Then it's time for validating our model. Let's see some images in validation set, and compare their ground truth value and prediction."
   ]
  },
  {
   "cell_type": "code",
   "execution_count": 9,
   "metadata": {},
   "outputs": [
    {
     "data": {
      "text/plain": [
       "<Figure size 576x576 with 0 Axes>"
      ]
     },
     "metadata": {},
     "output_type": "display_data"
    },
    {
     "name": "stderr",
     "output_type": "stream",
     "text": [
      "Clipping input data to the valid range for imshow with RGB data ([0..1] for floats or [0..255] for integers).\n"
     ]
    },
    {
     "name": "stdout",
     "output_type": "stream",
     "text": [
      "GroundTruth:  no_sub   sub no_sub no_sub   sub   sub no_sub no_sub\n",
      "Predicted:  no_sub   sub no_sub no_sub   sub no_sub no_sub no_sub\n"
     ]
    },
    {
     "data": {
      "image/png": "[encoded data removed]",
      "text/plain": [
       "<Figure size 432x288 with 1 Axes>"
      ]
     },
     "metadata": {
      "needs_background": "light"
     },
     "output_type": "display_data"
    }
   ],
   "source": [
    "dataiter = iter(valid_loader)\n",
    "images, labels = dataiter.next()\n",
    "\n",
    "# print images\n",
    "imshow(torchvision.utils.make_grid(images))\n",
    "print('GroundTruth: ', ' '.join('%5s' % classes[labels[j]] for j in range(8)))\n",
    "\n",
    "net = Net()\n",
    "net.load_state_dict(torch.load(PATH))\n",
    "outputs = net(images)\n",
    "\n",
    "_, predicted = torch.max(outputs, 1)\n",
    "\n",
    "print('Predicted: ', ' '.join('%5s' % classes[predicted[j]]\n",
    "                              for j in range(8)))"
   ]
  },
  {
   "cell_type": "markdown",
   "metadata": {},
   "source": [
    "To evaluate our model, let's see the accuracy of the network on the test images. "
   ]
  },
  {
   "cell_type": "code",
   "execution_count": 10,
   "metadata": {},
   "outputs": [
    {
     "name": "stdout",
     "output_type": "stream",
     "text": [
      "Accuracy of the network on the test images: 91 %\n"
     ]
    }
   ],
   "source": [
    "correct = 0\n",
    "total = 0\n",
    "with torch.no_grad():\n",
    "    for data in valid_loader:\n",
    "        images, labels = data\n",
    "        outputs = net(images)\n",
    "        _, predicted = torch.max(outputs.data, 1)\n",
    "        total += labels.size(0)\n",
    "        correct += (predicted == labels).sum().item()\n",
    "\n",
    "print('Accuracy of the network on the test images: %d %%' % (\n",
    "    100 * correct / total))"
   ]
  },
  {
   "cell_type": "markdown",
   "metadata": {},
   "source": [
    "**91% correct!** Well done!\n",
    "\n",
    "We also want to know the performance of `sub` and `no_sub` class respectively."
   ]
  },
  {
   "cell_type": "code",
   "execution_count": 11,
   "metadata": {},
   "outputs": [
    {
     "name": "stdout",
     "output_type": "stream",
     "text": [
      "Accuracy of no_sub : 97 %\n",
      "Accuracy of   sub : 85 %\n"
     ]
    }
   ],
   "source": [
    "class_correct = list(0. for i in range(2))\n",
    "class_total = list(0. for i in range(2))\n",
    "\n",
    "with torch.no_grad():\n",
    "    for data in valid_loader:\n",
    "        images, labels = data\n",
    "        outputs = net(images)\n",
    "        _, predicted = torch.max(outputs, 1)\n",
    "        c = (predicted == labels).squeeze()\n",
    "        for i in range(4):\n",
    "            label = labels[i]\n",
    "            class_correct[label] += c[i].item()\n",
    "            class_total[label] += 1\n",
    "\n",
    "\n",
    "for i in range(2):\n",
    "    print('Accuracy of %5s : %2d %%' % (\n",
    "        classes[i], 100 * class_correct[i] / class_total[i]))"
   ]
  },
  {
   "cell_type": "markdown",
   "metadata": {},
   "source": [
    "In this training, result shows that the accuracy of recognizing `no_sub` is pretty high 97%, the accuray of sub is 85%. Note that this is not static, you will see different preformance if you re-train you model."
   ]
  },
  {
   "cell_type": "markdown",
   "metadata": {},
   "source": [
    "## Conclusion"
   ]
  },
  {
   "cell_type": "markdown",
   "metadata": {},
   "source": [
    "In this notebook, we train our lenses neural networks by CNN, using dataset with lensing images with and without substructure. After ten epochs, the accuracy is as high as 91%, showing the effectiveness of our model.\n",
    "\n",
    "In the future, we expect to use more NN modules on more thorough datasets, and figure out the most proper criteria, learning rate, optimizer, etc."
   ]
  }
 ],
 "metadata": {
  "kernelspec": {
   "display_name": "Python 3",
   "language": "python",
   "name": "python3"
  },
  "language_info": {
   "codemirror_mode": {
    "name": "ipython",
    "version": 3
   },
   "file_extension": ".py",
   "mimetype": "text/x-python",
   "name": "python",
   "nbconvert_exporter": "python",
   "pygments_lexer": "ipython3",
   "version": "3.7.6"
  }
 },
 "nbformat": 4,
 "nbformat_minor": 4
}

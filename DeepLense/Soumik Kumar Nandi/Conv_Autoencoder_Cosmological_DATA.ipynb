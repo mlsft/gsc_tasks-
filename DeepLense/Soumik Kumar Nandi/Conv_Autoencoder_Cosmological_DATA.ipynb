{
  "nbformat": 4,
  "nbformat_minor": 0,
  "metadata": {
    "colab": {
      "name": "Conv-Autoencoder_Cosmological_DATA.ipynb",
      "provenance": [],
      "collapsed_sections": [],
      "authorship_tag": "ABX9TyMnEPXDC1uBuc8iJazePwHW",
      "include_colab_link": true
    },
    "kernelspec": {
      "name": "python3",
      "display_name": "Python 3"
    },
    "accelerator": "GPU"
  },
  "cells": [
    {
      "cell_type": "markdown",
      "metadata": {
        "id": "view-in-github",
        "colab_type": "text"
      },
      "source": [
        "<a href=\"https://colab.research.google.com/github/SoumikNandi01/Simulation-of-SuperFluid-Dark-Matter-using-PyAutoLens/blob/master/Conv_Autoencoder_Cosmological_DATA.ipynb\" target=\"_parent\"><img src=\"https://colab.research.google.com/assets/colab-badge.svg\" alt=\"Open In Colab\"/></a>"
      ]
    },
    {
      "cell_type": "markdown",
      "metadata": {
        "id": "CxBfwZ3IUndb",
        "colab_type": "text"
      },
      "source": [
        "## Importing necessary modules"
      ]
    },
    {
      "cell_type": "code",
      "metadata": {
        "id": "AKpTyxYbUNZj",
        "colab_type": "code",
        "colab": {}
      },
      "source": [
        "import torch\n",
        "import torchvision as tv\n",
        "import torchvision.transforms as transforms\n",
        "import torch.nn as nn\n",
        "import torch.nn.functional as F\n",
        "from torch.autograd import Variable\n",
        "from torchvision.utils import save_image\n",
        "from torchvision import datasets\n",
        "import numpy as np\n",
        "import matplotlib.pyplot as plt\n",
        "from sklearn.metrics.pairwise import cosine_similarity"
      ],
      "execution_count": 0,
      "outputs": []
    },
    {
      "cell_type": "markdown",
      "metadata": {
        "id": "-tD6tjDrUnYZ",
        "colab_type": "text"
      },
      "source": [
        "## Mounting google Drive"
      ]
    },
    {
      "cell_type": "code",
      "metadata": {
        "id": "QnebjDH7i1y9",
        "colab_type": "code",
        "outputId": "b50c7b15-e83e-4b2f-db84-daadd7be1131",
        "colab": {
          "base_uri": "https://localhost:8080/",
          "height": 34
        }
      },
      "source": [
        "from google.colab import drive\n",
        "drive.mount(r'/content/drive/', force_remount = True)"
      ],
      "execution_count": 165,
      "outputs": [
        {
          "output_type": "stream",
          "text": [
            "Mounted at /content/drive/\n"
          ],
          "name": "stdout"
        }
      ]
    },
    {
      "cell_type": "code",
      "metadata": {
        "id": "OM69lPDLlijr",
        "colab_type": "code",
        "colab": {}
      },
      "source": [
        "#!unzip -uq \"/content/drive/My Drive/CERN_NEW.zip\" -d \"/content/drive/My Drive/CERN_datas/CERN_new_images\""
      ],
      "execution_count": 0,
      "outputs": []
    },
    {
      "cell_type": "markdown",
      "metadata": {
        "id": "oerplcZHU-1v",
        "colab_type": "text"
      },
      "source": [
        "## Loading and Preprocessing data (trained on 1000 Strong Lens Images)"
      ]
    },
    {
      "cell_type": "code",
      "metadata": {
        "colab_type": "code",
        "id": "zAxf6Sbm84Dw",
        "colab": {}
      },
      "source": [
        "img_transform = transforms.Compose([\n",
        "    transforms.Resize((143,143)),\n",
        "    transforms.ToTensor(),\n",
        "    transforms.Normalize((0.5, 0.5, 0.5), (0.5, 0.5, 0.5))\n",
        "])"
      ],
      "execution_count": 0,
      "outputs": []
    },
    {
      "cell_type": "code",
      "metadata": {
        "id": "kHWjatBWWo6B",
        "colab_type": "code",
        "colab": {}
      },
      "source": [
        "def load_dataset(image_folder):\n",
        "    data_path = r'/content/drive/My Drive/'+image_folder\n",
        "    train_dataset = tv.datasets.ImageFolder(\n",
        "        root=data_path,\n",
        "        transform=img_transform\n",
        "    )\n",
        "    print(\"No of found images \", len(train_dataset))\n",
        "    train_loader = torch.utils.data.DataLoader(\n",
        "        train_dataset,\n",
        "        batch_size = 32,\n",
        "        num_workers=0,\n",
        "        shuffle=True\n",
        "    )\n",
        "    return train_loader"
      ],
      "execution_count": 0,
      "outputs": []
    },
    {
      "cell_type": "code",
      "metadata": {
        "id": "NcwBQM1uamY_",
        "colab_type": "code",
        "outputId": "28a96487-d082-44fd-e863-374aba5eddbe",
        "colab": {
          "base_uri": "https://localhost:8080/",
          "height": 52
        }
      },
      "source": [
        "train_loader = load_dataset('CERN_datas')\n",
        "train_loader\n",
        "dataiter = iter(train_loader)\n",
        "image = dataiter.next()\n",
        "dataiter"
      ],
      "execution_count": 169,
      "outputs": [
        {
          "output_type": "stream",
          "text": [
            "No of found images  1004\n"
          ],
          "name": "stdout"
        },
        {
          "output_type": "execute_result",
          "data": {
            "text/plain": [
              "<torch.utils.data.dataloader._SingleProcessDataLoaderIter at 0x7f834c4e3358>"
            ]
          },
          "metadata": {
            "tags": []
          },
          "execution_count": 169
        }
      ]
    },
    {
      "cell_type": "markdown",
      "metadata": {
        "id": "Tsw2tmvxVKsw",
        "colab_type": "text"
      },
      "source": [
        "## Visualising the data"
      ]
    },
    {
      "cell_type": "code",
      "metadata": {
        "id": "wFrNN0y1uB6q",
        "colab_type": "code",
        "outputId": "34e06d3e-3497-47ab-d8ac-aad68499f815",
        "colab": {
          "base_uri": "https://localhost:8080/",
          "height": 340
        }
      },
      "source": [
        "item = iter(train_loader)\n",
        "dataiter = item.next()\n",
        "images = dataiter[0].numpy()\n",
        "img = np.squeeze(images[0])\n",
        "img = np.squeeze(img[0])\n",
        "\n",
        "fig = plt.figure(figsize = (5,5)) \n",
        "ax = fig.add_subplot(111)\n",
        "ax.imshow(img)"
      ],
      "execution_count": 170,
      "outputs": [
        {
          "output_type": "execute_result",
          "data": {
            "text/plain": [
              "<matplotlib.image.AxesImage at 0x7f8340f8f550>"
            ]
          },
          "metadata": {
            "tags": []
          },
          "execution_count": 170
        },
        {
          "output_type": "display_data",
          "data": {
            "image/png": "[encoded data removed]",
            "text/plain": [
              "<Figure size 360x360 with 1 Axes>"
            ]
          },
          "metadata": {
            "tags": []
          }
        }
      ]
    },
    {
      "cell_type": "code",
      "metadata": {
        "id": "vs3rPVWnAlnt",
        "colab_type": "code",
        "outputId": "8da4030c-372c-4415-b890-d04fe874ffce",
        "colab": {
          "base_uri": "https://localhost:8080/",
          "height": 34
        }
      },
      "source": [
        "dataiter[0].shape"
      ],
      "execution_count": 171,
      "outputs": [
        {
          "output_type": "execute_result",
          "data": {
            "text/plain": [
              "torch.Size([32, 3, 143, 143])"
            ]
          },
          "metadata": {
            "tags": []
          },
          "execution_count": 171
        }
      ]
    },
    {
      "cell_type": "markdown",
      "metadata": {
        "id": "5xi2Y8E8VQTd",
        "colab_type": "text"
      },
      "source": [
        "### Modelling the Convolutional Autoencoder"
      ]
    },
    {
      "cell_type": "code",
      "metadata": {
        "id": "TN_lzvDSUSLN",
        "colab_type": "code",
        "colab": {}
      },
      "source": [
        "class ConvAutoencoder(nn.Module):\n",
        "    def __init__(self):\n",
        "        super(ConvAutoencoder, self).__init__()\n",
        "        self.encoder = nn.Sequential(\n",
        "            nn.Conv2d(3, 256, 3, stride = 2, padding = 0),  # b, 16, 10, 10\n",
        "            nn.BatchNorm2d(256),\n",
        "            nn.ReLU(True),\n",
        "            nn.Conv2d(256, 256, 3, stride = 2, padding = 0),  # b, 8, 3, 3\n",
        "            nn.BatchNorm2d(256),\n",
        "            nn.ReLU(True),\n",
        "            nn.Conv2d(256, 512, 3, stride = 2, padding = 0),  # b, 8, 3, 3\n",
        "            nn.BatchNorm2d(512),\n",
        "            nn.ReLU(True),\n",
        "            nn.Conv2d(512, 1024, 3, stride = 2, padding = 0),  # b, 8, 3, 3\n",
        "            nn.BatchNorm2d(1024),\n",
        "            nn.ReLU(True)\n",
        "        )\n",
        "        self.decoder = nn.Sequential(\n",
        "            nn.ConvTranspose2d(1024, 512, 3, stride=2, padding = 0),  # b, 16, 5, 5\n",
        "            nn.BatchNorm2d(512),\n",
        "            nn.ReLU(True),\n",
        "            nn.ConvTranspose2d(512, 256, 3, stride=2, padding = 0),  # b, 8, 15, 15\n",
        "            nn.BatchNorm2d(256),\n",
        "            nn.ReLU(True),\n",
        "            nn.ConvTranspose2d(256, 256, 3, stride=2, padding = 0),\n",
        "            nn.BatchNorm2d(256),\n",
        "            nn.ReLU(True),\n",
        "            nn.ConvTranspose2d(256, 3, 3, stride = 2, padding = 0),  # b, 8, 15, 15\n",
        "            nn.BatchNorm2d(3), # b, 1, 28, 28\n",
        "            nn.Tanh()\n",
        "        )\n",
        "    def forward(self, x):\n",
        "        x = self.encoder(x)\n",
        "        enc = x\n",
        "        x = self.decoder(x)\n",
        "        return x, enc\n",
        "\n"
      ],
      "execution_count": 0,
      "outputs": []
    },
    {
      "cell_type": "code",
      "metadata": {
        "id": "lhx2Vgh08I_i",
        "colab_type": "code",
        "colab": {}
      },
      "source": [
        "model = ConvAutoencoder().cuda()\n",
        "try:\n",
        "  model = torch.load(r'/content/drive/My Drive/Model.pickle')\n",
        "  model.eval()\n",
        "except:\n",
        "  pass"
      ],
      "execution_count": 0,
      "outputs": []
    },
    {
      "cell_type": "markdown",
      "metadata": {
        "id": "Y-MaWbNlA6Xb",
        "colab_type": "text"
      },
      "source": [
        "## The Architecture"
      ]
    },
    {
      "cell_type": "code",
      "metadata": {
        "id": "e020VAHL8UQO",
        "colab_type": "code",
        "outputId": "dd627f98-2bcb-4df6-985f-e3db648b39c9",
        "colab": {
          "base_uri": "https://localhost:8080/",
          "height": 538
        }
      },
      "source": [
        "print(model)"
      ],
      "execution_count": 174,
      "outputs": [
        {
          "output_type": "stream",
          "text": [
            "ConvAutoencoder(\n",
            "  (encoder): Sequential(\n",
            "    (0): Conv2d(3, 256, kernel_size=(3, 3), stride=(2, 2))\n",
            "    (1): BatchNorm2d(256, eps=1e-05, momentum=0.1, affine=True, track_running_stats=True)\n",
            "    (2): ReLU(inplace=True)\n",
            "    (3): Conv2d(256, 256, kernel_size=(3, 3), stride=(2, 2))\n",
            "    (4): BatchNorm2d(256, eps=1e-05, momentum=0.1, affine=True, track_running_stats=True)\n",
            "    (5): ReLU(inplace=True)\n",
            "    (6): Conv2d(256, 512, kernel_size=(3, 3), stride=(2, 2))\n",
            "    (7): BatchNorm2d(512, eps=1e-05, momentum=0.1, affine=True, track_running_stats=True)\n",
            "    (8): ReLU(inplace=True)\n",
            "    (9): Conv2d(512, 1024, kernel_size=(3, 3), stride=(2, 2))\n",
            "    (10): BatchNorm2d(1024, eps=1e-05, momentum=0.1, affine=True, track_running_stats=True)\n",
            "    (11): ReLU(inplace=True)\n",
            "  )\n",
            "  (decoder): Sequential(\n",
            "    (0): ConvTranspose2d(1024, 512, kernel_size=(3, 3), stride=(2, 2))\n",
            "    (1): BatchNorm2d(512, eps=1e-05, momentum=0.1, affine=True, track_running_stats=True)\n",
            "    (2): ReLU(inplace=True)\n",
            "    (3): ConvTranspose2d(512, 256, kernel_size=(3, 3), stride=(2, 2))\n",
            "    (4): BatchNorm2d(256, eps=1e-05, momentum=0.1, affine=True, track_running_stats=True)\n",
            "    (5): ReLU(inplace=True)\n",
            "    (6): ConvTranspose2d(256, 256, kernel_size=(3, 3), stride=(2, 2))\n",
            "    (7): BatchNorm2d(256, eps=1e-05, momentum=0.1, affine=True, track_running_stats=True)\n",
            "    (8): ReLU(inplace=True)\n",
            "    (9): ConvTranspose2d(256, 3, kernel_size=(3, 3), stride=(2, 2))\n",
            "    (10): BatchNorm2d(3, eps=1e-05, momentum=0.1, affine=True, track_running_stats=True)\n",
            "    (11): Tanh()\n",
            "  )\n",
            ")\n"
          ],
          "name": "stdout"
        }
      ]
    },
    {
      "cell_type": "code",
      "metadata": {
        "id": "SYmvXgWf8V51",
        "colab_type": "code",
        "colab": {}
      },
      "source": [
        "criterion = nn.MSELoss()\n",
        "optimizer = torch.optim.Adam(model.parameters(), lr=0.001)\n",
        "n_epochs = 10"
      ],
      "execution_count": 0,
      "outputs": []
    },
    {
      "cell_type": "markdown",
      "metadata": {
        "id": "-gJCN78NVY3R",
        "colab_type": "text"
      },
      "source": [
        "## Training"
      ]
    },
    {
      "cell_type": "code",
      "metadata": {
        "id": "GHt3_3Gu8gE6",
        "colab_type": "code",
        "outputId": "1a20583f-b7fe-4335-bbe0-3428e7ad85a4",
        "colab": {
          "base_uri": "https://localhost:8080/",
          "height": 191
        }
      },
      "source": [
        "for epoch in range(1, n_epochs+1):\n",
        "  train_loss = 0.0\n",
        "  for data in train_loader:\n",
        "      images = data[0]\n",
        "      outputs,inputs = model(images.cuda())\n",
        "      #print(inputs.shape, outputs.shape)\n",
        "      loss = criterion(outputs, images.cuda())\n",
        "      optimizer.zero_grad()\n",
        "      loss.backward()\n",
        "      optimizer.step()\n",
        "      train_loss += loss.item()*images.size(0)\n",
        "\n",
        "  train_loss = train_loss/len(train_loader)\n",
        "  training_loss.append(train_loss)\n",
        "\n",
        "  print('Epoch: {} \\tTraining Loss: {:.6f}'.format(epoch, train_loss))\n"
      ],
      "execution_count": 199,
      "outputs": [
        {
          "output_type": "stream",
          "text": [
            "Epoch: 1 \tTraining Loss: 0.047264\n",
            "Epoch: 2 \tTraining Loss: 0.047269\n",
            "Epoch: 3 \tTraining Loss: 0.046670\n",
            "Epoch: 4 \tTraining Loss: 0.046837\n",
            "Epoch: 5 \tTraining Loss: 0.046840\n",
            "Epoch: 6 \tTraining Loss: 0.046836\n",
            "Epoch: 7 \tTraining Loss: 0.047215\n",
            "Epoch: 8 \tTraining Loss: 0.047265\n",
            "Epoch: 9 \tTraining Loss: 0.046536\n",
            "Epoch: 10 \tTraining Loss: 0.046843\n"
          ],
          "name": "stdout"
        }
      ]
    },
    {
      "cell_type": "markdown",
      "metadata": {
        "id": "eM0kc6j9BLDs",
        "colab_type": "text"
      },
      "source": [
        "## PLotting The Loss ( Post 135 Epochs, with 100 epochs = (lr=0.1), 35 epochs (lr=0.001) )"
      ]
    },
    {
      "cell_type": "code",
      "metadata": {
        "id": "lV0RIJhNkWwh",
        "colab_type": "code",
        "outputId": "5defa0a9-bdaf-447b-d877-deff6dc98baf",
        "colab": {
          "base_uri": "https://localhost:8080/",
          "height": 279
        }
      },
      "source": [
        "plt.plot(np.arange(135),training_loss[-135:])\n",
        "plt.xlabel(\"Epochs\")\n",
        "plt.ylabel(\"Loss\")\n",
        "plt.show()"
      ],
      "execution_count": 203,
      "outputs": [
        {
          "output_type": "display_data",
          "data": {
            "image/png": "[encoded data removed]",
            "text/plain": [
              "<Figure size 432x288 with 1 Axes>"
            ]
          },
          "metadata": {
            "tags": []
          }
        }
      ]
    },
    {
      "cell_type": "code",
      "metadata": {
        "id": "tHsL8q6lkXDQ",
        "colab_type": "code",
        "outputId": "5d7ce086-f7e3-42da-a96e-987d6087d0f8",
        "colab": {
          "base_uri": "https://localhost:8080/",
          "height": 72
        }
      },
      "source": [
        "torch.save(model,r'/content/drive/My Drive/Model.pickle')"
      ],
      "execution_count": 0,
      "outputs": [
        {
          "output_type": "stream",
          "text": [
            "/usr/local/lib/python3.6/dist-packages/torch/serialization.py:360: UserWarning: Couldn't retrieve source code for container of type ConvAutoencoder. It won't be checked for correctness upon loading.\n",
            "  \"type \" + obj.__name__ + \". It won't be checked \"\n"
          ],
          "name": "stderr"
        }
      ]
    },
    {
      "cell_type": "code",
      "metadata": {
        "id": "W1be8zSR5oDv",
        "colab_type": "code",
        "colab": {}
      },
      "source": [
        "def plot_all(loader):\n",
        "  w = 143\n",
        "  h = 143\n",
        "  fig = plt.figure(figsize=(8, 8))\n",
        "  columns = loader.shape[0]\n",
        "  rows = 1\n",
        "  for i in range(1, columns*rows +1):\n",
        "      img = np.random.randint(10, size=(h,w))\n",
        "      fig.add_subplot(rows, columns, i).title.set_text(\"Vector = V\"+str(i-1))\n",
        "      img = loader[i-1]\n",
        "      img = np.squeeze(img[0])\n",
        "      plt.imshow(img)\n",
        "  plt.show()"
      ],
      "execution_count": 0,
      "outputs": []
    },
    {
      "cell_type": "code",
      "metadata": {
        "id": "JqhnT7wrouZK",
        "colab_type": "code",
        "colab": {}
      },
      "source": [
        "def generate_latent_vects(test_data_loader,flag):\n",
        "  latent_vects = []\n",
        "  for data in test_data_loader:\n",
        "    images = data[0]\n",
        "    if flag:\n",
        "      plot_all(images)\n",
        "    _, embeddings = model(images.cuda())\n",
        "    np.squeeze(embeddings[0].cpu().detach().numpy()).reshape(-1,64)\n",
        "    latent_vects.append(embeddings)\n",
        "  return latent_vects\n",
        "\n",
        "\n",
        "def make_embeddings(image_folder, flag):\n",
        "  test_data_loader = load_dataset(image_folder)\n",
        "  return generate_latent_vects(test_data_loader,flag)\n",
        "\n",
        "\n",
        "\n",
        "def return_ready_vectors(embeddings):\n",
        "  vectors = []\n",
        "  for i in range(embeddings.shape[0]):\n",
        "    vectors.append(embeddings[i].flatten().cpu().detach().numpy().reshape(-1,65536))\n",
        "  return vectors"
      ],
      "execution_count": 0,
      "outputs": []
    },
    {
      "cell_type": "code",
      "metadata": {
        "id": "eTfxwPqeq3fh",
        "colab_type": "code",
        "outputId": "43d021bf-8a95-4dc6-99ac-ad65d629ac17",
        "colab": {
          "base_uri": "https://localhost:8080/",
          "height": 158
        }
      },
      "source": [
        "v = return_ready_vectors(make_embeddings(\"CERN_validation\",True)[0])"
      ],
      "execution_count": 206,
      "outputs": [
        {
          "output_type": "stream",
          "text": [
            "No of found images  5\n"
          ],
          "name": "stdout"
        },
        {
          "output_type": "display_data",
          "data": {
            "image/png": "[encoded data removed]",
            "text/plain": [
              "<Figure size 576x576 with 5 Axes>"
            ]
          },
          "metadata": {
            "tags": []
          }
        }
      ]
    },
    {
      "cell_type": "markdown",
      "metadata": {
        "id": "tT91Aom8-oU0",
        "colab_type": "text"
      },
      "source": [
        "V0 = Substructure\n",
        "\n",
        "V1 = Image of a black hole (Anomaly)\n",
        "\n",
        "V2 = Image of a Moon (Anomaly)\n",
        "\n",
        "V3 = No Substructure\n",
        "\n",
        "V4 = Substructure"
      ]
    },
    {
      "cell_type": "code",
      "metadata": {
        "id": "aiOl0PdiPliB",
        "colab_type": "code",
        "outputId": "ada0bc22-c32e-4d29-a06a-3c2953d7d075",
        "colab": {
          "base_uri": "https://localhost:8080/",
          "height": 104
        }
      },
      "source": [
        "print(cosine_similarity(v[0],v[1])) #V1 is anomaly\n",
        "print(cosine_similarity(v[1],v[2])) #Both Anomaly (Undesirable Image)\n",
        "print(cosine_similarity(v[0],v[3])) #Comparison of Substructure with non Substructure (Also differentiates between multiple substructures)\n",
        "print(cosine_similarity(v[0],v[4])) #Contains Substructure\n",
        "print(cosine_similarity(v[3],v[4])) #Comparison of Substructure with non Substructure (Also differentiates between multiple substructures)\n"
      ],
      "execution_count": 207,
      "outputs": [
        {
          "output_type": "stream",
          "text": [
            "[[0.14190018]]\n",
            "[[0.39191055]]\n",
            "[[0.577495]]\n",
            "[[0.7588542]]\n",
            "[[0.56685925]]\n"
          ],
          "name": "stdout"
        }
      ]
    },
    {
      "cell_type": "code",
      "metadata": {
        "id": "zjT36I6n-m9Y",
        "colab_type": "code",
        "colab": {}
      },
      "source": [
        ""
      ],
      "execution_count": 0,
      "outputs": []
    },
    {
      "cell_type": "markdown",
      "metadata": {
        "id": "wd7GBnofzH8R",
        "colab_type": "text"
      },
      "source": [
        ""
      ]
    }
  ]
}
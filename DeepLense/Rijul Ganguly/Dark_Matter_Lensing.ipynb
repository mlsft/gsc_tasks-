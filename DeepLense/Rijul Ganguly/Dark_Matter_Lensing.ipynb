{
 "cells": [
  {
   "cell_type": "code",
   "execution_count": 1,
   "metadata": {},
   "outputs": [
    {
     "name": "stdout",
     "output_type": "stream",
     "text": [
      "/home/rijul/autolens_workspace//config/priors.json\n"
     ]
    }
   ],
   "source": [
    "%matplotlib inline\n",
    "\n",
    "import autolens as al\n",
    "import autolens.plot as aplt"
   ]
  },
  {
   "cell_type": "code",
   "execution_count": 2,
   "metadata": {},
   "outputs": [],
   "source": [
    "image_plane_grid = al.grid.uniform(\n",
    "    shape_2d=(100, 100), pixel_scales=0.5, sub_size=1\n",
    ")"
   ]
  },
  {
   "cell_type": "code",
   "execution_count": 4,
   "metadata": {},
   "outputs": [],
   "source": [
    "mass_profile = al.mp.SphericalNFW(centre=(0.0, 0.0))\n",
    "\n",
    "lens_galaxy = al.Galaxy(redshift=0.5, mass=mass_profile)\n",
    "\n",
    "light_profile = al.lp.SphericalSersic(\n",
    "    centre=(0.0, 0.0), intensity=1.0, effective_radius=1.0, sersic_index=1.0\n",
    ")\n",
    "\n",
    "source_galaxy = al.Galaxy(redshift=1.0, light=light_profile)"
   ]
  },
  {
   "cell_type": "code",
   "execution_count": 5,
   "metadata": {},
   "outputs": [],
   "source": [
    "image_plane = al.Plane(galaxies=[lens_galaxy])"
   ]
  },
  {
   "cell_type": "code",
   "execution_count": 6,
   "metadata": {},
   "outputs": [
    {
     "name": "stdout",
     "output_type": "stream",
     "text": [
      "deflection-angles of planes grid pixel 0:\n",
      "0.011742752093787364\n",
      "0.011742752093787364\n",
      "deflection-angles of planes grid pixel 1:\n",
      "-0.01170128135744761\n",
      "-0.01170128135744761\n"
     ]
    }
   ],
   "source": [
    "deflections = image_plane.deflections_from_grid(grid=image_plane_grid)\n",
    "\n",
    "print(\"deflection-angles of planes grid pixel 0:\")\n",
    "print(deflections.in_2d[0, 0, 0])\n",
    "print(deflections.in_2d[0, 0, 0])\n",
    "\n",
    "print(\"deflection-angles of planes grid pixel 1:\")\n",
    "print(deflections.in_2d[0, 1, 1])\n",
    "print(deflections.in_2d[0, 1, 1])"
   ]
  },
  {
   "cell_type": "code",
   "execution_count": 7,
   "metadata": {},
   "outputs": [],
   "source": [
    "aplt.plane.deflections_y(plane=image_plane, grid=image_plane_grid)\n",
    "\n",
    "aplt.plane.deflections_x(plane=image_plane, grid=image_plane_grid)"
   ]
  },
  {
   "cell_type": "code",
   "execution_count": 8,
   "metadata": {},
   "outputs": [
    {
     "name": "stdout",
     "output_type": "stream",
     "text": [
      "Traced source-plane coordinates of grid pixel 0:\n",
      "[ 24.73825725 -24.73825725]\n",
      "Traced source-plane coordinates of grid pixel 1:\n",
      "[ 24.73805746 -24.23829872]\n"
     ]
    }
   ],
   "source": [
    "source_plane_grid = image_plane.traced_grid_from_grid(grid=image_plane_grid)\n",
    "print(\"Traced source-plane coordinates of grid pixel 0:\")\n",
    "print(source_plane_grid.in_2d[0, 0, :])\n",
    "print(\"Traced source-plane coordinates of grid pixel 1:\")\n",
    "print(source_plane_grid.in_2d[0, 1, :])"
   ]
  },
  {
   "cell_type": "code",
   "execution_count": 9,
   "metadata": {},
   "outputs": [],
   "source": [
    "source_plane = al.Plane(galaxies=[source_galaxy])"
   ]
  },
  {
   "cell_type": "code",
   "execution_count": 10,
   "metadata": {},
   "outputs": [],
   "source": [
    "aplt.plane.plane_grid(\n",
    "    plane=image_plane, \n",
    "    grid=image_plane_grid, \n",
    "    plotter=aplt.Plotter(labels=aplt.Labels(title=\"Image-plane Grid\")),\n",
    ")\n",
    "\n",
    "aplt.plane.plane_grid(\n",
    "    plane=source_plane, \n",
    "    grid=source_plane_grid,\n",
    "    plotter=aplt.Plotter(labels=aplt.Labels(title=\"Source-plane Grid\")),\n",
    ")"
   ]
  },
  {
   "cell_type": "code",
   "execution_count": 10,
   "metadata": {},
   "outputs": [],
   "source": [
    "aplt.plane.plane_grid(\n",
    "    plane=source_plane,\n",
    "    grid=source_plane_grid,\n",
    "    axis_limits=[-0.1, 0.1, -0.1, 0.1],\n",
    "    plotter=aplt.Plotter(labels=aplt.Labels(title=\"Source-plane Grid\")),\n",
    ")"
   ]
  },
  {
   "cell_type": "code",
   "execution_count": null,
   "metadata": {},
   "outputs": [],
   "source": [
    "aplt.plane.image_and_source_plane_subplot(\n",
    "    image_plane=image_plane,\n",
    "    source_plane=source_plane,\n",
    "    grid=image_plane_grid,\n",
    "    indexes=[\n",
    "        range(0, 50),\n",
    "        range(500, 550),\n",
    "        [1350, 1450, 1550, 1650, 1750, 1850, 1950, 2050, 2150, 2250],\n",
    "        [6250, 8550, 8450, 8350, 8250, 8150, 8050, 7950, 7850, 7750],\n",
    "    ],\n",
    ")"
   ]
  },
  {
   "cell_type": "code",
   "execution_count": 11,
   "metadata": {},
   "outputs": [],
   "source": [
    "aplt.plane.convergence(plane=source_plane, grid=source_plane_grid)"
   ]
  },
  {
   "cell_type": "code",
   "execution_count": 12,
   "metadata": {},
   "outputs": [],
   "source": [
    "aplt.plane.plane_image(\n",
    "    plane=source_plane, \n",
    "    grid=source_plane_grid, \n",
    "    include=aplt.Include(grid=True)\n",
    ")"
   ]
  },
  {
   "cell_type": "code",
   "execution_count": 13,
   "metadata": {},
   "outputs": [],
   "source": [
    "aplt.plane.plane_image(\n",
    "    plane=source_plane, \n",
    "    grid=source_plane_grid, \n",
    "    include=aplt.Include(grid=False)\n",
    ")"
   ]
  },
  {
   "cell_type": "code",
   "execution_count": null,
   "metadata": {},
   "outputs": [],
   "source": [
    "aplt.plane.image_and_source_plane_subplot(\n",
    "    image_plane=image_plane,\n",
    "    source_plane=source_plane,\n",
    "    grid=image_plane_grid,\n",
    "    include=aplt.Include(critical_curves=True, caustics=True),\n",
    ")\n",
    "\n",
    "aplt.plane.image_and_source_plane_subplot(\n",
    "    image_plane=image_plane,\n",
    "    source_plane=source_plane,\n",
    "    grid=image_plane_grid,\n",
    "    include=aplt.Include(critical_curves=False, caustics=False),\n",
    ")"
   ]
  },
  {
   "cell_type": "code",
   "execution_count": null,
   "metadata": {},
   "outputs": [],
   "source": []
  }
 ],
 "metadata": {
  "kernelspec": {
   "display_name": "Python 3",
   "language": "python",
   "name": "python3"
  },
  "language_info": {
   "codemirror_mode": {
    "name": "ipython",
    "version": 3
   },
   "file_extension": ".py",
   "mimetype": "text/x-python",
   "name": "python",
   "nbconvert_exporter": "python",
   "pygments_lexer": "ipython3",
   "version": "3.7.6"
  }
 },
 "nbformat": 4,
 "nbformat_minor": 4
}

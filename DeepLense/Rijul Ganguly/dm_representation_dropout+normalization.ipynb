{
  "nbformat": 4,
  "nbformat_minor": 0,
  "metadata": {
    "colab": {
      "name": "dm_representation.ipynb",
      "provenance": [],
      "collapsed_sections": [],
      "machine_shape": "hm"
    },
    "kernelspec": {
      "name": "python3",
      "display_name": "Python 3"
    },
    "accelerator": "GPU"
  },
  "cells": [
    {
      "cell_type": "code",
      "metadata": {
        "id": "NBRx5J5vcHzy",
        "colab_type": "code",
        "colab": {}
      },
      "source": [
        "import tarfile\n",
        "from PIL import Image\n",
        "import cv2\n",
        "import matplotlib.pyplot as plt\n",
        "import numpy as np\n",
        "import torch\n",
        "import statistics"
      ],
      "execution_count": 0,
      "outputs": []
    },
    {
      "cell_type": "code",
      "metadata": {
        "id": "a5ld7MKRcgUI",
        "colab_type": "code",
        "colab": {}
      },
      "source": [
        "fname = \"lenses.tgz\"\n",
        "tar = tarfile.open(fname, \"r:gz\")\n",
        "tar.extractall()\n",
        "tar.close()"
      ],
      "execution_count": 0,
      "outputs": []
    },
    {
      "cell_type": "code",
      "metadata": {
        "id": "JBz7Mpd-dHbY",
        "colab_type": "code",
        "outputId": "6aa207bc-73e2-48a0-e9ce-650ff7b23a93",
        "colab": {
          "base_uri": "https://localhost:8080/",
          "height": 34
        }
      },
      "source": [
        "cd lenses"
      ],
      "execution_count": 3,
      "outputs": [
        {
          "output_type": "stream",
          "text": [
            "/content/lenses\n"
          ],
          "name": "stdout"
        }
      ]
    },
    {
      "cell_type": "code",
      "metadata": {
        "id": "GNwOdCnkdd2U",
        "colab_type": "code",
        "outputId": "24191f9c-275f-4847-d37a-d46b37b3e65a",
        "colab": {
          "base_uri": "https://localhost:8080/",
          "height": 34
        }
      },
      "source": [
        "ls"
      ],
      "execution_count": 4,
      "outputs": [
        {
          "output_type": "stream",
          "text": [
            "\u001b[0m\u001b[34;42mno_sub\u001b[0m/  \u001b[34;42msub\u001b[0m/\n"
          ],
          "name": "stdout"
        }
      ]
    },
    {
      "cell_type": "code",
      "metadata": {
        "id": "jYpAUYbN85vl",
        "colab_type": "code",
        "colab": {}
      },
      "source": [
        "import glob"
      ],
      "execution_count": 0,
      "outputs": []
    },
    {
      "cell_type": "code",
      "metadata": {
        "id": "Nu6cTmqCdiRE",
        "colab_type": "code",
        "colab": {}
      },
      "source": [
        "sub_img = []\n",
        "for img in glob.glob(\"sub/*.jpg\"):\n",
        "    n = cv2.imread(img)\n",
        "    sub_img.append(n)"
      ],
      "execution_count": 0,
      "outputs": []
    },
    {
      "cell_type": "code",
      "metadata": {
        "id": "VtvLAjXk8VsV",
        "colab_type": "code",
        "colab": {}
      },
      "source": [
        "no_sub_img = []\n",
        "for img in glob.glob(\"no_sub/*.jpg\"):\n",
        "    n = cv2.imread(img)\n",
        "    no_sub_img.append(n)"
      ],
      "execution_count": 0,
      "outputs": []
    },
    {
      "cell_type": "code",
      "metadata": {
        "id": "7e9MbcUa8Wuj",
        "colab_type": "code",
        "outputId": "d0dc93c3-0e8b-4418-fd8a-b32cc3fb881d",
        "colab": {
          "base_uri": "https://localhost:8080/",
          "height": 34
        }
      },
      "source": [
        "len(no_sub_img)"
      ],
      "execution_count": 8,
      "outputs": [
        {
          "output_type": "execute_result",
          "data": {
            "text/plain": [
              "5000"
            ]
          },
          "metadata": {
            "tags": []
          },
          "execution_count": 8
        }
      ]
    },
    {
      "cell_type": "code",
      "metadata": {
        "id": "xxcINQuX-QFT",
        "colab_type": "code",
        "colab": {}
      },
      "source": [
        "overall_dataset = []\n",
        "for i in sub_img:\n",
        "    overall_dataset.append((i,0))\n",
        "\n",
        "for i in no_sub_img:\n",
        "    overall_dataset.append((i,1))"
      ],
      "execution_count": 0,
      "outputs": []
    },
    {
      "cell_type": "code",
      "metadata": {
        "id": "NW7GvL86CBU2",
        "colab_type": "code",
        "colab": {}
      },
      "source": [
        "import random\n",
        "random.shuffle(overall_dataset)"
      ],
      "execution_count": 0,
      "outputs": []
    },
    {
      "cell_type": "code",
      "metadata": {
        "id": "TmFQj8AxCD7E",
        "colab_type": "code",
        "colab": {}
      },
      "source": [
        "data = [i[0] for i in overall_dataset]\n",
        "labels = [i[1] for i in overall_dataset]"
      ],
      "execution_count": 0,
      "outputs": []
    },
    {
      "cell_type": "code",
      "metadata": {
        "id": "Wu6Hx1vxCVPF",
        "colab_type": "code",
        "colab": {}
      },
      "source": [
        "train_data = torch.from_numpy(np.array(data[:7500]).reshape(-1,3,150,150)).type(torch.FloatTensor).cuda()\n",
        "train_labels = torch.from_numpy(np.array(labels[:7500])).type(torch.LongTensor).cuda()"
      ],
      "execution_count": 0,
      "outputs": []
    },
    {
      "cell_type": "code",
      "metadata": {
        "colab_type": "code",
        "id": "84nst-N4jRRd",
        "colab": {}
      },
      "source": [
        "train_mean = train_data.mean()\n",
        "train_std = train_data.std()"
      ],
      "execution_count": 0,
      "outputs": []
    },
    {
      "cell_type": "code",
      "metadata": {
        "id": "D6IVoO1Hj2Gu",
        "colab_type": "code",
        "colab": {}
      },
      "source": [
        "train_data_norm = (train_data - train_mean)/train_std"
      ],
      "execution_count": 0,
      "outputs": []
    },
    {
      "cell_type": "code",
      "metadata": {
        "id": "A-FaefSwC-nz",
        "colab_type": "code",
        "colab": {}
      },
      "source": [
        "valid_data = data[7500:]\n",
        "valid_labels = labels[7500:]"
      ],
      "execution_count": 0,
      "outputs": []
    },
    {
      "cell_type": "code",
      "metadata": {
        "id": "fFdl9iVPDSFk",
        "colab_type": "code",
        "colab": {}
      },
      "source": [
        "import torch.nn as nn\n",
        "import torch.nn.functional as F\n",
        "\n",
        "class Net(nn.Module):\n",
        "    def __init__(self):\n",
        "        super(Net,self).__init__()\n",
        "\n",
        "        self.c1 = nn.Sequential(\n",
        "                    nn.Conv2d(3,6,5),\n",
        "                    nn.ReLU(inplace=True),\n",
        "                    nn.BatchNorm2d(6),\n",
        "                    nn.Dropout(0.25,inplace=True)\n",
        "        )\n",
        "\n",
        "        self.c2 = nn.Sequential(\n",
        "                   nn.MaxPool2d(2,2),\n",
        "                   nn.Conv2d(6,16,5),\n",
        "                   nn.ReLU(inplace=True),\n",
        "                   nn.BatchNorm2d(16),\n",
        "                   nn.Dropout(0.25,inplace=True)\n",
        "        )\n",
        "\n",
        "        self.fc = nn.Sequential(\n",
        "                    nn.Linear(76176, 1200),\n",
        "                    nn.ReLU(inplace=True),\n",
        "                    nn.Linear(1200,200),\n",
        "                    nn.ReLU(inplace=True),\n",
        "                    nn.Linear(200,2)\n",
        "\n",
        "        )\n",
        "\n",
        "    def forward(self,x):\n",
        "        x = self.c1(x)\n",
        "        x = self.c2(x)\n",
        "        x = x.view(-1,76176)\n",
        "        x = self.fc(x)\n",
        "        return x"
      ],
      "execution_count": 0,
      "outputs": []
    },
    {
      "cell_type": "code",
      "metadata": {
        "id": "mzHTxDw3Gsrp",
        "colab_type": "code",
        "colab": {}
      },
      "source": [
        "net = Net().cuda()"
      ],
      "execution_count": 0,
      "outputs": []
    },
    {
      "cell_type": "markdown",
      "metadata": {
        "id": "HBLUoe11M1kk",
        "colab_type": "text"
      },
      "source": [
        "#TRAINING TIME"
      ]
    },
    {
      "cell_type": "code",
      "metadata": {
        "id": "TVw22GnSJ9l3",
        "colab_type": "code",
        "colab": {}
      },
      "source": [
        "import torch.optim as optim\n",
        "criterion = nn.CrossEntropyLoss()\n",
        "optimizer = optim.SGD(net.parameters(), lr = 0.0001, momentum = 0.9)"
      ],
      "execution_count": 0,
      "outputs": []
    },
    {
      "cell_type": "code",
      "metadata": {
        "id": "vD9wl4qsKOX1",
        "colab_type": "code",
        "outputId": "29af8211-a539-4889-ce95-5238e2d92381",
        "colab": {
          "base_uri": "https://localhost:8080/",
          "height": 1000
        }
      },
      "source": [
        "loss_curve = []\n",
        "\n",
        "for epoch in range(10):\n",
        "    for d in range(75):\n",
        "        batch_train_data_curr = train_data_norm[d*100:d*100+100]\n",
        "        batch_train_label_curr = train_labels[d*100:d*100+100]\n",
        "\n",
        "        optimizer.zero_grad()\n",
        "\n",
        "        outputs = net(batch_train_data_curr)\n",
        "\n",
        "        loss = criterion(outputs, batch_train_label_curr)\n",
        "\n",
        "        loss.backward()\n",
        "        optimizer.step()\n",
        "\n",
        "        if(d%10 == 0):\n",
        "            loss_curve.append(loss.item())\n",
        "            print(\"EPOCH IS {}\\n AND CURRENT LOSS IS {}/n\".format(epoch, loss.item()))"
      ],
      "execution_count": 52,
      "outputs": [
        {
          "output_type": "stream",
          "text": [
            "EPOCH IS 0\n",
            " AND CURRENT LOSS IS 0.7046012282371521/n\n",
            "EPOCH IS 0\n",
            " AND CURRENT LOSS IS 0.7019986510276794/n\n",
            "EPOCH IS 0\n",
            " AND CURRENT LOSS IS 0.7058584094047546/n\n",
            "EPOCH IS 0\n",
            " AND CURRENT LOSS IS 0.681800127029419/n\n",
            "EPOCH IS 0\n",
            " AND CURRENT LOSS IS 0.6883677840232849/n\n",
            "EPOCH IS 0\n",
            " AND CURRENT LOSS IS 0.6744093894958496/n\n",
            "EPOCH IS 0\n",
            " AND CURRENT LOSS IS 0.6816037893295288/n\n",
            "EPOCH IS 0\n",
            " AND CURRENT LOSS IS 0.6786708831787109/n\n",
            "EPOCH IS 1\n",
            " AND CURRENT LOSS IS 0.6834112405776978/n\n",
            "EPOCH IS 1\n",
            " AND CURRENT LOSS IS 0.6737121343612671/n\n",
            "EPOCH IS 1\n",
            " AND CURRENT LOSS IS 0.6763585805892944/n\n",
            "EPOCH IS 1\n",
            " AND CURRENT LOSS IS 0.644680380821228/n\n",
            "EPOCH IS 1\n",
            " AND CURRENT LOSS IS 0.6701493263244629/n\n",
            "EPOCH IS 1\n",
            " AND CURRENT LOSS IS 0.6520887613296509/n\n",
            "EPOCH IS 1\n",
            " AND CURRENT LOSS IS 0.6542238593101501/n\n",
            "EPOCH IS 1\n",
            " AND CURRENT LOSS IS 0.6502737998962402/n\n",
            "EPOCH IS 2\n",
            " AND CURRENT LOSS IS 0.6632287502288818/n\n",
            "EPOCH IS 2\n",
            " AND CURRENT LOSS IS 0.6631911396980286/n\n",
            "EPOCH IS 2\n",
            " AND CURRENT LOSS IS 0.649783730506897/n\n",
            "EPOCH IS 2\n",
            " AND CURRENT LOSS IS 0.6257290840148926/n\n",
            "EPOCH IS 2\n",
            " AND CURRENT LOSS IS 0.6417010426521301/n\n",
            "EPOCH IS 2\n",
            " AND CURRENT LOSS IS 0.6152772903442383/n\n",
            "EPOCH IS 2\n",
            " AND CURRENT LOSS IS 0.623963475227356/n\n",
            "EPOCH IS 2\n",
            " AND CURRENT LOSS IS 0.6178861260414124/n\n",
            "EPOCH IS 3\n",
            " AND CURRENT LOSS IS 0.626943826675415/n\n",
            "EPOCH IS 3\n",
            " AND CURRENT LOSS IS 0.6511064767837524/n\n",
            "EPOCH IS 3\n",
            " AND CURRENT LOSS IS 0.6234662532806396/n\n",
            "EPOCH IS 3\n",
            " AND CURRENT LOSS IS 0.5957959890365601/n\n",
            "EPOCH IS 3\n",
            " AND CURRENT LOSS IS 0.6115360260009766/n\n",
            "EPOCH IS 3\n",
            " AND CURRENT LOSS IS 0.5919627547264099/n\n",
            "EPOCH IS 3\n",
            " AND CURRENT LOSS IS 0.5904179811477661/n\n",
            "EPOCH IS 3\n",
            " AND CURRENT LOSS IS 0.584506094455719/n\n",
            "EPOCH IS 4\n",
            " AND CURRENT LOSS IS 0.5924327969551086/n\n",
            "EPOCH IS 4\n",
            " AND CURRENT LOSS IS 0.6208126544952393/n\n",
            "EPOCH IS 4\n",
            " AND CURRENT LOSS IS 0.597797691822052/n\n",
            "EPOCH IS 4\n",
            " AND CURRENT LOSS IS 0.559112012386322/n\n",
            "EPOCH IS 4\n",
            " AND CURRENT LOSS IS 0.5687544345855713/n\n",
            "EPOCH IS 4\n",
            " AND CURRENT LOSS IS 0.5450611710548401/n\n",
            "EPOCH IS 4\n",
            " AND CURRENT LOSS IS 0.5654136538505554/n\n",
            "EPOCH IS 4\n",
            " AND CURRENT LOSS IS 0.551952064037323/n\n",
            "EPOCH IS 5\n",
            " AND CURRENT LOSS IS 0.5575255751609802/n\n",
            "EPOCH IS 5\n",
            " AND CURRENT LOSS IS 0.5964335799217224/n\n",
            "EPOCH IS 5\n",
            " AND CURRENT LOSS IS 0.566978931427002/n\n",
            "EPOCH IS 5\n",
            " AND CURRENT LOSS IS 0.5473905801773071/n\n",
            "EPOCH IS 5\n",
            " AND CURRENT LOSS IS 0.5415626168251038/n\n",
            "EPOCH IS 5\n",
            " AND CURRENT LOSS IS 0.5352720022201538/n\n",
            "EPOCH IS 5\n",
            " AND CURRENT LOSS IS 0.5511893630027771/n\n",
            "EPOCH IS 5\n",
            " AND CURRENT LOSS IS 0.5215612649917603/n\n",
            "EPOCH IS 6\n",
            " AND CURRENT LOSS IS 0.5348618626594543/n\n",
            "EPOCH IS 6\n",
            " AND CURRENT LOSS IS 0.5739539861679077/n\n",
            "EPOCH IS 6\n",
            " AND CURRENT LOSS IS 0.548774778842926/n\n",
            "EPOCH IS 6\n",
            " AND CURRENT LOSS IS 0.5244664549827576/n\n",
            "EPOCH IS 6\n",
            " AND CURRENT LOSS IS 0.5053379535675049/n\n",
            "EPOCH IS 6\n",
            " AND CURRENT LOSS IS 0.5080660581588745/n\n",
            "EPOCH IS 6\n",
            " AND CURRENT LOSS IS 0.5088356137275696/n\n",
            "EPOCH IS 6\n",
            " AND CURRENT LOSS IS 0.5001106858253479/n\n",
            "EPOCH IS 7\n",
            " AND CURRENT LOSS IS 0.5031400918960571/n\n",
            "EPOCH IS 7\n",
            " AND CURRENT LOSS IS 0.5634599924087524/n\n",
            "EPOCH IS 7\n",
            " AND CURRENT LOSS IS 0.5102154612541199/n\n",
            "EPOCH IS 7\n",
            " AND CURRENT LOSS IS 0.503852903842926/n\n",
            "EPOCH IS 7\n",
            " AND CURRENT LOSS IS 0.4785546362400055/n\n",
            "EPOCH IS 7\n",
            " AND CURRENT LOSS IS 0.4946598708629608/n\n",
            "EPOCH IS 7\n",
            " AND CURRENT LOSS IS 0.48858964443206787/n\n",
            "EPOCH IS 7\n",
            " AND CURRENT LOSS IS 0.4648924171924591/n\n",
            "EPOCH IS 8\n",
            " AND CURRENT LOSS IS 0.47876495122909546/n\n",
            "EPOCH IS 8\n",
            " AND CURRENT LOSS IS 0.527777910232544/n\n",
            "EPOCH IS 8\n",
            " AND CURRENT LOSS IS 0.49413856863975525/n\n",
            "EPOCH IS 8\n",
            " AND CURRENT LOSS IS 0.4768587350845337/n\n",
            "EPOCH IS 8\n",
            " AND CURRENT LOSS IS 0.4415432810783386/n\n",
            "EPOCH IS 8\n",
            " AND CURRENT LOSS IS 0.4683297872543335/n\n",
            "EPOCH IS 8\n",
            " AND CURRENT LOSS IS 0.47011053562164307/n\n",
            "EPOCH IS 8\n",
            " AND CURRENT LOSS IS 0.4591244161128998/n\n",
            "EPOCH IS 9\n",
            " AND CURRENT LOSS IS 0.4711206555366516/n\n",
            "EPOCH IS 9\n",
            " AND CURRENT LOSS IS 0.5197095274925232/n\n",
            "EPOCH IS 9\n",
            " AND CURRENT LOSS IS 0.4840945303440094/n\n",
            "EPOCH IS 9\n",
            " AND CURRENT LOSS IS 0.46233922243118286/n\n",
            "EPOCH IS 9\n",
            " AND CURRENT LOSS IS 0.4254988729953766/n\n",
            "EPOCH IS 9\n",
            " AND CURRENT LOSS IS 0.45257964730262756/n\n",
            "EPOCH IS 9\n",
            " AND CURRENT LOSS IS 0.45732593536376953/n\n",
            "EPOCH IS 9\n",
            " AND CURRENT LOSS IS 0.4168294072151184/n\n"
          ],
          "name": "stdout"
        }
      ]
    },
    {
      "cell_type": "code",
      "metadata": {
        "id": "l8cAbUMpmtcp",
        "colab_type": "code",
        "colab": {
          "base_uri": "https://localhost:8080/",
          "height": 282
        },
        "outputId": "a6e11a62-cb28-4c96-d460-8219b5aaa9d8"
      },
      "source": [
        "plt.plot(loss_curve)"
      ],
      "execution_count": 53,
      "outputs": [
        {
          "output_type": "execute_result",
          "data": {
            "text/plain": [
              "[<matplotlib.lines.Line2D at 0x7efeaf9cca20>]"
            ]
          },
          "metadata": {
            "tags": []
          },
          "execution_count": 53
        },
        {
          "output_type": "display_data",
          "data": {
            "image/png": "[encoded data removed]",
            "text/plain": [
              "<Figure size 432x288 with 1 Axes>"
            ]
          },
          "metadata": {
            "tags": []
          }
        }
      ]
    },
    {
      "cell_type": "code",
      "metadata": {
        "id": "EI0REl5GTsUK",
        "colab_type": "code",
        "colab": {}
      },
      "source": [
        "count = 0\n",
        "for z,i in enumerate(valid_data):\n",
        "    j = torch.from_numpy(i.reshape(-1,3,150,150)).type(torch.FloatTensor).cuda()\n",
        "    j = (j-train_mean)/train_std\n",
        "    a = net(j)\n",
        "    _,b = torch.max(a,1)\n",
        "    if(b.item()==valid_labels[z]):\n",
        "        count +=1\n",
        "    "
      ],
      "execution_count": 0,
      "outputs": []
    },
    {
      "cell_type": "code",
      "metadata": {
        "id": "uEugZWisUetG",
        "colab_type": "code",
        "colab": {}
      },
      "source": [
        "count /= 2500"
      ],
      "execution_count": 0,
      "outputs": []
    },
    {
      "cell_type": "code",
      "metadata": {
        "id": "eaW1xqaxWGvm",
        "colab_type": "code",
        "colab": {
          "base_uri": "https://localhost:8080/",
          "height": 34
        },
        "outputId": "b4971a7e-bb73-415d-a10c-21ec8ed12452"
      },
      "source": [
        "count"
      ],
      "execution_count": 56,
      "outputs": [
        {
          "output_type": "execute_result",
          "data": {
            "text/plain": [
              "0.6508"
            ]
          },
          "metadata": {
            "tags": []
          },
          "execution_count": 56
        }
      ]
    },
    {
      "cell_type": "code",
      "metadata": {
        "id": "EGKoiqlalS6w",
        "colab_type": "code",
        "colab": {}
      },
      "source": [
        ""
      ],
      "execution_count": 0,
      "outputs": []
    }
  ]
}